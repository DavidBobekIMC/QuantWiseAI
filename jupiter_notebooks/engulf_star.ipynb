{
 "cells": [
  {
   "attachments": {},
   "cell_type": "markdown",
   "metadata": {},
   "source": [
    "# Engulf Star Pattern detection"
   ]
  },
  {
   "cell_type": "code",
   "execution_count": 165,
   "metadata": {},
   "outputs": [],
   "source": [
    "import numpy as np\n",
    "import pandas as pd\n",
    "import matplotlib.pyplot as plt\n",
    "import plotly.graph_objects as go"
   ]
  },
  {
   "cell_type": "code",
   "execution_count": 166,
   "metadata": {},
   "outputs": [],
   "source": [
    "def engulf_star_pattern(financial_data, fig: go.Figure = None,record_to_plot: int = 2000):\n",
    "    financial_data = financial_data[:record_to_plot]\n",
    "    length = len(financial_data)\n",
    "    highs = list(financial_data['High'])\n",
    "    lows = list(financial_data['Low'])\n",
    "    closes = list(financial_data['Close'])\n",
    "    opens = list(financial_data['Open'])\n",
    "    bdiffs = [0] * length\n",
    "\n",
    "    hdiffs = [0] * length\n",
    "    ldiffs = [0] * length\n",
    "    r1vals = [0] * length\n",
    "    r2vals = [0] * length\n",
    "\n",
    "    def analyzeEngulf(index):\n",
    "        current = index\n",
    "        bdiffs[current] = abs(opens[current] - closes[current])\n",
    "\n",
    "        if bdiffs[current] < 0.000001:\n",
    "            bdiffs[current] = 0.000001\n",
    "\n",
    "        bdiff_min = 0.0022\n",
    "\n",
    "        if (bdiffs[current] > bdiff_min and bdiffs[current - 1] > bdiff_min and\n",
    "            opens[current - 1] < closes[current - 1] and\n",
    "            opens[current] > closes[current] and\n",
    "                (opens[current] - closes[current - 1]) >= -1e-5 and closes[current] < opens[current - 1]):\n",
    "            return 1, opens[current], closes[current]\n",
    "\n",
    "        elif (bdiffs[current] > bdiff_min and bdiffs[current - 1] > bdiff_min and\n",
    "              opens[current - 1] > closes[current - 1] and\n",
    "              opens[current] < closes[current] and\n",
    "              (opens[current] - closes[current - 1]) <= 1e-5 and closes[current] > opens[current - 1]):\n",
    "            return 2,  opens[current], closes[current]\n",
    "\n",
    "        else:\n",
    "            return 0, 0, 0\n",
    "\n",
    "    def identifyStar(index):\n",
    "        bdiff_min = 0.0022\n",
    "        current = index\n",
    "\n",
    "        hdiffs[current] = highs[current] - max(opens[current], closes[current])\n",
    "        ldiffs[current] = min(opens[current], closes[current]) - lows[current]\n",
    "        bdiffs[current] = abs(opens[current] - closes[current])\n",
    "\n",
    "        if bdiffs[current] < 0.000001:\n",
    "            bdiffs[current] = 0.000001\n",
    "\n",
    "        r1vals[current] = hdiffs[current] / bdiffs[current]\n",
    "        r2vals[current] = ldiffs[current] / bdiffs[current]\n",
    "\n",
    "        if (r1vals[current] > 0.95 and ldiffs[current] < 0.22 * hdiffs[current] and bdiffs[current] > bdiff_min):\n",
    "            return 1, opens[current], closes[current]\n",
    "\n",
    "        elif (r2vals[current] > 1.05 and hdiffs[current] < 0.22 * ldiffs[current] and bdiffs[current] > bdiff_min):\n",
    "            return 2, opens[current], closes[current]\n",
    "\n",
    "        else:\n",
    "            return 0, 0, 0\n",
    "\n",
    "    # activate the functions above to detect engulfing and star patterns on the chart\n",
    "    results = {\"engulfing_1\": 0, \"engulfing_2\": 0, \"star_1\": 0, \"star_2\": 0}\n",
    "    \n",
    "    # Engulfing Pattern 1: Bullish\n",
    "    # Engulfing Pattern 2: Bearish\n",
    "    # Star Pattern 1: Bullish\n",
    "    # Star Pattern 2: Bearish\n",
    "    \n",
    "    \n",
    "    #add column caleld signal to financial data\n",
    "    financial_data[\"signal\"] = 0\n",
    "    \n",
    "    \n",
    "    # initialize the figure\n",
    "    fig = go.Figure()\n",
    "    \n",
    "\n",
    "    for i in range(1, length):\n",
    "        if (analyzeEngulf(i)[0] == 2):\n",
    "            results[\"engulfing_1\"] += 2\n",
    "            fig.add_trace(go.Scatter(x=[i], y=[analyzeEngulf(i)[2]], name=f'Engulfing 1', marker=dict(size=12, color=\"turquoise\"), mode=\"markers\"))\n",
    "            financial_data.loc[i,\"signal\"] = 2\n",
    "        elif (analyzeEngulf(i)[0] == 1):\n",
    "            results[\"engulfing_2\"] += 1\n",
    "            fig.add_trace(go.Scatter(x=[i], y=[analyzeEngulf(i)[2]], name=f'Engulfing 2', marker=dict(size=12, color=\"orange\"), mode=\"markers\"))\n",
    "            #financial_data.loc[i,\"signal\"] = 1\n",
    "        if (identifyStar(i)[0] == 2):   \n",
    "            results[\"star_1\"] += 1\n",
    "            fig.add_trace(go.Scatter(x=[i], y=[identifyStar(i)[2]], name=f'Star 1', marker=dict(size=12, color=\"pink\"), mode=\"markers\"))\n",
    "            #financial_data.loc[i,\"signal\"] = 2\n",
    "        elif (identifyStar(i)[0] == 1):\n",
    "            results[\"star_2\"] += 1\n",
    "            fig.add_trace(go.Scatter(x=[i], y=[identifyStar(i)[2]], name=f'Star 2', marker=dict(size=12, color=\"brown\"), mode=\"markers\"))\n",
    "            financial_data.loc[i,\"signal\"] = 1\n",
    "\n",
    "    # plot the closing price\n",
    "    fig.add_trace(go.Scatter(x=financial_data.index, y=financial_data['Close'], name=\"Close\", line_color='dimgray'))\n",
    "\n",
    "    return financial_data,fig\n",
    "\n"
   ]
  },
  {
   "cell_type": "code",
   "execution_count": 167,
   "metadata": {},
   "outputs": [],
   "source": [
    "financial_data = pd.read_csv(\"..\\data\\EURUSD_Candlestick_4_Hour_ASK_05.05.2003-16.10.2021.csv\")\n",
    "\n",
    "# delete dollar sign\n",
    "try:\n",
    "    # Clean up dollar signs and convert columns to numeric values\n",
    "    financial_data[\"Close/Last\"] = financial_data[\"Close/Last\"].str.replace(\n",
    "        \"$\", \"\").astype(float)\n",
    "    financial_data[\"Open\"] = financial_data[\"Open\"].str.replace(\n",
    "        \"$\", \"\").astype(float)\n",
    "    financial_data[\"High\"] = financial_data[\"High\"].str.replace(\n",
    "        \"$\", \"\").astype(float)\n",
    "    financial_data[\"Low\"] = financial_data[\"Low\"].str.replace(\n",
    "        \"$\", \"\").astype(float)\n",
    "except Exception:\n",
    "    pass\n",
    "\n",
    "# rename the headers\n",
    "try:\n",
    "    financial_data.rename(columns={\"Close/Last\": \"Close\"}, inplace=True)\n",
    "except Exception:\n",
    "    pass\n"
   ]
  },
  {
   "cell_type": "code",
   "execution_count": 168,
   "metadata": {},
   "outputs": [],
   "source": [
    "financial_data.rename(columns={\"high\": \"High\"}, inplace=True)\n",
    "financial_data.rename(columns={\"low\": \"Low\"}, inplace=True)\n",
    "financial_data.rename(columns={\"open\": \"Open\"}, inplace=True)\n",
    "financial_data.rename(columns={\"volume\": \"Volume\"}, inplace=True)\n",
    "financial_data.rename(columns={\"close\": \"Close\"}, inplace=True)\n",
    "\n",
    "\n",
    "financial_data = financial_data.reset_index(drop=True)"
   ]
  },
  {
   "cell_type": "code",
   "execution_count": 169,
   "metadata": {},
   "outputs": [
    {
     "name": "stderr",
     "output_type": "stream",
     "text": [
      "C:\\Users\\bobek\\AppData\\Local\\Temp\\ipykernel_1828\\2137152349.py:72: SettingWithCopyWarning:\n",
      "\n",
      "\n",
      "A value is trying to be set on a copy of a slice from a DataFrame.\n",
      "Try using .loc[row_indexer,col_indexer] = value instead\n",
      "\n",
      "See the caveats in the documentation: https://pandas.pydata.org/pandas-docs/stable/user_guide/indexing.html#returning-a-view-versus-a-copy\n",
      "\n",
      "c:\\Users\\bobek\\QuantWiseAI\\jupiter_notebooks\\apply_backtesting.py:34: UserWarning:\n",
      "\n",
      "Data index is not datetime. Assuming simple periods, but `pd.DateTimeIndex` is advised.\n",
      "\n"
     ]
    },
    {
     "data": {
      "application/vnd.plotly.v1+json": {
       "config": {
        "plotlyServerURL": "https://plot.ly"
       },
       "data": [
        {
         "marker": {
          "color": "brown",
          "size": 12
         },
         "mode": "markers",
         "name": "Star 2",
         "type": "scatter",
         "x": [
          36
         ],
         "y": [
          1.1515
         ]
        },
        {
         "marker": {
          "color": "orange",
          "size": 12
         },
         "mode": "markers",
         "name": "Engulfing 2",
         "type": "scatter",
         "x": [
          65
         ],
         "y": [
          1.16596
         ]
        },
        {
         "marker": {
          "color": "orange",
          "size": 12
         },
         "mode": "markers",
         "name": "Engulfing 2",
         "type": "scatter",
         "x": [
          77
         ],
         "y": [
          1.16746
         ]
        },
        {
         "marker": {
          "color": "brown",
          "size": 12
         },
         "mode": "markers",
         "name": "Star 2",
         "type": "scatter",
         "x": [
          101
         ],
         "y": [
          1.18288
         ]
        },
        {
         "marker": {
          "color": "brown",
          "size": 12
         },
         "mode": "markers",
         "name": "Star 2",
         "type": "scatter",
         "x": [
          165
         ],
         "y": [
          1.17029
         ]
        },
        {
         "marker": {
          "color": "orange",
          "size": 12
         },
         "mode": "markers",
         "name": "Engulfing 2",
         "type": "scatter",
         "x": [
          237
         ],
         "y": [
          1.14144
         ]
        },
        {
         "marker": {
          "color": "turquoise",
          "size": 12
         },
         "mode": "markers",
         "name": "Engulfing 1",
         "type": "scatter",
         "x": [
          245
         ],
         "y": [
          1.14994
         ]
        },
        {
         "marker": {
          "color": "turquoise",
          "size": 12
         },
         "mode": "markers",
         "name": "Engulfing 1",
         "type": "scatter",
         "x": [
          329
         ],
         "y": [
          1.1236
         ]
        },
        {
         "marker": {
          "color": "orange",
          "size": 12
         },
         "mode": "markers",
         "name": "Engulfing 2",
         "type": "scatter",
         "x": [
          352
         ],
         "y": [
          1.1472
         ]
        },
        {
         "marker": {
          "color": "turquoise",
          "size": 12
         },
         "mode": "markers",
         "name": "Engulfing 1",
         "type": "scatter",
         "x": [
          354
         ],
         "y": [
          1.14695
         ]
        },
        {
         "marker": {
          "color": "brown",
          "size": 12
         },
         "mode": "markers",
         "name": "Star 2",
         "type": "scatter",
         "x": [
          388
         ],
         "y": [
          1.11794
         ]
        },
        {
         "marker": {
          "color": "brown",
          "size": 12
         },
         "mode": "markers",
         "name": "Star 2",
         "type": "scatter",
         "x": [
          444
         ],
         "y": [
          1.12577
         ]
        },
        {
         "marker": {
          "color": "turquoise",
          "size": 12
         },
         "mode": "markers",
         "name": "Engulfing 1",
         "type": "scatter",
         "x": [
          461
         ],
         "y": [
          1.1126
         ]
        },
        {
         "marker": {
          "color": "turquoise",
          "size": 12
         },
         "mode": "markers",
         "name": "Engulfing 1",
         "type": "scatter",
         "x": [
          491
         ],
         "y": [
          1.08946
         ]
        },
        {
         "marker": {
          "color": "turquoise",
          "size": 12
         },
         "mode": "markers",
         "name": "Engulfing 1",
         "type": "scatter",
         "x": [
          503
         ],
         "y": [
          1.08869
         ]
        },
        {
         "marker": {
          "color": "brown",
          "size": 12
         },
         "mode": "markers",
         "name": "Star 2",
         "type": "scatter",
         "x": [
          509
         ],
         "y": [
          1.09651
         ]
        },
        {
         "marker": {
          "color": "orange",
          "size": 12
         },
         "mode": "markers",
         "name": "Engulfing 2",
         "type": "scatter",
         "x": [
          557
         ],
         "y": [
          1.11799
         ]
        },
        {
         "marker": {
          "color": "turquoise",
          "size": 12
         },
         "mode": "markers",
         "name": "Engulfing 1",
         "type": "scatter",
         "x": [
          605
         ],
         "y": [
          1.14942
         ]
        },
        {
         "marker": {
          "color": "brown",
          "size": 12
         },
         "mode": "markers",
         "name": "Star 2",
         "type": "scatter",
         "x": [
          628
         ],
         "y": [
          1.14453
         ]
        },
        {
         "marker": {
          "color": "turquoise",
          "size": 12
         },
         "mode": "markers",
         "name": "Engulfing 1",
         "type": "scatter",
         "x": [
          629
         ],
         "y": [
          1.14805
         ]
        },
        {
         "marker": {
          "color": "brown",
          "size": 12
         },
         "mode": "markers",
         "name": "Star 2",
         "type": "scatter",
         "x": [
          647
         ],
         "y": [
          1.16934
         ]
        },
        {
         "marker": {
          "color": "pink",
          "size": 12
         },
         "mode": "markers",
         "name": "Star 1",
         "type": "scatter",
         "x": [
          663
         ],
         "y": [
          1.15862
         ]
        },
        {
         "marker": {
          "color": "turquoise",
          "size": 12
         },
         "mode": "markers",
         "name": "Engulfing 1",
         "type": "scatter",
         "x": [
          684
         ],
         "y": [
          1.17457
         ]
        },
        {
         "marker": {
          "color": "turquoise",
          "size": 12
         },
         "mode": "markers",
         "name": "Engulfing 1",
         "type": "scatter",
         "x": [
          723
         ],
         "y": [
          1.16813
         ]
        },
        {
         "marker": {
          "color": "orange",
          "size": 12
         },
         "mode": "markers",
         "name": "Engulfing 2",
         "type": "scatter",
         "x": [
          750
         ],
         "y": [
          1.17797
         ]
        },
        {
         "marker": {
          "color": "brown",
          "size": 12
         },
         "mode": "markers",
         "name": "Star 2",
         "type": "scatter",
         "x": [
          772
         ],
         "y": [
          1.17141
         ]
        },
        {
         "marker": {
          "color": "turquoise",
          "size": 12
         },
         "mode": "markers",
         "name": "Engulfing 1",
         "type": "scatter",
         "x": [
          809
         ],
         "y": [
          1.15175
         ]
        },
        {
         "marker": {
          "color": "brown",
          "size": 12
         },
         "mode": "markers",
         "name": "Star 2",
         "type": "scatter",
         "x": [
          841
         ],
         "y": [
          1.18091
         ]
        },
        {
         "marker": {
          "color": "turquoise",
          "size": 12
         },
         "mode": "markers",
         "name": "Engulfing 1",
         "type": "scatter",
         "x": [
          859
         ],
         "y": [
          1.19112
         ]
        },
        {
         "marker": {
          "color": "orange",
          "size": 12
         },
         "mode": "markers",
         "name": "Engulfing 2",
         "type": "scatter",
         "x": [
          875
         ],
         "y": [
          1.17637
         ]
        },
        {
         "marker": {
          "color": "turquoise",
          "size": 12
         },
         "mode": "markers",
         "name": "Engulfing 1",
         "type": "scatter",
         "x": [
          880
         ],
         "y": [
          1.18032
         ]
        },
        {
         "marker": {
          "color": "turquoise",
          "size": 12
         },
         "mode": "markers",
         "name": "Engulfing 1",
         "type": "scatter",
         "x": [
          942
         ],
         "y": [
          1.22543
         ]
        },
        {
         "marker": {
          "color": "pink",
          "size": 12
         },
         "mode": "markers",
         "name": "Star 1",
         "type": "scatter",
         "x": [
          964
         ],
         "y": [
          1.22553
         ]
        },
        {
         "marker": {
          "color": "pink",
          "size": 12
         },
         "mode": "markers",
         "name": "Star 1",
         "type": "scatter",
         "x": [
          976
         ],
         "y": [
          1.2373
         ]
        },
        {
         "marker": {
          "color": "pink",
          "size": 12
         },
         "mode": "markers",
         "name": "Star 1",
         "type": "scatter",
         "x": [
          989
         ],
         "y": [
          1.23925
         ]
        },
        {
         "marker": {
          "color": "pink",
          "size": 12
         },
         "mode": "markers",
         "name": "Star 1",
         "type": "scatter",
         "x": [
          991
         ],
         "y": [
          1.23771
         ]
        },
        {
         "line": {
          "color": "dimgray"
         },
         "name": "Close",
         "type": "scatter",
         "x": [
          0,
          1,
          2,
          3,
          4,
          5,
          6,
          7,
          8,
          9,
          10,
          11,
          12,
          13,
          14,
          15,
          16,
          17,
          18,
          19,
          20,
          21,
          22,
          23,
          24,
          25,
          26,
          27,
          28,
          29,
          30,
          31,
          32,
          33,
          34,
          35,
          36,
          37,
          38,
          39,
          40,
          41,
          42,
          43,
          44,
          45,
          46,
          47,
          48,
          49,
          50,
          51,
          52,
          53,
          54,
          55,
          56,
          57,
          58,
          59,
          60,
          61,
          62,
          63,
          64,
          65,
          66,
          67,
          68,
          69,
          70,
          71,
          72,
          73,
          74,
          75,
          76,
          77,
          78,
          79,
          80,
          81,
          82,
          83,
          84,
          85,
          86,
          87,
          88,
          89,
          90,
          91,
          92,
          93,
          94,
          95,
          96,
          97,
          98,
          99,
          100,
          101,
          102,
          103,
          104,
          105,
          106,
          107,
          108,
          109,
          110,
          111,
          112,
          113,
          114,
          115,
          116,
          117,
          118,
          119,
          120,
          121,
          122,
          123,
          124,
          125,
          126,
          127,
          128,
          129,
          130,
          131,
          132,
          133,
          134,
          135,
          136,
          137,
          138,
          139,
          140,
          141,
          142,
          143,
          144,
          145,
          146,
          147,
          148,
          149,
          150,
          151,
          152,
          153,
          154,
          155,
          156,
          157,
          158,
          159,
          160,
          161,
          162,
          163,
          164,
          165,
          166,
          167,
          168,
          169,
          170,
          171,
          172,
          173,
          174,
          175,
          176,
          177,
          178,
          179,
          180,
          181,
          182,
          183,
          184,
          185,
          186,
          187,
          188,
          189,
          190,
          191,
          192,
          193,
          194,
          195,
          196,
          197,
          198,
          199,
          200,
          201,
          202,
          203,
          204,
          205,
          206,
          207,
          208,
          209,
          210,
          211,
          212,
          213,
          214,
          215,
          216,
          217,
          218,
          219,
          220,
          221,
          222,
          223,
          224,
          225,
          226,
          227,
          228,
          229,
          230,
          231,
          232,
          233,
          234,
          235,
          236,
          237,
          238,
          239,
          240,
          241,
          242,
          243,
          244,
          245,
          246,
          247,
          248,
          249,
          250,
          251,
          252,
          253,
          254,
          255,
          256,
          257,
          258,
          259,
          260,
          261,
          262,
          263,
          264,
          265,
          266,
          267,
          268,
          269,
          270,
          271,
          272,
          273,
          274,
          275,
          276,
          277,
          278,
          279,
          280,
          281,
          282,
          283,
          284,
          285,
          286,
          287,
          288,
          289,
          290,
          291,
          292,
          293,
          294,
          295,
          296,
          297,
          298,
          299,
          300,
          301,
          302,
          303,
          304,
          305,
          306,
          307,
          308,
          309,
          310,
          311,
          312,
          313,
          314,
          315,
          316,
          317,
          318,
          319,
          320,
          321,
          322,
          323,
          324,
          325,
          326,
          327,
          328,
          329,
          330,
          331,
          332,
          333,
          334,
          335,
          336,
          337,
          338,
          339,
          340,
          341,
          342,
          343,
          344,
          345,
          346,
          347,
          348,
          349,
          350,
          351,
          352,
          353,
          354,
          355,
          356,
          357,
          358,
          359,
          360,
          361,
          362,
          363,
          364,
          365,
          366,
          367,
          368,
          369,
          370,
          371,
          372,
          373,
          374,
          375,
          376,
          377,
          378,
          379,
          380,
          381,
          382,
          383,
          384,
          385,
          386,
          387,
          388,
          389,
          390,
          391,
          392,
          393,
          394,
          395,
          396,
          397,
          398,
          399,
          400,
          401,
          402,
          403,
          404,
          405,
          406,
          407,
          408,
          409,
          410,
          411,
          412,
          413,
          414,
          415,
          416,
          417,
          418,
          419,
          420,
          421,
          422,
          423,
          424,
          425,
          426,
          427,
          428,
          429,
          430,
          431,
          432,
          433,
          434,
          435,
          436,
          437,
          438,
          439,
          440,
          441,
          442,
          443,
          444,
          445,
          446,
          447,
          448,
          449,
          450,
          451,
          452,
          453,
          454,
          455,
          456,
          457,
          458,
          459,
          460,
          461,
          462,
          463,
          464,
          465,
          466,
          467,
          468,
          469,
          470,
          471,
          472,
          473,
          474,
          475,
          476,
          477,
          478,
          479,
          480,
          481,
          482,
          483,
          484,
          485,
          486,
          487,
          488,
          489,
          490,
          491,
          492,
          493,
          494,
          495,
          496,
          497,
          498,
          499,
          500,
          501,
          502,
          503,
          504,
          505,
          506,
          507,
          508,
          509,
          510,
          511,
          512,
          513,
          514,
          515,
          516,
          517,
          518,
          519,
          520,
          521,
          522,
          523,
          524,
          525,
          526,
          527,
          528,
          529,
          530,
          531,
          532,
          533,
          534,
          535,
          536,
          537,
          538,
          539,
          540,
          541,
          542,
          543,
          544,
          545,
          546,
          547,
          548,
          549,
          550,
          551,
          552,
          553,
          554,
          555,
          556,
          557,
          558,
          559,
          560,
          561,
          562,
          563,
          564,
          565,
          566,
          567,
          568,
          569,
          570,
          571,
          572,
          573,
          574,
          575,
          576,
          577,
          578,
          579,
          580,
          581,
          582,
          583,
          584,
          585,
          586,
          587,
          588,
          589,
          590,
          591,
          592,
          593,
          594,
          595,
          596,
          597,
          598,
          599,
          600,
          601,
          602,
          603,
          604,
          605,
          606,
          607,
          608,
          609,
          610,
          611,
          612,
          613,
          614,
          615,
          616,
          617,
          618,
          619,
          620,
          621,
          622,
          623,
          624,
          625,
          626,
          627,
          628,
          629,
          630,
          631,
          632,
          633,
          634,
          635,
          636,
          637,
          638,
          639,
          640,
          641,
          642,
          643,
          644,
          645,
          646,
          647,
          648,
          649,
          650,
          651,
          652,
          653,
          654,
          655,
          656,
          657,
          658,
          659,
          660,
          661,
          662,
          663,
          664,
          665,
          666,
          667,
          668,
          669,
          670,
          671,
          672,
          673,
          674,
          675,
          676,
          677,
          678,
          679,
          680,
          681,
          682,
          683,
          684,
          685,
          686,
          687,
          688,
          689,
          690,
          691,
          692,
          693,
          694,
          695,
          696,
          697,
          698,
          699,
          700,
          701,
          702,
          703,
          704,
          705,
          706,
          707,
          708,
          709,
          710,
          711,
          712,
          713,
          714,
          715,
          716,
          717,
          718,
          719,
          720,
          721,
          722,
          723,
          724,
          725,
          726,
          727,
          728,
          729,
          730,
          731,
          732,
          733,
          734,
          735,
          736,
          737,
          738,
          739,
          740,
          741,
          742,
          743,
          744,
          745,
          746,
          747,
          748,
          749,
          750,
          751,
          752,
          753,
          754,
          755,
          756,
          757,
          758,
          759,
          760,
          761,
          762,
          763,
          764,
          765,
          766,
          767,
          768,
          769,
          770,
          771,
          772,
          773,
          774,
          775,
          776,
          777,
          778,
          779,
          780,
          781,
          782,
          783,
          784,
          785,
          786,
          787,
          788,
          789,
          790,
          791,
          792,
          793,
          794,
          795,
          796,
          797,
          798,
          799,
          800,
          801,
          802,
          803,
          804,
          805,
          806,
          807,
          808,
          809,
          810,
          811,
          812,
          813,
          814,
          815,
          816,
          817,
          818,
          819,
          820,
          821,
          822,
          823,
          824,
          825,
          826,
          827,
          828,
          829,
          830,
          831,
          832,
          833,
          834,
          835,
          836,
          837,
          838,
          839,
          840,
          841,
          842,
          843,
          844,
          845,
          846,
          847,
          848,
          849,
          850,
          851,
          852,
          853,
          854,
          855,
          856,
          857,
          858,
          859,
          860,
          861,
          862,
          863,
          864,
          865,
          866,
          867,
          868,
          869,
          870,
          871,
          872,
          873,
          874,
          875,
          876,
          877,
          878,
          879,
          880,
          881,
          882,
          883,
          884,
          885,
          886,
          887,
          888,
          889,
          890,
          891,
          892,
          893,
          894,
          895,
          896,
          897,
          898,
          899,
          900,
          901,
          902,
          903,
          904,
          905,
          906,
          907,
          908,
          909,
          910,
          911,
          912,
          913,
          914,
          915,
          916,
          917,
          918,
          919,
          920,
          921,
          922,
          923,
          924,
          925,
          926,
          927,
          928,
          929,
          930,
          931,
          932,
          933,
          934,
          935,
          936,
          937,
          938,
          939,
          940,
          941,
          942,
          943,
          944,
          945,
          946,
          947,
          948,
          949,
          950,
          951,
          952,
          953,
          954,
          955,
          956,
          957,
          958,
          959,
          960,
          961,
          962,
          963,
          964,
          965,
          966,
          967,
          968,
          969,
          970,
          971,
          972,
          973,
          974,
          975,
          976,
          977,
          978,
          979,
          980,
          981,
          982,
          983,
          984,
          985,
          986,
          987,
          988,
          989,
          990,
          991,
          992,
          993,
          994,
          995,
          996,
          997,
          998,
          999
         ],
         "y": [
          1.12274,
          1.12126,
          1.12113,
          1.12174,
          1.12712,
          1.12804,
          1.12913,
          1.12855,
          1.13381,
          1.13456,
          1.13515,
          1.14368,
          1.14274,
          1.14191,
          1.13995,
          1.14164,
          1.13381,
          1.13677,
          1.13607,
          1.1321,
          1.13312,
          1.14334,
          1.1454,
          1.15026,
          1.15164,
          1.15215,
          1.15142,
          1.14825,
          1.14952,
          1.14907,
          1.15536,
          1.15733,
          1.16077,
          1.15876,
          1.15553,
          1.15457,
          1.1515,
          1.14968,
          1.14958,
          1.15263,
          1.15002,
          1.1515,
          1.15216,
          1.15113,
          1.15223,
          1.14919,
          1.14972,
          1.1497,
          1.14713,
          1.14456,
          1.14583,
          1.14749,
          1.14567,
          1.13877,
          1.13881,
          1.14088,
          1.1406,
          1.1481,
          1.15443,
          1.15735,
          1.16688,
          1.16944,
          1.16904,
          1.16657,
          1.1684,
          1.16596,
          1.16309,
          1.16517,
          1.16176,
          1.16434,
          1.16859,
          1.17069,
          1.17225,
          1.17167,
          1.17148,
          1.16859,
          1.17058,
          1.16746,
          1.16541,
          1.16426,
          1.16458,
          1.17167,
          1.16982,
          1.16938,
          1.16802,
          1.16772,
          1.17131,
          1.17905,
          1.17819,
          1.18266,
          1.18139,
          1.18178,
          1.18073,
          1.1811,
          1.18613,
          1.1869,
          1.1862,
          1.18871,
          1.18807,
          1.1897,
          1.18534,
          1.18288,
          1.18116,
          1.18322,
          1.17695,
          1.172,
          1.17427,
          1.17649,
          1.1754,
          1.17423,
          1.17036,
          1.17606,
          1.1825,
          1.18833,
          1.18828,
          1.18734,
          1.18536,
          1.18272,
          1.1762,
          1.17691,
          1.17825,
          1.17229,
          1.16748,
          1.16841,
          1.16758,
          1.17402,
          1.17473,
          1.17418,
          1.17552,
          1.17714,
          1.1725,
          1.16998,
          1.17391,
          1.17232,
          1.17247,
          1.17373,
          1.17039,
          1.17053,
          1.16645,
          1.16468,
          1.16531,
          1.16646,
          1.17341,
          1.18692,
          1.18405,
          1.18342,
          1.18484,
          1.18319,
          1.18172,
          1.16932,
          1.17001,
          1.17032,
          1.17041,
          1.16785,
          1.17224,
          1.17399,
          1.17161,
          1.17111,
          1.17227,
          1.17057,
          1.17109,
          1.16831,
          1.16759,
          1.16708,
          1.16754,
          1.17029,
          1.1753,
          1.17637,
          1.17421,
          1.17542,
          1.17603,
          1.18002,
          1.1746,
          1.17651,
          1.17638,
          1.17716,
          1.17599,
          1.177,
          1.17518,
          1.18232,
          1.1863,
          1.18763,
          1.18736,
          1.19188,
          1.18738,
          1.18412,
          1.18356,
          1.18263,
          1.18438,
          1.18326,
          1.17881,
          1.1809,
          1.17937,
          1.17818,
          1.17929,
          1.17624,
          1.17017,
          1.17068,
          1.16883,
          1.16818,
          1.16146,
          1.16186,
          1.16598,
          1.16805,
          1.17203,
          1.17076,
          1.17232,
          1.16906,
          1.16539,
          1.16138,
          1.1604,
          1.15806,
          1.15898,
          1.15874,
          1.15424,
          1.15452,
          1.15429,
          1.15442,
          1.1552,
          1.15417,
          1.15743,
          1.14956,
          1.15171,
          1.15028,
          1.1516,
          1.15201,
          1.15371,
          1.15879,
          1.15398,
          1.15354,
          1.15364,
          1.15101,
          1.14404,
          1.14292,
          1.14181,
          1.14257,
          1.14486,
          1.14144,
          1.14228,
          1.14177,
          1.14254,
          1.14153,
          1.14344,
          1.14553,
          1.14277,
          1.14994,
          1.15116,
          1.15185,
          1.15136,
          1.1537,
          1.15456,
          1.15772,
          1.15608,
          1.15545,
          1.15498,
          1.15338,
          1.15321,
          1.15237,
          1.15396,
          1.15272,
          1.15197,
          1.14754,
          1.14537,
          1.15029,
          1.14945,
          1.14829,
          1.14684,
          1.14741,
          1.14583,
          1.14894,
          1.14892,
          1.1468,
          1.14566,
          1.14119,
          1.13629,
          1.13409,
          1.13252,
          1.13237,
          1.13232,
          1.13152,
          1.13161,
          1.12641,
          1.13151,
          1.13118,
          1.13194,
          1.13253,
          1.13517,
          1.13115,
          1.13481,
          1.13347,
          1.13348,
          1.13573,
          1.13419,
          1.13873,
          1.13891,
          1.13504,
          1.13104,
          1.13331,
          1.13014,
          1.13043,
          1.1299,
          1.12745,
          1.12696,
          1.12641,
          1.12968,
          1.12967,
          1.12779,
          1.12727,
          1.12537,
          1.12832,
          1.13237,
          1.12323,
          1.11858,
          1.11341,
          1.11482,
          1.11294,
          1.11375,
          1.12074,
          1.12068,
          1.12175,
          1.12175,
          1.12343,
          1.124,
          1.11634,
          1.12079,
          1.12373,
          1.12346,
          1.1224,
          1.11902,
          1.1236,
          1.12746,
          1.12621,
          1.12863,
          1.12628,
          1.12729,
          1.13377,
          1.13495,
          1.13398,
          1.13205,
          1.13491,
          1.13494,
          1.13254,
          1.13315,
          1.13199,
          1.1352,
          1.13869,
          1.14131,
          1.1481,
          1.14754,
          1.14815,
          1.1478,
          1.15054,
          1.1472,
          1.144,
          1.14695,
          1.14606,
          1.1462,
          1.14916,
          1.14833,
          1.15124,
          1.15079,
          1.14884,
          1.14728,
          1.1513,
          1.14838,
          1.15048,
          1.14909,
          1.14881,
          1.15031,
          1.15122,
          1.1474,
          1.1467,
          1.14589,
          1.14427,
          1.14399,
          1.14413,
          1.14082,
          1.13664,
          1.13426,
          1.13437,
          1.13384,
          1.13269,
          1.13094,
          1.12331,
          1.12428,
          1.12341,
          1.12364,
          1.11525,
          1.11794,
          1.12536,
          1.12541,
          1.12661,
          1.12712,
          1.1303,
          1.13027,
          1.13653,
          1.1357,
          1.13432,
          1.13544,
          1.13542,
          1.13154,
          1.13376,
          1.13893,
          1.13846,
          1.14067,
          1.14005,
          1.13634,
          1.13703,
          1.13321,
          1.13343,
          1.13342,
          1.1346,
          1.13602,
          1.13824,
          1.13732,
          1.13606,
          1.13587,
          1.13314,
          1.13142,
          1.13028,
          1.13083,
          1.12821,
          1.12837,
          1.12754,
          1.1316,
          1.13729,
          1.13582,
          1.13539,
          1.13549,
          1.13554,
          1.12891,
          1.13021,
          1.1283,
          1.12635,
          1.12607,
          1.1251,
          1.12544,
          1.13103,
          1.1322,
          1.13264,
          1.1325,
          1.13249,
          1.126,
          1.12332,
          1.12577,
          1.12627,
          1.12506,
          1.12584,
          1.12591,
          1.12514,
          1.12663,
          1.12418,
          1.12262,
          1.12249,
          1.11713,
          1.11434,
          1.11428,
          1.11394,
          1.11252,
          1.11035,
          1.10669,
          1.1126,
          1.11392,
          1.11178,
          1.11069,
          1.11179,
          1.11197,
          1.1109,
          1.11185,
          1.10856,
          1.10838,
          1.10026,
          1.0997,
          1.09391,
          1.09226,
          1.09204,
          1.09276,
          1.09253,
          1.08772,
          1.08805,
          1.08761,
          1.08713,
          1.08699,
          1.09061,
          1.08908,
          1.0868,
          1.08735,
          1.08332,
          1.08423,
          1.08573,
          1.08131,
          1.08946,
          1.08542,
          1.08606,
          1.08395,
          1.08921,
          1.09123,
          1.09009,
          1.0886,
          1.08589,
          1.08507,
          1.08684,
          1.08399,
          1.08869,
          1.08811,
          1.08892,
          1.08765,
          1.09079,
          1.09393,
          1.09651,
          1.09847,
          1.09776,
          1.09832,
          1.09819,
          1.09748,
          1.09615,
          1.09675,
          1.09402,
          1.09294,
          1.08662,
          1.08527,
          1.08569,
          1.08079,
          1.07793,
          1.07816,
          1.07994,
          1.07865,
          1.08468,
          1.08474,
          1.08285,
          1.08322,
          1.08329,
          1.08591,
          1.09085,
          1.0943,
          1.09261,
          1.09588,
          1.09445,
          1.09298,
          1.10909,
          1.11049,
          1.10991,
          1.10808,
          1.10672,
          1.10657,
          1.11229,
          1.10649,
          1.10594,
          1.1093,
          1.11074,
          1.11504,
          1.12233,
          1.12238,
          1.12194,
          1.12164,
          1.11855,
          1.12075,
          1.11799,
          1.12076,
          1.11898,
          1.12044,
          1.12266,
          1.11858,
          1.11933,
          1.12089,
          1.11852,
          1.11842,
          1.11697,
          1.12481,
          1.1317,
          1.12913,
          1.12696,
          1.12712,
          1.1268,
          1.12649,
          1.13026,
          1.12817,
          1.12879,
          1.13061,
          1.12522,
          1.12375,
          1.11658,
          1.11746,
          1.1157,
          1.11541,
          1.11645,
          1.12077,
          1.12399,
          1.12834,
          1.12782,
          1.127,
          1.12771,
          1.1293,
          1.12598,
          1.12556,
          1.12409,
          1.12539,
          1.12658,
          1.13077,
          1.13713,
          1.13792,
          1.14425,
          1.14441,
          1.14778,
          1.14487,
          1.14942,
          1.14602,
          1.14636,
          1.14772,
          1.14908,
          1.14728,
          1.14869,
          1.14404,
          1.14433,
          1.14579,
          1.1476,
          1.14625,
          1.1473,
          1.14949,
          1.14777,
          1.1473,
          1.14751,
          1.14739,
          1.14917,
          1.14902,
          1.1477,
          1.14709,
          1.14696,
          1.14453,
          1.14805,
          1.14607,
          1.14496,
          1.14445,
          1.14051,
          1.14344,
          1.1578,
          1.15971,
          1.16049,
          1.16241,
          1.16634,
          1.16726,
          1.16646,
          1.16547,
          1.16728,
          1.16721,
          1.16735,
          1.16653,
          1.16934,
          1.17146,
          1.17204,
          1.17532,
          1.17362,
          1.16879,
          1.1691,
          1.16926,
          1.16874,
          1.16961,
          1.17009,
          1.1617,
          1.15583,
          1.1581,
          1.15763,
          1.15614,
          1.15862,
          1.16251,
          1.1709,
          1.17079,
          1.17093,
          1.17114,
          1.17855,
          1.17695,
          1.17741,
          1.1759,
          1.17784,
          1.17842,
          1.18095,
          1.17873,
          1.17941,
          1.18092,
          1.18313,
          1.18277,
          1.18429,
          1.1723,
          1.17005,
          1.17457,
          1.17209,
          1.17383,
          1.17254,
          1.18236,
          1.18038,
          1.17958,
          1.18022,
          1.1791,
          1.1659,
          1.17226,
          1.16829,
          1.1703,
          1.16394,
          1.16138,
          1.16236,
          1.16391,
          1.17521,
          1.17234,
          1.17206,
          1.17153,
          1.16918,
          1.15909,
          1.16415,
          1.16339,
          1.16248,
          1.16438,
          1.16035,
          1.16351,
          1.16192,
          1.15873,
          1.1587,
          1.16011,
          1.15951,
          1.15647,
          1.16258,
          1.16812,
          1.16793,
          1.16226,
          1.16813,
          1.16258,
          1.16535,
          1.16336,
          1.1631,
          1.16338,
          1.16436,
          1.1652,
          1.16761,
          1.16671,
          1.16533,
          1.16679,
          1.16911,
          1.17055,
          1.17931,
          1.18011,
          1.18131,
          1.18128,
          1.18005,
          1.17932,
          1.17789,
          1.17915,
          1.18079,
          1.18156,
          1.17854,
          1.18047,
          1.18443,
          1.17797,
          1.177,
          1.17416,
          1.1767,
          1.1742,
          1.17644,
          1.1744,
          1.17044,
          1.17076,
          1.17202,
          1.16724,
          1.16736,
          1.16704,
          1.16866,
          1.16938,
          1.17046,
          1.16954,
          1.16772,
          1.16618,
          1.16618,
          1.16764,
          1.16739,
          1.17141,
          1.16312,
          1.16225,
          1.16188,
          1.1611,
          1.16334,
          1.16423,
          1.15903,
          1.15877,
          1.1572,
          1.15814,
          1.15829,
          1.1593,
          1.14549,
          1.14554,
          1.1442,
          1.145,
          1.14534,
          1.14693,
          1.15013,
          1.14933,
          1.14741,
          1.14847,
          1.14592,
          1.14542,
          1.14585,
          1.14378,
          1.1424,
          1.14448,
          1.14524,
          1.14048,
          1.14137,
          1.14153,
          1.14213,
          1.14124,
          1.14176,
          1.13861,
          1.15175,
          1.15295,
          1.15222,
          1.15215,
          1.14951,
          1.14842,
          1.14967,
          1.14797,
          1.14759,
          1.14773,
          1.15,
          1.14967,
          1.15065,
          1.152,
          1.1527,
          1.15615,
          1.1575,
          1.1589,
          1.16532,
          1.16284,
          1.16449,
          1.16526,
          1.16862,
          1.17106,
          1.16966,
          1.17322,
          1.17461,
          1.17873,
          1.17806,
          1.17401,
          1.17494,
          1.17758,
          1.18091,
          1.17933,
          1.18247,
          1.18058,
          1.17381,
          1.17471,
          1.17666,
          1.17719,
          1.17631,
          1.17804,
          1.19006,
          1.1971,
          1.19478,
          1.19585,
          1.19251,
          1.19194,
          1.19023,
          1.18758,
          1.19112,
          1.19089,
          1.192,
          1.19328,
          1.1892,
          1.19111,
          1.18868,
          1.18867,
          1.18791,
          1.19146,
          1.19142,
          1.19152,
          1.19123,
          1.19045,
          1.17807,
          1.18141,
          1.17637,
          1.177,
          1.17792,
          1.17987,
          1.17737,
          1.18032,
          1.17931,
          1.17899,
          1.17925,
          1.17972,
          1.1834,
          1.18055,
          1.19168,
          1.194,
          1.19217,
          1.19321,
          1.19143,
          1.18941,
          1.18965,
          1.19071,
          1.19069,
          1.19281,
          1.19775,
          1.19982,
          1.19886,
          1.19928,
          1.20161,
          1.20037,
          1.20014,
          1.20073,
          1.19632,
          1.19805,
          1.1975,
          1.19818,
          1.19633,
          1.19795,
          1.20854,
          1.20811,
          1.20818,
          1.20823,
          1.21015,
          1.20891,
          1.2087,
          1.21077,
          1.21151,
          1.20583,
          1.20688,
          1.21201,
          1.21104,
          1.20855,
          1.2076,
          1.2083,
          1.20625,
          1.21258,
          1.21506,
          1.2166,
          1.2163,
          1.21574,
          1.21818,
          1.2225,
          1.2225,
          1.2218,
          1.22227,
          1.22256,
          1.22658,
          1.22445,
          1.22096,
          1.22543,
          1.22131,
          1.22084,
          1.22022,
          1.22431,
          1.22185,
          1.22145,
          1.22019,
          1.21852,
          1.21601,
          1.2153,
          1.21588,
          1.22187,
          1.22119,
          1.22207,
          1.22414,
          1.22242,
          1.22938,
          1.22756,
          1.21878,
          1.21919,
          1.22328,
          1.22553,
          1.23123,
          1.23173,
          1.23078,
          1.23324,
          1.23457,
          1.23295,
          1.23291,
          1.23302,
          1.23182,
          1.23235,
          1.23446,
          1.2373,
          1.2408,
          1.24107,
          1.24,
          1.24014,
          1.24254,
          1.23761,
          1.24123,
          1.24231,
          1.24132,
          1.24151,
          1.24262,
          1.24181,
          1.23925,
          1.23739,
          1.23771,
          1.23893,
          1.24324,
          1.24231,
          1.24056,
          1.23956,
          1.23981,
          1.23991,
          1.24202
         ]
        }
       ],
       "layout": {
        "template": {
         "data": {
          "bar": [
           {
            "error_x": {
             "color": "#2a3f5f"
            },
            "error_y": {
             "color": "#2a3f5f"
            },
            "marker": {
             "line": {
              "color": "#E5ECF6",
              "width": 0.5
             },
             "pattern": {
              "fillmode": "overlay",
              "size": 10,
              "solidity": 0.2
             }
            },
            "type": "bar"
           }
          ],
          "barpolar": [
           {
            "marker": {
             "line": {
              "color": "#E5ECF6",
              "width": 0.5
             },
             "pattern": {
              "fillmode": "overlay",
              "size": 10,
              "solidity": 0.2
             }
            },
            "type": "barpolar"
           }
          ],
          "carpet": [
           {
            "aaxis": {
             "endlinecolor": "#2a3f5f",
             "gridcolor": "white",
             "linecolor": "white",
             "minorgridcolor": "white",
             "startlinecolor": "#2a3f5f"
            },
            "baxis": {
             "endlinecolor": "#2a3f5f",
             "gridcolor": "white",
             "linecolor": "white",
             "minorgridcolor": "white",
             "startlinecolor": "#2a3f5f"
            },
            "type": "carpet"
           }
          ],
          "choropleth": [
           {
            "colorbar": {
             "outlinewidth": 0,
             "ticks": ""
            },
            "type": "choropleth"
           }
          ],
          "contour": [
           {
            "colorbar": {
             "outlinewidth": 0,
             "ticks": ""
            },
            "colorscale": [
             [
              0,
              "#0d0887"
             ],
             [
              0.1111111111111111,
              "#46039f"
             ],
             [
              0.2222222222222222,
              "#7201a8"
             ],
             [
              0.3333333333333333,
              "#9c179e"
             ],
             [
              0.4444444444444444,
              "#bd3786"
             ],
             [
              0.5555555555555556,
              "#d8576b"
             ],
             [
              0.6666666666666666,
              "#ed7953"
             ],
             [
              0.7777777777777778,
              "#fb9f3a"
             ],
             [
              0.8888888888888888,
              "#fdca26"
             ],
             [
              1,
              "#f0f921"
             ]
            ],
            "type": "contour"
           }
          ],
          "contourcarpet": [
           {
            "colorbar": {
             "outlinewidth": 0,
             "ticks": ""
            },
            "type": "contourcarpet"
           }
          ],
          "heatmap": [
           {
            "colorbar": {
             "outlinewidth": 0,
             "ticks": ""
            },
            "colorscale": [
             [
              0,
              "#0d0887"
             ],
             [
              0.1111111111111111,
              "#46039f"
             ],
             [
              0.2222222222222222,
              "#7201a8"
             ],
             [
              0.3333333333333333,
              "#9c179e"
             ],
             [
              0.4444444444444444,
              "#bd3786"
             ],
             [
              0.5555555555555556,
              "#d8576b"
             ],
             [
              0.6666666666666666,
              "#ed7953"
             ],
             [
              0.7777777777777778,
              "#fb9f3a"
             ],
             [
              0.8888888888888888,
              "#fdca26"
             ],
             [
              1,
              "#f0f921"
             ]
            ],
            "type": "heatmap"
           }
          ],
          "heatmapgl": [
           {
            "colorbar": {
             "outlinewidth": 0,
             "ticks": ""
            },
            "colorscale": [
             [
              0,
              "#0d0887"
             ],
             [
              0.1111111111111111,
              "#46039f"
             ],
             [
              0.2222222222222222,
              "#7201a8"
             ],
             [
              0.3333333333333333,
              "#9c179e"
             ],
             [
              0.4444444444444444,
              "#bd3786"
             ],
             [
              0.5555555555555556,
              "#d8576b"
             ],
             [
              0.6666666666666666,
              "#ed7953"
             ],
             [
              0.7777777777777778,
              "#fb9f3a"
             ],
             [
              0.8888888888888888,
              "#fdca26"
             ],
             [
              1,
              "#f0f921"
             ]
            ],
            "type": "heatmapgl"
           }
          ],
          "histogram": [
           {
            "marker": {
             "pattern": {
              "fillmode": "overlay",
              "size": 10,
              "solidity": 0.2
             }
            },
            "type": "histogram"
           }
          ],
          "histogram2d": [
           {
            "colorbar": {
             "outlinewidth": 0,
             "ticks": ""
            },
            "colorscale": [
             [
              0,
              "#0d0887"
             ],
             [
              0.1111111111111111,
              "#46039f"
             ],
             [
              0.2222222222222222,
              "#7201a8"
             ],
             [
              0.3333333333333333,
              "#9c179e"
             ],
             [
              0.4444444444444444,
              "#bd3786"
             ],
             [
              0.5555555555555556,
              "#d8576b"
             ],
             [
              0.6666666666666666,
              "#ed7953"
             ],
             [
              0.7777777777777778,
              "#fb9f3a"
             ],
             [
              0.8888888888888888,
              "#fdca26"
             ],
             [
              1,
              "#f0f921"
             ]
            ],
            "type": "histogram2d"
           }
          ],
          "histogram2dcontour": [
           {
            "colorbar": {
             "outlinewidth": 0,
             "ticks": ""
            },
            "colorscale": [
             [
              0,
              "#0d0887"
             ],
             [
              0.1111111111111111,
              "#46039f"
             ],
             [
              0.2222222222222222,
              "#7201a8"
             ],
             [
              0.3333333333333333,
              "#9c179e"
             ],
             [
              0.4444444444444444,
              "#bd3786"
             ],
             [
              0.5555555555555556,
              "#d8576b"
             ],
             [
              0.6666666666666666,
              "#ed7953"
             ],
             [
              0.7777777777777778,
              "#fb9f3a"
             ],
             [
              0.8888888888888888,
              "#fdca26"
             ],
             [
              1,
              "#f0f921"
             ]
            ],
            "type": "histogram2dcontour"
           }
          ],
          "mesh3d": [
           {
            "colorbar": {
             "outlinewidth": 0,
             "ticks": ""
            },
            "type": "mesh3d"
           }
          ],
          "parcoords": [
           {
            "line": {
             "colorbar": {
              "outlinewidth": 0,
              "ticks": ""
             }
            },
            "type": "parcoords"
           }
          ],
          "pie": [
           {
            "automargin": true,
            "type": "pie"
           }
          ],
          "scatter": [
           {
            "fillpattern": {
             "fillmode": "overlay",
             "size": 10,
             "solidity": 0.2
            },
            "type": "scatter"
           }
          ],
          "scatter3d": [
           {
            "line": {
             "colorbar": {
              "outlinewidth": 0,
              "ticks": ""
             }
            },
            "marker": {
             "colorbar": {
              "outlinewidth": 0,
              "ticks": ""
             }
            },
            "type": "scatter3d"
           }
          ],
          "scattercarpet": [
           {
            "marker": {
             "colorbar": {
              "outlinewidth": 0,
              "ticks": ""
             }
            },
            "type": "scattercarpet"
           }
          ],
          "scattergeo": [
           {
            "marker": {
             "colorbar": {
              "outlinewidth": 0,
              "ticks": ""
             }
            },
            "type": "scattergeo"
           }
          ],
          "scattergl": [
           {
            "marker": {
             "colorbar": {
              "outlinewidth": 0,
              "ticks": ""
             }
            },
            "type": "scattergl"
           }
          ],
          "scattermapbox": [
           {
            "marker": {
             "colorbar": {
              "outlinewidth": 0,
              "ticks": ""
             }
            },
            "type": "scattermapbox"
           }
          ],
          "scatterpolar": [
           {
            "marker": {
             "colorbar": {
              "outlinewidth": 0,
              "ticks": ""
             }
            },
            "type": "scatterpolar"
           }
          ],
          "scatterpolargl": [
           {
            "marker": {
             "colorbar": {
              "outlinewidth": 0,
              "ticks": ""
             }
            },
            "type": "scatterpolargl"
           }
          ],
          "scatterternary": [
           {
            "marker": {
             "colorbar": {
              "outlinewidth": 0,
              "ticks": ""
             }
            },
            "type": "scatterternary"
           }
          ],
          "surface": [
           {
            "colorbar": {
             "outlinewidth": 0,
             "ticks": ""
            },
            "colorscale": [
             [
              0,
              "#0d0887"
             ],
             [
              0.1111111111111111,
              "#46039f"
             ],
             [
              0.2222222222222222,
              "#7201a8"
             ],
             [
              0.3333333333333333,
              "#9c179e"
             ],
             [
              0.4444444444444444,
              "#bd3786"
             ],
             [
              0.5555555555555556,
              "#d8576b"
             ],
             [
              0.6666666666666666,
              "#ed7953"
             ],
             [
              0.7777777777777778,
              "#fb9f3a"
             ],
             [
              0.8888888888888888,
              "#fdca26"
             ],
             [
              1,
              "#f0f921"
             ]
            ],
            "type": "surface"
           }
          ],
          "table": [
           {
            "cells": {
             "fill": {
              "color": "#EBF0F8"
             },
             "line": {
              "color": "white"
             }
            },
            "header": {
             "fill": {
              "color": "#C8D4E3"
             },
             "line": {
              "color": "white"
             }
            },
            "type": "table"
           }
          ]
         },
         "layout": {
          "annotationdefaults": {
           "arrowcolor": "#2a3f5f",
           "arrowhead": 0,
           "arrowwidth": 1
          },
          "autotypenumbers": "strict",
          "coloraxis": {
           "colorbar": {
            "outlinewidth": 0,
            "ticks": ""
           }
          },
          "colorscale": {
           "diverging": [
            [
             0,
             "#8e0152"
            ],
            [
             0.1,
             "#c51b7d"
            ],
            [
             0.2,
             "#de77ae"
            ],
            [
             0.3,
             "#f1b6da"
            ],
            [
             0.4,
             "#fde0ef"
            ],
            [
             0.5,
             "#f7f7f7"
            ],
            [
             0.6,
             "#e6f5d0"
            ],
            [
             0.7,
             "#b8e186"
            ],
            [
             0.8,
             "#7fbc41"
            ],
            [
             0.9,
             "#4d9221"
            ],
            [
             1,
             "#276419"
            ]
           ],
           "sequential": [
            [
             0,
             "#0d0887"
            ],
            [
             0.1111111111111111,
             "#46039f"
            ],
            [
             0.2222222222222222,
             "#7201a8"
            ],
            [
             0.3333333333333333,
             "#9c179e"
            ],
            [
             0.4444444444444444,
             "#bd3786"
            ],
            [
             0.5555555555555556,
             "#d8576b"
            ],
            [
             0.6666666666666666,
             "#ed7953"
            ],
            [
             0.7777777777777778,
             "#fb9f3a"
            ],
            [
             0.8888888888888888,
             "#fdca26"
            ],
            [
             1,
             "#f0f921"
            ]
           ],
           "sequentialminus": [
            [
             0,
             "#0d0887"
            ],
            [
             0.1111111111111111,
             "#46039f"
            ],
            [
             0.2222222222222222,
             "#7201a8"
            ],
            [
             0.3333333333333333,
             "#9c179e"
            ],
            [
             0.4444444444444444,
             "#bd3786"
            ],
            [
             0.5555555555555556,
             "#d8576b"
            ],
            [
             0.6666666666666666,
             "#ed7953"
            ],
            [
             0.7777777777777778,
             "#fb9f3a"
            ],
            [
             0.8888888888888888,
             "#fdca26"
            ],
            [
             1,
             "#f0f921"
            ]
           ]
          },
          "colorway": [
           "#636efa",
           "#EF553B",
           "#00cc96",
           "#ab63fa",
           "#FFA15A",
           "#19d3f3",
           "#FF6692",
           "#B6E880",
           "#FF97FF",
           "#FECB52"
          ],
          "font": {
           "color": "#2a3f5f"
          },
          "geo": {
           "bgcolor": "white",
           "lakecolor": "white",
           "landcolor": "#E5ECF6",
           "showlakes": true,
           "showland": true,
           "subunitcolor": "white"
          },
          "hoverlabel": {
           "align": "left"
          },
          "hovermode": "closest",
          "mapbox": {
           "style": "light"
          },
          "paper_bgcolor": "white",
          "plot_bgcolor": "#E5ECF6",
          "polar": {
           "angularaxis": {
            "gridcolor": "white",
            "linecolor": "white",
            "ticks": ""
           },
           "bgcolor": "#E5ECF6",
           "radialaxis": {
            "gridcolor": "white",
            "linecolor": "white",
            "ticks": ""
           }
          },
          "scene": {
           "xaxis": {
            "backgroundcolor": "#E5ECF6",
            "gridcolor": "white",
            "gridwidth": 2,
            "linecolor": "white",
            "showbackground": true,
            "ticks": "",
            "zerolinecolor": "white"
           },
           "yaxis": {
            "backgroundcolor": "#E5ECF6",
            "gridcolor": "white",
            "gridwidth": 2,
            "linecolor": "white",
            "showbackground": true,
            "ticks": "",
            "zerolinecolor": "white"
           },
           "zaxis": {
            "backgroundcolor": "#E5ECF6",
            "gridcolor": "white",
            "gridwidth": 2,
            "linecolor": "white",
            "showbackground": true,
            "ticks": "",
            "zerolinecolor": "white"
           }
          },
          "shapedefaults": {
           "line": {
            "color": "#2a3f5f"
           }
          },
          "ternary": {
           "aaxis": {
            "gridcolor": "white",
            "linecolor": "white",
            "ticks": ""
           },
           "baxis": {
            "gridcolor": "white",
            "linecolor": "white",
            "ticks": ""
           },
           "bgcolor": "#E5ECF6",
           "caxis": {
            "gridcolor": "white",
            "linecolor": "white",
            "ticks": ""
           }
          },
          "title": {
           "x": 0.05
          },
          "xaxis": {
           "automargin": true,
           "gridcolor": "white",
           "linecolor": "white",
           "ticks": "",
           "title": {
            "standoff": 15
           },
           "zerolinecolor": "white",
           "zerolinewidth": 2
          },
          "yaxis": {
           "automargin": true,
           "gridcolor": "white",
           "linecolor": "white",
           "ticks": "",
           "title": {
            "standoff": 15
           },
           "zerolinecolor": "white",
           "zerolinewidth": 2
          }
         }
        }
       }
      }
     },
     "metadata": {},
     "output_type": "display_data"
    }
   ],
   "source": [
    "from apply_backtesting import backtester\n",
    "financial_data,fig = engulf_star_pattern(financial_data, record_to_plot=1000)\n",
    "bt,stats = backtester(financial_data)\n",
    "fig.show()"
   ]
  },
  {
   "cell_type": "code",
   "execution_count": 170,
   "metadata": {},
   "outputs": [
    {
     "data": {
      "text/html": [
       "<div class=\"bk-root\">\n",
       "        <a href=\"https://bokeh.org\" target=\"_blank\" class=\"bk-logo bk-logo-small bk-logo-notebook\"></a>\n",
       "        <span id=\"18317\">Loading BokehJS ...</span>\n",
       "    </div>\n"
      ]
     },
     "metadata": {},
     "output_type": "display_data"
    },
    {
     "data": {
      "application/javascript": "(function(root) {\n  function now() {\n    return new Date();\n  }\n\n  const force = true;\n\n  if (typeof root._bokeh_onload_callbacks === \"undefined\" || force === true) {\n    root._bokeh_onload_callbacks = [];\n    root._bokeh_is_loading = undefined;\n  }\n\nconst JS_MIME_TYPE = 'application/javascript';\n  const HTML_MIME_TYPE = 'text/html';\n  const EXEC_MIME_TYPE = 'application/vnd.bokehjs_exec.v0+json';\n  const CLASS_NAME = 'output_bokeh rendered_html';\n\n  /**\n   * Render data to the DOM node\n   */\n  function render(props, node) {\n    const script = document.createElement(\"script\");\n    node.appendChild(script);\n  }\n\n  /**\n   * Handle when an output is cleared or removed\n   */\n  function handleClearOutput(event, handle) {\n    const cell = handle.cell;\n\n    const id = cell.output_area._bokeh_element_id;\n    const server_id = cell.output_area._bokeh_server_id;\n    // Clean up Bokeh references\n    if (id != null && id in Bokeh.index) {\n      Bokeh.index[id].model.document.clear();\n      delete Bokeh.index[id];\n    }\n\n    if (server_id !== undefined) {\n      // Clean up Bokeh references\n      const cmd_clean = \"from bokeh.io.state import curstate; print(curstate().uuid_to_server['\" + server_id + \"'].get_sessions()[0].document.roots[0]._id)\";\n      cell.notebook.kernel.execute(cmd_clean, {\n        iopub: {\n          output: function(msg) {\n            const id = msg.content.text.trim();\n            if (id in Bokeh.index) {\n              Bokeh.index[id].model.document.clear();\n              delete Bokeh.index[id];\n            }\n          }\n        }\n      });\n      // Destroy server and session\n      const cmd_destroy = \"import bokeh.io.notebook as ion; ion.destroy_server('\" + server_id + \"')\";\n      cell.notebook.kernel.execute(cmd_destroy);\n    }\n  }\n\n  /**\n   * Handle when a new output is added\n   */\n  function handleAddOutput(event, handle) {\n    const output_area = handle.output_area;\n    const output = handle.output;\n\n    // limit handleAddOutput to display_data with EXEC_MIME_TYPE content only\n    if ((output.output_type != \"display_data\") || (!Object.prototype.hasOwnProperty.call(output.data, EXEC_MIME_TYPE))) {\n      return\n    }\n\n    const toinsert = output_area.element.find(\".\" + CLASS_NAME.split(' ')[0]);\n\n    if (output.metadata[EXEC_MIME_TYPE][\"id\"] !== undefined) {\n      toinsert[toinsert.length - 1].firstChild.textContent = output.data[JS_MIME_TYPE];\n      // store reference to embed id on output_area\n      output_area._bokeh_element_id = output.metadata[EXEC_MIME_TYPE][\"id\"];\n    }\n    if (output.metadata[EXEC_MIME_TYPE][\"server_id\"] !== undefined) {\n      const bk_div = document.createElement(\"div\");\n      bk_div.innerHTML = output.data[HTML_MIME_TYPE];\n      const script_attrs = bk_div.children[0].attributes;\n      for (let i = 0; i < script_attrs.length; i++) {\n        toinsert[toinsert.length - 1].firstChild.setAttribute(script_attrs[i].name, script_attrs[i].value);\n        toinsert[toinsert.length - 1].firstChild.textContent = bk_div.children[0].textContent\n      }\n      // store reference to server id on output_area\n      output_area._bokeh_server_id = output.metadata[EXEC_MIME_TYPE][\"server_id\"];\n    }\n  }\n\n  function register_renderer(events, OutputArea) {\n\n    function append_mime(data, metadata, element) {\n      // create a DOM node to render to\n      const toinsert = this.create_output_subarea(\n        metadata,\n        CLASS_NAME,\n        EXEC_MIME_TYPE\n      );\n      this.keyboard_manager.register_events(toinsert);\n      // Render to node\n      const props = {data: data, metadata: metadata[EXEC_MIME_TYPE]};\n      render(props, toinsert[toinsert.length - 1]);\n      element.append(toinsert);\n      return toinsert\n    }\n\n    /* Handle when an output is cleared or removed */\n    events.on('clear_output.CodeCell', handleClearOutput);\n    events.on('delete.Cell', handleClearOutput);\n\n    /* Handle when a new output is added */\n    events.on('output_added.OutputArea', handleAddOutput);\n\n    /**\n     * Register the mime type and append_mime function with output_area\n     */\n    OutputArea.prototype.register_mime_type(EXEC_MIME_TYPE, append_mime, {\n      /* Is output safe? */\n      safe: true,\n      /* Index of renderer in `output_area.display_order` */\n      index: 0\n    });\n  }\n\n  // register the mime type if in Jupyter Notebook environment and previously unregistered\n  if (root.Jupyter !== undefined) {\n    const events = require('base/js/events');\n    const OutputArea = require('notebook/js/outputarea').OutputArea;\n\n    if (OutputArea.prototype.mime_types().indexOf(EXEC_MIME_TYPE) == -1) {\n      register_renderer(events, OutputArea);\n    }\n  }\n  if (typeof (root._bokeh_timeout) === \"undefined\" || force === true) {\n    root._bokeh_timeout = Date.now() + 5000;\n    root._bokeh_failed_load = false;\n  }\n\n  const NB_LOAD_WARNING = {'data': {'text/html':\n     \"<div style='background-color: #fdd'>\\n\"+\n     \"<p>\\n\"+\n     \"BokehJS does not appear to have successfully loaded. If loading BokehJS from CDN, this \\n\"+\n     \"may be due to a slow or bad network connection. Possible fixes:\\n\"+\n     \"</p>\\n\"+\n     \"<ul>\\n\"+\n     \"<li>re-rerun `output_notebook()` to attempt to load from CDN again, or</li>\\n\"+\n     \"<li>use INLINE resources instead, as so:</li>\\n\"+\n     \"</ul>\\n\"+\n     \"<code>\\n\"+\n     \"from bokeh.resources import INLINE\\n\"+\n     \"output_notebook(resources=INLINE)\\n\"+\n     \"</code>\\n\"+\n     \"</div>\"}};\n\n  function display_loaded() {\n    const el = document.getElementById(\"18317\");\n    if (el != null) {\n      el.textContent = \"BokehJS is loading...\";\n    }\n    if (root.Bokeh !== undefined) {\n      if (el != null) {\n        el.textContent = \"BokehJS \" + root.Bokeh.version + \" successfully loaded.\";\n      }\n    } else if (Date.now() < root._bokeh_timeout) {\n      setTimeout(display_loaded, 100)\n    }\n  }\n\n  function run_callbacks() {\n    try {\n      root._bokeh_onload_callbacks.forEach(function(callback) {\n        if (callback != null)\n          callback();\n      });\n    } finally {\n      delete root._bokeh_onload_callbacks\n    }\n    console.debug(\"Bokeh: all callbacks have finished\");\n  }\n\n  function load_libs(css_urls, js_urls, callback) {\n    if (css_urls == null) css_urls = [];\n    if (js_urls == null) js_urls = [];\n\n    root._bokeh_onload_callbacks.push(callback);\n    if (root._bokeh_is_loading > 0) {\n      console.debug(\"Bokeh: BokehJS is being loaded, scheduling callback at\", now());\n      return null;\n    }\n    if (js_urls == null || js_urls.length === 0) {\n      run_callbacks();\n      return null;\n    }\n    console.debug(\"Bokeh: BokehJS not loaded, scheduling load and callback at\", now());\n    root._bokeh_is_loading = css_urls.length + js_urls.length;\n\n    function on_load() {\n      root._bokeh_is_loading--;\n      if (root._bokeh_is_loading === 0) {\n        console.debug(\"Bokeh: all BokehJS libraries/stylesheets loaded\");\n        run_callbacks()\n      }\n    }\n\n    function on_error(url) {\n      console.error(\"failed to load \" + url);\n    }\n\n    for (let i = 0; i < css_urls.length; i++) {\n      const url = css_urls[i];\n      const element = document.createElement(\"link\");\n      element.onload = on_load;\n      element.onerror = on_error.bind(null, url);\n      element.rel = \"stylesheet\";\n      element.type = \"text/css\";\n      element.href = url;\n      console.debug(\"Bokeh: injecting link tag for BokehJS stylesheet: \", url);\n      document.body.appendChild(element);\n    }\n\n    for (let i = 0; i < js_urls.length; i++) {\n      const url = js_urls[i];\n      const element = document.createElement('script');\n      element.onload = on_load;\n      element.onerror = on_error.bind(null, url);\n      element.async = false;\n      element.src = url;\n      console.debug(\"Bokeh: injecting script tag for BokehJS library: \", url);\n      document.head.appendChild(element);\n    }\n  };\n\n  function inject_raw_css(css) {\n    const element = document.createElement(\"style\");\n    element.appendChild(document.createTextNode(css));\n    document.body.appendChild(element);\n  }\n\n  const js_urls = [\"https://cdn.bokeh.org/bokeh/release/bokeh-2.4.3.min.js\", \"https://cdn.bokeh.org/bokeh/release/bokeh-gl-2.4.3.min.js\", \"https://cdn.bokeh.org/bokeh/release/bokeh-widgets-2.4.3.min.js\", \"https://cdn.bokeh.org/bokeh/release/bokeh-tables-2.4.3.min.js\", \"https://cdn.bokeh.org/bokeh/release/bokeh-mathjax-2.4.3.min.js\"];\n  const css_urls = [];\n\n  const inline_js = [    function(Bokeh) {\n      Bokeh.set_log_level(\"info\");\n    },\nfunction(Bokeh) {\n    }\n  ];\n\n  function run_inline_js() {\n    if (root.Bokeh !== undefined || force === true) {\n          for (let i = 0; i < inline_js.length; i++) {\n      inline_js[i].call(root, root.Bokeh);\n    }\nif (force === true) {\n        display_loaded();\n      }} else if (Date.now() < root._bokeh_timeout) {\n      setTimeout(run_inline_js, 100);\n    } else if (!root._bokeh_failed_load) {\n      console.log(\"Bokeh: BokehJS failed to load within specified timeout.\");\n      root._bokeh_failed_load = true;\n    } else if (force !== true) {\n      const cell = $(document.getElementById(\"18317\")).parents('.cell').data().cell;\n      cell.output_area.append_execute_result(NB_LOAD_WARNING)\n    }\n  }\n\n  if (root._bokeh_is_loading === 0) {\n    console.debug(\"Bokeh: BokehJS loaded, going straight to plotting\");\n    run_inline_js();\n  } else {\n    load_libs(css_urls, js_urls, function() {\n      console.debug(\"Bokeh: BokehJS plotting callback run at\", now());\n      run_inline_js();\n    });\n  }\n}(window));",
      "application/vnd.bokehjs_load.v0+json": ""
     },
     "metadata": {},
     "output_type": "display_data"
    },
    {
     "data": {
      "text/html": [
       "\n",
       "  <div class=\"bk-root\" id=\"fe373084-ef46-4445-a3cf-5364201fde57\" data-root-id=\"18771\"></div>\n"
      ]
     },
     "metadata": {},
     "output_type": "display_data"
    },
    {
     "data": {
      "application/javascript": "(function(root) {\n  function embed_document(root) {\n  const docs_json = {\"8ad4fd33-c818-4a75-9d00-6c50c862213d\":{\"defs\":[],\"roots\":{\"references\":[{\"attributes\":{\"children\":[{\"id\":\"18768\"},{\"id\":\"18770\"}],\"sizing_mode\":\"stretch_width\"},\"id\":\"18771\",\"type\":\"Row\"},{\"attributes\":{\"fill_alpha\":{\"value\":0.2},\"fill_color\":{\"value\":\"cyan\"},\"hatch_alpha\":{\"value\":0.2},\"hatch_color\":{\"value\":\"cyan\"},\"line_alpha\":{\"value\":0.2},\"line_color\":{\"value\":\"cyan\"},\"size\":{\"value\":8},\"x\":{\"value\":993},\"y\":{\"value\":1.1394589939999995}},\"id\":\"18408\",\"type\":\"Scatter\"},{\"attributes\":{},\"id\":\"18626\",\"type\":\"Selection\"},{\"attributes\":{\"coordinates\":null,\"formatter\":{\"id\":\"18585\"},\"group\":null,\"major_label_policy\":{\"id\":\"18751\"},\"ticker\":{\"id\":\"18562\"},\"visible\":true},\"id\":\"18561\",\"type\":\"LinearAxis\"},{\"attributes\":{},\"id\":\"18340\",\"type\":\"ResetTool\"},{\"attributes\":{\"label\":{\"value\":\"Max Dd Dur. (220)\"},\"renderers\":[{\"id\":\"18479\"}]},\"id\":\"18501\",\"type\":\"LegendItem\"},{\"attributes\":{\"label\":{\"value\":\"SIGNAL\"},\"renderers\":[{\"id\":\"18666\"}]},\"id\":\"18680\",\"type\":\"LegendItem\"},{\"attributes\":{\"axis\":{\"id\":\"18368\"},\"coordinates\":null,\"dimension\":1,\"group\":null,\"ticker\":null},\"id\":\"18371\",\"type\":\"Grid\"},{\"attributes\":{},\"id\":\"18521\",\"type\":\"UndoTool\"},{\"attributes\":{},\"id\":\"18423\",\"type\":\"Selection\"},{\"attributes\":{\"source\":{\"id\":\"18352\"}},\"id\":\"18614\",\"type\":\"CDSView\"},{\"attributes\":{\"source\":{\"id\":\"18351\"}},\"id\":\"18592\",\"type\":\"CDSView\"},{\"attributes\":{\"fill_color\":\"#ffffea\",\"line_color\":\"#ffcb66\",\"x\":{\"field\":\"index\"},\"y\":{\"field\":\"equity_dd\"}},\"id\":\"18390\",\"type\":\"Patch\"},{\"attributes\":{\"source\":{\"id\":\"18475\"}},\"id\":\"18480\",\"type\":\"CDSView\"},{\"attributes\":{\"source\":{\"id\":\"18450\"}},\"id\":\"18455\",\"type\":\"CDSView\"},{\"attributes\":{\"format\":\"0.[00]%\"},\"id\":\"18551\",\"type\":\"NumeralTickFormatter\"},{\"attributes\":{},\"id\":\"18622\",\"type\":\"AllLabels\"},{\"attributes\":{\"border_line_color\":\"#333333\",\"click_policy\":\"hide\",\"coordinates\":null,\"glyph_width\":0,\"group\":null,\"items\":[{\"id\":\"18680\"}],\"label_text_font_size\":\"8pt\",\"location\":\"top_left\",\"margin\":0,\"padding\":5,\"spacing\":0},\"id\":\"18679\",\"type\":\"Legend\"},{\"attributes\":{\"line_color\":{\"field\":\"returns_positive\",\"transform\":{\"id\":\"18355\"}},\"line_dash\":{\"value\":\"dotted\"},\"line_width\":{\"value\":8},\"xs\":{\"field\":\"position_lines_xs\"},\"ys\":{\"field\":\"position_lines_ys\"}},\"id\":\"18610\",\"type\":\"MultiLine\"},{\"attributes\":{\"axis_label\":\"Equity\",\"coordinates\":null,\"formatter\":{\"id\":\"18403\"},\"group\":null,\"major_label_policy\":{\"id\":\"18414\"},\"minor_tick_line_color\":null,\"ticker\":{\"id\":\"18369\"}},\"id\":\"18368\",\"type\":\"LinearAxis\"},{\"attributes\":{},\"id\":\"18416\",\"type\":\"BasicTickFormatter\"},{\"attributes\":{\"toolbar\":{\"id\":\"18769\"}},\"id\":\"18770\",\"type\":\"ToolbarBox\"},{\"attributes\":{\"axis_label\":\"Volume\",\"coordinates\":null,\"formatter\":{\"id\":\"18595\"},\"group\":null,\"major_label_policy\":{\"id\":\"18749\"},\"minor_tick_line_color\":null,\"ticker\":{\"id\":\"18566\"}},\"id\":\"18565\",\"type\":\"LinearAxis\"},{\"attributes\":{\"coordinates\":null,\"data_source\":{\"id\":\"18351\"},\"glyph\":{\"id\":\"18588\"},\"group\":null,\"hover_glyph\":null,\"muted_glyph\":{\"id\":\"18590\"},\"nonselection_glyph\":{\"id\":\"18589\"},\"view\":{\"id\":\"18592\"}},\"id\":\"18591\",\"type\":\"GlyphRenderer\"},{\"attributes\":{\"line_color\":\"#1f77b4\",\"line_width\":1.5,\"x\":{\"field\":\"index\"},\"y\":{\"field\":\"equity\"}},\"id\":\"18396\",\"type\":\"Line\"},{\"attributes\":{\"fill_alpha\":{\"value\":0.1},\"fill_color\":{\"value\":\"blue\"},\"hatch_alpha\":{\"value\":0.1},\"hatch_color\":{\"value\":\"blue\"},\"line_alpha\":{\"value\":0.1},\"line_color\":{\"value\":\"blue\"},\"size\":{\"value\":8},\"x\":{\"value\":999},\"y\":{\"value\":1.1361779239999994}},\"id\":\"18429\",\"type\":\"Scatter\"},{\"attributes\":{\"fill_alpha\":{\"value\":0.2},\"fill_color\":{\"field\":\"inc\",\"transform\":{\"id\":\"18353\"}},\"hatch_alpha\":{\"value\":0.2},\"hatch_color\":{\"field\":\"inc\",\"transform\":{\"id\":\"18353\"}},\"line_alpha\":{\"value\":0.2},\"line_color\":{\"field\":\"inc\",\"transform\":{\"id\":\"18353\"}},\"top\":{\"field\":\"Volume\"},\"width\":{\"value\":0.8},\"x\":{\"field\":\"index\"}},\"id\":\"18590\",\"type\":\"VBar\"},{\"attributes\":{\"line_alpha\":0.1,\"line_color\":\"#1f77b4\",\"line_width\":1.5,\"x\":{\"field\":\"index\"},\"y\":{\"field\":\"equity\"}},\"id\":\"18397\",\"type\":\"Line\"},{\"attributes\":{\"line_alpha\":{\"value\":0.2},\"x0\":{\"field\":\"index\"},\"x1\":{\"field\":\"index\"},\"y0\":{\"field\":\"High\"},\"y1\":{\"field\":\"Low\"}},\"id\":\"18600\",\"type\":\"Segment\"},{\"attributes\":{\"below\":[{\"id\":\"18561\"}],\"center\":[{\"id\":\"18564\"},{\"id\":\"18568\"}],\"height\":90,\"left\":[{\"id\":\"18565\"}],\"min_border_bottom\":6,\"min_border_left\":0,\"min_border_right\":10,\"min_border_top\":3,\"outline_line_color\":\"#666666\",\"renderers\":[{\"id\":\"18591\"}],\"sizing_mode\":\"stretch_width\",\"title\":{\"id\":\"18746\"},\"toolbar\":{\"id\":\"18577\"},\"toolbar_location\":null,\"width\":null,\"x_range\":{\"id\":\"18318\"},\"x_scale\":{\"id\":\"18557\"},\"y_range\":{\"id\":\"18555\"},\"y_scale\":{\"id\":\"18559\"}},\"id\":\"18553\",\"subtype\":\"Figure\",\"type\":\"Plot\"},{\"attributes\":{\"coordinates\":null,\"group\":null},\"id\":\"18411\",\"type\":\"Title\"},{\"attributes\":{\"coordinates\":null,\"formatter\":{\"id\":\"18674\"},\"group\":null,\"major_label_policy\":{\"id\":\"18675\"},\"ticker\":{\"id\":\"18639\"},\"visible\":false},\"id\":\"18638\",\"type\":\"LinearAxis\"},{\"attributes\":{\"line_alpha\":{\"value\":0.2},\"line_color\":{\"field\":\"returns_positive\",\"transform\":{\"id\":\"18355\"}},\"line_dash\":{\"value\":\"dotted\"},\"line_width\":{\"value\":8},\"xs\":{\"field\":\"position_lines_xs\"},\"ys\":{\"field\":\"position_lines_ys\"}},\"id\":\"18612\",\"type\":\"MultiLine\"},{\"attributes\":{\"args\":{\"ohlc_range\":{\"id\":\"18321\"},\"source\":{\"id\":\"18351\"},\"volume_range\":{\"id\":\"18555\"}},\"code\":\"if (!window._bt_scale_range) {\\n    window._bt_scale_range = function (range, min, max, pad) {\\n        \\\"use strict\\\";\\n        if (min !== Infinity && max !== -Infinity) {\\n            pad = pad ? (max - min) * .03 : 0;\\n            range.start = min - pad;\\n            range.end = max + pad;\\n        } else console.error('backtesting: scale range error:', min, max, range);\\n    };\\n}\\n\\nclearTimeout(window._bt_autoscale_timeout);\\n\\nwindow._bt_autoscale_timeout = setTimeout(function () {\\n    /**\\n     * @variable cb_obj `fig_ohlc.x_range`.\\n     * @variable source `ColumnDataSource`\\n     * @variable ohlc_range `fig_ohlc.y_range`.\\n     * @variable volume_range `fig_volume.y_range`.\\n     */\\n    \\\"use strict\\\";\\n\\n    let i = Math.max(Math.floor(cb_obj.start), 0),\\n        j = Math.min(Math.ceil(cb_obj.end), source.data['ohlc_high'].length);\\n\\n    let max = Math.max.apply(null, source.data['ohlc_high'].slice(i, j)),\\n        min = Math.min.apply(null, source.data['ohlc_low'].slice(i, j));\\n    _bt_scale_range(ohlc_range, min, max, true);\\n\\n    if (volume_range) {\\n        max = Math.max.apply(null, source.data['Volume'].slice(i, j));\\n        _bt_scale_range(volume_range, 0, max * 1.03, false);\\n    }\\n\\n}, 50);\\n\"},\"id\":\"18686\",\"type\":\"CustomJS\"},{\"attributes\":{\"bottom\":{\"field\":\"Close\"},\"fill_alpha\":{\"value\":0.2},\"fill_color\":{\"field\":\"inc\",\"transform\":{\"id\":\"18353\"}},\"hatch_alpha\":{\"value\":0.2},\"line_alpha\":{\"value\":0.2},\"top\":{\"field\":\"Open\"},\"width\":{\"value\":0.8},\"x\":{\"field\":\"index\"}},\"id\":\"18606\",\"type\":\"VBar\"},{\"attributes\":{\"bottom_units\":\"screen\",\"coordinates\":null,\"fill_alpha\":0.5,\"fill_color\":\"lightgrey\",\"group\":null,\"left_units\":\"screen\",\"level\":\"overlay\",\"line_alpha\":1.0,\"line_color\":\"black\",\"line_dash\":[4,4],\"line_width\":2,\"right_units\":\"screen\",\"syncable\":false,\"top_units\":\"screen\"},\"id\":\"18379\",\"type\":\"BoxAnnotation\"},{\"attributes\":{\"fill_alpha\":{\"value\":0.2},\"fill_color\":{\"value\":\"blue\"},\"hatch_alpha\":{\"value\":0.2},\"hatch_color\":{\"value\":\"blue\"},\"line_alpha\":{\"value\":0.2},\"line_color\":{\"value\":\"blue\"},\"size\":{\"value\":8},\"x\":{\"value\":999},\"y\":{\"value\":1.1361779239999994}},\"id\":\"18430\",\"type\":\"Scatter\"},{\"attributes\":{\"line_alpha\":0.2,\"line_color\":\"red\",\"line_width\":2,\"x\":{\"field\":\"x\"},\"y\":{\"value\":1.010805384}},\"id\":\"18478\",\"type\":\"Line\"},{\"attributes\":{\"label\":{\"value\":\"Max Drawdown (-4.6%)\"},\"renderers\":[{\"id\":\"18454\"}]},\"id\":\"18474\",\"type\":\"LegendItem\"},{\"attributes\":{\"line_color\":\"#1f77b4\",\"line_width\":1.3,\"x\":{\"field\":\"index\"},\"y\":{\"field\":\"SIGNAL_0_1\"}},\"id\":\"18663\",\"type\":\"Line\"},{\"attributes\":{},\"id\":\"18687\",\"type\":\"CrosshairTool\"},{\"attributes\":{},\"id\":\"18725\",\"type\":\"AllLabels\"},{\"attributes\":{\"x0\":{\"field\":\"index\"},\"x1\":{\"field\":\"index\"},\"y0\":{\"field\":\"High\"},\"y1\":{\"field\":\"Low\"}},\"id\":\"18598\",\"type\":\"Segment\"},{\"attributes\":{},\"id\":\"18651\",\"type\":\"ResetTool\"},{\"attributes\":{\"fill_alpha\":{\"value\":0.2},\"fill_color\":{\"value\":\"red\"},\"hatch_alpha\":{\"value\":0.2},\"hatch_color\":{\"value\":\"red\"},\"line_alpha\":{\"value\":0.2},\"line_color\":{\"value\":\"red\"},\"size\":{\"value\":8},\"x\":{\"value\":183},\"y\":{\"value\":0.964674038}},\"id\":\"18453\",\"type\":\"Scatter\"},{\"attributes\":{\"fill_alpha\":{\"value\":0.2},\"fill_color\":{\"field\":\"returns_positive\",\"transform\":{\"id\":\"18354\"}},\"hatch_alpha\":{\"value\":0.2},\"line_alpha\":{\"value\":0.2},\"marker\":{\"value\":\"inverted_triangle\"},\"size\":{\"field\":\"marker_size\"},\"x\":{\"field\":\"index\"},\"y\":{\"field\":\"returns_short\"}},\"id\":\"18544\",\"type\":\"Scatter\"},{\"attributes\":{\"below\":[{\"id\":\"18510\"}],\"center\":[{\"id\":\"18513\"},{\"id\":\"18517\"},{\"id\":\"18534\"}],\"height\":90,\"left\":[{\"id\":\"18514\"}],\"min_border_bottom\":6,\"min_border_left\":0,\"min_border_right\":10,\"min_border_top\":3,\"outline_line_color\":\"#666666\",\"renderers\":[{\"id\":\"18539\"},{\"id\":\"18545\"}],\"sizing_mode\":\"stretch_width\",\"title\":{\"id\":\"18719\"},\"toolbar\":{\"id\":\"18526\"},\"toolbar_location\":null,\"width\":null,\"x_range\":{\"id\":\"18318\"},\"x_scale\":{\"id\":\"18506\"},\"y_range\":{\"id\":\"18504\"},\"y_scale\":{\"id\":\"18508\"}},\"id\":\"18502\",\"subtype\":\"Figure\",\"type\":\"Plot\"},{\"attributes\":{\"axis\":{\"id\":\"18364\"},\"coordinates\":null,\"group\":null,\"ticker\":null},\"id\":\"18367\",\"type\":\"Grid\"},{\"attributes\":{\"overlay\":{\"id\":\"18379\"}},\"id\":\"18374\",\"type\":\"BoxZoomTool\"},{\"attributes\":{\"below\":[{\"id\":\"18364\"}],\"center\":[{\"id\":\"18367\"},{\"id\":\"18371\"},{\"id\":\"18425\"}],\"height\":110,\"left\":[{\"id\":\"18368\"}],\"min_border_bottom\":6,\"min_border_left\":0,\"min_border_right\":10,\"min_border_top\":3,\"outline_line_color\":\"#666666\",\"renderers\":[{\"id\":\"18393\"},{\"id\":\"18399\"},{\"id\":\"18409\"},{\"id\":\"18431\"},{\"id\":\"18454\"},{\"id\":\"18479\"}],\"sizing_mode\":\"stretch_width\",\"title\":{\"id\":\"18411\"},\"toolbar\":{\"id\":\"18380\"},\"toolbar_location\":null,\"width\":null,\"x_range\":{\"id\":\"18318\"},\"x_scale\":{\"id\":\"18360\"},\"y_range\":{\"id\":\"18358\"},\"y_scale\":{\"id\":\"18362\"}},\"id\":\"18356\",\"subtype\":\"Figure\",\"type\":\"Plot\"},{\"attributes\":{\"callback\":null,\"mode\":\"vline\",\"point_policy\":\"follow_mouse\",\"renderers\":[{\"id\":\"18591\"}],\"tooltips\":[[\"#\",\"@index\"],[\"Volume\",\"@Volume{0.00 a}\"]]},\"id\":\"18593\",\"type\":\"HoverTool\"},{\"attributes\":{\"coordinates\":null,\"data_source\":{\"id\":\"18427\"},\"glyph\":{\"id\":\"18428\"},\"group\":null,\"hover_glyph\":null,\"muted_glyph\":{\"id\":\"18430\"},\"nonselection_glyph\":{\"id\":\"18429\"},\"view\":{\"id\":\"18432\"}},\"id\":\"18431\",\"type\":\"GlyphRenderer\"},{\"attributes\":{\"overlay\":{\"id\":\"18653\"}},\"id\":\"18648\",\"type\":\"BoxZoomTool\"},{\"attributes\":{\"data\":{\"equity_dd\":{\"__ndarray__\":\"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\",\"dtype\":\"float64\",\"order\":\"little\",\"shape\":[2000]},\"index\":[0,1,2,3,4,5,6,7,8,9,10,11,12,13,14,15,16,17,18,19,20,21,22,23,24,25,26,27,28,29,30,31,32,33,34,35,36,37,38,39,40,41,42,43,44,45,46,47,48,49,50,51,52,53,54,55,56,57,58,59,60,61,62,63,64,65,66,67,68,69,70,71,72,73,74,75,76,77,78,79,80,81,82,83,84,85,86,87,88,89,90,91,92,93,94,95,96,97,98,99,100,101,102,103,104,105,106,107,108,109,110,111,112,113,114,115,116,117,118,119,120,121,122,123,124,125,126,127,128,129,130,131,132,133,134,135,136,137,138,139,140,141,142,143,144,145,146,147,148,149,150,151,152,153,154,155,156,157,158,159,160,161,162,163,164,165,166,167,168,169,170,171,172,173,174,175,176,177,178,179,180,181,182,183,184,185,186,187,188,189,190,191,192,193,194,195,196,197,198,199,200,201,202,203,204,205,206,207,208,209,210,211,212,213,214,215,216,217,218,219,220,221,222,223,224,225,226,227,228,229,230,231,232,233,234,235,236,237,238,239,240,241,242,243,244,245,246,247,248,249,250,251,252,253,254,255,256,257,258,259,260,261,262,263,264,265,266,267,268,269,270,271,272,273,274,275,276,277,278,279,280,281,282,283,284,285,286,287,288,289,290,291,292,293,294,295,296,297,298,299,300,301,302,303,304,305,306,307,308,309,310,311,312,313,314,315,316,317,318,319,320,321,322,323,324,325,326,327,328,329,330,331,332,333,334,335,336,337,338,339,340,341,342,343,344,345,346,347,348,349,350,351,352,353,354,355,356,357,358,359,360,361,362,363,364,365,366,367,368,369,370,371,372,373,374,375,376,377,378,379,380,381,382,383,384,385,386,387,388,389,390,391,392,393,394,395,396,397,398,399,400,401,402,403,404,405,406,407,408,409,410,411,412,413,414,415,416,417,418,419,420,421,422,423,424,425,426,427,428,429,430,431,432,433,434,435,436,437,438,439,440,441,442,443,444,445,446,447,448,449,450,451,452,453,454,455,456,457,458,459,460,461,462,463,464,465,466,467,468,469,470,471,472,473,474,475,476,477,478,479,480,481,482,483,484,485,486,487,488,489,490,491,492,493,494,495,496,497,498,499,500,501,502,503,504,505,506,507,508,509,510,511,512,513,514,515,516,517,518,519,520,521,522,523,524,525,526,527,528,529,530,531,532,533,534,535,536,537,538,539,540,541,542,543,544,545,546,547,548,549,550,551,552,553,554,555,556,557,558,559,560,561,562,563,564,565,566,567,568,569,570,571,572,573,574,575,576,577,578,579,580,581,582,583,584,585,586,587,588,589,590,591,592,593,594,595,596,597,598,599,600,601,602,603,604,605,606,607,608,609,610,611,612,613,614,615,616,617,618,619,620,621,622,623,624,625,626,627,628,629,630,631,632,633,634,635,636,637,638,639,640,641,642,643,644,645,646,647,648,649,650,651,652,653,654,655,656,657,658,659,660,661,662,663,664,665,666,667,668,669,670,671,672,673,674,675,676,677,678,679,680,681,682,683,684,685,686,687,688,689,690,691,692,693,694,695,696,697,698,699,700,701,702,703,704,705,706,707,708,709,710,711,712,713,714,715,716,717,718,719,720,721,722,723,724,725,726,727,728,729,730,731,732,733,734,735,736,737,738,739,740,741,742,743,744,745,746,747,748,749,750,751,752,753,754,755,756,757,758,759,760,761,762,763,764,765,766,767,768,769,770,771,772,773,774,775,776,777,778,779,780,781,782,783,784,785,786,787,788,789,790,791,792,793,794,795,796,797,798,799,800,801,802,803,804,805,806,807,808,809,810,811,812,813,814,815,816,817,818,819,820,821,822,823,824,825,826,827,828,829,830,831,832,833,834,835,836,837,838,839,840,841,842,843,844,845,846,847,848,849,850,851,852,853,854,855,856,857,858,859,860,861,862,863,864,865,866,867,868,869,870,871,872,873,874,875,876,877,878,879,880,881,882,883,884,885,886,887,888,889,890,891,892,893,894,895,896,897,898,899,900,901,902,903,904,905,906,907,908,909,910,911,912,913,914,915,916,917,918,919,920,921,922,923,924,925,926,927,928,929,930,931,932,933,934,935,936,937,938,939,940,941,942,943,944,945,946,947,948,949,950,951,952,953,954,955,956,957,958,959,960,961,962,963,964,965,966,967,968,969,970,971,972,973,974,975,976,977,978,979,980,981,982,983,984,985,986,987,988,989,990,991,992,993,994,995,996,997,998,999,999,998,997,996,995,994,993,992,991,990,989,988,987,986,985,984,983,982,981,980,979,978,977,976,975,974,973,972,971,970,969,968,967,966,965,964,963,962,961,960,959,958,957,956,955,954,953,952,951,950,949,948,947,946,945,944,943,942,941,940,939,938,937,936,935,934,933,932,931,930,929,928,927,926,925,924,923,922,921,920,919,918,917,916,915,914,913,912,911,910,909,908,907,906,905,904,903,902,901,900,899,898,897,896,895,894,893,892,891,890,889,888,887,886,885,884,883,882,881,880,879,878,877,876,875,874,873,872,871,870,869,868,867,866,865,864,863,862,861,860,859,858,857,856,855,854,853,852,851,850,849,848,847,846,845,844,843,842,841,840,839,838,837,836,835,834,833,832,831,830,829,828,827,826,825,824,823,822,821,820,819,818,817,816,815,814,813,812,811,810,809,808,807,806,805,804,803,802,801,800,799,798,797,796,795,794,793,792,791,790,789,788,787,786,785,784,783,782,781,780,779,778,777,776,775,774,773,772,771,770,769,768,767,766,765,764,763,762,761,760,759,758,757,756,755,754,753,752,751,750,749,748,747,746,745,744,743,742,741,740,739,738,737,736,735,734,733,732,731,730,729,728,727,726,725,724,723,722,721,720,719,718,717,716,715,714,713,712,711,710,709,708,707,706,705,704,703,702,701,700,699,698,697,696,695,694,693,692,691,690,689,688,687,686,685,684,683,682,681,680,679,678,677,676,675,674,673,672,671,670,669,668,667,666,665,664,663,662,661,660,659,658,657,656,655,654,653,652,651,650,649,648,647,646,645,644,643,642,641,640,639,638,637,636,635,634,633,632,631,630,629,628,627,626,625,624,623,622,621,620,619,618,617,616,615,614,613,612,611,610,609,608,607,606,605,604,603,602,601,600,599,598,597,596,595,594,593,592,591,590,589,588,587,586,585,584,583,582,581,580,579,578,577,576,575,574,573,572,571,570,569,568,567,566,565,564,563,562,561,560,559,558,557,556,555,554,553,552,551,550,549,548,547,546,545,544,543,542,541,540,539,538,537,536,535,534,533,532,531,530,529,528,527,526,525,524,523,522,521,520,519,518,517,516,515,514,513,512,511,510,509,508,507,506,505,504,503,502,501,500,499,498,497,496,495,494,493,492,491,490,489,488,487,486,485,484,483,482,481,480,479,478,477,476,475,474,473,472,471,470,469,468,467,466,465,464,463,462,461,460,459,458,457,456,455,454,453,452,451,450,449,448,447,446,445,444,443,442,441,440,439,438,437,436,435,434,433,432,431,430,429,428,427,426,425,424,423,422,421,420,419,418,417,416,415,414,413,412,411,410,409,408,407,406,405,404,403,402,401,400,399,398,397,396,395,394,393,392,391,390,389,388,387,386,385,384,383,382,381,380,379,378,377,376,375,374,373,372,371,370,369,368,367,366,365,364,363,362,361,360,359,358,357,356,355,354,353,352,351,350,349,348,347,346,345,344,343,342,341,340,339,338,337,336,335,334,333,332,331,330,329,328,327,326,325,324,323,322,321,320,319,318,317,316,315,314,313,312,311,310,309,308,307,306,305,304,303,302,301,300,299,298,297,296,295,294,293,292,291,290,289,288,287,286,285,284,283,282,281,280,279,278,277,276,275,274,273,272,271,270,269,268,267,266,265,264,263,262,261,260,259,258,257,256,255,254,253,252,251,250,249,248,247,246,245,244,243,242,241,240,239,238,237,236,235,234,233,232,231,230,229,228,227,226,225,224,223,222,221,220,219,218,217,216,215,214,213,212,211,210,209,208,207,206,205,204,203,202,201,200,199,198,197,196,195,194,193,192,191,190,189,188,187,186,185,184,183,182,181,180,179,178,177,176,175,174,173,172,171,170,169,168,167,166,165,164,163,162,161,160,159,158,157,156,155,154,153,152,151,150,149,148,147,146,145,144,143,142,141,140,139,138,137,136,135,134,133,132,131,130,129,128,127,126,125,124,123,122,121,120,119,118,117,116,115,114,113,112,111,110,109,108,107,106,105,104,103,102,101,100,99,98,97,96,95,94,93,92,91,90,89,88,87,86,85,84,83,82,81,80,79,78,77,76,75,74,73,72,71,70,69,68,67,66,65,64,63,62,61,60,59,58,57,56,55,54,53,52,51,50,49,48,47,46,45,44,43,42,41,40,39,38,37,36,35,34,33,32,31,30,29,28,27,26,25,24,23,22,21,20,19,18,17,16,15,14,13,12,11,10,9,8,7,6,5,4,3,2,1,0]},\"selected\":{\"id\":\"18419\"},\"selection_policy\":{\"id\":\"18418\"}},\"id\":\"18388\",\"type\":\"ColumnDataSource\"},{\"attributes\":{\"source\":{\"id\":\"18352\"}},\"id\":\"18546\",\"type\":\"CDSView\"},{\"attributes\":{\"fill_alpha\":0.2,\"fill_color\":\"#ffffea\",\"hatch_alpha\":0.2,\"line_alpha\":0.2,\"line_color\":\"#ffcb66\",\"x\":{\"field\":\"index\"},\"y\":{\"field\":\"equity_dd\"}},\"id\":\"18392\",\"type\":\"Patch\"},{\"attributes\":{\"factors\":[\"0\",\"1\"],\"palette\":[\"rgb(178.5, 27.163043478260846, 0.0)\",\"rgb(0.0, 178.5, 0.0)\"]},\"id\":\"18355\",\"type\":\"CategoricalColorMapper\"},{\"attributes\":{\"axis\":{\"id\":\"18514\"},\"coordinates\":null,\"dimension\":1,\"group\":null,\"ticker\":null},\"id\":\"18517\",\"type\":\"Grid\"},{\"attributes\":{\"active_drag\":{\"id\":\"18335\"},\"active_scroll\":{\"id\":\"18336\"},\"tools\":[{\"id\":\"18335\"},{\"id\":\"18336\"},{\"id\":\"18337\"},{\"id\":\"18338\"},{\"id\":\"18339\"},{\"id\":\"18340\"},{\"id\":\"18341\"},{\"id\":\"18684\"},{\"id\":\"18687\"}]},\"id\":\"18343\",\"type\":\"Toolbar\"},{\"attributes\":{\"active_drag\":{\"id\":\"18646\"},\"active_scroll\":{\"id\":\"18647\"},\"tools\":[{\"id\":\"18646\"},{\"id\":\"18647\"},{\"id\":\"18648\"},{\"id\":\"18649\"},{\"id\":\"18650\"},{\"id\":\"18651\"},{\"id\":\"18652\"},{\"id\":\"18682\"},{\"id\":\"18687\"}]},\"id\":\"18654\",\"type\":\"Toolbar\"},{\"attributes\":{\"dimensions\":\"width\",\"maintain_focus\":false},\"id\":\"18570\",\"type\":\"WheelZoomTool\"},{\"attributes\":{},\"id\":\"18471\",\"type\":\"UnionRenderers\"},{\"attributes\":{},\"id\":\"18325\",\"type\":\"LinearScale\"},{\"attributes\":{},\"id\":\"18636\",\"type\":\"LinearScale\"},{\"attributes\":{},\"id\":\"18522\",\"type\":\"RedoTool\"},{\"attributes\":{},\"id\":\"18652\",\"type\":\"SaveTool\"},{\"attributes\":{\"children\":[[{\"id\":\"18356\"},0,0],[{\"id\":\"18502\"},1,0],[{\"id\":\"18319\"},2,0],[{\"id\":\"18553\"},3,0],[{\"id\":\"18630\"},4,0]]},\"id\":\"18768\",\"type\":\"GridBox\"},{\"attributes\":{\"below\":[{\"id\":\"18638\"}],\"center\":[{\"id\":\"18641\"},{\"id\":\"18645\"},{\"id\":\"18679\"},{\"id\":\"18681\"}],\"height\":90,\"left\":[{\"id\":\"18642\"}],\"min_border_bottom\":6,\"min_border_left\":0,\"min_border_right\":10,\"min_border_top\":3,\"outline_line_color\":\"#666666\",\"renderers\":[{\"id\":\"18666\"}],\"sizing_mode\":\"stretch_width\",\"title\":{\"id\":\"18668\"},\"toolbar\":{\"id\":\"18654\"},\"toolbar_location\":null,\"width\":null,\"x_range\":{\"id\":\"18318\"},\"x_scale\":{\"id\":\"18634\"},\"y_range\":{\"id\":\"18632\"},\"y_scale\":{\"id\":\"18636\"}},\"id\":\"18630\",\"subtype\":\"Figure\",\"type\":\"Plot\"},{\"attributes\":{\"source\":{\"id\":\"18405\"}},\"id\":\"18410\",\"type\":\"CDSView\"},{\"attributes\":{},\"id\":\"18365\",\"type\":\"BasicTicker\"},{\"attributes\":{\"bounds\":[-49.95,1048.95],\"end\":999,\"js_property_callbacks\":{\"change:end\":[{\"id\":\"18686\"}]},\"min_interval\":10},\"id\":\"18318\",\"type\":\"Range1d\"},{\"attributes\":{},\"id\":\"18511\",\"type\":\"BasicTicker\"},{\"attributes\":{\"callback\":null,\"point_policy\":\"follow_mouse\",\"renderers\":[{\"id\":\"18545\"}],\"tooltips\":[[\"#\",\"@index\"],[\"Size\",\"@size{0,0}\"],[\"P/L\",\"@returns_short{+0.[000]%}\"]]},\"id\":\"18549\",\"type\":\"HoverTool\"},{\"attributes\":{\"coordinates\":null,\"group\":null},\"id\":\"18719\",\"type\":\"Title\"},{\"attributes\":{},\"id\":\"18375\",\"type\":\"UndoTool\"},{\"attributes\":{},\"id\":\"18559\",\"type\":\"LinearScale\"},{\"attributes\":{},\"id\":\"18378\",\"type\":\"SaveTool\"},{\"attributes\":{},\"id\":\"18417\",\"type\":\"AllLabels\"},{\"attributes\":{\"coordinates\":null,\"group\":null,\"line_color\":\"#666666\",\"line_dash\":[6],\"location\":0},\"id\":\"18534\",\"type\":\"Span\"},{\"attributes\":{},\"id\":\"18575\",\"type\":\"SaveTool\"},{\"attributes\":{\"fill_color\":{\"value\":\"cyan\"},\"hatch_color\":{\"value\":\"cyan\"},\"line_color\":{\"value\":\"cyan\"},\"size\":{\"value\":8},\"x\":{\"value\":993},\"y\":{\"value\":1.1394589939999995}},\"id\":\"18406\",\"type\":\"Scatter\"},{\"attributes\":{},\"id\":\"18414\",\"type\":\"AllLabels\"},{\"attributes\":{\"coordinates\":null,\"formatter\":{\"id\":\"18585\"},\"group\":null,\"major_label_policy\":{\"id\":\"18622\"},\"ticker\":{\"id\":\"18328\"},\"visible\":false},\"id\":\"18327\",\"type\":\"LinearAxis\"},{\"attributes\":{\"label\":{\"value\":\"Peak (114%)\"},\"renderers\":[{\"id\":\"18409\"}]},\"id\":\"18426\",\"type\":\"LegendItem\"},{\"attributes\":{},\"id\":\"18566\",\"type\":\"BasicTicker\"},{\"attributes\":{\"coordinates\":null,\"data_source\":{\"id\":\"18351\"},\"glyph\":{\"id\":\"18598\"},\"group\":null,\"hover_glyph\":null,\"muted_glyph\":{\"id\":\"18600\"},\"nonselection_glyph\":{\"id\":\"18599\"},\"view\":{\"id\":\"18602\"}},\"id\":\"18601\",\"type\":\"GlyphRenderer\"},{\"attributes\":{\"fill_color\":{\"field\":\"returns_positive\",\"transform\":{\"id\":\"18354\"}},\"marker\":{\"value\":\"inverted_triangle\"},\"size\":{\"field\":\"marker_size\"},\"x\":{\"field\":\"index\"},\"y\":{\"field\":\"returns_short\"}},\"id\":\"18542\",\"type\":\"Scatter\"},{\"attributes\":{\"coordinates\":null,\"data_source\":{\"id\":\"18351\"},\"glyph\":{\"id\":\"18396\"},\"group\":null,\"hover_glyph\":null,\"muted_glyph\":{\"id\":\"18398\"},\"nonselection_glyph\":{\"id\":\"18397\"},\"view\":{\"id\":\"18400\"}},\"id\":\"18399\",\"type\":\"GlyphRenderer\"},{\"attributes\":{\"coordinates\":null,\"formatter\":{\"id\":\"18618\"},\"group\":null,\"major_label_policy\":{\"id\":\"18619\"},\"ticker\":{\"id\":\"18332\"}},\"id\":\"18331\",\"type\":\"LinearAxis\"},{\"attributes\":{},\"id\":\"18369\",\"type\":\"BasicTicker\"},{\"attributes\":{},\"id\":\"18618\",\"type\":\"BasicTickFormatter\"},{\"attributes\":{\"dimensions\":\"width\",\"maintain_focus\":false},\"id\":\"18519\",\"type\":\"WheelZoomTool\"},{\"attributes\":{},\"id\":\"18639\",\"type\":\"BasicTicker\"},{\"attributes\":{},\"id\":\"18362\",\"type\":\"LinearScale\"},{\"attributes\":{},\"id\":\"18724\",\"type\":\"BasicTickFormatter\"},{\"attributes\":{},\"id\":\"18675\",\"type\":\"AllLabels\"},{\"attributes\":{\"bottom_units\":\"screen\",\"coordinates\":null,\"fill_alpha\":0.5,\"fill_color\":\"lightgrey\",\"group\":null,\"left_units\":\"screen\",\"level\":\"overlay\",\"line_alpha\":1.0,\"line_color\":\"black\",\"line_dash\":[4,4],\"line_width\":2,\"right_units\":\"screen\",\"syncable\":false,\"top_units\":\"screen\"},\"id\":\"18653\",\"type\":\"BoxAnnotation\"},{\"attributes\":{\"axis_label\":\"Profit / Loss\",\"coordinates\":null,\"formatter\":{\"id\":\"18551\"},\"group\":null,\"major_label_policy\":{\"id\":\"18722\"},\"minor_tick_line_color\":null,\"ticker\":{\"id\":\"18515\"}},\"id\":\"18514\",\"type\":\"LinearAxis\"},{\"attributes\":{},\"id\":\"18323\",\"type\":\"LinearScale\"},{\"attributes\":{\"data\":{\"Close\":{\"__ndarray__\":\"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\",\"dtype\":\"float64\",\"order\":\"little\",\"shape\":[1000]},\"High\":{\"__ndarray__\":\"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\",\"dtype\":\"float64\",\"order\":\"little\",\"shape\":[1000]},\"Low\":{\"__ndarray__\":\"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\",\"dtype\":\"float64\",\"order\":\"little\",\"shape\":[1000]},\"Open\":{\"__ndarray__\":\"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\",\"dtype\":\"float64\",\"order\":\"little\",\"shape\":[1000]},\"SIGNAL_0_1\":[0,0,0,0,0,0,0,0,0,0,0,0,0,0,0,0,0,0,0,0,0,0,0,0,0,0,0,0,0,0,0,0,0,0,0,0,1,0,0,0,0,0,0,0,0,0,0,0,0,0,0,0,0,0,0,0,0,0,0,0,0,0,0,0,0,0,0,0,0,0,0,0,0,0,0,0,0,0,0,0,0,0,0,0,0,0,0,0,0,0,0,0,0,0,0,0,0,0,0,0,0,1,0,0,0,0,0,0,0,0,0,0,0,0,0,0,0,0,0,0,0,0,0,0,0,0,0,0,0,0,0,0,0,0,0,0,0,0,0,0,0,0,0,0,0,0,0,0,0,0,0,0,0,0,0,0,0,0,0,0,0,0,0,0,0,1,0,0,0,0,0,0,0,0,0,0,0,0,0,0,0,0,0,0,0,0,0,0,0,0,0,0,0,0,0,0,0,0,0,0,0,0,0,0,0,0,0,0,0,0,0,0,0,0,0,0,0,0,0,0,0,0,0,0,0,0,0,0,0,0,0,0,0,0,0,0,0,0,0,0,0,0,0,0,0,2,0,0,0,0,0,0,0,0,0,0,0,0,0,0,0,0,0,0,0,0,0,0,0,0,0,0,0,0,0,0,0,0,0,0,0,0,0,0,0,0,0,0,0,0,0,0,0,0,0,0,0,0,0,0,0,0,0,0,0,0,0,0,0,0,0,0,0,0,0,0,0,0,0,0,0,0,0,0,0,0,0,0,0,2,0,0,0,0,0,0,0,0,0,0,0,0,0,0,0,0,0,0,0,0,0,0,0,0,2,0,0,0,0,0,0,0,0,0,0,0,0,0,0,0,0,0,0,0,0,0,0,0,0,0,0,0,0,0,0,0,0,0,1,0,0,0,0,0,0,0,0,0,0,0,0,0,0,0,0,0,0,0,0,0,0,0,0,0,0,0,0,0,0,0,0,0,0,0,0,0,0,0,0,0,0,0,0,0,0,0,0,0,0,0,0,0,0,0,1,0,0,0,0,0,0,0,0,0,0,0,0,0,0,0,0,2,0,0,0,0,0,0,0,0,0,0,0,0,0,0,0,0,0,0,0,0,0,0,0,0,0,0,0,0,0,2,0,0,0,0,0,0,0,0,0,0,0,2,0,0,0,0,0,1,0,0,0,0,0,0,0,0,0,0,0,0,0,0,0,0,0,0,0,0,0,0,0,0,0,0,0,0,0,0,0,0,0,0,0,0,0,0,0,0,0,0,0,0,0,0,0,0,0,0,0,0,0,0,0,0,0,0,0,0,0,0,0,0,0,0,0,0,0,0,0,0,0,0,0,0,0,0,0,0,0,0,0,0,0,0,0,0,0,0,0,0,0,0,0,2,0,0,0,0,0,0,0,0,0,0,0,0,0,0,0,0,0,0,0,0,0,0,1,2,0,0,0,0,0,0,0,0,0,0,0,0,0,0,0,0,0,1,0,0,0,0,0,0,0,0,0,0,0,0,0,0,0,0,0,0,0,0,0,0,0,0,0,0,0,0,0,0,0,0,0,0,0,0,2,0,0,0,0,0,0,0,0,0,0,0,0,0,0,0,0,0,0,0,0,0,0,0,0,0,0,0,0,0,0,0,0,0,0,0,0,0,0,2,0,0,0,0,0,0,0,0,0,0,0,0,0,0,0,0,0,0,0,0,0,0,0,0,0,0,0,0,0,0,0,0,0,0,0,0,0,0,0,0,0,0,0,0,0,0,0,0,1,0,0,0,0,0,0,0,0,0,0,0,0,0,0,0,0,0,0,0,0,0,0,0,0,0,0,0,0,0,0,0,0,0,0,0,0,2,0,0,0,0,0,0,0,0,0,0,0,0,0,0,0,0,0,0,0,0,0,0,0,0,0,0,0,0,0,0,0,1,0,0,0,0,0,0,0,0,0,0,0,0,0,0,0,0,0,2,0,0,0,0,0,0,0,0,0,0,0,0,0,0,0,0,0,0,0,0,2,0,0,0,0,0,0,0,0,0,0,0,0,0,0,0,0,0,0,0,0,0,0,0,0,0,0,0,0,0,0,0,0,0,0,0,0,0,0,0,0,0,0,0,0,0,0,0,0,0,0,0,0,0,0,0,0,0,0,0,0,0,2,0,0,0,0,0,0,0,0,0,0,0,0,0,0,0,0,0,0,0,0,0,0,0,0,0,0,0,0,0,0,0,0,0,0,0,0,0,0,0,0,0,0,0,0,0,0,0,0,0,0,0,0,0,0,0,0,0],\"Volume\":{\"__ndarray__\":\"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\",\"dtype\":\"float64\",\"order\":\"little\",\"shape\":[1000]},\"datetime\":[0,1,2,3,4,5,6,7,8,9,10,11,12,13,14,15,16,17,18,19,20,21,22,23,24,25,26,27,28,29,30,31,32,33,34,35,36,37,38,39,40,41,42,43,44,45,46,47,48,49,50,51,52,53,54,55,56,57,58,59,60,61,62,63,64,65,66,67,68,69,70,71,72,73,74,75,76,77,78,79,80,81,82,83,84,85,86,87,88,89,90,91,92,93,94,95,96,97,98,99,100,101,102,103,104,105,106,107,108,109,110,111,112,113,114,115,116,117,118,119,120,121,122,123,124,125,126,127,128,129,130,131,132,133,134,135,136,137,138,139,140,141,142,143,144,145,146,147,148,149,150,151,152,153,154,155,156,157,158,159,160,161,162,163,164,165,166,167,168,169,170,171,172,173,174,175,176,177,178,179,180,181,182,183,184,185,186,187,188,189,190,191,192,193,194,195,196,197,198,199,200,201,202,203,204,205,206,207,208,209,210,211,212,213,214,215,216,217,218,219,220,221,222,223,224,225,226,227,228,229,230,231,232,233,234,235,236,237,238,239,240,241,242,243,244,245,246,247,248,249,250,251,252,253,254,255,256,257,258,259,260,261,262,263,264,265,266,267,268,269,270,271,272,273,274,275,276,277,278,279,280,281,282,283,284,285,286,287,288,289,290,291,292,293,294,295,296,297,298,299,300,301,302,303,304,305,306,307,308,309,310,311,312,313,314,315,316,317,318,319,320,321,322,323,324,325,326,327,328,329,330,331,332,333,334,335,336,337,338,339,340,341,342,343,344,345,346,347,348,349,350,351,352,353,354,355,356,357,358,359,360,361,362,363,364,365,366,367,368,369,370,371,372,373,374,375,376,377,378,379,380,381,382,383,384,385,386,387,388,389,390,391,392,393,394,395,396,397,398,399,400,401,402,403,404,405,406,407,408,409,410,411,412,413,414,415,416,417,418,419,420,421,422,423,424,425,426,427,428,429,430,431,432,433,434,435,436,437,438,439,440,441,442,443,444,445,446,447,448,449,450,451,452,453,454,455,456,457,458,459,460,461,462,463,464,465,466,467,468,469,470,471,472,473,474,475,476,477,478,479,480,481,482,483,484,485,486,487,488,489,490,491,492,493,494,495,496,497,498,499,500,501,502,503,504,505,506,507,508,509,510,511,512,513,514,515,516,517,518,519,520,521,522,523,524,525,526,527,528,529,530,531,532,533,534,535,536,537,538,539,540,541,542,543,544,545,546,547,548,549,550,551,552,553,554,555,556,557,558,559,560,561,562,563,564,565,566,567,568,569,570,571,572,573,574,575,576,577,578,579,580,581,582,583,584,585,586,587,588,589,590,591,592,593,594,595,596,597,598,599,600,601,602,603,604,605,606,607,608,609,610,611,612,613,614,615,616,617,618,619,620,621,622,623,624,625,626,627,628,629,630,631,632,633,634,635,636,637,638,639,640,641,642,643,644,645,646,647,648,649,650,651,652,653,654,655,656,657,658,659,660,661,662,663,664,665,666,667,668,669,670,671,672,673,674,675,676,677,678,679,680,681,682,683,684,685,686,687,688,689,690,691,692,693,694,695,696,697,698,699,700,701,702,703,704,705,706,707,708,709,710,711,712,713,714,715,716,717,718,719,720,721,722,723,724,725,726,727,728,729,730,731,732,733,734,735,736,737,738,739,740,741,742,743,744,745,746,747,748,749,750,751,752,753,754,755,756,757,758,759,760,761,762,763,764,765,766,767,768,769,770,771,772,773,774,775,776,777,778,779,780,781,782,783,784,785,786,787,788,789,790,791,792,793,794,795,796,797,798,799,800,801,802,803,804,805,806,807,808,809,810,811,812,813,814,815,816,817,818,819,820,821,822,823,824,825,826,827,828,829,830,831,832,833,834,835,836,837,838,839,840,841,842,843,844,845,846,847,848,849,850,851,852,853,854,855,856,857,858,859,860,861,862,863,864,865,866,867,868,869,870,871,872,873,874,875,876,877,878,879,880,881,882,883,884,885,886,887,888,889,890,891,892,893,894,895,896,897,898,899,900,901,902,903,904,905,906,907,908,909,910,911,912,913,914,915,916,917,918,919,920,921,922,923,924,925,926,927,928,929,930,931,932,933,934,935,936,937,938,939,940,941,942,943,944,945,946,947,948,949,950,951,952,953,954,955,956,957,958,959,960,961,962,963,964,965,966,967,968,969,970,971,972,973,974,975,976,977,978,979,980,981,982,983,984,985,986,987,988,989,990,991,992,993,994,995,996,997,998,999],\"equity\":{\"__ndarray__\":\"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\",\"dtype\":\"float64\",\"order\":\"little\",\"shape\":[1000]},\"inc\":[\"0\",\"0\",\"0\",\"1\",\"1\",\"1\",\"1\",\"0\",\"1\",\"1\",\"1\",\"1\",\"0\",\"0\",\"0\",\"1\",\"0\",\"1\",\"0\",\"0\",\"1\",\"1\",\"1\",\"1\",\"1\",\"1\",\"0\",\"0\",\"1\",\"0\",\"1\",\"1\",\"1\",\"0\",\"0\",\"0\",\"0\",\"0\",\"0\",\"1\",\"0\",\"1\",\"1\",\"0\",\"1\",\"0\",\"1\",\"0\",\"0\",\"0\",\"1\",\"1\",\"0\",\"0\",\"1\",\"1\",\"0\",\"1\",\"1\",\"1\",\"1\",\"1\",\"0\",\"0\",\"1\",\"0\",\"0\",\"1\",\"0\",\"1\",\"1\",\"1\",\"1\",\"0\",\"1\",\"0\",\"1\",\"0\",\"0\",\"0\",\"1\",\"1\",\"0\",\"0\",\"0\",\"0\",\"1\",\"1\",\"0\",\"1\",\"0\",\"1\",\"0\",\"1\",\"1\",\"1\",\"0\",\"1\",\"0\",\"1\",\"0\",\"0\",\"0\",\"1\",\"0\",\"0\",\"1\",\"1\",\"0\",\"0\",\"0\",\"1\",\"1\",\"1\",\"1\",\"0\",\"0\",\"0\",\"0\",\"1\",\"1\",\"1\",\"0\",\"1\",\"0\",\"1\",\"1\",\"0\",\"1\",\"1\",\"0\",\"0\",\"1\",\"0\",\"1\",\"1\",\"0\",\"1\",\"0\",\"0\",\"1\",\"1\",\"1\",\"1\",\"0\",\"0\",\"1\",\"0\",\"0\",\"0\",\"1\",\"1\",\"1\",\"0\",\"1\",\"1\",\"0\",\"0\",\"1\",\"0\",\"1\",\"0\",\"0\",\"0\",\"1\",\"1\",\"1\",\"1\",\"0\",\"1\",\"1\",\"1\",\"0\",\"1\",\"0\",\"1\",\"0\",\"1\",\"0\",\"1\",\"1\",\"1\",\"0\",\"1\",\"0\",\"0\",\"0\",\"0\",\"1\",\"0\",\"0\",\"1\",\"0\",\"0\",\"1\",\"0\",\"0\",\"1\",\"0\",\"0\",\"0\",\"1\",\"1\",\"1\",\"1\",\"0\",\"1\",\"0\",\"0\",\"0\",\"0\",\"0\",\"1\",\"0\",\"0\",\"1\",\"0\",\"0\",\"1\",\"0\",\"1\",\"0\",\"1\",\"0\",\"1\",\"1\",\"1\",\"1\",\"0\",\"0\",\"1\",\"0\",\"0\",\"0\",\"0\",\"1\",\"1\",\"0\",\"1\",\"0\",\"1\",\"0\",\"1\",\"1\",\"0\",\"1\",\"1\",\"1\",\"0\",\"1\",\"1\",\"1\",\"0\",\"0\",\"0\",\"0\",\"1\",\"0\",\"1\",\"0\",\"0\",\"0\",\"0\",\"1\",\"0\",\"0\",\"0\",\"1\",\"0\",\"1\",\"0\",\"0\",\"0\",\"0\",\"0\",\"0\",\"0\",\"0\",\"1\",\"0\",\"1\",\"0\",\"1\",\"0\",\"1\",\"1\",\"1\",\"0\",\"1\",\"0\",\"1\",\"1\",\"0\",\"1\",\"1\",\"0\",\"0\",\"1\",\"0\",\"1\",\"0\",\"0\",\"0\",\"0\",\"1\",\"1\",\"0\",\"0\",\"0\",\"1\",\"1\",\"0\",\"0\",\"0\",\"1\",\"0\",\"1\",\"1\",\"0\",\"1\",\"1\",\"1\",\"1\",\"0\",\"1\",\"1\",\"0\",\"0\",\"0\",\"1\",\"1\",\"0\",\"1\",\"0\",\"1\",\"1\",\"1\",\"0\",\"0\",\"1\",\"0\",\"0\",\"1\",\"0\",\"1\",\"1\",\"1\",\"1\",\"0\",\"0\",\"0\",\"1\",\"0\",\"0\",\"1\",\"0\",\"1\",\"1\",\"0\",\"1\",\"0\",\"0\",\"0\",\"1\",\"0\",\"1\",\"0\",\"0\",\"1\",\"1\",\"0\",\"0\",\"0\",\"0\",\"0\",\"1\",\"0\",\"0\",\"0\",\"1\",\"0\",\"0\",\"0\",\"0\",\"1\",\"0\",\"1\",\"0\",\"1\",\"1\",\"1\",\"0\",\"1\",\"1\",\"1\",\"1\",\"0\",\"0\",\"1\",\"0\",\"0\",\"1\",\"1\",\"0\",\"1\",\"0\",\"0\",\"1\",\"0\",\"1\",\"0\",\"1\",\"1\",\"1\",\"0\",\"0\",\"0\",\"0\",\"0\",\"0\",\"1\",\"0\",\"1\",\"0\",\"1\",\"1\",\"0\",\"0\",\"1\",\"1\",\"0\",\"1\",\"0\",\"0\",\"0\",\"0\",\"1\",\"1\",\"1\",\"1\",\"0\",\"1\",\"0\",\"0\",\"1\",\"0\",\"0\",\"1\",\"1\",\"0\",\"1\",\"0\",\"0\",\"0\",\"0\",\"0\",\"1\",\"0\",\"0\",\"0\",\"0\",\"1\",\"1\",\"0\",\"0\",\"1\",\"1\",\"0\",\"1\",\"0\",\"0\",\"0\",\"0\",\"0\",\"0\",\"1\",\"1\",\"0\",\"0\",\"1\",\"0\",\"1\",\"0\",\"1\",\"0\",\"0\",\"1\",\"0\",\"1\",\"1\",\"0\",\"1\",\"0\",\"1\",\"0\",\"1\",\"1\",\"0\",\"0\",\"0\",\"0\",\"1\",\"0\",\"1\",\"0\",\"1\",\"0\",\"1\",\"1\",\"1\",\"1\",\"0\",\"1\",\"0\",\"0\",\"0\",\"1\",\"0\",\"0\",\"0\",\"0\",\"1\",\"0\",\"0\",\"1\",\"1\",\"0\",\"1\",\"0\",\"0\",\"1\",\"1\",\"1\",\"1\",\"1\",\"0\",\"1\",\"0\",\"0\",\"1\",\"1\",\"0\",\"0\",\"0\",\"0\",\"1\",\"0\",\"0\",\"1\",\"1\",\"1\",\"1\",\"1\",\"0\",\"0\",\"0\",\"1\",\"0\",\"1\",\"0\",\"1\",\"1\",\"0\",\"1\",\"1\",\"0\",\"0\",\"0\",\"1\",\"1\",\"0\",\"0\",\"1\",\"0\",\"0\",\"1\",\"0\",\"1\",\"1\",\"0\",\"0\",\"0\",\"1\",\"0\",\"0\",\"1\",\"1\",\"1\",\"1\",\"0\",\"0\",\"1\",\"1\",\"0\",\"0\",\"0\",\"1\",\"1\",\"1\",\"1\",\"1\",\"1\",\"1\",\"1\",\"0\",\"1\",\"0\",\"1\",\"1\",\"1\",\"0\",\"1\",\"0\",\"0\",\"1\",\"1\",\"0\",\"1\",\"1\",\"0\",\"0\",\"1\",\"0\",\"1\",\"0\",\"0\",\"0\",\"0\",\"0\",\"1\",\"0\",\"0\",\"0\",\"0\",\"1\",\"1\",\"1\",\"1\",\"1\",\"1\",\"1\",\"0\",\"0\",\"1\",\"0\",\"1\",\"0\",\"1\",\"1\",\"1\",\"1\",\"0\",\"0\",\"1\",\"1\",\"0\",\"1\",\"1\",\"0\",\"0\",\"1\",\"1\",\"0\",\"1\",\"1\",\"1\",\"0\",\"0\",\"1\",\"1\",\"0\",\"1\",\"0\",\"1\",\"1\",\"1\",\"0\",\"1\",\"1\",\"1\",\"0\",\"1\",\"0\",\"0\",\"1\",\"0\",\"1\",\"0\",\"1\",\"0\",\"0\",\"0\",\"0\",\"0\",\"1\",\"0\",\"1\",\"0\",\"0\",\"1\",\"1\",\"1\",\"0\",\"0\",\"0\",\"0\",\"0\",\"1\",\"0\",\"0\",\"1\",\"0\",\"1\",\"0\",\"0\",\"1\",\"1\",\"0\",\"0\",\"1\",\"1\",\"0\",\"0\",\"1\",\"0\",\"1\",\"0\",\"0\",\"1\",\"1\",\"1\",\"1\",\"0\",\"0\",\"1\",\"1\",\"1\",\"1\",\"1\",\"1\",\"0\",\"0\",\"0\",\"0\",\"1\",\"1\",\"1\",\"0\",\"1\",\"1\",\"0\",\"0\",\"0\",\"1\",\"0\",\"1\",\"0\",\"0\",\"1\",\"1\",\"0\",\"1\",\"0\",\"1\",\"1\",\"1\",\"0\",\"0\",\"0\",\"1\",\"1\",\"0\",\"1\",\"0\",\"0\",\"0\",\"0\",\"1\",\"1\",\"0\",\"0\",\"0\",\"1\",\"1\",\"1\",\"0\",\"0\",\"0\",\"1\",\"1\",\"1\",\"1\",\"0\",\"0\",\"1\",\"0\",\"0\",\"1\",\"0\",\"0\",\"1\",\"1\",\"0\",\"1\",\"1\",\"1\",\"0\",\"1\",\"0\",\"1\",\"1\",\"1\",\"0\",\"0\",\"0\",\"1\",\"0\",\"0\",\"1\",\"1\",\"1\",\"1\",\"1\",\"1\",\"1\",\"1\",\"1\",\"1\",\"0\",\"1\",\"1\",\"1\",\"1\",\"0\",\"1\",\"1\",\"1\",\"0\",\"0\",\"1\",\"1\",\"1\",\"0\",\"1\",\"0\",\"0\",\"1\",\"1\",\"1\",\"0\",\"1\",\"1\",\"1\",\"0\",\"1\",\"0\",\"0\",\"0\",\"0\",\"1\",\"0\",\"1\",\"1\",\"0\",\"1\",\"0\",\"0\",\"0\",\"1\",\"1\",\"1\",\"1\",\"0\",\"0\",\"1\",\"0\",\"1\",\"1\",\"1\",\"0\",\"1\",\"0\",\"0\",\"1\",\"1\",\"1\",\"0\",\"1\",\"1\",\"0\",\"1\",\"0\",\"0\",\"1\",\"1\",\"1\",\"1\",\"1\",\"1\",\"0\",\"1\",\"1\",\"0\",\"0\",\"1\",\"0\",\"1\",\"0\",\"1\",\"0\",\"1\",\"1\",\"0\",\"1\",\"0\",\"1\",\"0\",\"0\",\"1\",\"1\",\"0\",\"1\",\"1\",\"0\",\"0\",\"0\",\"1\",\"0\",\"1\",\"1\",\"1\",\"0\",\"0\",\"1\",\"1\",\"0\",\"0\",\"1\",\"1\",\"1\",\"0\",\"0\",\"1\",\"0\",\"0\",\"0\",\"1\",\"0\",\"0\",\"0\",\"0\",\"0\",\"0\",\"1\",\"1\",\"0\",\"1\",\"1\",\"0\",\"1\",\"0\",\"1\",\"1\",\"1\",\"1\",\"1\",\"1\",\"0\",\"1\",\"1\",\"0\",\"0\",\"1\",\"0\",\"1\",\"1\",\"1\",\"1\",\"1\",\"0\",\"1\",\"1\",\"0\",\"1\",\"1\",\"0\",\"1\",\"1\",\"0\",\"0\",\"0\",\"0\",\"1\",\"1\",\"0\",\"0\",\"0\",\"1\",\"1\",\"1\"],\"index\":[0,1,2,3,4,5,6,7,8,9,10,11,12,13,14,15,16,17,18,19,20,21,22,23,24,25,26,27,28,29,30,31,32,33,34,35,36,37,38,39,40,41,42,43,44,45,46,47,48,49,50,51,52,53,54,55,56,57,58,59,60,61,62,63,64,65,66,67,68,69,70,71,72,73,74,75,76,77,78,79,80,81,82,83,84,85,86,87,88,89,90,91,92,93,94,95,96,97,98,99,100,101,102,103,104,105,106,107,108,109,110,111,112,113,114,115,116,117,118,119,120,121,122,123,124,125,126,127,128,129,130,131,132,133,134,135,136,137,138,139,140,141,142,143,144,145,146,147,148,149,150,151,152,153,154,155,156,157,158,159,160,161,162,163,164,165,166,167,168,169,170,171,172,173,174,175,176,177,178,179,180,181,182,183,184,185,186,187,188,189,190,191,192,193,194,195,196,197,198,199,200,201,202,203,204,205,206,207,208,209,210,211,212,213,214,215,216,217,218,219,220,221,222,223,224,225,226,227,228,229,230,231,232,233,234,235,236,237,238,239,240,241,242,243,244,245,246,247,248,249,250,251,252,253,254,255,256,257,258,259,260,261,262,263,264,265,266,267,268,269,270,271,272,273,274,275,276,277,278,279,280,281,282,283,284,285,286,287,288,289,290,291,292,293,294,295,296,297,298,299,300,301,302,303,304,305,306,307,308,309,310,311,312,313,314,315,316,317,318,319,320,321,322,323,324,325,326,327,328,329,330,331,332,333,334,335,336,337,338,339,340,341,342,343,344,345,346,347,348,349,350,351,352,353,354,355,356,357,358,359,360,361,362,363,364,365,366,367,368,369,370,371,372,373,374,375,376,377,378,379,380,381,382,383,384,385,386,387,388,389,390,391,392,393,394,395,396,397,398,399,400,401,402,403,404,405,406,407,408,409,410,411,412,413,414,415,416,417,418,419,420,421,422,423,424,425,426,427,428,429,430,431,432,433,434,435,436,437,438,439,440,441,442,443,444,445,446,447,448,449,450,451,452,453,454,455,456,457,458,459,460,461,462,463,464,465,466,467,468,469,470,471,472,473,474,475,476,477,478,479,480,481,482,483,484,485,486,487,488,489,490,491,492,493,494,495,496,497,498,499,500,501,502,503,504,505,506,507,508,509,510,511,512,513,514,515,516,517,518,519,520,521,522,523,524,525,526,527,528,529,530,531,532,533,534,535,536,537,538,539,540,541,542,543,544,545,546,547,548,549,550,551,552,553,554,555,556,557,558,559,560,561,562,563,564,565,566,567,568,569,570,571,572,573,574,575,576,577,578,579,580,581,582,583,584,585,586,587,588,589,590,591,592,593,594,595,596,597,598,599,600,601,602,603,604,605,606,607,608,609,610,611,612,613,614,615,616,617,618,619,620,621,622,623,624,625,626,627,628,629,630,631,632,633,634,635,636,637,638,639,640,641,642,643,644,645,646,647,648,649,650,651,652,653,654,655,656,657,658,659,660,661,662,663,664,665,666,667,668,669,670,671,672,673,674,675,676,677,678,679,680,681,682,683,684,685,686,687,688,689,690,691,692,693,694,695,696,697,698,699,700,701,702,703,704,705,706,707,708,709,710,711,712,713,714,715,716,717,718,719,720,721,722,723,724,725,726,727,728,729,730,731,732,733,734,735,736,737,738,739,740,741,742,743,744,745,746,747,748,749,750,751,752,753,754,755,756,757,758,759,760,761,762,763,764,765,766,767,768,769,770,771,772,773,774,775,776,777,778,779,780,781,782,783,784,785,786,787,788,789,790,791,792,793,794,795,796,797,798,799,800,801,802,803,804,805,806,807,808,809,810,811,812,813,814,815,816,817,818,819,820,821,822,823,824,825,826,827,828,829,830,831,832,833,834,835,836,837,838,839,840,841,842,843,844,845,846,847,848,849,850,851,852,853,854,855,856,857,858,859,860,861,862,863,864,865,866,867,868,869,870,871,872,873,874,875,876,877,878,879,880,881,882,883,884,885,886,887,888,889,890,891,892,893,894,895,896,897,898,899,900,901,902,903,904,905,906,907,908,909,910,911,912,913,914,915,916,917,918,919,920,921,922,923,924,925,926,927,928,929,930,931,932,933,934,935,936,937,938,939,940,941,942,943,944,945,946,947,948,949,950,951,952,953,954,955,956,957,958,959,960,961,962,963,964,965,966,967,968,969,970,971,972,973,974,975,976,977,978,979,980,981,982,983,984,985,986,987,988,989,990,991,992,993,994,995,996,997,998,999],\"ohlc_high\":{\"__ndarray__\":\"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\",\"dtype\":\"float64\",\"order\":\"little\",\"shape\":[1000]},\"ohlc_low\":{\"__ndarray__\":\"p7OTwVHy8T+uu3mqQ+7xPz9XW7G/7PE/r+sX7Ibt8T+pE9BE2PDxP7x5qkNuBvI/0LhwICQL8j/udygK9AnyP7ahYpy/CfI/lfHvMy4c8j9FZFjFGxnyPxdlNsgkI/I/v30dOGdE8j/njCjtDT7yP7bWFwltOfI/3J212y408j85tMh2vh/yP1FrmnecIvI/vW987Zkl8j8lXTP5ZhvyP6Ghf4KLFfI/58b0hCUe8j/XNO84RUfyP4p2FVJ+UvI/Xb9gN2xb8j8BamrZWl/yP80jfzDwXPI/d9Zuu9Bc8j8H0zB8REzyP1ovhnKiXfI/avZAKzBk8j/ReY1donryP3icoiO5fPI/NnaJ6q2B8j8wL8A+OnXyP9mxEYjXdfI/Q+c1dolq8j8QejarPlfyP+viNhrAW/I/F/GdmPVi8j/92Y8UkWHyPxNhw9MrZfI/QbeXNEZr8j+ppE5AE2HyP7ecS3FVWfI/PwCpTZxc8j+zJEBNLVvyP1DHYwYqY/I/t5xLcVVZ8j+DL0ymCkbyPw7bFmU2SPI/+grSjEVT8j/qW+Z0WUzyP0+Srpl8M/I//+xHisgw8j9/MPDcezjyP58fRgiPNvI/duCcEaU98j/Jq3MMyF7yP6jjMQOVcfI/Cf63kh2b8j9Ke4MvTKbyP+4ljdE6qvI/EY3uIHam8j8lXTP5ZpvyPw6+MJkqmPI/KNU+HY+Z8j/shm2LMpvyP2oTJ/c7lPI/VryReeSP8j+WCb/Uz5vyP+YF2EenrvI/D7QCQ1a38j/q7GRwlLzyP0dy+Q/pt/I/dVlMbD6u8j+bOLnfoajyPyb8Uj9vqvI/7/54r1qZ8j/Tn/1IEZnyP9cXCW05l/I/3V7SGK2j8j+UMNP2r6zyP6hXyjLEsfI/r1+wG7at8j9gArfu5qnyPwqd19glqvI/rp6T3je+8j+iXYWUn9TyPwmKH2Pu2vI/L8A+OnXl8j/eAgmKH+PyP3L+JhQi4PI/bCbfbHPj8j+k5NU5BuTyPw3gLZCg+PI/pFNXPsvz8j8JUFPL1vryPw2Jeyx96PI/qDrkZrgB8z9Mjjulg/XyP3qNXaJ66/I/FHmSdM3k8j9nfjUHCObyP6gd/pqs0fI/mC8vwD668j+xFp8CYLzyP41/n3HhwPI/8DMuHAjJ8j/arPpcbcXyP2GJB5RNufI/220Xmuu08j9+b9Of/cjyPz9vKlJh7PI/bkxPWOIB8z8+rg0V4/zyPzS/mgME8/I/SKeufJbn8j+1/SsrTcryP5BOXfksz/I/ol2FlJ/U8j8lI2dhT7vyP03bv7LSpPI/0sYRa/Gp8j/RrkLKT6ryP4EJ3Lqbp/I/uHU3T3XI8j/0wwjh0cbyP8P1KFyPwvI/0oxF09nJ8j+Uh4Va07zyPzMzMzMzs/I/D7QCQ1a38j+P39v0Z7/yPz4ipkQSvfI/JAuYwK278j8VdHtJY7TyP7LXuz/eq/I/f8Fu2Lao8j/pJjEIrJzyPwn+t5Idm/I/qTC2EOSg8j8QXVDfMqfyP4MvTKYKxvI/H2gFhqzu8j/nqQ65Ge7yP+jZrPpc7fI/YtaLoZzo8j+AZaVJKejyP/2k2qfjsfI/MzMzMzOz8j8zG2SSkbPyPxGN7iB2pvI/lnhA2ZSr8j8cfGEyVbDyPxzr4jYawPI/WDm0yHa+8j/tZHCUvLryP3pwd9Zuu/I/ZQETuHW38j/aVUj5SbXyP0D7kSIyrPI/QPuRIjKs8j/uJY3ROqryP56Y9WIop/I/kKD4Meau8j+cpzrkZrjyP7ddaK7TyPI/DcNHxJTI8j9o0NA/wcXyP+8bX3tmyfI/6StIMxbN8j8Sg8DKocXyP7a+SGjLufI/6lvmdFnM8j//ykqTUtDyP3UfgNQmzvI/42vPLAnQ8j8QI4RHG8fyP/TDCOHRxvI/CeHRxhHr8j+WW1oNifvyP8u5FFeV/fI/fnTqymf58j/ReY1dovryP5S8OseA7PI/RBfUt8zp8j/XEvJBz+byP5hMFYxK6vI/ttsuNNfp8j9cj8L1KNzyP4f+CS5W1PI/QDBHj9/b8j/0GrtE9dbyP7xcxHdi1vI/uHU3T3XI8j/3zJIANbXyP4wQHm0csfI/8Z2Y9WKo8j/KplzhXa7yP7jpz36kiPI/GCZTBaOS8j9qEyf3O5TyP7XgRV9BmvI/kKD4Meau8j+6TiMtlbfyPyU7NgLxuvI/yqZc4V2u8j+QSUbOwp7yP8iYu5aQj/I/XoWUn1R78j8Vb2Qe+YPyP/KwUGuad/I/A2A8g4Z+8j8C8bp+wW7yP2GOHr+3afI/hXzQs1l18j8RcAhVanbyP5+T3je+dvI/TwZHyatz8j/ZsRGI13XyP/phhPBoY/I/d9Zuu9Bc8j/Co40j1mLyP4ZVvJF5ZPI/at5xio5k8j+22y4012nyP6IL6lvmdPI/PSe9b3xt8j/JAiZw627yP3cVUn5SbfI/OkAwR49f8j9eaK7TSEvyPxKDwMqhRfI/bHh6pSxD8j+KH2PuWkLyP4MXfQVpRvI/5BQdyeU/8j8gY+5aQj7yP5NvtrkxPfI/HNMTlnhA8j82AvG6fkHyP9481SE3Q/I/86s5QDBH8j+xFp8CYDzyPxJr8SkARvI/l8XE5uNa8j+BlUOLbGfyPyeIug9AavI/Rl9BmrFo8j9V3o5wWnDyP1Ou8C4XcfI/Pq4NFeN88j8/xty1hHzyP0pGzsKedvI/Vd6OcFpw8j8b2CrB4nDyPyoAxjNoaPI/RBfUt8xp8j/lYaHWNG/yP+s56X3ja/I/0LNZ9bla8j8JM23/ykryP8bE5uPaUPI/CFqBIatb8j/L8+DurF3yP2b35GGhVvI/ol2FlJ9U8j/bM0sC1FTyP+I7MevFUPI/5fIf0m9f8j8vaYzWUVXyPzQRNjy9UvI/NgLxun5B8j9G09nJ4CjyPwCuZMdGIPI/tvgUAOMZ8j8qHaz/cxjyP0jElEiiF/I/f2q8dJMY8j+gMv59xgXyP00tW+uLBPI/pMLYQpAD8j8tlbcjnBbyP/W+8bVnFvI/RWRYxRsZ8j+yaDo7GRzyPw6+MJkqGPI/KNU+HY8Z8j/iBnx+GCHyP0Mc6+I2GvI/4zYawFsg8j+c4QZ8fhjyP7AgzVg0HfI//tR46SYx8j+H+fIC7CPyP6UxWkdVE/I/KQXdXtIY8j+/SGjLuRTyPwq/1M+bCvI/w/ARMSUS8j/ZCMTr+gXyP6FKzR5oBfI/IjfDDfj88T9UHXIz3ADyP5pC5zV2CfI/LSY2H9cG8j+BQ6hSswfyP8bhzK/mAPI/xLEubqMB8j+2uTE9YQnyP4NMMnIW9vE/fa62Yn/Z8T+sxacAGM/xP2RYxRuZx/E/lj50QX3L8T94l4v4TszxPwa7YduizPE/pOTVOQbk8T/MejGUE+3xP86qz9VW7PE/k4ychT3t8T/B4nDmV/PxP2E3bFuU2fE/tVTejnDa8T9D/wQXK+rxPxh47j1c8vE/FQDjGTT08T/eAgmKH+PxPzkoYabt3/E/8piByvj38T94tHHEWvzxP8JR8uocA/I/GedvQiEC8j9PXfkszwPyPxL3WPrQBfI/W+uLhLYc8j9yio7k8h/yP9cv2A3bFvI/tvgUAOMZ8j+BIatbPSfyP7JoOjsZHPI/C0YldQIa8j/RV5BmLBryPwaeew+XHPI/t5c0Ruso8j/9vKlIhTHyP135LM+DO/I/9UpZhjhW8j9e1y/YDVvyP7jkuFM6WPI/7kJznUZa8j8oSddMvlnyP7vVc9L7RvI/1eyBVmBI8j/2evfHe1XyP09AE2HDU/I/AOMZNPRP8j/xun7BbljyPzrpfeNrT/I/Su8bX3tm8j9BSBYwgVvyP/LqHAOyV/I/+dozSwJU8j/7OnDOiFLyP+0qpPykWvI//yH99nVg8j+tNCkF3V7yP5MdG4F4XfI/FHmSdM1k8j8RqtTsgVbyP8NkqmBUUvI/FmpN845T8j9+b9Of/UjyP83MzMzMTPI/nUZaKm9H8j+xFp8CYDzyP32R0JZzKfI/bcoV3uUi8j8WNZiG4SPyP8R3YtaLIfI/JXUCmggb8j+sOUAwRw/yPzAvwD469fE/2bERiNf18T+gw3x5AfbxP02+2ebG9PE/VACMZ9DQ8T+Dhv4JLtbxP+F6FK5H4fE/JJf/kH778T9pjNZR1QTyP/onuFhRA/I/FW9kHvkD8j+p2QOtwBDyPxb2tMNfE/I/93XgnBEl8j8U7Sqk/CTyP/Utc7osJvI/SWO0jqom8j9HrMWnABjyP4LK+PcZF/I/iUFg5dAi8j++3v3xXjXyP0m6ZvLNNvI/mC8vwD468j8hPNo4Yi3yP9GuQspPKvI/5pZWQ+Ie8j+O6QlLPCDyP5J55A8GHvI/XBsqxvkb8j+g4GJFDSbyP+utga0SLPI/ICQLmMAt8j9cWg2JeyzyP5sg6j4AKfI/Ad4CCYof8j8urYbEPRbyP5DaxMn9DvI/HLYtymwQ8j/r/xzmywvyPy5W1GAaBvI/LSY2H9cG8j/aOGItPgXyPyjVPh2PGfI/SBtHrMUn8j9/wW7YtijyPw39E1ysKPI/SDMWTWcn8j+vsUtUbw3yPwZHyatzDPI/mPp5U5EK8j+iemtgqwTyP6uy74rg//E/3lm77ULz8T9BDkqYafvxP3Gsi9toAPI/oImw4ekV8j/XFwltORfyP10z+WabG/I/RnwnZr0Y8j9yxFp8CgDyP0yOO6WD9fE/12mkpfL28T/gEKrU7AHyP7GKNzKP/PE/65Cb4Qb88T9a9bnaiv3xPzxmoDL+/fE/zQGCOXr88T/vIHam0PnxP91B7Eyh8/E/NQcI5ujx8T+1bK0vEtrxP0DBxYoazPE/GyrG+ZvQ8T/JPPIHA8/xP5vmHafoyPE/YFlpUgq68T+rz9VW7K/xP6c/+5EisvE/t0WZDTLJ8T9jKCfaVcjxP5D3qpUJv/E/wa27earD8T/SHcTOFLrxP99sc2N6wvE/VKnZA63A8T8HfH4YIbzxP0PiHksfuvE/Fva0w1+T8T86XRYTm4/xP+C593DJcfE/ChFwCFVq8T+5wrtcxHfxP5sb0xOWePE/kBSRYRVv8T9ubkxPWGLxP4NuL2mMVvE/acai6exk8T9AMEeP31vxP1RXPsvzYPE/xOv6Bbth8T9GX0GasWjxP3x+GCE8WvE/cy7FVWVf8T/XNO84RUfxPxnKiXYVUvE/9Bq7RPVW8T8wKqkT0ETxPyWS6GUUS/E/XHfzVIdc8T+XrfVFQlvxP00QdR+AVPE/EHo2qz5X8T9EF9S3zGnxPyVYHM78avE//Knx0k1i8T/woq8gzVjxP5tVn6utWPE/8uocA7JX8T9dUN8yp0vxP4EmwoanV/E/GlHaG3xh8T/X+iKhLWfxP93SakjcY/E/vyuC/61k8T+0q5Dyk2rxP1Zl3xXBf/E/YoTwaOOI8T8Ab4EExY/xP5M6AU2EjfE/BRcrajCN8T8S91j60IXxP/Q3oRABh/E/8u8zLhyI8T9z9Pi9TX/xP0D2evfHe/E/yatzDMhe8T/4wmSqYFTxP5kNMsnIWfE/KSLDKt5I8T+YLy/APjrxP7k2VIzzN/E/7pQO1v858T/LLa2GxD3xP6jGSzeJQfE/+KqVCb9U8T+1/SsrTUrxP3UfgNQmTvE/Oul942tP8T/PLAlQU0vxP3V2MjhKXvE//Bhz1xJy8T9h/Z/DfHnxP3xETIkkevE/BthHp6588T8QQGoTJ3fxPyntDb4wmfE/si5uowG88T9D4h5LH7rxP/IMGvonuPE/dVlMbD6u8T9cWg2Je6zxP8O2RZkNsvE/w552+Guy8T9XsmMjEK/xP3CxogbTsPE/XhH8byW78T/D9Shcj8LxP4JWYMjq1vE/wvo/h/ny8T+LbOf7qfHxP1Ou8C4X8fE/hlW8kXnk8T8kufyH9NvxP1a3ek563/E/pkQSvYzi8T/ikuNO6eDxP2r2QCsw5PE/7FG4HoXr8T/ZWl8ktOXxP7e0GhL32PE/p3Sw/s/h8T8YCW05l+LxPxfxnZj14vE/Wi+GcqLd8T9wd9Zuu9DxP+3w12SN+vE/CI82jlgL8j9UNUHUfQDyP/Mf0m9fB/I/eLRxxFr88T857pQO1v/xP/Z/DvPlBfI/7ncoCvQJ8j9hbCHIQQnyP8mwijcyD/I/tTLhl/r58T8dOGdEae/xP3x+GCE82vE/uMzpspjY8T/3ksZoHdXxP9xLGqN11PE/bhea6zTS8T+5/If029fxP1luaTUk7vE/Ja/OMSD78T+5GW7A5wfyP4S7s3bbBfI/wlHy6hwD8j8aFw6EZAHyPy7nUlxV9vE/08H6P4f58T+XcymuKvvxP3i0ccRa/PE/QQ5KmGn78T+9qUiFsQXyP5DaxMn9DvI/fXkB9tEp8j/ye5v+7EfyP2L4iJgSSfI/wt1Zu+1C8j8h6j4AqU3yP64NFeP8TfI/Tfilft5U8j8Wak3zjlPyP7tE9dbAVvI/Vkj5SbVP8j/6CtKMRVPyP1K4HoXrUfI/QMHFihpM8j9/h6JAn0jyP3UfgNQmTvI/1NSytb5I8j+m1ZC4x1LyP3h/vFetTPI/1ouhnGhX8j96Nqs+V1vyPwvSjEXTWfI/95LGaB1V8j8Jih9j7lryP5612y40V/I/r5RliGNd8j+dhT3t8FfyP7jkuFM6WPI/gT6RJ0lX8j+uDRXj/E3yP3QHsTOFTvI/iC6ob5lT8j/H9IQlHlDyP0RRoE/kSfI/CcTr+gU78j89CtejcD3yP50ui4nNR/I/T3XIzXCD8j+IY13cRoPyPwBvgQTFj/I/u7iNBvCW8j9sskY9RKPyP3mSdM3km/I/LH3ogvqW8j/iHksfuqDyP7PviuB/q/I/vodLjjul8j/WVuwvu6fyPyqMLQQ5qPI/cuFASBaw8j9fQZqxaLryP4/f2/Rnv/I/sRafAmC88j+TGARWDq3yP2Ni83FtqPI/AU2EDU+v8j/NHmgFhqzyP45AvK5fsPI/NEsC1NSy8j8urYbEPZbyP1jFG5lHfvI/exSuR+F68j9YxRuZR37yP3rkDwaee/I/a32R0JZz8j+l2qfjMYPyP9un4zEDlfI/vvbMkgC18j+5NlSM87fyP57vp8ZLt/I/s14M5US78j//snvysNDyP0DZlCu8y/I/5+PaUDHO8j9xj6UPXdDyP9jTDn9N1vI/SYCaWrbW8j+/1M+bitTyP9RDNLqD2PI/Birj32fc8j/4GRcOhOTyP0LPZtXn6vI/QbeXNEbr8j/9E1ysqMHyP6hXyjLEsfI/a/EpAMaz8j8c6+I2GsDyPwd8fhghvPI/fgBSmzi58j/GbTSAt8DyP2Svd3+81/I/5zqNtFTe8j82yCQjZ+HyP3ke3J212/I/g1FJnYCm8j/bFmU2yKTyP8zuycNCrfI/ATW1bK2v8j+u2F92T57yPxpuwOeHkfI/uRluwOeH8j+GWtO845TyP7A4nPnVnPI/IqtbPSe98j8eG4F4Xb/yP0mil1Est/I/xM4UOq+x8j/PoKF/govyP0BNLVvri/I/Ek4LXvSV8j/eH+9VK5PyP6QZi6azk/I/aqSl8naE8j8e/pqsUY/yP0oMAiuHlvI/gVt381SH8j+HM7+aA4TyP2O0jqomiPI/qDrkZriB8j94nKIjuXzyPwcI5ujxe/I/uYjvxKyX8j8BTYQNT6/yP6sJou4DkPI/+Db92Y+U8j9uizIbZJLyPxNm2v6VlfI/tMh2vp+a8j8urYbEPZbyP0LsTKHzmvI/CRaHM7+a8j/1vvG1Z5byP/1NKETAofI/36Y/+5Gi8j9tyhXe5aLyP/iNrz2zpPI/7j1cctyp8j9BKzBkdavyP33Qs1n1ufI/rUz4pX7e8j+Qvd798d7yPxbB/1ay4/I/qwSLw5nf8j++vAD76NTyP+WbbW5Mz/I/4Nv0Zz/S8j8mAWpq2dryPzI4Sl6d4/I/aVch5SfV8j+pTZzc79DyP25uTE9Y4vI/Sphp+1fW8j9RoE/kSdLyP+Qs7GmHv/I/ox6i0R3E8j+/ZU6XxcTyP/mDgefew/I/odY07zjF8j9+AFKbOLnyP2O5pdWQuPI/uB6F61G48j+emPViKKfyP5eo3hrYqvI/9kVCW86l8j/WVuwvu6fyPwFNhA1Pr/I/wVYJFoez8j+r56T3ja/yP5VgcTjzq/I/8+UF2Een8j9JY7SOqqbyPxBdUN8yp/I/K6T8pNqn8j8FxY8xd63yP7KACdy6m/I/oImw4emV8j+Iug9AapPyP6UxWkdVk/I/NbVsrS+S8j8W9rTDX5PyP0mdgCbChvI/VU0QdR+A8j82donqrYHyP6ciFcYWgvI/qpog6j6A8j/caABvgYTyP2IQWDm0SPI/V3iXi/hO8j93Z+22C03yP5wWvOgrSPI/eJeL+E5M8j+m1ZC4x1LyP2Svd3+8V/I/GmmpvB1h8j8r2bERiFfyP+5aQj7oWfI/y4Rf6udN8j907+GS407yP/vL7snDQvI/9zsUBfpE8j9NofMau0TyP55eKcsQR/I/Xmiu00hL8j+bj2tDxTjyP+xMofMaO/I/rp6T3jc+8j/IzXADPj/yP+P8TShEQPI/4IRCBBxC8j/bheY6jTTyP4PAyqFFNvI/LWACt+5m8j9q9kArMGTyP0PnNXaJavI//wkuVtRg8j+4zOmymFjyP1x381SHXPI/uiwmNh9X8j+sxacAGE/yP3/eVKTCWPI/+vIC7KNT8j/k2lAxzl/yP4rlllZDYvI/2CrB4nBm8j+6awn5oGfyP5FEL6NYbvI/6Ugu/yF98j8xthDkoITyP5fiqrLvivI/fSJPkq6Z8j8LXvQVpJnyP+aWVkPinvI/yR8MPPee8j+xv+yePKzyP6OvIM1YtPI/Sbpm8s228j8WE5uPa8PyP+8bX3tmyfI/FCLgEKrU8j/arPpcbcXyPy7iOzHrxfI/m+Ydp+jI8j8PYmcKndfyP85THXIz3PI/g4b+CS7W8j/nUlxV9t3yP4ofY+5awvI/MBLaci7F8j/2C3bDtsXyP4qO5PIf0vI/rg0V4/zN8j8Sa/EpAMbyPxPyQc9m1fI/Y7SOqiYI8z8jFcYWghzzPwtGJXUCGvM/VwT/W8kO8z9ihPBo4wjzPzHO34RCBPM/c/T4vU3/8j+uEiwOZ/7yP9RgGoaPCPM/Rz1EozsI8z9BZfz7jAvzP8AhVKnZA/M/wmnBi74C8z+Kk/sdigLzP//PYb68APM/Uu3T8ZgB8z+4kh0bgfjyP5tattYXCfM/d9uF5joN8z9ClZo90ArzP9HoDmJnCvM/Rdjw9ErZ8j/woq8gzdjyP6yt2F92z/I/qn06HjPQ8j9yp3Sw/s/yP4JWYMjq1vI/vrwA++jU8j89YYkHlM3yPxU6r7FL1PI/uhRXlX3X8j9qh78ma9TyP+dSXFX23fI/j6UPXVDf8j8e4bTgRd/yPxfZzvdT4/I/4q/JGvUQ8z+LGkzD8BHzPxzO/GoOEPM/ujE9YYkH8z8Rx7q4jQbzP/onuFhRA/M/v/G1Z5YE8z/q501FKgzzP5tattYXCfM/VwT/W8kO8z8UBfpEniTzP56Y9WIoJ/M/uvdwyXEn8z++h0uOOyXzPzVj0XR2MvM/gjl6/N4m8z81e6AVGDLzP7cos0EmGfM/ilkvhnIi8z9xWvCiryDzPxGN7iB2JvM/VOOlm8Qg8z/QJ/Ik6RrzP2fyzTY3JvM/rMWnABhP8z8Zyol2FVLzP4qO5PIfUvM/VACMZ9BQ8z+jdVQ1QVTzPwH76NSVT/M/MZkqGJVU8z/r4jYawFvzP2kAb4EERfM/1zTvOEVH8z9I4XoUrkfzPwK8BRIUP/M/Oul942tP8z+srdhfdk/zP6lNnNzvUPM/IzKs4o1M8z/N5JttbkzzP3ke3J21W/M/Vyb8Uj9v8z9qTfOOU3TzP8jShy6ob/M/qOMxA5Vx8z9enWNA9nrzP/aX3ZOHhfM/SrVPx2OG8z/tR4rIsIrzP9DQP8HFivM/sfm4NlSM8z9w626e6pDzP1Zl3xXBf/M/Foczv5qD8z9+42vPLInzP7x5qkNuhvM/qOMxA5Vx8z9nRGlv8IXzP9yAzw8jhPM/SYWxhSCH8z/WOQZkr3fzP5QT7SqkfPM/mDRG66hq8z/qCUs8oGzzP/7xXrUyYfM/XOZ0WUxs8z8OZ341B4jzP7fRAN4CifM/KH6MuWuJ8z8nZr0YyonzP7H5uDZUjPM/ilkvhnKi8z9Hj9/b9GfzPwSQ2sTJffM/5KCEmbZ/8z+mCkYldYLzP0LsTKHzmvM/n8iTpGum8z+uR+F6FK7zP1aalIJur/M/aJHtfD+18z8x68VQTrTzP1MiiV5GsfM/IAw89x6u8z+mD11Q37LzPzHT9q+stPM/lWBxOPOr8z+PcFrwoq/zPxAjhEcbx/M/iEZ3EDvT8z9UAIxn0NDzPxZqTfOO0/M/3Esao3XU8z+yhSAHJczzP2e4AZ8fxvM/miUBamrZ8z8OSphp+9fzP9VbA1sl2PM/lWWIY13c8z/1SlmGONbzP6s+V1uxv/M/fm/Tn/3I8z9v2LYos8HzP+yjU1c+y/M/kX77OnDO8z/nOo20VN7zP3/eVKTC2PM//7J78rDQ8z/iI2JKJNHzP8Dsnjws1PM/2zNLAtTU8z8=\",\"dtype\":\"float64\",\"order\":\"little\",\"shape\":[1000]}},\"selected\":{\"id\":\"18421\"},\"selection_policy\":{\"id\":\"18420\"}},\"id\":\"18351\",\"type\":\"ColumnDataSource\"},{\"attributes\":{\"source\":{\"id\":\"18351\"}},\"id\":\"18608\",\"type\":\"CDSView\"},{\"attributes\":{\"active_drag\":{\"id\":\"18569\"},\"active_scroll\":{\"id\":\"18570\"},\"tools\":[{\"id\":\"18569\"},{\"id\":\"18570\"},{\"id\":\"18571\"},{\"id\":\"18572\"},{\"id\":\"18573\"},{\"id\":\"18574\"},{\"id\":\"18575\"},{\"id\":\"18593\"},{\"id\":\"18687\"}]},\"id\":\"18577\",\"type\":\"Toolbar\"},{\"attributes\":{},\"id\":\"18498\",\"type\":\"UnionRenderers\"},{\"attributes\":{\"coordinates\":null,\"group\":null},\"id\":\"18668\",\"type\":\"Title\"},{\"attributes\":{\"line_alpha\":0.2,\"line_color\":\"#1f77b4\",\"line_width\":1.5,\"x\":{\"field\":\"index\"},\"y\":{\"field\":\"equity\"}},\"id\":\"18398\",\"type\":\"Line\"},{\"attributes\":{\"source\":{\"id\":\"18388\"}},\"id\":\"18394\",\"type\":\"CDSView\"},{\"attributes\":{\"data\":{},\"selected\":{\"id\":\"18423\"},\"selection_policy\":{\"id\":\"18422\"}},\"id\":\"18405\",\"type\":\"ColumnDataSource\"},{\"attributes\":{\"data\":{\"x\":[53,273.4941447252476]},\"selected\":{\"id\":\"18499\"},\"selection_policy\":{\"id\":\"18498\"}},\"id\":\"18475\",\"type\":\"ColumnDataSource\"},{\"attributes\":{\"source\":{\"id\":\"18352\"}},\"id\":\"18540\",\"type\":\"CDSView\"},{\"attributes\":{\"overlay\":{\"id\":\"18525\"}},\"id\":\"18520\",\"type\":\"BoxZoomTool\"},{\"attributes\":{},\"id\":\"18515\",\"type\":\"BasicTicker\"},{\"attributes\":{},\"id\":\"18506\",\"type\":\"LinearScale\"},{\"attributes\":{},\"id\":\"18557\",\"type\":\"LinearScale\"},{\"attributes\":{\"axis\":{\"id\":\"18561\"},\"coordinates\":null,\"group\":null,\"ticker\":null},\"id\":\"18564\",\"type\":\"Grid\"},{\"attributes\":{\"fill_alpha\":{\"value\":0.2},\"fill_color\":{\"field\":\"returns_positive\",\"transform\":{\"id\":\"18354\"}},\"hatch_alpha\":{\"value\":0.2},\"line_alpha\":{\"value\":0.2},\"marker\":{\"value\":\"triangle\"},\"size\":{\"field\":\"marker_size\"},\"x\":{\"field\":\"index\"},\"y\":{\"field\":\"returns_long\"}},\"id\":\"18538\",\"type\":\"Scatter\"},{\"attributes\":{\"axis\":{\"id\":\"18331\"},\"coordinates\":null,\"dimension\":1,\"group\":null,\"ticker\":null},\"id\":\"18334\",\"type\":\"Grid\"},{\"attributes\":{\"callback\":null,\"mode\":\"vline\",\"point_policy\":\"follow_mouse\",\"renderers\":[{\"id\":\"18399\"}],\"tooltips\":[[\"#\",\"@index\"],[\"Equity\",\"@equity{+0,0.[000]%}\"]]},\"id\":\"18401\",\"type\":\"HoverTool\"},{\"attributes\":{},\"id\":\"18341\",\"type\":\"SaveTool\"},{\"attributes\":{\"fill_alpha\":0.1,\"fill_color\":\"#ffffea\",\"hatch_alpha\":0.1,\"line_alpha\":0.1,\"line_color\":\"#ffcb66\",\"x\":{\"field\":\"index\"},\"y\":{\"field\":\"equity_dd\"}},\"id\":\"18391\",\"type\":\"Patch\"},{\"attributes\":{\"fill_alpha\":{\"value\":0.1},\"fill_color\":{\"value\":\"cyan\"},\"hatch_alpha\":{\"value\":0.1},\"hatch_color\":{\"value\":\"cyan\"},\"line_alpha\":{\"value\":0.1},\"line_color\":{\"value\":\"cyan\"},\"size\":{\"value\":8},\"x\":{\"value\":993},\"y\":{\"value\":1.1394589939999995}},\"id\":\"18407\",\"type\":\"Scatter\"},{\"attributes\":{\"fill_alpha\":{\"value\":0.1},\"fill_color\":{\"value\":\"red\"},\"hatch_alpha\":{\"value\":0.1},\"hatch_color\":{\"value\":\"red\"},\"line_alpha\":{\"value\":0.1},\"line_color\":{\"value\":\"red\"},\"size\":{\"value\":8},\"x\":{\"value\":183},\"y\":{\"value\":0.964674038}},\"id\":\"18452\",\"type\":\"Scatter\"},{\"attributes\":{},\"id\":\"18523\",\"type\":\"ResetTool\"},{\"attributes\":{},\"id\":\"18722\",\"type\":\"AllLabels\"},{\"attributes\":{},\"id\":\"18472\",\"type\":\"Selection\"},{\"attributes\":{\"factors\":[\"0\",\"1\"],\"palette\":[\"tomato\",\"lime\"]},\"id\":\"18354\",\"type\":\"CategoricalColorMapper\"},{\"attributes\":{\"coordinates\":null,\"group\":null},\"id\":\"18746\",\"type\":\"Title\"},{\"attributes\":{\"dimensions\":\"width\"},\"id\":\"18335\",\"type\":\"PanTool\"},{\"attributes\":{\"format\":\"0 a\"},\"id\":\"18595\",\"type\":\"NumeralTickFormatter\"},{\"attributes\":{\"coordinates\":null,\"data_source\":{\"id\":\"18388\"},\"glyph\":{\"id\":\"18390\"},\"group\":null,\"hover_glyph\":null,\"muted_glyph\":{\"id\":\"18392\"},\"nonselection_glyph\":{\"id\":\"18391\"},\"view\":{\"id\":\"18394\"}},\"id\":\"18393\",\"type\":\"GlyphRenderer\"},{\"attributes\":{\"callback\":null,\"mode\":\"vline\",\"point_policy\":\"follow_mouse\",\"renderers\":[{\"id\":\"18607\"}],\"tooltips\":[[\"#\",\"@index\"],[\"x, y\",\"$index\\u00a0\\u00a0\\u00a0\\u00a0$y{0,0.0[0000]}\"],[\"OHLC\",\"@Open{0,0.0[0000]}\\u00a0\\u00a0\\u00a0\\u00a0@High{0,0.0[0000]}\\u00a0\\u00a0\\u00a0\\u00a0@Low{0,0.0[0000]}\\u00a0\\u00a0\\u00a0\\u00a0@Close{0,0.0[0000]}\"],[\"Volume\",\"@Volume{0,0}\"]]},\"id\":\"18684\",\"type\":\"HoverTool\"},{\"attributes\":{},\"id\":\"18504\",\"type\":\"DataRange1d\"},{\"attributes\":{},\"id\":\"18643\",\"type\":\"BasicTicker\"},{\"attributes\":{\"factors\":[\"0\",\"1\"],\"palette\":[\"tomato\",\"lime\"]},\"id\":\"18353\",\"type\":\"CategoricalColorMapper\"},{\"attributes\":{\"coordinates\":null,\"data_source\":{\"id\":\"18450\"},\"glyph\":{\"id\":\"18451\"},\"group\":null,\"hover_glyph\":null,\"muted_glyph\":{\"id\":\"18453\"},\"nonselection_glyph\":{\"id\":\"18452\"},\"view\":{\"id\":\"18455\"}},\"id\":\"18454\",\"type\":\"GlyphRenderer\"},{\"attributes\":{\"dimensions\":\"width\"},\"id\":\"18518\",\"type\":\"PanTool\"},{\"attributes\":{\"coordinates\":null,\"data_source\":{\"id\":\"18351\"},\"glyph\":{\"id\":\"18604\"},\"group\":null,\"hover_glyph\":null,\"muted_glyph\":{\"id\":\"18606\"},\"nonselection_glyph\":{\"id\":\"18605\"},\"view\":{\"id\":\"18608\"}},\"id\":\"18607\",\"type\":\"GlyphRenderer\"},{\"attributes\":{},\"id\":\"18572\",\"type\":\"UndoTool\"},{\"attributes\":{\"fill_color\":{\"value\":\"blue\"},\"hatch_color\":{\"value\":\"blue\"},\"line_color\":{\"value\":\"blue\"},\"size\":{\"value\":8},\"x\":{\"value\":999},\"y\":{\"value\":1.1361779239999994}},\"id\":\"18428\",\"type\":\"Scatter\"},{\"attributes\":{\"border_line_color\":\"#333333\",\"click_policy\":\"hide\",\"coordinates\":null,\"group\":null,\"items\":[{\"id\":\"18629\"}],\"label_text_font_size\":\"8pt\",\"location\":\"top_left\",\"margin\":0,\"padding\":5,\"spacing\":0},\"id\":\"18628\",\"type\":\"Legend\"},{\"attributes\":{\"dimensions\":\"width\",\"maintain_focus\":false},\"id\":\"18336\",\"type\":\"WheelZoomTool\"},{\"attributes\":{\"data\":{},\"selected\":{\"id\":\"18447\"},\"selection_policy\":{\"id\":\"18446\"}},\"id\":\"18427\",\"type\":\"ColumnDataSource\"},{\"attributes\":{\"active_drag\":{\"id\":\"18372\"},\"active_scroll\":{\"id\":\"18373\"},\"tools\":[{\"id\":\"18372\"},{\"id\":\"18373\"},{\"id\":\"18374\"},{\"id\":\"18375\"},{\"id\":\"18376\"},{\"id\":\"18377\"},{\"id\":\"18378\"},{\"id\":\"18401\"},{\"id\":\"18687\"}]},\"id\":\"18380\",\"type\":\"Toolbar\"},{\"attributes\":{\"source\":{\"id\":\"18351\"}},\"id\":\"18667\",\"type\":\"CDSView\"},{\"attributes\":{\"coordinates\":null,\"data_source\":{\"id\":\"18352\"},\"glyph\":{\"id\":\"18610\"},\"group\":null,\"hover_glyph\":null,\"muted_glyph\":{\"id\":\"18612\"},\"nonselection_glyph\":{\"id\":\"18611\"},\"view\":{\"id\":\"18614\"}},\"id\":\"18613\",\"type\":\"GlyphRenderer\"},{\"attributes\":{\"data\":{},\"selected\":{\"id\":\"18472\"},\"selection_policy\":{\"id\":\"18471\"}},\"id\":\"18450\",\"type\":\"ColumnDataSource\"},{\"attributes\":{},\"id\":\"18338\",\"type\":\"UndoTool\"},{\"attributes\":{\"dimensions\":\"width\"},\"id\":\"18646\",\"type\":\"PanTool\"},{\"attributes\":{\"data\":{\"datetime\":[246,330,355,460,462,599,635,648,685,923,934,999],\"exit_price\":{\"__ndarray__\":\"niRdM/lm8j94tHHEWvzxP+rKZ3keXPI/TmIQWDm08T/NzMzMzMzxPy3saYe/JvI/9pfdk4eF8j9LAtTUsrXyPyV6GcVyy/I/Yb68APto8z9r7BLVW4PzP72MYrml1fM/\",\"dtype\":\"float64\",\"order\":\"little\",\"shape\":[12]},\"index\":[246,330,355,460,462,599,635,648,685,923,934,999],\"marker_size\":{\"__ndarray__\":\"AAAAAAAAIEC3Q1YUDvYgQIwlkLK2LyFAhtLMjYlLMkBCBhhznjIjQJGf5HbIiiZAAAAAAAAAMUDpyJ6BqHQmQEZ/fwlpXCtAqiZCkHdmM0CiIaGqE3AhQAAAAAAAADRA\",\"dtype\":\"float64\",\"order\":\"little\",\"shape\":[12]},\"position_lines_xs\":[[37,246],[37,330],[37,355],[37,460],[389,462],[492,599],[462,635],[606,648],[648,685],[724,923],[685,934],[943,999]],\"position_lines_ys\":[[1.15121,1.15014],[1.15121,1.12411],[1.15121,1.14749],[1.15121,1.1065],[1.11789,1.1125],[1.08942,1.13446],[1.1125,1.1576],[1.1495,1.16936],[1.16936,1.17467],[1.16818,1.2131299999999998],[1.17467,1.2195699999999998],[1.22576,1.23966]],\"returns_long\":{\"__ndarray__\":\"AAAAAAAA+H8AAAAAAAD4fwAAAAAAAPh/AAAAAAAA+H8AAAAAAAD4fyCT0DzsKqU/YH1kDZLBpD8A7ZECFbGRPwAAAAAAAPh/IAHzjHmzoz/A/g3eB5KjP4ClLRJgOYc/\",\"dtype\":\"float64\",\"order\":\"little\",\"shape\":[12]},\"returns_positive\":[\"1\",\"1\",\"1\",\"1\",\"1\",\"1\",\"1\",\"1\",\"0\",\"1\",\"1\",\"1\"],\"returns_short\":{\"__ndarray__\":\"AFxbWdl0Tj/gy/nF/BqYPwBDPFezeGo/gG9xzX7ioz8AE3b4y79zPwAAAAAAAPh/AAAAAAAA+H8AAAAAAAD4fwAI5MSGmXK/AAAAAAAA+H8AAAAAAAD4fwAAAAAAAPh/\",\"dtype\":\"float64\",\"order\":\"little\",\"shape\":[12]},\"size\":[-1,-368,-454,-7863,-1222,2499,6874,2466,-4339,8707,550,9165]},\"selected\":{\"id\":\"18626\"},\"selection_policy\":{\"id\":\"18625\"}},\"id\":\"18352\",\"type\":\"ColumnDataSource\"},{\"attributes\":{},\"id\":\"18674\",\"type\":\"BasicTickFormatter\"},{\"attributes\":{\"coordinates\":null,\"data_source\":{\"id\":\"18352\"},\"glyph\":{\"id\":\"18536\"},\"group\":null,\"hover_glyph\":null,\"muted_glyph\":{\"id\":\"18538\"},\"nonselection_glyph\":{\"id\":\"18537\"},\"view\":{\"id\":\"18540\"}},\"id\":\"18539\",\"type\":\"GlyphRenderer\"},{\"attributes\":{},\"id\":\"18339\",\"type\":\"RedoTool\"},{\"attributes\":{},\"id\":\"18358\",\"type\":\"DataRange1d\"},{\"attributes\":{\"fill_color\":{\"value\":\"red\"},\"hatch_color\":{\"value\":\"red\"},\"line_color\":{\"value\":\"red\"},\"size\":{\"value\":8},\"x\":{\"value\":183},\"y\":{\"value\":0.964674038}},\"id\":\"18451\",\"type\":\"Scatter\"},{\"attributes\":{},\"id\":\"18619\",\"type\":\"AllLabels\"},{\"attributes\":{},\"id\":\"18418\",\"type\":\"UnionRenderers\"},{\"attributes\":{\"callback\":null,\"point_policy\":\"follow_mouse\",\"renderers\":[{\"id\":\"18539\"}],\"tooltips\":[[\"#\",\"@index\"],[\"Size\",\"@size{0,0}\"],[\"P/L\",\"@returns_long{+0.[000]%}\"]]},\"id\":\"18547\",\"type\":\"HoverTool\"},{\"attributes\":{\"fill_alpha\":{\"value\":0.1},\"fill_color\":{\"field\":\"returns_positive\",\"transform\":{\"id\":\"18354\"}},\"hatch_alpha\":{\"value\":0.1},\"line_alpha\":{\"value\":0.1},\"marker\":{\"value\":\"triangle\"},\"size\":{\"field\":\"marker_size\"},\"x\":{\"field\":\"index\"},\"y\":{\"field\":\"returns_long\"}},\"id\":\"18537\",\"type\":\"Scatter\"},{\"attributes\":{\"fill_alpha\":{\"value\":0.1},\"fill_color\":{\"field\":\"returns_positive\",\"transform\":{\"id\":\"18354\"}},\"hatch_alpha\":{\"value\":0.1},\"line_alpha\":{\"value\":0.1},\"marker\":{\"value\":\"inverted_triangle\"},\"size\":{\"field\":\"marker_size\"},\"x\":{\"field\":\"index\"},\"y\":{\"field\":\"returns_short\"}},\"id\":\"18543\",\"type\":\"Scatter\"},{\"attributes\":{},\"id\":\"18422\",\"type\":\"UnionRenderers\"},{\"attributes\":{\"logo\":null,\"toolbars\":[{\"id\":\"18380\"},{\"id\":\"18526\"},{\"id\":\"18343\"},{\"id\":\"18577\"},{\"id\":\"18654\"}],\"tools\":[{\"id\":\"18372\"},{\"id\":\"18373\"},{\"id\":\"18374\"},{\"id\":\"18375\"},{\"id\":\"18376\"},{\"id\":\"18377\"},{\"id\":\"18378\"},{\"id\":\"18401\"},{\"id\":\"18687\"},{\"id\":\"18518\"},{\"id\":\"18519\"},{\"id\":\"18520\"},{\"id\":\"18521\"},{\"id\":\"18522\"},{\"id\":\"18523\"},{\"id\":\"18524\"},{\"id\":\"18547\"},{\"id\":\"18549\"},{\"id\":\"18687\"},{\"id\":\"18335\"},{\"id\":\"18336\"},{\"id\":\"18337\"},{\"id\":\"18338\"},{\"id\":\"18339\"},{\"id\":\"18340\"},{\"id\":\"18341\"},{\"id\":\"18684\"},{\"id\":\"18687\"},{\"id\":\"18569\"},{\"id\":\"18570\"},{\"id\":\"18571\"},{\"id\":\"18572\"},{\"id\":\"18573\"},{\"id\":\"18574\"},{\"id\":\"18575\"},{\"id\":\"18593\"},{\"id\":\"18687\"},{\"id\":\"18646\"},{\"id\":\"18647\"},{\"id\":\"18648\"},{\"id\":\"18649\"},{\"id\":\"18650\"},{\"id\":\"18651\"},{\"id\":\"18652\"},{\"id\":\"18682\"},{\"id\":\"18687\"}]},\"id\":\"18769\",\"type\":\"ProxyToolbar\"},{\"attributes\":{\"callback\":null,\"mode\":\"vline\",\"point_policy\":\"follow_mouse\",\"renderers\":[{\"id\":\"18666\"}],\"tooltips\":[[\"#\",\"@index\"],[\"SIGNAL\",\"@{SIGNAL_0_1}{0,0.0[0000]}\"]]},\"id\":\"18682\",\"type\":\"HoverTool\"},{\"attributes\":{},\"id\":\"18421\",\"type\":\"Selection\"},{\"attributes\":{\"axis\":{\"id\":\"18565\"},\"coordinates\":null,\"dimension\":1,\"group\":null,\"ticker\":null},\"id\":\"18568\",\"type\":\"Grid\"},{\"attributes\":{},\"id\":\"18332\",\"type\":\"BasicTicker\"},{\"attributes\":{},\"id\":\"18499\",\"type\":\"Selection\"},{\"attributes\":{},\"id\":\"18360\",\"type\":\"LinearScale\"},{\"attributes\":{\"coordinates\":null,\"data_source\":{\"id\":\"18405\"},\"glyph\":{\"id\":\"18406\"},\"group\":null,\"hover_glyph\":null,\"muted_glyph\":{\"id\":\"18408\"},\"nonselection_glyph\":{\"id\":\"18407\"},\"view\":{\"id\":\"18410\"}},\"id\":\"18409\",\"type\":\"GlyphRenderer\"},{\"attributes\":{\"coordinates\":null,\"data_source\":{\"id\":\"18351\"},\"glyph\":{\"id\":\"18663\"},\"group\":null,\"hover_glyph\":null,\"muted_glyph\":{\"id\":\"18665\"},\"nonselection_glyph\":{\"id\":\"18664\"},\"view\":{\"id\":\"18667\"}},\"id\":\"18666\",\"type\":\"GlyphRenderer\"},{\"attributes\":{\"line_color\":\"red\",\"line_width\":2,\"x\":{\"field\":\"x\"},\"y\":{\"value\":1.010805384}},\"id\":\"18476\",\"type\":\"Line\"},{\"attributes\":{},\"id\":\"18634\",\"type\":\"LinearScale\"},{\"attributes\":{\"dimensions\":\"width\",\"maintain_focus\":false},\"id\":\"18647\",\"type\":\"WheelZoomTool\"},{\"attributes\":{\"coordinates\":null,\"group\":null,\"line_color\":\"#666666\",\"line_dash\":[6],\"line_width\":0.5,\"location\":0.038},\"id\":\"18681\",\"type\":\"Span\"},{\"attributes\":{\"line_alpha\":0.1,\"line_color\":\"#1f77b4\",\"line_width\":1.3,\"x\":{\"field\":\"index\"},\"y\":{\"field\":\"SIGNAL_0_1\"}},\"id\":\"18664\",\"type\":\"Line\"},{\"attributes\":{\"below\":[{\"id\":\"18327\"}],\"center\":[{\"id\":\"18330\"},{\"id\":\"18334\"},{\"id\":\"18628\"}],\"height\":400,\"left\":[{\"id\":\"18331\"}],\"min_border_bottom\":6,\"min_border_left\":0,\"min_border_right\":10,\"min_border_top\":3,\"outline_line_color\":\"#666666\",\"renderers\":[{\"id\":\"18601\"},{\"id\":\"18607\"},{\"id\":\"18613\"}],\"sizing_mode\":\"stretch_width\",\"title\":{\"id\":\"18615\"},\"toolbar\":{\"id\":\"18343\"},\"toolbar_location\":null,\"width\":null,\"x_range\":{\"id\":\"18318\"},\"x_scale\":{\"id\":\"18323\"},\"y_range\":{\"id\":\"18321\"},\"y_scale\":{\"id\":\"18325\"}},\"id\":\"18319\",\"subtype\":\"Figure\",\"type\":\"Plot\"},{\"attributes\":{\"axis\":{\"id\":\"18327\"},\"coordinates\":null,\"group\":null,\"ticker\":null},\"id\":\"18330\",\"type\":\"Grid\"},{\"attributes\":{\"source\":{\"id\":\"18351\"}},\"id\":\"18400\",\"type\":\"CDSView\"},{\"attributes\":{\"line_alpha\":0.1,\"line_color\":\"red\",\"line_width\":2,\"x\":{\"field\":\"x\"},\"y\":{\"value\":1.010805384}},\"id\":\"18477\",\"type\":\"Line\"},{\"attributes\":{\"border_line_color\":\"#333333\",\"click_policy\":\"hide\",\"coordinates\":null,\"group\":null,\"items\":[{\"id\":\"18426\"},{\"id\":\"18449\"},{\"id\":\"18474\"},{\"id\":\"18501\"}],\"label_text_font_size\":\"8pt\",\"location\":\"top_left\",\"margin\":0,\"padding\":5,\"spacing\":0},\"id\":\"18425\",\"type\":\"Legend\"},{\"attributes\":{\"coordinates\":null,\"group\":null},\"id\":\"18615\",\"type\":\"Title\"},{\"attributes\":{},\"id\":\"18632\",\"type\":\"DataRange1d\"},{\"attributes\":{\"dimensions\":\"width\"},\"id\":\"18372\",\"type\":\"PanTool\"},{\"attributes\":{},\"id\":\"18573\",\"type\":\"RedoTool\"},{\"attributes\":{\"bottom\":{\"field\":\"Close\"},\"fill_color\":{\"field\":\"inc\",\"transform\":{\"id\":\"18353\"}},\"top\":{\"field\":\"Open\"},\"width\":{\"value\":0.8},\"x\":{\"field\":\"index\"}},\"id\":\"18604\",\"type\":\"VBar\"},{\"attributes\":{},\"id\":\"18649\",\"type\":\"UndoTool\"},{\"attributes\":{},\"id\":\"18562\",\"type\":\"BasicTicker\"},{\"attributes\":{\"bottom_units\":\"screen\",\"coordinates\":null,\"fill_alpha\":0.5,\"fill_color\":\"lightgrey\",\"group\":null,\"left_units\":\"screen\",\"level\":\"overlay\",\"line_alpha\":1.0,\"line_color\":\"black\",\"line_dash\":[4,4],\"line_width\":2,\"right_units\":\"screen\",\"syncable\":false,\"top_units\":\"screen\"},\"id\":\"18525\",\"type\":\"BoxAnnotation\"},{\"attributes\":{\"overlay\":{\"id\":\"18576\"}},\"id\":\"18571\",\"type\":\"BoxZoomTool\"},{\"attributes\":{\"format\":\"0,0.[00]%\"},\"id\":\"18403\",\"type\":\"NumeralTickFormatter\"},{\"attributes\":{\"active_drag\":{\"id\":\"18518\"},\"active_scroll\":{\"id\":\"18519\"},\"tools\":[{\"id\":\"18518\"},{\"id\":\"18519\"},{\"id\":\"18520\"},{\"id\":\"18521\"},{\"id\":\"18522\"},{\"id\":\"18523\"},{\"id\":\"18524\"},{\"id\":\"18547\"},{\"id\":\"18549\"},{\"id\":\"18687\"}]},\"id\":\"18526\",\"type\":\"Toolbar\"},{\"attributes\":{},\"id\":\"18524\",\"type\":\"SaveTool\"},{\"attributes\":{},\"id\":\"18328\",\"type\":\"BasicTicker\"},{\"attributes\":{},\"id\":\"18419\",\"type\":\"Selection\"},{\"attributes\":{},\"id\":\"18555\",\"type\":\"DataRange1d\"},{\"attributes\":{},\"id\":\"18377\",\"type\":\"ResetTool\"},{\"attributes\":{},\"id\":\"18574\",\"type\":\"ResetTool\"},{\"attributes\":{\"axis\":{\"id\":\"18642\"},\"coordinates\":null,\"dimension\":1,\"group\":null,\"ticker\":null},\"id\":\"18645\",\"type\":\"Grid\"},{\"attributes\":{},\"id\":\"18672\",\"type\":\"AllLabels\"},{\"attributes\":{\"line_alpha\":{\"value\":0.1},\"line_color\":{\"field\":\"returns_positive\",\"transform\":{\"id\":\"18355\"}},\"line_dash\":{\"value\":\"dotted\"},\"line_width\":{\"value\":8},\"xs\":{\"field\":\"position_lines_xs\"},\"ys\":{\"field\":\"position_lines_ys\"}},\"id\":\"18611\",\"type\":\"MultiLine\"},{\"attributes\":{\"coordinates\":null,\"formatter\":{\"id\":\"18416\"},\"group\":null,\"major_label_policy\":{\"id\":\"18417\"},\"ticker\":{\"id\":\"18365\"},\"visible\":false},\"id\":\"18364\",\"type\":\"LinearAxis\"},{\"attributes\":{\"axis\":{\"id\":\"18510\"},\"coordinates\":null,\"group\":null,\"ticker\":null},\"id\":\"18513\",\"type\":\"Grid\"},{\"attributes\":{\"fill_color\":{\"field\":\"inc\",\"transform\":{\"id\":\"18353\"}},\"hatch_color\":{\"field\":\"inc\",\"transform\":{\"id\":\"18353\"}},\"line_color\":{\"field\":\"inc\",\"transform\":{\"id\":\"18353\"}},\"top\":{\"field\":\"Volume\"},\"width\":{\"value\":0.8},\"x\":{\"field\":\"index\"}},\"id\":\"18588\",\"type\":\"VBar\"},{\"attributes\":{},\"id\":\"18749\",\"type\":\"AllLabels\"},{\"attributes\":{},\"id\":\"18508\",\"type\":\"LinearScale\"},{\"attributes\":{\"bottom\":{\"field\":\"Close\"},\"fill_alpha\":{\"value\":0.1},\"fill_color\":{\"field\":\"inc\",\"transform\":{\"id\":\"18353\"}},\"hatch_alpha\":{\"value\":0.1},\"line_alpha\":{\"value\":0.1},\"top\":{\"field\":\"Open\"},\"width\":{\"value\":0.8},\"x\":{\"field\":\"index\"}},\"id\":\"18605\",\"type\":\"VBar\"},{\"attributes\":{},\"id\":\"18585\",\"type\":\"BasicTickFormatter\"},{\"attributes\":{\"bottom_units\":\"screen\",\"coordinates\":null,\"fill_alpha\":0.5,\"fill_color\":\"lightgrey\",\"group\":null,\"left_units\":\"screen\",\"level\":\"overlay\",\"line_alpha\":1.0,\"line_color\":\"black\",\"line_dash\":[4,4],\"line_width\":2,\"right_units\":\"screen\",\"syncable\":false,\"top_units\":\"screen\"},\"id\":\"18576\",\"type\":\"BoxAnnotation\"},{\"attributes\":{\"dimensions\":\"width\",\"maintain_focus\":false},\"id\":\"18373\",\"type\":\"WheelZoomTool\"},{\"attributes\":{\"source\":{\"id\":\"18427\"}},\"id\":\"18432\",\"type\":\"CDSView\"},{\"attributes\":{},\"id\":\"18420\",\"type\":\"UnionRenderers\"},{\"attributes\":{},\"id\":\"18447\",\"type\":\"Selection\"},{\"attributes\":{\"overlay\":{\"id\":\"18342\"}},\"id\":\"18337\",\"type\":\"BoxZoomTool\"},{\"attributes\":{\"fill_color\":{\"field\":\"returns_positive\",\"transform\":{\"id\":\"18354\"}},\"marker\":{\"value\":\"triangle\"},\"size\":{\"field\":\"marker_size\"},\"x\":{\"field\":\"index\"},\"y\":{\"field\":\"returns_long\"}},\"id\":\"18536\",\"type\":\"Scatter\"},{\"attributes\":{\"line_alpha\":0.2,\"line_color\":\"#1f77b4\",\"line_width\":1.3,\"x\":{\"field\":\"index\"},\"y\":{\"field\":\"SIGNAL_0_1\"}},\"id\":\"18665\",\"type\":\"Line\"},{\"attributes\":{\"label\":{\"value\":\"Trades (12)\"},\"renderers\":[{\"id\":\"18613\"}]},\"id\":\"18629\",\"type\":\"LegendItem\"},{\"attributes\":{},\"id\":\"18376\",\"type\":\"RedoTool\"},{\"attributes\":{\"fill_alpha\":{\"value\":0.1},\"fill_color\":{\"field\":\"inc\",\"transform\":{\"id\":\"18353\"}},\"hatch_alpha\":{\"value\":0.1},\"hatch_color\":{\"field\":\"inc\",\"transform\":{\"id\":\"18353\"}},\"line_alpha\":{\"value\":0.1},\"line_color\":{\"field\":\"inc\",\"transform\":{\"id\":\"18353\"}},\"top\":{\"field\":\"Volume\"},\"width\":{\"value\":0.8},\"x\":{\"field\":\"index\"}},\"id\":\"18589\",\"type\":\"VBar\"},{\"attributes\":{\"coordinates\":null,\"data_source\":{\"id\":\"18352\"},\"glyph\":{\"id\":\"18542\"},\"group\":null,\"hover_glyph\":null,\"muted_glyph\":{\"id\":\"18544\"},\"nonselection_glyph\":{\"id\":\"18543\"},\"view\":{\"id\":\"18546\"}},\"id\":\"18545\",\"type\":\"GlyphRenderer\"},{\"attributes\":{\"line_alpha\":{\"value\":0.1},\"x0\":{\"field\":\"index\"},\"x1\":{\"field\":\"index\"},\"y0\":{\"field\":\"High\"},\"y1\":{\"field\":\"Low\"}},\"id\":\"18599\",\"type\":\"Segment\"},{\"attributes\":{},\"id\":\"18671\",\"type\":\"BasicTickFormatter\"},{\"attributes\":{\"axis\":{\"id\":\"18638\"},\"coordinates\":null,\"group\":null,\"ticker\":null},\"id\":\"18641\",\"type\":\"Grid\"},{\"attributes\":{\"label\":{\"value\":\"Final (114%)\"},\"renderers\":[{\"id\":\"18431\"}]},\"id\":\"18449\",\"type\":\"LegendItem\"},{\"attributes\":{},\"id\":\"18625\",\"type\":\"UnionRenderers\"},{\"attributes\":{},\"id\":\"18321\",\"type\":\"DataRange1d\"},{\"attributes\":{\"source\":{\"id\":\"18351\"}},\"id\":\"18602\",\"type\":\"CDSView\"},{\"attributes\":{},\"id\":\"18446\",\"type\":\"UnionRenderers\"},{\"attributes\":{},\"id\":\"18650\",\"type\":\"RedoTool\"},{\"attributes\":{\"coordinates\":null,\"data_source\":{\"id\":\"18475\"},\"glyph\":{\"id\":\"18476\"},\"group\":null,\"hover_glyph\":null,\"muted_glyph\":{\"id\":\"18478\"},\"nonselection_glyph\":{\"id\":\"18477\"},\"view\":{\"id\":\"18480\"}},\"id\":\"18479\",\"type\":\"GlyphRenderer\"},{\"attributes\":{},\"id\":\"18751\",\"type\":\"AllLabels\"},{\"attributes\":{\"bottom_units\":\"screen\",\"coordinates\":null,\"fill_alpha\":0.5,\"fill_color\":\"lightgrey\",\"group\":null,\"left_units\":\"screen\",\"level\":\"overlay\",\"line_alpha\":1.0,\"line_color\":\"black\",\"line_dash\":[4,4],\"line_width\":2,\"right_units\":\"screen\",\"syncable\":false,\"top_units\":\"screen\"},\"id\":\"18342\",\"type\":\"BoxAnnotation\"},{\"attributes\":{\"coordinates\":null,\"formatter\":{\"id\":\"18724\"},\"group\":null,\"major_label_policy\":{\"id\":\"18725\"},\"ticker\":{\"id\":\"18511\"},\"visible\":false},\"id\":\"18510\",\"type\":\"LinearAxis\"},{\"attributes\":{\"dimensions\":\"width\"},\"id\":\"18569\",\"type\":\"PanTool\"},{\"attributes\":{\"coordinates\":null,\"formatter\":{\"id\":\"18671\"},\"group\":null,\"major_label_policy\":{\"id\":\"18672\"},\"minor_tick_line_color\":null,\"ticker\":{\"id\":\"18643\"}},\"id\":\"18642\",\"type\":\"LinearAxis\"}],\"root_ids\":[\"18771\"]},\"title\":\"Bokeh Application\",\"version\":\"2.4.3\"}};\n  const render_items = [{\"docid\":\"8ad4fd33-c818-4a75-9d00-6c50c862213d\",\"root_ids\":[\"18771\"],\"roots\":{\"18771\":\"fe373084-ef46-4445-a3cf-5364201fde57\"}}];\n  root.Bokeh.embed.embed_items_notebook(docs_json, render_items);\n  }\n  if (root.Bokeh !== undefined) {\n    embed_document(root);\n  } else {\n    let attempts = 0;\n    const timer = setInterval(function(root) {\n      if (root.Bokeh !== undefined) {\n        clearInterval(timer);\n        embed_document(root);\n      } else {\n        attempts++;\n        if (attempts > 100) {\n          clearInterval(timer);\n          console.log(\"Bokeh: ERROR: Unable to run BokehJS code because BokehJS library is missing\");\n        }\n      }\n    }, 10, root)\n  }\n})(window);",
      "application/vnd.bokehjs_exec.v0+json": ""
     },
     "metadata": {
      "application/vnd.bokehjs_exec.v0+json": {
       "id": "18771"
      }
     },
     "output_type": "display_data"
    },
    {
     "data": {
      "text/html": [
       "<div style=\"display: table;\"><div style=\"display: table-row;\"><div style=\"display: table-cell;\"><b title=\"bokeh.models.layouts.Row\">Row</b>(</div><div style=\"display: table-cell;\">id&nbsp;=&nbsp;'18771', <span id=\"19103\" style=\"cursor: pointer;\">&hellip;)</span></div></div><div class=\"19102\" style=\"display: none;\"><div style=\"display: table-cell;\"></div><div style=\"display: table-cell;\">align&nbsp;=&nbsp;'start',</div></div><div class=\"19102\" style=\"display: none;\"><div style=\"display: table-cell;\"></div><div style=\"display: table-cell;\">aspect_ratio&nbsp;=&nbsp;None,</div></div><div class=\"19102\" style=\"display: none;\"><div style=\"display: table-cell;\"></div><div style=\"display: table-cell;\">background&nbsp;=&nbsp;None,</div></div><div class=\"19102\" style=\"display: none;\"><div style=\"display: table-cell;\"></div><div style=\"display: table-cell;\">children&nbsp;=&nbsp;[GridBox(id='18768', ...), ToolbarBox(id='18770', ...)],</div></div><div class=\"19102\" style=\"display: none;\"><div style=\"display: table-cell;\"></div><div style=\"display: table-cell;\">cols&nbsp;=&nbsp;'auto',</div></div><div class=\"19102\" style=\"display: none;\"><div style=\"display: table-cell;\"></div><div style=\"display: table-cell;\">css_classes&nbsp;=&nbsp;[],</div></div><div class=\"19102\" style=\"display: none;\"><div style=\"display: table-cell;\"></div><div style=\"display: table-cell;\">disabled&nbsp;=&nbsp;False,</div></div><div class=\"19102\" style=\"display: none;\"><div style=\"display: table-cell;\"></div><div style=\"display: table-cell;\">height&nbsp;=&nbsp;None,</div></div><div class=\"19102\" style=\"display: none;\"><div style=\"display: table-cell;\"></div><div style=\"display: table-cell;\">height_policy&nbsp;=&nbsp;'auto',</div></div><div class=\"19102\" style=\"display: none;\"><div style=\"display: table-cell;\"></div><div style=\"display: table-cell;\">js_event_callbacks&nbsp;=&nbsp;{},</div></div><div class=\"19102\" style=\"display: none;\"><div style=\"display: table-cell;\"></div><div style=\"display: table-cell;\">js_property_callbacks&nbsp;=&nbsp;{},</div></div><div class=\"19102\" style=\"display: none;\"><div style=\"display: table-cell;\"></div><div style=\"display: table-cell;\">margin&nbsp;=&nbsp;(0, 0, 0, 0),</div></div><div class=\"19102\" style=\"display: none;\"><div style=\"display: table-cell;\"></div><div style=\"display: table-cell;\">max_height&nbsp;=&nbsp;None,</div></div><div class=\"19102\" style=\"display: none;\"><div style=\"display: table-cell;\"></div><div style=\"display: table-cell;\">max_width&nbsp;=&nbsp;None,</div></div><div class=\"19102\" style=\"display: none;\"><div style=\"display: table-cell;\"></div><div style=\"display: table-cell;\">min_height&nbsp;=&nbsp;None,</div></div><div class=\"19102\" style=\"display: none;\"><div style=\"display: table-cell;\"></div><div style=\"display: table-cell;\">min_width&nbsp;=&nbsp;None,</div></div><div class=\"19102\" style=\"display: none;\"><div style=\"display: table-cell;\"></div><div style=\"display: table-cell;\">name&nbsp;=&nbsp;None,</div></div><div class=\"19102\" style=\"display: none;\"><div style=\"display: table-cell;\"></div><div style=\"display: table-cell;\">sizing_mode&nbsp;=&nbsp;'stretch_width',</div></div><div class=\"19102\" style=\"display: none;\"><div style=\"display: table-cell;\"></div><div style=\"display: table-cell;\">spacing&nbsp;=&nbsp;0,</div></div><div class=\"19102\" style=\"display: none;\"><div style=\"display: table-cell;\"></div><div style=\"display: table-cell;\">subscribed_events&nbsp;=&nbsp;[],</div></div><div class=\"19102\" style=\"display: none;\"><div style=\"display: table-cell;\"></div><div style=\"display: table-cell;\">syncable&nbsp;=&nbsp;True,</div></div><div class=\"19102\" style=\"display: none;\"><div style=\"display: table-cell;\"></div><div style=\"display: table-cell;\">tags&nbsp;=&nbsp;[],</div></div><div class=\"19102\" style=\"display: none;\"><div style=\"display: table-cell;\"></div><div style=\"display: table-cell;\">visible&nbsp;=&nbsp;True,</div></div><div class=\"19102\" style=\"display: none;\"><div style=\"display: table-cell;\"></div><div style=\"display: table-cell;\">width&nbsp;=&nbsp;None,</div></div><div class=\"19102\" style=\"display: none;\"><div style=\"display: table-cell;\"></div><div style=\"display: table-cell;\">width_policy&nbsp;=&nbsp;'auto')</div></div></div>\n",
       "<script>\n",
       "(function() {\n",
       "  let expanded = false;\n",
       "  const ellipsis = document.getElementById(\"19103\");\n",
       "  ellipsis.addEventListener(\"click\", function() {\n",
       "    const rows = document.getElementsByClassName(\"19102\");\n",
       "    for (let i = 0; i < rows.length; i++) {\n",
       "      const el = rows[i];\n",
       "      el.style.display = expanded ? \"none\" : \"table-row\";\n",
       "    }\n",
       "    ellipsis.innerHTML = expanded ? \"&hellip;)\" : \"&lsaquo;&lsaquo;&lsaquo;\";\n",
       "    expanded = !expanded;\n",
       "  });\n",
       "})();\n",
       "</script>\n"
      ],
      "text/plain": [
       "Row(id='18771', ...)"
      ]
     },
     "execution_count": 170,
     "metadata": {},
     "output_type": "execute_result"
    }
   ],
   "source": [
    "\n",
    "import backtesting\n",
    "\n",
    "# import output_notebook\n",
    "from bokeh.io import output_notebook\n",
    "output_notebook()\n",
    "\n",
    "backtesting.set_bokeh_output(notebook=True)\n",
    "bt.plot()"
   ]
  },
  {
   "cell_type": "code",
   "execution_count": 1,
   "metadata": {},
   "outputs": [
    {
     "ename": "NameError",
     "evalue": "name 'stats' is not defined",
     "output_type": "error",
     "traceback": [
      "\u001b[1;31m---------------------------------------------------------------------------\u001b[0m",
      "\u001b[1;31mNameError\u001b[0m                                 Traceback (most recent call last)",
      "Cell \u001b[1;32mIn[1], line 1\u001b[0m\n\u001b[1;32m----> 1\u001b[0m \u001b[39mprint\u001b[39m(stats)\n",
      "\u001b[1;31mNameError\u001b[0m: name 'stats' is not defined"
     ]
    }
   ],
   "source": [
    "print(stats)"
   ]
  }
 ],
 "metadata": {
  "kernelspec": {
   "display_name": "Python 3",
   "language": "python",
   "name": "python3"
  },
  "language_info": {
   "codemirror_mode": {
    "name": "ipython",
    "version": 3
   },
   "file_extension": ".py",
   "mimetype": "text/x-python",
   "name": "python",
   "nbconvert_exporter": "python",
   "pygments_lexer": "ipython3",
   "version": "3.11.4"
  },
  "orig_nbformat": 4
 },
 "nbformat": 4,
 "nbformat_minor": 2
}
