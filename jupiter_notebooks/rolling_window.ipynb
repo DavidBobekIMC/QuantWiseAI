{
 "cells": [
  {
   "attachments": {},
   "cell_type": "markdown",
   "metadata": {},
   "source": [
    "# Rolling window\n",
    "\n",
    "# ==================\n",
    "\n",
    "### Peaks\n",
    "### Valleys\n",
    "### Window size"
   ]
  },
  {
   "cell_type": "code",
   "execution_count": 49,
   "metadata": {},
   "outputs": [],
   "source": [
    "import numpy as np\n",
    "import pandas as pd\n",
    "import matplotlib.pyplot as plt\n",
    "import plotly.graph_objects as go\n"
   ]
  },
  {
   "cell_type": "code",
   "execution_count": 50,
   "metadata": {},
   "outputs": [],
   "source": [
    "\n",
    "def rolling_window(financial_data: pd.DataFrame, record_to_plot: int = None, half_window_size: int = 5, peak_coeff=0.5, valley_coeff=0.5, to_plot: bool = False):\n",
    "    financial_data = financial_data[:record_to_plot]\n",
    "    financial_data['signal'] = 0\n",
    "\n",
    "    data = financial_data['Close'].to_numpy()\n",
    "    pltly_fig = go.Figure()\n",
    "   \n",
    "    def is_local_valley(data, current_index, half_window_size, threshold_coefficient):\n",
    "        if current_index < half_window_size or current_index >= len(data) - half_window_size:\n",
    "            return False\n",
    "\n",
    "        neighborhood = data[current_index - half_window_size : current_index + half_window_size + 1]\n",
    "\n",
    "        min_value = np.min(neighborhood)\n",
    "        max_value = np.max(neighborhood)\n",
    "        threshold = min_value + threshold_coefficient * (max_value - min_value)\n",
    "\n",
    "        return data[current_index] <= threshold\n",
    "\n",
    "    def is_local_peak(data, current_index, half_window_size, threshold_coefficient):\n",
    "        if current_index < half_window_size or current_index >= len(data) - half_window_size:\n",
    "            return False\n",
    "\n",
    "        neighborhood = data[current_index - half_window_size : current_index + half_window_size + 1]\n",
    "\n",
    "        min_value = np.min(neighborhood)\n",
    "        max_value = np.max(neighborhood)\n",
    "        threshold = threshold_coefficient * (max_value - min_value) + min_value\n",
    "\n",
    "        # Function is similar to valleys, but with the inequality reversed\n",
    "        return data[current_index] >= threshold\n",
    "\n",
    "\n",
    "    # Detect peaks: The value at the current index is greater than or equal to the threshold value\n",
    "    peaks_indices = [i for i in range(half_window_size, len(data) - half_window_size) if is_local_peak(data, i, half_window_size, peak_coeff)]\n",
    "\n",
    "    # Detect valleys: The value at the current index is less than or equal to the threshold value\n",
    "    valleys_indices = [i for i in range(half_window_size, len(data) - half_window_size) if is_local_valley(data, i, half_window_size, valley_coeff)]\n",
    "\n",
    "    # Store the index of financial data\n",
    "    index = financial_data.index\n",
    "\n",
    "    # Initialize the last signal\n",
    "    last_signal = 0\n",
    "    \n",
    "    # Loop through each index in the 'financial_data' DataFrame\n",
    "    for i in range(len(financial_data)):\n",
    "        # Set the 'signal' column value to 0 for the current index\n",
    "        financial_data.loc[i, 'signal'] = 0\n",
    "\n",
    "        # Check if the current index is a detected peak\n",
    "        for peak in peaks_indices:\n",
    "            if i == peak:\n",
    "                if last_signal != 1:\n",
    "                    #plt.scatter(index[i], financial_data['Low'][i],\n",
    "                                #c='red', label='Sell', linewidth=1)\n",
    "                   \n",
    "                  \n",
    "                  \n",
    "                    pltly_fig.add_trace(go.Scatter(x=[index[i]], y=[financial_data['Low'][i]], mode='markers', name='Sell', marker=dict(color='lime'))) \n",
    "                  \n",
    "                    last_signal = 1\n",
    "                    financial_data.loc[i, 'signal'] = 1\n",
    "\n",
    "        # Check if the current index is a detected valley\n",
    "        for valley in valleys_indices:\n",
    "            if i == valley:\n",
    "                if last_signal != 2:\n",
    "                    #plt.scatter(index[i], financial_data['Low'][i],\n",
    "                                #c='lime', label='Buy', linewidth=1)\n",
    "\n",
    "                    pltly_fig.add_trace(go.Scatter(x=[index[i]], y=[financial_data['Low'][i]], mode='markers', name='Buy', marker=dict(color='red')))\n",
    "                    \n",
    "                    last_signal = 2\n",
    "                    financial_data.loc[i, 'signal'] = 2\n",
    "\n",
    "    if to_plot:\n",
    "        #plt.figure(figsize=(16, 8))\n",
    "        pltly_fig.add_trace(go.Scatter(x=index, y=financial_data['Close'], mode='lines', name='Close',line_color='blue'))\n",
    "        pltly_fig.update_layout(title='Rolling Window', xaxis_title='Date', yaxis_title='Price')\n",
    "        pltly_fig.show()\n",
    "\n",
    "        \n",
    "\n",
    "    return financial_data\n"
   ]
  },
  {
   "cell_type": "code",
   "execution_count": 51,
   "metadata": {},
   "outputs": [],
   "source": [
    "financial_data = pd.read_csv(\n",
    "    \"..\\data\\EURUSD_Candlestick_4_Hour_ASK_05.05.2003-16.10.2021.csv\")\n",
    "\n",
    "# delete dollar sign\n",
    "try:\n",
    "    # Clean up dollar signs and convert columns to numeric values\n",
    "    financial_data[\"Close/Last\"] = financial_data[\"Close/Last\"].str.replace(\n",
    "        \"$\", \"\").astype(float)\n",
    "    financial_data[\"Open\"] = financial_data[\"Open\"].str.replace(\n",
    "        \"$\", \"\").astype(float)\n",
    "    financial_data[\"High\"] = financial_data[\"High\"].str.replace(\n",
    "        \"$\", \"\").astype(float)\n",
    "    financial_data[\"Low\"] = financial_data[\"Low\"].str.replace(\n",
    "        \"$\", \"\").astype(float)\n",
    "except Exception:\n",
    "    pass\n",
    "\n",
    "# rename the headers\n",
    "try:\n",
    "    financial_data.rename(columns={\"Close/Last\": \"Close\"}, inplace=True)\n",
    "except Exception:\n",
    "    pass\n"
   ]
  },
  {
   "cell_type": "code",
   "execution_count": 52,
   "metadata": {},
   "outputs": [],
   "source": [
    "financial_data.rename(columns={\"high\": \"High\"}, inplace=True)\n",
    "financial_data.rename(columns={\"low\": \"Low\"}, inplace=True)\n",
    "financial_data.rename(columns={\"open\": \"Open\"}, inplace=True)\n",
    "financial_data.rename(columns={\"volume\": \"Volume\"}, inplace=True)\n",
    "financial_data.rename(columns={\"close\": \"Close\"}, inplace=True)\n",
    "\n",
    "\n",
    "financial_data = financial_data.reset_index(drop=True)"
   ]
  },
  {
   "attachments": {},
   "cell_type": "markdown",
   "metadata": {},
   "source": [
    "## Experiment with trying to find the best combination of coefficients for a rolling window\n",
    "\n",
    "```\n",
    "highest_score = {\n",
    "    \"Equity Final [$]\": 0,\n",
    "    \"peak_coeff\": 0,\n",
    "    \"valley_coeff\": 0\n",
    "    \n",
    "}\n",
    "for j in range(1,10):\n",
    "    for i in range(1,10):\n",
    "        financial_data = rolling_window(financial_data, record_to_plot=1000, peak_coeff=j/10, valley_coeff=i/10, to_plot=False)\n",
    "        bt,stats = backtester(financial_data)\n",
    "        if stats[\"Equity Final [$]\"] > highest_score[\"Equity Final [$]\"]:\n",
    "            highest_score = stats\n",
    "            highest_score[\"peak_coeff\"] = j/10\n",
    "            highest_score[\"valley_coeff\"] = i/10\n",
    "                \n",
    "    print(highest_score)\n",
    "    \n",
    "```\n",
    "\n",
    "highest_score = {\n",
    "    \"Equity Final [$]\":  12141.7\n",
    "    \"peak_coeff\": 0.6,\n",
    "    \"valley_coeff\": 0.3\n",
    "     }\n"
   ]
  },
  {
   "cell_type": "code",
   "execution_count": 53,
   "metadata": {},
   "outputs": [
    {
     "name": "stderr",
     "output_type": "stream",
     "text": [
      "C:\\Users\\bobek\\AppData\\Local\\Temp\\ipykernel_4084\\2201326873.py:3: SettingWithCopyWarning:\n",
      "\n",
      "\n",
      "A value is trying to be set on a copy of a slice from a DataFrame.\n",
      "Try using .loc[row_indexer,col_indexer] = value instead\n",
      "\n",
      "See the caveats in the documentation: https://pandas.pydata.org/pandas-docs/stable/user_guide/indexing.html#returning-a-view-versus-a-copy\n",
      "\n"
     ]
    },
    {
     "data": {
      "application/vnd.plotly.v1+json": {
       "config": {
        "plotlyServerURL": "https://plot.ly"
       },
       "data": [
        {
         "marker": {
          "color": "lime"
         },
         "mode": "markers",
         "name": "Sell",
         "type": "scatter",
         "x": [
          30
         ],
         "y": [
          1.14946
         ]
        },
        {
         "marker": {
          "color": "red"
         },
         "mode": "markers",
         "name": "Buy",
         "type": "scatter",
         "x": [
          51
         ],
         "y": [
          1.14533
         ]
        },
        {
         "marker": {
          "color": "lime"
         },
         "mode": "markers",
         "name": "Sell",
         "type": "scatter",
         "x": [
          60
         ],
         "y": [
          1.16287
         ]
        },
        {
         "marker": {
          "color": "red"
         },
         "mode": "markers",
         "name": "Buy",
         "type": "scatter",
         "x": [
          110
         ],
         "y": [
          1.17024
         ]
        },
        {
         "marker": {
          "color": "lime"
         },
         "mode": "markers",
         "name": "Sell",
         "type": "scatter",
         "x": [
          112
         ],
         "y": [
          1.17407
         ]
        },
        {
         "marker": {
          "color": "red"
         },
         "mode": "markers",
         "name": "Buy",
         "type": "scatter",
         "x": [
          122
         ],
         "y": [
          1.16524
         ]
        },
        {
         "marker": {
          "color": "lime"
         },
         "mode": "markers",
         "name": "Sell",
         "type": "scatter",
         "x": [
          143
         ],
         "y": [
          1.17335
         ]
        },
        {
         "marker": {
          "color": "red"
         },
         "mode": "markers",
         "name": "Buy",
         "type": "scatter",
         "x": [
          149
         ],
         "y": [
          1.16843
         ]
        },
        {
         "marker": {
          "color": "lime"
         },
         "mode": "markers",
         "name": "Sell",
         "type": "scatter",
         "x": [
          171
         ],
         "y": [
          1.17507
         ]
        },
        {
         "marker": {
          "color": "red"
         },
         "mode": "markers",
         "name": "Buy",
         "type": "scatter",
         "x": [
          200
         ],
         "y": [
          1.15836
         ]
        },
        {
         "marker": {
          "color": "lime"
         },
         "mode": "markers",
         "name": "Sell",
         "type": "scatter",
         "x": [
          204
         ],
         "y": [
          1.1677
         ]
        },
        {
         "marker": {
          "color": "red"
         },
         "mode": "markers",
         "name": "Buy",
         "type": "scatter",
         "x": [
          214
         ],
         "y": [
          1.15204
         ]
        },
        {
         "marker": {
          "color": "lime"
         },
         "mode": "markers",
         "name": "Sell",
         "type": "scatter",
         "x": [
          245
         ],
         "y": [
          1.14209
         ]
        },
        {
         "marker": {
          "color": "red"
         },
         "mode": "markers",
         "name": "Buy",
         "type": "scatter",
         "x": [
          275
         ],
         "y": [
          1.13288
         ]
        },
        {
         "marker": {
          "color": "lime"
         },
         "mode": "markers",
         "name": "Sell",
         "type": "scatter",
         "x": [
          291
         ],
         "y": [
          1.1329
         ]
        },
        {
         "marker": {
          "color": "red"
         },
         "mode": "markers",
         "name": "Buy",
         "type": "scatter",
         "x": [
          312
         ],
         "y": [
          1.1156
         ]
        },
        {
         "marker": {
          "color": "lime"
         },
         "mode": "markers",
         "name": "Sell",
         "type": "scatter",
         "x": [
          345
         ],
         "y": [
          1.13499
         ]
        },
        {
         "marker": {
          "color": "red"
         },
         "mode": "markers",
         "name": "Buy",
         "type": "scatter",
         "x": [
          383
         ],
         "y": [
          1.12237
         ]
        },
        {
         "marker": {
          "color": "lime"
         },
         "mode": "markers",
         "name": "Sell",
         "type": "scatter",
         "x": [
          402
         ],
         "y": [
          1.1335
         ]
        },
        {
         "marker": {
          "color": "red"
         },
         "mode": "markers",
         "name": "Buy",
         "type": "scatter",
         "x": [
          421
         ],
         "y": [
          1.12788
         ]
        },
        {
         "marker": {
          "color": "lime"
         },
         "mode": "markers",
         "name": "Sell",
         "type": "scatter",
         "x": [
          424
         ],
         "y": [
          1.12628
         ]
        },
        {
         "marker": {
          "color": "red"
         },
         "mode": "markers",
         "name": "Buy",
         "type": "scatter",
         "x": [
          473
         ],
         "y": [
          1.09028
         ]
        },
        {
         "marker": {
          "color": "lime"
         },
         "mode": "markers",
         "name": "Sell",
         "type": "scatter",
         "x": [
          507
         ],
         "y": [
          1.08708
         ]
        },
        {
         "marker": {
          "color": "red"
         },
         "mode": "markers",
         "name": "Buy",
         "type": "scatter",
         "x": [
          519
         ],
         "y": [
          1.08564
         ]
        },
        {
         "marker": {
          "color": "lime"
         },
         "mode": "markers",
         "name": "Sell",
         "type": "scatter",
         "x": [
          540
         ],
         "y": [
          1.1084
         ]
        },
        {
         "marker": {
          "color": "red"
         },
         "mode": "markers",
         "name": "Buy",
         "type": "scatter",
         "x": [
          580
         ],
         "y": [
          1.12095
         ]
        },
        {
         "marker": {
          "color": "lime"
         },
         "mode": "markers",
         "name": "Sell",
         "type": "scatter",
         "x": [
          599
         ],
         "y": [
          1.12866
         ]
        },
        {
         "marker": {
          "color": "red"
         },
         "mode": "markers",
         "name": "Buy",
         "type": "scatter",
         "x": [
          629
         ],
         "y": [
          1.14417
         ]
        },
        {
         "marker": {
          "color": "lime"
         },
         "mode": "markers",
         "name": "Sell",
         "type": "scatter",
         "x": [
          638
         ],
         "y": [
          1.1601
         ]
        },
        {
         "marker": {
          "color": "red"
         },
         "mode": "markers",
         "name": "Buy",
         "type": "scatter",
         "x": [
          697
         ],
         "y": [
          1.16365
         ]
        },
        {
         "marker": {
          "color": "lime"
         },
         "mode": "markers",
         "name": "Sell",
         "type": "scatter",
         "x": [
          701
         ],
         "y": [
          1.16329
         ]
        },
        {
         "marker": {
          "color": "red"
         },
         "mode": "markers",
         "name": "Buy",
         "type": "scatter",
         "x": [
          706
         ],
         "y": [
          1.15906
         ]
        },
        {
         "marker": {
          "color": "lime"
         },
         "mode": "markers",
         "name": "Sell",
         "type": "scatter",
         "x": [
          737
         ],
         "y": [
          1.1704
         ]
        },
        {
         "marker": {
          "color": "red"
         },
         "mode": "markers",
         "name": "Buy",
         "type": "scatter",
         "x": [
          785
         ],
         "y": [
          1.14275
         ]
        },
        {
         "marker": {
          "color": "lime"
         },
         "mode": "markers",
         "name": "Sell",
         "type": "scatter",
         "x": [
          835
         ],
         "y": [
          1.17271
         ]
        },
        {
         "marker": {
          "color": "red"
         },
         "mode": "markers",
         "name": "Buy",
         "type": "scatter",
         "x": [
          873
         ],
         "y": [
          1.17805
         ]
        },
        {
         "marker": {
          "color": "lime"
         },
         "mode": "markers",
         "name": "Sell",
         "type": "scatter",
         "x": [
          898
         ],
         "y": [
          1.19644
         ]
        },
        {
         "marker": {
          "color": "red"
         },
         "mode": "markers",
         "name": "Buy",
         "type": "scatter",
         "x": [
          951
         ],
         "y": [
          1.21354
         ]
        },
        {
         "marker": {
          "color": "lime"
         },
         "mode": "markers",
         "name": "Sell",
         "type": "scatter",
         "x": [
          968
         ],
         "y": [
          1.23033
         ]
        },
        {
         "line": {
          "color": "blue"
         },
         "mode": "lines",
         "name": "Close",
         "type": "scatter",
         "x": [
          0,
          1,
          2,
          3,
          4,
          5,
          6,
          7,
          8,
          9,
          10,
          11,
          12,
          13,
          14,
          15,
          16,
          17,
          18,
          19,
          20,
          21,
          22,
          23,
          24,
          25,
          26,
          27,
          28,
          29,
          30,
          31,
          32,
          33,
          34,
          35,
          36,
          37,
          38,
          39,
          40,
          41,
          42,
          43,
          44,
          45,
          46,
          47,
          48,
          49,
          50,
          51,
          52,
          53,
          54,
          55,
          56,
          57,
          58,
          59,
          60,
          61,
          62,
          63,
          64,
          65,
          66,
          67,
          68,
          69,
          70,
          71,
          72,
          73,
          74,
          75,
          76,
          77,
          78,
          79,
          80,
          81,
          82,
          83,
          84,
          85,
          86,
          87,
          88,
          89,
          90,
          91,
          92,
          93,
          94,
          95,
          96,
          97,
          98,
          99,
          100,
          101,
          102,
          103,
          104,
          105,
          106,
          107,
          108,
          109,
          110,
          111,
          112,
          113,
          114,
          115,
          116,
          117,
          118,
          119,
          120,
          121,
          122,
          123,
          124,
          125,
          126,
          127,
          128,
          129,
          130,
          131,
          132,
          133,
          134,
          135,
          136,
          137,
          138,
          139,
          140,
          141,
          142,
          143,
          144,
          145,
          146,
          147,
          148,
          149,
          150,
          151,
          152,
          153,
          154,
          155,
          156,
          157,
          158,
          159,
          160,
          161,
          162,
          163,
          164,
          165,
          166,
          167,
          168,
          169,
          170,
          171,
          172,
          173,
          174,
          175,
          176,
          177,
          178,
          179,
          180,
          181,
          182,
          183,
          184,
          185,
          186,
          187,
          188,
          189,
          190,
          191,
          192,
          193,
          194,
          195,
          196,
          197,
          198,
          199,
          200,
          201,
          202,
          203,
          204,
          205,
          206,
          207,
          208,
          209,
          210,
          211,
          212,
          213,
          214,
          215,
          216,
          217,
          218,
          219,
          220,
          221,
          222,
          223,
          224,
          225,
          226,
          227,
          228,
          229,
          230,
          231,
          232,
          233,
          234,
          235,
          236,
          237,
          238,
          239,
          240,
          241,
          242,
          243,
          244,
          245,
          246,
          247,
          248,
          249,
          250,
          251,
          252,
          253,
          254,
          255,
          256,
          257,
          258,
          259,
          260,
          261,
          262,
          263,
          264,
          265,
          266,
          267,
          268,
          269,
          270,
          271,
          272,
          273,
          274,
          275,
          276,
          277,
          278,
          279,
          280,
          281,
          282,
          283,
          284,
          285,
          286,
          287,
          288,
          289,
          290,
          291,
          292,
          293,
          294,
          295,
          296,
          297,
          298,
          299,
          300,
          301,
          302,
          303,
          304,
          305,
          306,
          307,
          308,
          309,
          310,
          311,
          312,
          313,
          314,
          315,
          316,
          317,
          318,
          319,
          320,
          321,
          322,
          323,
          324,
          325,
          326,
          327,
          328,
          329,
          330,
          331,
          332,
          333,
          334,
          335,
          336,
          337,
          338,
          339,
          340,
          341,
          342,
          343,
          344,
          345,
          346,
          347,
          348,
          349,
          350,
          351,
          352,
          353,
          354,
          355,
          356,
          357,
          358,
          359,
          360,
          361,
          362,
          363,
          364,
          365,
          366,
          367,
          368,
          369,
          370,
          371,
          372,
          373,
          374,
          375,
          376,
          377,
          378,
          379,
          380,
          381,
          382,
          383,
          384,
          385,
          386,
          387,
          388,
          389,
          390,
          391,
          392,
          393,
          394,
          395,
          396,
          397,
          398,
          399,
          400,
          401,
          402,
          403,
          404,
          405,
          406,
          407,
          408,
          409,
          410,
          411,
          412,
          413,
          414,
          415,
          416,
          417,
          418,
          419,
          420,
          421,
          422,
          423,
          424,
          425,
          426,
          427,
          428,
          429,
          430,
          431,
          432,
          433,
          434,
          435,
          436,
          437,
          438,
          439,
          440,
          441,
          442,
          443,
          444,
          445,
          446,
          447,
          448,
          449,
          450,
          451,
          452,
          453,
          454,
          455,
          456,
          457,
          458,
          459,
          460,
          461,
          462,
          463,
          464,
          465,
          466,
          467,
          468,
          469,
          470,
          471,
          472,
          473,
          474,
          475,
          476,
          477,
          478,
          479,
          480,
          481,
          482,
          483,
          484,
          485,
          486,
          487,
          488,
          489,
          490,
          491,
          492,
          493,
          494,
          495,
          496,
          497,
          498,
          499,
          500,
          501,
          502,
          503,
          504,
          505,
          506,
          507,
          508,
          509,
          510,
          511,
          512,
          513,
          514,
          515,
          516,
          517,
          518,
          519,
          520,
          521,
          522,
          523,
          524,
          525,
          526,
          527,
          528,
          529,
          530,
          531,
          532,
          533,
          534,
          535,
          536,
          537,
          538,
          539,
          540,
          541,
          542,
          543,
          544,
          545,
          546,
          547,
          548,
          549,
          550,
          551,
          552,
          553,
          554,
          555,
          556,
          557,
          558,
          559,
          560,
          561,
          562,
          563,
          564,
          565,
          566,
          567,
          568,
          569,
          570,
          571,
          572,
          573,
          574,
          575,
          576,
          577,
          578,
          579,
          580,
          581,
          582,
          583,
          584,
          585,
          586,
          587,
          588,
          589,
          590,
          591,
          592,
          593,
          594,
          595,
          596,
          597,
          598,
          599,
          600,
          601,
          602,
          603,
          604,
          605,
          606,
          607,
          608,
          609,
          610,
          611,
          612,
          613,
          614,
          615,
          616,
          617,
          618,
          619,
          620,
          621,
          622,
          623,
          624,
          625,
          626,
          627,
          628,
          629,
          630,
          631,
          632,
          633,
          634,
          635,
          636,
          637,
          638,
          639,
          640,
          641,
          642,
          643,
          644,
          645,
          646,
          647,
          648,
          649,
          650,
          651,
          652,
          653,
          654,
          655,
          656,
          657,
          658,
          659,
          660,
          661,
          662,
          663,
          664,
          665,
          666,
          667,
          668,
          669,
          670,
          671,
          672,
          673,
          674,
          675,
          676,
          677,
          678,
          679,
          680,
          681,
          682,
          683,
          684,
          685,
          686,
          687,
          688,
          689,
          690,
          691,
          692,
          693,
          694,
          695,
          696,
          697,
          698,
          699,
          700,
          701,
          702,
          703,
          704,
          705,
          706,
          707,
          708,
          709,
          710,
          711,
          712,
          713,
          714,
          715,
          716,
          717,
          718,
          719,
          720,
          721,
          722,
          723,
          724,
          725,
          726,
          727,
          728,
          729,
          730,
          731,
          732,
          733,
          734,
          735,
          736,
          737,
          738,
          739,
          740,
          741,
          742,
          743,
          744,
          745,
          746,
          747,
          748,
          749,
          750,
          751,
          752,
          753,
          754,
          755,
          756,
          757,
          758,
          759,
          760,
          761,
          762,
          763,
          764,
          765,
          766,
          767,
          768,
          769,
          770,
          771,
          772,
          773,
          774,
          775,
          776,
          777,
          778,
          779,
          780,
          781,
          782,
          783,
          784,
          785,
          786,
          787,
          788,
          789,
          790,
          791,
          792,
          793,
          794,
          795,
          796,
          797,
          798,
          799,
          800,
          801,
          802,
          803,
          804,
          805,
          806,
          807,
          808,
          809,
          810,
          811,
          812,
          813,
          814,
          815,
          816,
          817,
          818,
          819,
          820,
          821,
          822,
          823,
          824,
          825,
          826,
          827,
          828,
          829,
          830,
          831,
          832,
          833,
          834,
          835,
          836,
          837,
          838,
          839,
          840,
          841,
          842,
          843,
          844,
          845,
          846,
          847,
          848,
          849,
          850,
          851,
          852,
          853,
          854,
          855,
          856,
          857,
          858,
          859,
          860,
          861,
          862,
          863,
          864,
          865,
          866,
          867,
          868,
          869,
          870,
          871,
          872,
          873,
          874,
          875,
          876,
          877,
          878,
          879,
          880,
          881,
          882,
          883,
          884,
          885,
          886,
          887,
          888,
          889,
          890,
          891,
          892,
          893,
          894,
          895,
          896,
          897,
          898,
          899,
          900,
          901,
          902,
          903,
          904,
          905,
          906,
          907,
          908,
          909,
          910,
          911,
          912,
          913,
          914,
          915,
          916,
          917,
          918,
          919,
          920,
          921,
          922,
          923,
          924,
          925,
          926,
          927,
          928,
          929,
          930,
          931,
          932,
          933,
          934,
          935,
          936,
          937,
          938,
          939,
          940,
          941,
          942,
          943,
          944,
          945,
          946,
          947,
          948,
          949,
          950,
          951,
          952,
          953,
          954,
          955,
          956,
          957,
          958,
          959,
          960,
          961,
          962,
          963,
          964,
          965,
          966,
          967,
          968,
          969,
          970,
          971,
          972,
          973,
          974,
          975,
          976,
          977,
          978,
          979,
          980,
          981,
          982,
          983,
          984,
          985,
          986,
          987,
          988,
          989,
          990,
          991,
          992,
          993,
          994,
          995,
          996,
          997,
          998,
          999
         ],
         "y": [
          1.12274,
          1.12126,
          1.12113,
          1.12174,
          1.12712,
          1.12804,
          1.12913,
          1.12855,
          1.13381,
          1.13456,
          1.13515,
          1.14368,
          1.14274,
          1.14191,
          1.13995,
          1.14164,
          1.13381,
          1.13677,
          1.13607,
          1.1321,
          1.13312,
          1.14334,
          1.1454,
          1.15026,
          1.15164,
          1.15215,
          1.15142,
          1.14825,
          1.14952,
          1.14907,
          1.15536,
          1.15733,
          1.16077,
          1.15876,
          1.15553,
          1.15457,
          1.1515,
          1.14968,
          1.14958,
          1.15263,
          1.15002,
          1.1515,
          1.15216,
          1.15113,
          1.15223,
          1.14919,
          1.14972,
          1.1497,
          1.14713,
          1.14456,
          1.14583,
          1.14749,
          1.14567,
          1.13877,
          1.13881,
          1.14088,
          1.1406,
          1.1481,
          1.15443,
          1.15735,
          1.16688,
          1.16944,
          1.16904,
          1.16657,
          1.1684,
          1.16596,
          1.16309,
          1.16517,
          1.16176,
          1.16434,
          1.16859,
          1.17069,
          1.17225,
          1.17167,
          1.17148,
          1.16859,
          1.17058,
          1.16746,
          1.16541,
          1.16426,
          1.16458,
          1.17167,
          1.16982,
          1.16938,
          1.16802,
          1.16772,
          1.17131,
          1.17905,
          1.17819,
          1.18266,
          1.18139,
          1.18178,
          1.18073,
          1.1811,
          1.18613,
          1.1869,
          1.1862,
          1.18871,
          1.18807,
          1.1897,
          1.18534,
          1.18288,
          1.18116,
          1.18322,
          1.17695,
          1.172,
          1.17427,
          1.17649,
          1.1754,
          1.17423,
          1.17036,
          1.17606,
          1.1825,
          1.18833,
          1.18828,
          1.18734,
          1.18536,
          1.18272,
          1.1762,
          1.17691,
          1.17825,
          1.17229,
          1.16748,
          1.16841,
          1.16758,
          1.17402,
          1.17473,
          1.17418,
          1.17552,
          1.17714,
          1.1725,
          1.16998,
          1.17391,
          1.17232,
          1.17247,
          1.17373,
          1.17039,
          1.17053,
          1.16645,
          1.16468,
          1.16531,
          1.16646,
          1.17341,
          1.18692,
          1.18405,
          1.18342,
          1.18484,
          1.18319,
          1.18172,
          1.16932,
          1.17001,
          1.17032,
          1.17041,
          1.16785,
          1.17224,
          1.17399,
          1.17161,
          1.17111,
          1.17227,
          1.17057,
          1.17109,
          1.16831,
          1.16759,
          1.16708,
          1.16754,
          1.17029,
          1.1753,
          1.17637,
          1.17421,
          1.17542,
          1.17603,
          1.18002,
          1.1746,
          1.17651,
          1.17638,
          1.17716,
          1.17599,
          1.177,
          1.17518,
          1.18232,
          1.1863,
          1.18763,
          1.18736,
          1.19188,
          1.18738,
          1.18412,
          1.18356,
          1.18263,
          1.18438,
          1.18326,
          1.17881,
          1.1809,
          1.17937,
          1.17818,
          1.17929,
          1.17624,
          1.17017,
          1.17068,
          1.16883,
          1.16818,
          1.16146,
          1.16186,
          1.16598,
          1.16805,
          1.17203,
          1.17076,
          1.17232,
          1.16906,
          1.16539,
          1.16138,
          1.1604,
          1.15806,
          1.15898,
          1.15874,
          1.15424,
          1.15452,
          1.15429,
          1.15442,
          1.1552,
          1.15417,
          1.15743,
          1.14956,
          1.15171,
          1.15028,
          1.1516,
          1.15201,
          1.15371,
          1.15879,
          1.15398,
          1.15354,
          1.15364,
          1.15101,
          1.14404,
          1.14292,
          1.14181,
          1.14257,
          1.14486,
          1.14144,
          1.14228,
          1.14177,
          1.14254,
          1.14153,
          1.14344,
          1.14553,
          1.14277,
          1.14994,
          1.15116,
          1.15185,
          1.15136,
          1.1537,
          1.15456,
          1.15772,
          1.15608,
          1.15545,
          1.15498,
          1.15338,
          1.15321,
          1.15237,
          1.15396,
          1.15272,
          1.15197,
          1.14754,
          1.14537,
          1.15029,
          1.14945,
          1.14829,
          1.14684,
          1.14741,
          1.14583,
          1.14894,
          1.14892,
          1.1468,
          1.14566,
          1.14119,
          1.13629,
          1.13409,
          1.13252,
          1.13237,
          1.13232,
          1.13152,
          1.13161,
          1.12641,
          1.13151,
          1.13118,
          1.13194,
          1.13253,
          1.13517,
          1.13115,
          1.13481,
          1.13347,
          1.13348,
          1.13573,
          1.13419,
          1.13873,
          1.13891,
          1.13504,
          1.13104,
          1.13331,
          1.13014,
          1.13043,
          1.1299,
          1.12745,
          1.12696,
          1.12641,
          1.12968,
          1.12967,
          1.12779,
          1.12727,
          1.12537,
          1.12832,
          1.13237,
          1.12323,
          1.11858,
          1.11341,
          1.11482,
          1.11294,
          1.11375,
          1.12074,
          1.12068,
          1.12175,
          1.12175,
          1.12343,
          1.124,
          1.11634,
          1.12079,
          1.12373,
          1.12346,
          1.1224,
          1.11902,
          1.1236,
          1.12746,
          1.12621,
          1.12863,
          1.12628,
          1.12729,
          1.13377,
          1.13495,
          1.13398,
          1.13205,
          1.13491,
          1.13494,
          1.13254,
          1.13315,
          1.13199,
          1.1352,
          1.13869,
          1.14131,
          1.1481,
          1.14754,
          1.14815,
          1.1478,
          1.15054,
          1.1472,
          1.144,
          1.14695,
          1.14606,
          1.1462,
          1.14916,
          1.14833,
          1.15124,
          1.15079,
          1.14884,
          1.14728,
          1.1513,
          1.14838,
          1.15048,
          1.14909,
          1.14881,
          1.15031,
          1.15122,
          1.1474,
          1.1467,
          1.14589,
          1.14427,
          1.14399,
          1.14413,
          1.14082,
          1.13664,
          1.13426,
          1.13437,
          1.13384,
          1.13269,
          1.13094,
          1.12331,
          1.12428,
          1.12341,
          1.12364,
          1.11525,
          1.11794,
          1.12536,
          1.12541,
          1.12661,
          1.12712,
          1.1303,
          1.13027,
          1.13653,
          1.1357,
          1.13432,
          1.13544,
          1.13542,
          1.13154,
          1.13376,
          1.13893,
          1.13846,
          1.14067,
          1.14005,
          1.13634,
          1.13703,
          1.13321,
          1.13343,
          1.13342,
          1.1346,
          1.13602,
          1.13824,
          1.13732,
          1.13606,
          1.13587,
          1.13314,
          1.13142,
          1.13028,
          1.13083,
          1.12821,
          1.12837,
          1.12754,
          1.1316,
          1.13729,
          1.13582,
          1.13539,
          1.13549,
          1.13554,
          1.12891,
          1.13021,
          1.1283,
          1.12635,
          1.12607,
          1.1251,
          1.12544,
          1.13103,
          1.1322,
          1.13264,
          1.1325,
          1.13249,
          1.126,
          1.12332,
          1.12577,
          1.12627,
          1.12506,
          1.12584,
          1.12591,
          1.12514,
          1.12663,
          1.12418,
          1.12262,
          1.12249,
          1.11713,
          1.11434,
          1.11428,
          1.11394,
          1.11252,
          1.11035,
          1.10669,
          1.1126,
          1.11392,
          1.11178,
          1.11069,
          1.11179,
          1.11197,
          1.1109,
          1.11185,
          1.10856,
          1.10838,
          1.10026,
          1.0997,
          1.09391,
          1.09226,
          1.09204,
          1.09276,
          1.09253,
          1.08772,
          1.08805,
          1.08761,
          1.08713,
          1.08699,
          1.09061,
          1.08908,
          1.0868,
          1.08735,
          1.08332,
          1.08423,
          1.08573,
          1.08131,
          1.08946,
          1.08542,
          1.08606,
          1.08395,
          1.08921,
          1.09123,
          1.09009,
          1.0886,
          1.08589,
          1.08507,
          1.08684,
          1.08399,
          1.08869,
          1.08811,
          1.08892,
          1.08765,
          1.09079,
          1.09393,
          1.09651,
          1.09847,
          1.09776,
          1.09832,
          1.09819,
          1.09748,
          1.09615,
          1.09675,
          1.09402,
          1.09294,
          1.08662,
          1.08527,
          1.08569,
          1.08079,
          1.07793,
          1.07816,
          1.07994,
          1.07865,
          1.08468,
          1.08474,
          1.08285,
          1.08322,
          1.08329,
          1.08591,
          1.09085,
          1.0943,
          1.09261,
          1.09588,
          1.09445,
          1.09298,
          1.10909,
          1.11049,
          1.10991,
          1.10808,
          1.10672,
          1.10657,
          1.11229,
          1.10649,
          1.10594,
          1.1093,
          1.11074,
          1.11504,
          1.12233,
          1.12238,
          1.12194,
          1.12164,
          1.11855,
          1.12075,
          1.11799,
          1.12076,
          1.11898,
          1.12044,
          1.12266,
          1.11858,
          1.11933,
          1.12089,
          1.11852,
          1.11842,
          1.11697,
          1.12481,
          1.1317,
          1.12913,
          1.12696,
          1.12712,
          1.1268,
          1.12649,
          1.13026,
          1.12817,
          1.12879,
          1.13061,
          1.12522,
          1.12375,
          1.11658,
          1.11746,
          1.1157,
          1.11541,
          1.11645,
          1.12077,
          1.12399,
          1.12834,
          1.12782,
          1.127,
          1.12771,
          1.1293,
          1.12598,
          1.12556,
          1.12409,
          1.12539,
          1.12658,
          1.13077,
          1.13713,
          1.13792,
          1.14425,
          1.14441,
          1.14778,
          1.14487,
          1.14942,
          1.14602,
          1.14636,
          1.14772,
          1.14908,
          1.14728,
          1.14869,
          1.14404,
          1.14433,
          1.14579,
          1.1476,
          1.14625,
          1.1473,
          1.14949,
          1.14777,
          1.1473,
          1.14751,
          1.14739,
          1.14917,
          1.14902,
          1.1477,
          1.14709,
          1.14696,
          1.14453,
          1.14805,
          1.14607,
          1.14496,
          1.14445,
          1.14051,
          1.14344,
          1.1578,
          1.15971,
          1.16049,
          1.16241,
          1.16634,
          1.16726,
          1.16646,
          1.16547,
          1.16728,
          1.16721,
          1.16735,
          1.16653,
          1.16934,
          1.17146,
          1.17204,
          1.17532,
          1.17362,
          1.16879,
          1.1691,
          1.16926,
          1.16874,
          1.16961,
          1.17009,
          1.1617,
          1.15583,
          1.1581,
          1.15763,
          1.15614,
          1.15862,
          1.16251,
          1.1709,
          1.17079,
          1.17093,
          1.17114,
          1.17855,
          1.17695,
          1.17741,
          1.1759,
          1.17784,
          1.17842,
          1.18095,
          1.17873,
          1.17941,
          1.18092,
          1.18313,
          1.18277,
          1.18429,
          1.1723,
          1.17005,
          1.17457,
          1.17209,
          1.17383,
          1.17254,
          1.18236,
          1.18038,
          1.17958,
          1.18022,
          1.1791,
          1.1659,
          1.17226,
          1.16829,
          1.1703,
          1.16394,
          1.16138,
          1.16236,
          1.16391,
          1.17521,
          1.17234,
          1.17206,
          1.17153,
          1.16918,
          1.15909,
          1.16415,
          1.16339,
          1.16248,
          1.16438,
          1.16035,
          1.16351,
          1.16192,
          1.15873,
          1.1587,
          1.16011,
          1.15951,
          1.15647,
          1.16258,
          1.16812,
          1.16793,
          1.16226,
          1.16813,
          1.16258,
          1.16535,
          1.16336,
          1.1631,
          1.16338,
          1.16436,
          1.1652,
          1.16761,
          1.16671,
          1.16533,
          1.16679,
          1.16911,
          1.17055,
          1.17931,
          1.18011,
          1.18131,
          1.18128,
          1.18005,
          1.17932,
          1.17789,
          1.17915,
          1.18079,
          1.18156,
          1.17854,
          1.18047,
          1.18443,
          1.17797,
          1.177,
          1.17416,
          1.1767,
          1.1742,
          1.17644,
          1.1744,
          1.17044,
          1.17076,
          1.17202,
          1.16724,
          1.16736,
          1.16704,
          1.16866,
          1.16938,
          1.17046,
          1.16954,
          1.16772,
          1.16618,
          1.16618,
          1.16764,
          1.16739,
          1.17141,
          1.16312,
          1.16225,
          1.16188,
          1.1611,
          1.16334,
          1.16423,
          1.15903,
          1.15877,
          1.1572,
          1.15814,
          1.15829,
          1.1593,
          1.14549,
          1.14554,
          1.1442,
          1.145,
          1.14534,
          1.14693,
          1.15013,
          1.14933,
          1.14741,
          1.14847,
          1.14592,
          1.14542,
          1.14585,
          1.14378,
          1.1424,
          1.14448,
          1.14524,
          1.14048,
          1.14137,
          1.14153,
          1.14213,
          1.14124,
          1.14176,
          1.13861,
          1.15175,
          1.15295,
          1.15222,
          1.15215,
          1.14951,
          1.14842,
          1.14967,
          1.14797,
          1.14759,
          1.14773,
          1.15,
          1.14967,
          1.15065,
          1.152,
          1.1527,
          1.15615,
          1.1575,
          1.1589,
          1.16532,
          1.16284,
          1.16449,
          1.16526,
          1.16862,
          1.17106,
          1.16966,
          1.17322,
          1.17461,
          1.17873,
          1.17806,
          1.17401,
          1.17494,
          1.17758,
          1.18091,
          1.17933,
          1.18247,
          1.18058,
          1.17381,
          1.17471,
          1.17666,
          1.17719,
          1.17631,
          1.17804,
          1.19006,
          1.1971,
          1.19478,
          1.19585,
          1.19251,
          1.19194,
          1.19023,
          1.18758,
          1.19112,
          1.19089,
          1.192,
          1.19328,
          1.1892,
          1.19111,
          1.18868,
          1.18867,
          1.18791,
          1.19146,
          1.19142,
          1.19152,
          1.19123,
          1.19045,
          1.17807,
          1.18141,
          1.17637,
          1.177,
          1.17792,
          1.17987,
          1.17737,
          1.18032,
          1.17931,
          1.17899,
          1.17925,
          1.17972,
          1.1834,
          1.18055,
          1.19168,
          1.194,
          1.19217,
          1.19321,
          1.19143,
          1.18941,
          1.18965,
          1.19071,
          1.19069,
          1.19281,
          1.19775,
          1.19982,
          1.19886,
          1.19928,
          1.20161,
          1.20037,
          1.20014,
          1.20073,
          1.19632,
          1.19805,
          1.1975,
          1.19818,
          1.19633,
          1.19795,
          1.20854,
          1.20811,
          1.20818,
          1.20823,
          1.21015,
          1.20891,
          1.2087,
          1.21077,
          1.21151,
          1.20583,
          1.20688,
          1.21201,
          1.21104,
          1.20855,
          1.2076,
          1.2083,
          1.20625,
          1.21258,
          1.21506,
          1.2166,
          1.2163,
          1.21574,
          1.21818,
          1.2225,
          1.2225,
          1.2218,
          1.22227,
          1.22256,
          1.22658,
          1.22445,
          1.22096,
          1.22543,
          1.22131,
          1.22084,
          1.22022,
          1.22431,
          1.22185,
          1.22145,
          1.22019,
          1.21852,
          1.21601,
          1.2153,
          1.21588,
          1.22187,
          1.22119,
          1.22207,
          1.22414,
          1.22242,
          1.22938,
          1.22756,
          1.21878,
          1.21919,
          1.22328,
          1.22553,
          1.23123,
          1.23173,
          1.23078,
          1.23324,
          1.23457,
          1.23295,
          1.23291,
          1.23302,
          1.23182,
          1.23235,
          1.23446,
          1.2373,
          1.2408,
          1.24107,
          1.24,
          1.24014,
          1.24254,
          1.23761,
          1.24123,
          1.24231,
          1.24132,
          1.24151,
          1.24262,
          1.24181,
          1.23925,
          1.23739,
          1.23771,
          1.23893,
          1.24324,
          1.24231,
          1.24056,
          1.23956,
          1.23981,
          1.23991,
          1.24202
         ]
        }
       ],
       "layout": {
        "template": {
         "data": {
          "bar": [
           {
            "error_x": {
             "color": "#2a3f5f"
            },
            "error_y": {
             "color": "#2a3f5f"
            },
            "marker": {
             "line": {
              "color": "#E5ECF6",
              "width": 0.5
             },
             "pattern": {
              "fillmode": "overlay",
              "size": 10,
              "solidity": 0.2
             }
            },
            "type": "bar"
           }
          ],
          "barpolar": [
           {
            "marker": {
             "line": {
              "color": "#E5ECF6",
              "width": 0.5
             },
             "pattern": {
              "fillmode": "overlay",
              "size": 10,
              "solidity": 0.2
             }
            },
            "type": "barpolar"
           }
          ],
          "carpet": [
           {
            "aaxis": {
             "endlinecolor": "#2a3f5f",
             "gridcolor": "white",
             "linecolor": "white",
             "minorgridcolor": "white",
             "startlinecolor": "#2a3f5f"
            },
            "baxis": {
             "endlinecolor": "#2a3f5f",
             "gridcolor": "white",
             "linecolor": "white",
             "minorgridcolor": "white",
             "startlinecolor": "#2a3f5f"
            },
            "type": "carpet"
           }
          ],
          "choropleth": [
           {
            "colorbar": {
             "outlinewidth": 0,
             "ticks": ""
            },
            "type": "choropleth"
           }
          ],
          "contour": [
           {
            "colorbar": {
             "outlinewidth": 0,
             "ticks": ""
            },
            "colorscale": [
             [
              0,
              "#0d0887"
             ],
             [
              0.1111111111111111,
              "#46039f"
             ],
             [
              0.2222222222222222,
              "#7201a8"
             ],
             [
              0.3333333333333333,
              "#9c179e"
             ],
             [
              0.4444444444444444,
              "#bd3786"
             ],
             [
              0.5555555555555556,
              "#d8576b"
             ],
             [
              0.6666666666666666,
              "#ed7953"
             ],
             [
              0.7777777777777778,
              "#fb9f3a"
             ],
             [
              0.8888888888888888,
              "#fdca26"
             ],
             [
              1,
              "#f0f921"
             ]
            ],
            "type": "contour"
           }
          ],
          "contourcarpet": [
           {
            "colorbar": {
             "outlinewidth": 0,
             "ticks": ""
            },
            "type": "contourcarpet"
           }
          ],
          "heatmap": [
           {
            "colorbar": {
             "outlinewidth": 0,
             "ticks": ""
            },
            "colorscale": [
             [
              0,
              "#0d0887"
             ],
             [
              0.1111111111111111,
              "#46039f"
             ],
             [
              0.2222222222222222,
              "#7201a8"
             ],
             [
              0.3333333333333333,
              "#9c179e"
             ],
             [
              0.4444444444444444,
              "#bd3786"
             ],
             [
              0.5555555555555556,
              "#d8576b"
             ],
             [
              0.6666666666666666,
              "#ed7953"
             ],
             [
              0.7777777777777778,
              "#fb9f3a"
             ],
             [
              0.8888888888888888,
              "#fdca26"
             ],
             [
              1,
              "#f0f921"
             ]
            ],
            "type": "heatmap"
           }
          ],
          "heatmapgl": [
           {
            "colorbar": {
             "outlinewidth": 0,
             "ticks": ""
            },
            "colorscale": [
             [
              0,
              "#0d0887"
             ],
             [
              0.1111111111111111,
              "#46039f"
             ],
             [
              0.2222222222222222,
              "#7201a8"
             ],
             [
              0.3333333333333333,
              "#9c179e"
             ],
             [
              0.4444444444444444,
              "#bd3786"
             ],
             [
              0.5555555555555556,
              "#d8576b"
             ],
             [
              0.6666666666666666,
              "#ed7953"
             ],
             [
              0.7777777777777778,
              "#fb9f3a"
             ],
             [
              0.8888888888888888,
              "#fdca26"
             ],
             [
              1,
              "#f0f921"
             ]
            ],
            "type": "heatmapgl"
           }
          ],
          "histogram": [
           {
            "marker": {
             "pattern": {
              "fillmode": "overlay",
              "size": 10,
              "solidity": 0.2
             }
            },
            "type": "histogram"
           }
          ],
          "histogram2d": [
           {
            "colorbar": {
             "outlinewidth": 0,
             "ticks": ""
            },
            "colorscale": [
             [
              0,
              "#0d0887"
             ],
             [
              0.1111111111111111,
              "#46039f"
             ],
             [
              0.2222222222222222,
              "#7201a8"
             ],
             [
              0.3333333333333333,
              "#9c179e"
             ],
             [
              0.4444444444444444,
              "#bd3786"
             ],
             [
              0.5555555555555556,
              "#d8576b"
             ],
             [
              0.6666666666666666,
              "#ed7953"
             ],
             [
              0.7777777777777778,
              "#fb9f3a"
             ],
             [
              0.8888888888888888,
              "#fdca26"
             ],
             [
              1,
              "#f0f921"
             ]
            ],
            "type": "histogram2d"
           }
          ],
          "histogram2dcontour": [
           {
            "colorbar": {
             "outlinewidth": 0,
             "ticks": ""
            },
            "colorscale": [
             [
              0,
              "#0d0887"
             ],
             [
              0.1111111111111111,
              "#46039f"
             ],
             [
              0.2222222222222222,
              "#7201a8"
             ],
             [
              0.3333333333333333,
              "#9c179e"
             ],
             [
              0.4444444444444444,
              "#bd3786"
             ],
             [
              0.5555555555555556,
              "#d8576b"
             ],
             [
              0.6666666666666666,
              "#ed7953"
             ],
             [
              0.7777777777777778,
              "#fb9f3a"
             ],
             [
              0.8888888888888888,
              "#fdca26"
             ],
             [
              1,
              "#f0f921"
             ]
            ],
            "type": "histogram2dcontour"
           }
          ],
          "mesh3d": [
           {
            "colorbar": {
             "outlinewidth": 0,
             "ticks": ""
            },
            "type": "mesh3d"
           }
          ],
          "parcoords": [
           {
            "line": {
             "colorbar": {
              "outlinewidth": 0,
              "ticks": ""
             }
            },
            "type": "parcoords"
           }
          ],
          "pie": [
           {
            "automargin": true,
            "type": "pie"
           }
          ],
          "scatter": [
           {
            "fillpattern": {
             "fillmode": "overlay",
             "size": 10,
             "solidity": 0.2
            },
            "type": "scatter"
           }
          ],
          "scatter3d": [
           {
            "line": {
             "colorbar": {
              "outlinewidth": 0,
              "ticks": ""
             }
            },
            "marker": {
             "colorbar": {
              "outlinewidth": 0,
              "ticks": ""
             }
            },
            "type": "scatter3d"
           }
          ],
          "scattercarpet": [
           {
            "marker": {
             "colorbar": {
              "outlinewidth": 0,
              "ticks": ""
             }
            },
            "type": "scattercarpet"
           }
          ],
          "scattergeo": [
           {
            "marker": {
             "colorbar": {
              "outlinewidth": 0,
              "ticks": ""
             }
            },
            "type": "scattergeo"
           }
          ],
          "scattergl": [
           {
            "marker": {
             "colorbar": {
              "outlinewidth": 0,
              "ticks": ""
             }
            },
            "type": "scattergl"
           }
          ],
          "scattermapbox": [
           {
            "marker": {
             "colorbar": {
              "outlinewidth": 0,
              "ticks": ""
             }
            },
            "type": "scattermapbox"
           }
          ],
          "scatterpolar": [
           {
            "marker": {
             "colorbar": {
              "outlinewidth": 0,
              "ticks": ""
             }
            },
            "type": "scatterpolar"
           }
          ],
          "scatterpolargl": [
           {
            "marker": {
             "colorbar": {
              "outlinewidth": 0,
              "ticks": ""
             }
            },
            "type": "scatterpolargl"
           }
          ],
          "scatterternary": [
           {
            "marker": {
             "colorbar": {
              "outlinewidth": 0,
              "ticks": ""
             }
            },
            "type": "scatterternary"
           }
          ],
          "surface": [
           {
            "colorbar": {
             "outlinewidth": 0,
             "ticks": ""
            },
            "colorscale": [
             [
              0,
              "#0d0887"
             ],
             [
              0.1111111111111111,
              "#46039f"
             ],
             [
              0.2222222222222222,
              "#7201a8"
             ],
             [
              0.3333333333333333,
              "#9c179e"
             ],
             [
              0.4444444444444444,
              "#bd3786"
             ],
             [
              0.5555555555555556,
              "#d8576b"
             ],
             [
              0.6666666666666666,
              "#ed7953"
             ],
             [
              0.7777777777777778,
              "#fb9f3a"
             ],
             [
              0.8888888888888888,
              "#fdca26"
             ],
             [
              1,
              "#f0f921"
             ]
            ],
            "type": "surface"
           }
          ],
          "table": [
           {
            "cells": {
             "fill": {
              "color": "#EBF0F8"
             },
             "line": {
              "color": "white"
             }
            },
            "header": {
             "fill": {
              "color": "#C8D4E3"
             },
             "line": {
              "color": "white"
             }
            },
            "type": "table"
           }
          ]
         },
         "layout": {
          "annotationdefaults": {
           "arrowcolor": "#2a3f5f",
           "arrowhead": 0,
           "arrowwidth": 1
          },
          "autotypenumbers": "strict",
          "coloraxis": {
           "colorbar": {
            "outlinewidth": 0,
            "ticks": ""
           }
          },
          "colorscale": {
           "diverging": [
            [
             0,
             "#8e0152"
            ],
            [
             0.1,
             "#c51b7d"
            ],
            [
             0.2,
             "#de77ae"
            ],
            [
             0.3,
             "#f1b6da"
            ],
            [
             0.4,
             "#fde0ef"
            ],
            [
             0.5,
             "#f7f7f7"
            ],
            [
             0.6,
             "#e6f5d0"
            ],
            [
             0.7,
             "#b8e186"
            ],
            [
             0.8,
             "#7fbc41"
            ],
            [
             0.9,
             "#4d9221"
            ],
            [
             1,
             "#276419"
            ]
           ],
           "sequential": [
            [
             0,
             "#0d0887"
            ],
            [
             0.1111111111111111,
             "#46039f"
            ],
            [
             0.2222222222222222,
             "#7201a8"
            ],
            [
             0.3333333333333333,
             "#9c179e"
            ],
            [
             0.4444444444444444,
             "#bd3786"
            ],
            [
             0.5555555555555556,
             "#d8576b"
            ],
            [
             0.6666666666666666,
             "#ed7953"
            ],
            [
             0.7777777777777778,
             "#fb9f3a"
            ],
            [
             0.8888888888888888,
             "#fdca26"
            ],
            [
             1,
             "#f0f921"
            ]
           ],
           "sequentialminus": [
            [
             0,
             "#0d0887"
            ],
            [
             0.1111111111111111,
             "#46039f"
            ],
            [
             0.2222222222222222,
             "#7201a8"
            ],
            [
             0.3333333333333333,
             "#9c179e"
            ],
            [
             0.4444444444444444,
             "#bd3786"
            ],
            [
             0.5555555555555556,
             "#d8576b"
            ],
            [
             0.6666666666666666,
             "#ed7953"
            ],
            [
             0.7777777777777778,
             "#fb9f3a"
            ],
            [
             0.8888888888888888,
             "#fdca26"
            ],
            [
             1,
             "#f0f921"
            ]
           ]
          },
          "colorway": [
           "#636efa",
           "#EF553B",
           "#00cc96",
           "#ab63fa",
           "#FFA15A",
           "#19d3f3",
           "#FF6692",
           "#B6E880",
           "#FF97FF",
           "#FECB52"
          ],
          "font": {
           "color": "#2a3f5f"
          },
          "geo": {
           "bgcolor": "white",
           "lakecolor": "white",
           "landcolor": "#E5ECF6",
           "showlakes": true,
           "showland": true,
           "subunitcolor": "white"
          },
          "hoverlabel": {
           "align": "left"
          },
          "hovermode": "closest",
          "mapbox": {
           "style": "light"
          },
          "paper_bgcolor": "white",
          "plot_bgcolor": "#E5ECF6",
          "polar": {
           "angularaxis": {
            "gridcolor": "white",
            "linecolor": "white",
            "ticks": ""
           },
           "bgcolor": "#E5ECF6",
           "radialaxis": {
            "gridcolor": "white",
            "linecolor": "white",
            "ticks": ""
           }
          },
          "scene": {
           "xaxis": {
            "backgroundcolor": "#E5ECF6",
            "gridcolor": "white",
            "gridwidth": 2,
            "linecolor": "white",
            "showbackground": true,
            "ticks": "",
            "zerolinecolor": "white"
           },
           "yaxis": {
            "backgroundcolor": "#E5ECF6",
            "gridcolor": "white",
            "gridwidth": 2,
            "linecolor": "white",
            "showbackground": true,
            "ticks": "",
            "zerolinecolor": "white"
           },
           "zaxis": {
            "backgroundcolor": "#E5ECF6",
            "gridcolor": "white",
            "gridwidth": 2,
            "linecolor": "white",
            "showbackground": true,
            "ticks": "",
            "zerolinecolor": "white"
           }
          },
          "shapedefaults": {
           "line": {
            "color": "#2a3f5f"
           }
          },
          "ternary": {
           "aaxis": {
            "gridcolor": "white",
            "linecolor": "white",
            "ticks": ""
           },
           "baxis": {
            "gridcolor": "white",
            "linecolor": "white",
            "ticks": ""
           },
           "bgcolor": "#E5ECF6",
           "caxis": {
            "gridcolor": "white",
            "linecolor": "white",
            "ticks": ""
           }
          },
          "title": {
           "x": 0.05
          },
          "xaxis": {
           "automargin": true,
           "gridcolor": "white",
           "linecolor": "white",
           "ticks": "",
           "title": {
            "standoff": 15
           },
           "zerolinecolor": "white",
           "zerolinewidth": 2
          },
          "yaxis": {
           "automargin": true,
           "gridcolor": "white",
           "linecolor": "white",
           "ticks": "",
           "title": {
            "standoff": 15
           },
           "zerolinecolor": "white",
           "zerolinewidth": 2
          }
         }
        },
        "title": {
         "text": "Rolling Window"
        },
        "xaxis": {
         "title": {
          "text": "Date"
         }
        },
        "yaxis": {
         "title": {
          "text": "Price"
         }
        }
       }
      }
     },
     "metadata": {},
     "output_type": "display_data"
    },
    {
     "name": "stderr",
     "output_type": "stream",
     "text": [
      "c:\\Users\\bobek\\QuantWiseAI\\jupiter_notebooks\\apply_backtesting.py:36: UserWarning:\n",
      "\n",
      "Data index is not datetime. Assuming simple periods, but `pd.DateTimeIndex` is advised.\n",
      "\n"
     ]
    }
   ],
   "source": [
    "from apply_backtesting import backtester\n",
    "\n",
    "financial_data = rolling_window(financial_data, record_to_plot=1000,half_window_size=30,peak_coeff=0.6, valley_coeff=0.3, to_plot=True)\n",
    "bt,stats = backtester(financial_data)"
   ]
  },
  {
   "cell_type": "code",
   "execution_count": 54,
   "metadata": {},
   "outputs": [
    {
     "data": {
      "text/html": [
       "<style>\n",
       "        .bk-notebook-logo {\n",
       "            display: block;\n",
       "            width: 20px;\n",
       "            height: 20px;\n",
       "            background-image: url(data:image/png;base64,iVBORw0KGgoAAAANSUhEUgAAABQAAAAUCAYAAACNiR0NAAAABHNCSVQICAgIfAhkiAAAAAlwSFlzAAALEgAACxIB0t1+/AAAABx0RVh0U29mdHdhcmUAQWRvYmUgRmlyZXdvcmtzIENTNui8sowAAAOkSURBVDiNjZRtaJVlGMd/1/08zzln5zjP1LWcU9N0NkN8m2CYjpgQYQXqSs0I84OLIC0hkEKoPtiH3gmKoiJDU7QpLgoLjLIQCpEsNJ1vqUOdO7ppbuec5+V+rj4ctwzd8IIbbi6u+8f1539dt3A78eXC7QizUF7gyV1fD1Yqg4JWz84yffhm0qkFqBogB9rM8tZdtwVsPUhWhGcFJngGeWrPzHm5oaMmkfEg1usvLFyc8jLRqDOMru7AyC8saQr7GG7f5fvDeH7Ej8CM66nIF+8yngt6HWaKh7k49Soy9nXurCi1o3qUbS3zWfrYeQDTB/Qj6kX6Ybhw4B+bOYoLKCC9H3Nu/leUTZ1JdRWkkn2ldcCamzrcf47KKXdAJllSlxAOkRgyHsGC/zRday5Qld9DyoM4/q/rUoy/CXh3jzOu3bHUVZeU+DEn8FInkPBFlu3+nW3Nw0mk6vCDiWg8CeJaxEwuHS3+z5RgY+YBR6V1Z1nxSOfoaPa4LASWxxdNp+VWTk7+4vzaou8v8PN+xo+KY2xsw6une2frhw05CTYOmQvsEhjhWjn0bmXPjpE1+kplmmkP3suftwTubK9Vq22qKmrBhpY4jvd5afdRA3wGjFAgcnTK2s4hY0/GPNIb0nErGMCRxWOOX64Z8RAC4oCXdklmEvcL8o0BfkNK4lUg9HTl+oPlQxdNo3Mg4Nv175e/1LDGzZen30MEjRUtmXSfiTVu1kK8W4txyV6BMKlbgk3lMwYCiusNy9fVfvvwMxv8Ynl6vxoByANLTWplvuj/nF9m2+PDtt1eiHPBr1oIfhCChQMBw6Aw0UulqTKZdfVvfG7VcfIqLG9bcldL/+pdWTLxLUy8Qq38heUIjh4XlzZxzQm19lLFlr8vdQ97rjZVOLf8nclzckbcD4wxXMidpX30sFd37Fv/GtwwhzhxGVAprjbg0gCAEeIgwCZyTV2Z1REEW8O4py0wsjeloKoMr6iCY6dP92H6Vw/oTyICIthibxjm/DfN9lVz8IqtqKYLUXfoKVMVQVVJOElGjrnnUt9T9wbgp8AyYKaGlqingHZU/uG2NTZSVqwHQTWkx9hxjkpWDaCg6Ckj5qebgBVbT3V3NNXMSiWSDdGV3hrtzla7J+duwPOToIg42ChPQOQjspnSlp1V+Gjdged7+8UN5CRAV7a5EdFNwCjEaBR27b3W890TE7g24NAP/mMDXRWrGoFPQI9ls/MWO2dWFAar/xcOIImbbpA3zgAAAABJRU5ErkJggg==);\n",
       "        }\n",
       "    </style>\n",
       "    <div>\n",
       "        <a href=\"https://bokeh.org\" target=\"_blank\" class=\"bk-notebook-logo\"></a>\n",
       "        <span id=\"ffff95a4-2745-4709-8659-da01b4cbb1c7\">Loading BokehJS ...</span>\n",
       "    </div>\n"
      ]
     },
     "metadata": {},
     "output_type": "display_data"
    },
    {
     "data": {
      "application/javascript": "(function(root) {\n  function now() {\n    return new Date();\n  }\n\n  const force = true;\n\n  if (typeof root._bokeh_onload_callbacks === \"undefined\" || force === true) {\n    root._bokeh_onload_callbacks = [];\n    root._bokeh_is_loading = undefined;\n  }\n\nconst JS_MIME_TYPE = 'application/javascript';\n  const HTML_MIME_TYPE = 'text/html';\n  const EXEC_MIME_TYPE = 'application/vnd.bokehjs_exec.v0+json';\n  const CLASS_NAME = 'output_bokeh rendered_html';\n\n  /**\n   * Render data to the DOM node\n   */\n  function render(props, node) {\n    const script = document.createElement(\"script\");\n    node.appendChild(script);\n  }\n\n  /**\n   * Handle when an output is cleared or removed\n   */\n  function handleClearOutput(event, handle) {\n    function drop(id) {\n      const view = Bokeh.index.get_by_id(id)\n      if (view != null) {\n        view.model.document.clear()\n        Bokeh.index.delete(view)\n      }\n    }\n\n    const cell = handle.cell;\n\n    const id = cell.output_area._bokeh_element_id;\n    const server_id = cell.output_area._bokeh_server_id;\n\n    // Clean up Bokeh references\n    if (id != null) {\n      drop(id)\n    }\n\n    if (server_id !== undefined) {\n      // Clean up Bokeh references\n      const cmd_clean = \"from bokeh.io.state import curstate; print(curstate().uuid_to_server['\" + server_id + \"'].get_sessions()[0].document.roots[0]._id)\";\n      cell.notebook.kernel.execute(cmd_clean, {\n        iopub: {\n          output: function(msg) {\n            const id = msg.content.text.trim()\n            drop(id)\n          }\n        }\n      });\n      // Destroy server and session\n      const cmd_destroy = \"import bokeh.io.notebook as ion; ion.destroy_server('\" + server_id + \"')\";\n      cell.notebook.kernel.execute(cmd_destroy);\n    }\n  }\n\n  /**\n   * Handle when a new output is added\n   */\n  function handleAddOutput(event, handle) {\n    const output_area = handle.output_area;\n    const output = handle.output;\n\n    // limit handleAddOutput to display_data with EXEC_MIME_TYPE content only\n    if ((output.output_type != \"display_data\") || (!Object.prototype.hasOwnProperty.call(output.data, EXEC_MIME_TYPE))) {\n      return\n    }\n\n    const toinsert = output_area.element.find(\".\" + CLASS_NAME.split(' ')[0]);\n\n    if (output.metadata[EXEC_MIME_TYPE][\"id\"] !== undefined) {\n      toinsert[toinsert.length - 1].firstChild.textContent = output.data[JS_MIME_TYPE];\n      // store reference to embed id on output_area\n      output_area._bokeh_element_id = output.metadata[EXEC_MIME_TYPE][\"id\"];\n    }\n    if (output.metadata[EXEC_MIME_TYPE][\"server_id\"] !== undefined) {\n      const bk_div = document.createElement(\"div\");\n      bk_div.innerHTML = output.data[HTML_MIME_TYPE];\n      const script_attrs = bk_div.children[0].attributes;\n      for (let i = 0; i < script_attrs.length; i++) {\n        toinsert[toinsert.length - 1].firstChild.setAttribute(script_attrs[i].name, script_attrs[i].value);\n        toinsert[toinsert.length - 1].firstChild.textContent = bk_div.children[0].textContent\n      }\n      // store reference to server id on output_area\n      output_area._bokeh_server_id = output.metadata[EXEC_MIME_TYPE][\"server_id\"];\n    }\n  }\n\n  function register_renderer(events, OutputArea) {\n\n    function append_mime(data, metadata, element) {\n      // create a DOM node to render to\n      const toinsert = this.create_output_subarea(\n        metadata,\n        CLASS_NAME,\n        EXEC_MIME_TYPE\n      );\n      this.keyboard_manager.register_events(toinsert);\n      // Render to node\n      const props = {data: data, metadata: metadata[EXEC_MIME_TYPE]};\n      render(props, toinsert[toinsert.length - 1]);\n      element.append(toinsert);\n      return toinsert\n    }\n\n    /* Handle when an output is cleared or removed */\n    events.on('clear_output.CodeCell', handleClearOutput);\n    events.on('delete.Cell', handleClearOutput);\n\n    /* Handle when a new output is added */\n    events.on('output_added.OutputArea', handleAddOutput);\n\n    /**\n     * Register the mime type and append_mime function with output_area\n     */\n    OutputArea.prototype.register_mime_type(EXEC_MIME_TYPE, append_mime, {\n      /* Is output safe? */\n      safe: true,\n      /* Index of renderer in `output_area.display_order` */\n      index: 0\n    });\n  }\n\n  // register the mime type if in Jupyter Notebook environment and previously unregistered\n  if (root.Jupyter !== undefined) {\n    const events = require('base/js/events');\n    const OutputArea = require('notebook/js/outputarea').OutputArea;\n\n    if (OutputArea.prototype.mime_types().indexOf(EXEC_MIME_TYPE) == -1) {\n      register_renderer(events, OutputArea);\n    }\n  }\n  if (typeof (root._bokeh_timeout) === \"undefined\" || force === true) {\n    root._bokeh_timeout = Date.now() + 5000;\n    root._bokeh_failed_load = false;\n  }\n\n  const NB_LOAD_WARNING = {'data': {'text/html':\n     \"<div style='background-color: #fdd'>\\n\"+\n     \"<p>\\n\"+\n     \"BokehJS does not appear to have successfully loaded. If loading BokehJS from CDN, this \\n\"+\n     \"may be due to a slow or bad network connection. Possible fixes:\\n\"+\n     \"</p>\\n\"+\n     \"<ul>\\n\"+\n     \"<li>re-rerun `output_notebook()` to attempt to load from CDN again, or</li>\\n\"+\n     \"<li>use INLINE resources instead, as so:</li>\\n\"+\n     \"</ul>\\n\"+\n     \"<code>\\n\"+\n     \"from bokeh.resources import INLINE\\n\"+\n     \"output_notebook(resources=INLINE)\\n\"+\n     \"</code>\\n\"+\n     \"</div>\"}};\n\n  function display_loaded() {\n    const el = document.getElementById(\"ffff95a4-2745-4709-8659-da01b4cbb1c7\");\n    if (el != null) {\n      el.textContent = \"BokehJS is loading...\";\n    }\n    if (root.Bokeh !== undefined) {\n      if (el != null) {\n        el.textContent = \"BokehJS \" + root.Bokeh.version + \" successfully loaded.\";\n      }\n    } else if (Date.now() < root._bokeh_timeout) {\n      setTimeout(display_loaded, 100)\n    }\n  }\n\n  function run_callbacks() {\n    try {\n      root._bokeh_onload_callbacks.forEach(function(callback) {\n        if (callback != null)\n          callback();\n      });\n    } finally {\n      delete root._bokeh_onload_callbacks\n    }\n    console.debug(\"Bokeh: all callbacks have finished\");\n  }\n\n  function load_libs(css_urls, js_urls, callback) {\n    if (css_urls == null) css_urls = [];\n    if (js_urls == null) js_urls = [];\n\n    root._bokeh_onload_callbacks.push(callback);\n    if (root._bokeh_is_loading > 0) {\n      console.debug(\"Bokeh: BokehJS is being loaded, scheduling callback at\", now());\n      return null;\n    }\n    if (js_urls == null || js_urls.length === 0) {\n      run_callbacks();\n      return null;\n    }\n    console.debug(\"Bokeh: BokehJS not loaded, scheduling load and callback at\", now());\n    root._bokeh_is_loading = css_urls.length + js_urls.length;\n\n    function on_load() {\n      root._bokeh_is_loading--;\n      if (root._bokeh_is_loading === 0) {\n        console.debug(\"Bokeh: all BokehJS libraries/stylesheets loaded\");\n        run_callbacks()\n      }\n    }\n\n    function on_error(url) {\n      console.error(\"failed to load \" + url);\n    }\n\n    for (let i = 0; i < css_urls.length; i++) {\n      const url = css_urls[i];\n      const element = document.createElement(\"link\");\n      element.onload = on_load;\n      element.onerror = on_error.bind(null, url);\n      element.rel = \"stylesheet\";\n      element.type = \"text/css\";\n      element.href = url;\n      console.debug(\"Bokeh: injecting link tag for BokehJS stylesheet: \", url);\n      document.body.appendChild(element);\n    }\n\n    for (let i = 0; i < js_urls.length; i++) {\n      const url = js_urls[i];\n      const element = document.createElement('script');\n      element.onload = on_load;\n      element.onerror = on_error.bind(null, url);\n      element.async = false;\n      element.src = url;\n      console.debug(\"Bokeh: injecting script tag for BokehJS library: \", url);\n      document.head.appendChild(element);\n    }\n  };\n\n  function inject_raw_css(css) {\n    const element = document.createElement(\"style\");\n    element.appendChild(document.createTextNode(css));\n    document.body.appendChild(element);\n  }\n\n  const js_urls = [\"https://cdn.bokeh.org/bokeh/release/bokeh-3.3.0.min.js\", \"https://cdn.bokeh.org/bokeh/release/bokeh-gl-3.3.0.min.js\", \"https://cdn.bokeh.org/bokeh/release/bokeh-widgets-3.3.0.min.js\", \"https://cdn.bokeh.org/bokeh/release/bokeh-tables-3.3.0.min.js\", \"https://cdn.bokeh.org/bokeh/release/bokeh-mathjax-3.3.0.min.js\"];\n  const css_urls = [];\n\n  const inline_js = [    function(Bokeh) {\n      Bokeh.set_log_level(\"info\");\n    },\nfunction(Bokeh) {\n    }\n  ];\n\n  function run_inline_js() {\n    if (root.Bokeh !== undefined || force === true) {\n          for (let i = 0; i < inline_js.length; i++) {\n      inline_js[i].call(root, root.Bokeh);\n    }\nif (force === true) {\n        display_loaded();\n      }} else if (Date.now() < root._bokeh_timeout) {\n      setTimeout(run_inline_js, 100);\n    } else if (!root._bokeh_failed_load) {\n      console.log(\"Bokeh: BokehJS failed to load within specified timeout.\");\n      root._bokeh_failed_load = true;\n    } else if (force !== true) {\n      const cell = $(document.getElementById(\"ffff95a4-2745-4709-8659-da01b4cbb1c7\")).parents('.cell').data().cell;\n      cell.output_area.append_execute_result(NB_LOAD_WARNING)\n    }\n  }\n\n  if (root._bokeh_is_loading === 0) {\n    console.debug(\"Bokeh: BokehJS loaded, going straight to plotting\");\n    run_inline_js();\n  } else {\n    load_libs(css_urls, js_urls, function() {\n      console.debug(\"Bokeh: BokehJS plotting callback run at\", now());\n      run_inline_js();\n    });\n  }\n}(window));",
      "application/vnd.bokehjs_load.v0+json": ""
     },
     "metadata": {},
     "output_type": "display_data"
    },
    {
     "name": "stderr",
     "output_type": "stream",
     "text": [
      "c:\\Python3_11_6_64bit\\Lib\\site-packages\\backtesting\\_plotting.py:659: UserWarning:\n",
      "\n",
      "found multiple competing values for 'toolbar.active_drag' property; using the latest value\n",
      "\n",
      "c:\\Python3_11_6_64bit\\Lib\\site-packages\\backtesting\\_plotting.py:659: UserWarning:\n",
      "\n",
      "found multiple competing values for 'toolbar.active_scroll' property; using the latest value\n",
      "\n"
     ]
    },
    {
     "data": {
      "text/html": [
       "\n",
       "  <div id=\"a452605a-bf41-452b-ab23-b966434fbe29\" data-root-id=\"p3287\" style=\"display: contents;\"></div>\n"
      ]
     },
     "metadata": {},
     "output_type": "display_data"
    },
    {
     "data": {
      "application/javascript": "(function(root) {\n  function embed_document(root) {\n  const docs_json = {\"369276df-3ed2-425c-ae24-d4c6a15c2a9c\":{\"version\":\"3.3.0\",\"title\":\"Bokeh Application\",\"roots\":[{\"type\":\"object\",\"name\":\"GridPlot\",\"id\":\"p3287\",\"attributes\":{\"rows\":null,\"cols\":null,\"sizing_mode\":\"stretch_width\",\"toolbar\":{\"type\":\"object\",\"name\":\"Toolbar\",\"id\":\"p3286\",\"attributes\":{\"logo\":null,\"tools\":[{\"type\":\"object\",\"name\":\"ToolProxy\",\"id\":\"p3278\",\"attributes\":{\"tools\":[{\"type\":\"object\",\"name\":\"PanTool\",\"id\":\"p3041\",\"attributes\":{\"dimensions\":\"width\"}},{\"type\":\"object\",\"name\":\"PanTool\",\"id\":\"p3134\",\"attributes\":{\"dimensions\":\"width\"}},{\"type\":\"object\",\"name\":\"PanTool\",\"id\":\"p3003\",\"attributes\":{\"dimensions\":\"width\"}},{\"type\":\"object\",\"name\":\"PanTool\",\"id\":\"p3185\",\"attributes\":{\"dimensions\":\"width\"}},{\"type\":\"object\",\"name\":\"PanTool\",\"id\":\"p3254\",\"attributes\":{\"dimensions\":\"width\"}}]}},{\"type\":\"object\",\"name\":\"ToolProxy\",\"id\":\"p3279\",\"attributes\":{\"tools\":[{\"type\":\"object\",\"name\":\"WheelZoomTool\",\"id\":\"p3042\",\"attributes\":{\"dimensions\":\"width\",\"renderers\":\"auto\",\"maintain_focus\":false}},{\"type\":\"object\",\"name\":\"WheelZoomTool\",\"id\":\"p3135\",\"attributes\":{\"dimensions\":\"width\",\"renderers\":\"auto\",\"maintain_focus\":false}},{\"type\":\"object\",\"name\":\"WheelZoomTool\",\"id\":\"p3004\",\"attributes\":{\"dimensions\":\"width\",\"renderers\":\"auto\",\"maintain_focus\":false}},{\"type\":\"object\",\"name\":\"WheelZoomTool\",\"id\":\"p3186\",\"attributes\":{\"dimensions\":\"width\",\"renderers\":\"auto\",\"maintain_focus\":false}},{\"type\":\"object\",\"name\":\"WheelZoomTool\",\"id\":\"p3255\",\"attributes\":{\"dimensions\":\"width\",\"renderers\":\"auto\",\"maintain_focus\":false}}]}},{\"type\":\"object\",\"name\":\"ToolProxy\",\"id\":\"p3280\",\"attributes\":{\"tools\":[{\"type\":\"object\",\"name\":\"BoxZoomTool\",\"id\":\"p3043\",\"attributes\":{\"overlay\":{\"type\":\"object\",\"name\":\"BoxAnnotation\",\"id\":\"p3044\",\"attributes\":{\"syncable\":false,\"level\":\"overlay\",\"visible\":false,\"left_units\":\"canvas\",\"right_units\":\"canvas\",\"top_units\":\"canvas\",\"bottom_units\":\"canvas\",\"line_color\":\"black\",\"line_alpha\":1.0,\"line_width\":2,\"line_dash\":[4,4],\"fill_color\":\"lightgrey\",\"fill_alpha\":0.5}}}},{\"type\":\"object\",\"name\":\"BoxZoomTool\",\"id\":\"p3136\",\"attributes\":{\"overlay\":{\"type\":\"object\",\"name\":\"BoxAnnotation\",\"id\":\"p3137\",\"attributes\":{\"syncable\":false,\"level\":\"overlay\",\"visible\":false,\"left_units\":\"canvas\",\"right_units\":\"canvas\",\"top_units\":\"canvas\",\"bottom_units\":\"canvas\",\"line_color\":\"black\",\"line_alpha\":1.0,\"line_width\":2,\"line_dash\":[4,4],\"fill_color\":\"lightgrey\",\"fill_alpha\":0.5}}}},{\"type\":\"object\",\"name\":\"BoxZoomTool\",\"id\":\"p3005\",\"attributes\":{\"overlay\":{\"type\":\"object\",\"name\":\"BoxAnnotation\",\"id\":\"p3006\",\"attributes\":{\"syncable\":false,\"level\":\"overlay\",\"visible\":false,\"left_units\":\"canvas\",\"right_units\":\"canvas\",\"top_units\":\"canvas\",\"bottom_units\":\"canvas\",\"line_color\":\"black\",\"line_alpha\":1.0,\"line_width\":2,\"line_dash\":[4,4],\"fill_color\":\"lightgrey\",\"fill_alpha\":0.5}}}},{\"type\":\"object\",\"name\":\"BoxZoomTool\",\"id\":\"p3187\",\"attributes\":{\"overlay\":{\"type\":\"object\",\"name\":\"BoxAnnotation\",\"id\":\"p3188\",\"attributes\":{\"syncable\":false,\"level\":\"overlay\",\"visible\":false,\"left_units\":\"canvas\",\"right_units\":\"canvas\",\"top_units\":\"canvas\",\"bottom_units\":\"canvas\",\"line_color\":\"black\",\"line_alpha\":1.0,\"line_width\":2,\"line_dash\":[4,4],\"fill_color\":\"lightgrey\",\"fill_alpha\":0.5}}}},{\"type\":\"object\",\"name\":\"BoxZoomTool\",\"id\":\"p3256\",\"attributes\":{\"overlay\":{\"type\":\"object\",\"name\":\"BoxAnnotation\",\"id\":\"p3257\",\"attributes\":{\"syncable\":false,\"level\":\"overlay\",\"visible\":false,\"left_units\":\"canvas\",\"right_units\":\"canvas\",\"top_units\":\"canvas\",\"bottom_units\":\"canvas\",\"line_color\":\"black\",\"line_alpha\":1.0,\"line_width\":2,\"line_dash\":[4,4],\"fill_color\":\"lightgrey\",\"fill_alpha\":0.5}}}}]}},{\"type\":\"object\",\"name\":\"ToolProxy\",\"id\":\"p3281\",\"attributes\":{\"tools\":[{\"type\":\"object\",\"name\":\"UndoTool\",\"id\":\"p3045\"},{\"type\":\"object\",\"name\":\"UndoTool\",\"id\":\"p3138\"},{\"type\":\"object\",\"name\":\"UndoTool\",\"id\":\"p3007\"},{\"type\":\"object\",\"name\":\"UndoTool\",\"id\":\"p3189\"},{\"type\":\"object\",\"name\":\"UndoTool\",\"id\":\"p3258\"}]}},{\"type\":\"object\",\"name\":\"ToolProxy\",\"id\":\"p3282\",\"attributes\":{\"tools\":[{\"type\":\"object\",\"name\":\"RedoTool\",\"id\":\"p3046\"},{\"type\":\"object\",\"name\":\"RedoTool\",\"id\":\"p3139\"},{\"type\":\"object\",\"name\":\"RedoTool\",\"id\":\"p3008\"},{\"type\":\"object\",\"name\":\"RedoTool\",\"id\":\"p3190\"},{\"type\":\"object\",\"name\":\"RedoTool\",\"id\":\"p3259\"}]}},{\"type\":\"object\",\"name\":\"ToolProxy\",\"id\":\"p3283\",\"attributes\":{\"tools\":[{\"type\":\"object\",\"name\":\"ResetTool\",\"id\":\"p3047\"},{\"type\":\"object\",\"name\":\"ResetTool\",\"id\":\"p3140\"},{\"type\":\"object\",\"name\":\"ResetTool\",\"id\":\"p3009\"},{\"type\":\"object\",\"name\":\"ResetTool\",\"id\":\"p3191\"},{\"type\":\"object\",\"name\":\"ResetTool\",\"id\":\"p3260\"}]}},{\"type\":\"object\",\"name\":\"SaveTool\",\"id\":\"p3284\"},{\"type\":\"object\",\"name\":\"HoverTool\",\"id\":\"p3070\",\"attributes\":{\"renderers\":[{\"type\":\"object\",\"name\":\"GlyphRenderer\",\"id\":\"p3067\",\"attributes\":{\"data_source\":{\"type\":\"object\",\"name\":\"ColumnDataSource\",\"id\":\"p3011\",\"attributes\":{\"selected\":{\"type\":\"object\",\"name\":\"Selection\",\"id\":\"p3012\",\"attributes\":{\"indices\":[],\"line_indices\":[]}},\"selection_policy\":{\"type\":\"object\",\"name\":\"UnionRenderers\",\"id\":\"p3013\"},\"data\":{\"type\":\"map\",\"entries\":[[\"index\",{\"type\":\"ndarray\",\"array\":{\"type\":\"bytes\",\"data\":\"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\"},\"shape\":[1000],\"dtype\":\"int32\",\"order\":\"little\"}],[\"Open\",{\"type\":\"ndarray\",\"array\":{\"type\":\"bytes\",\"data\":\"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\"},\"shape\":[1000],\"dtype\":\"float64\",\"order\":\"little\"}],[\"High\",{\"type\":\"ndarray\",\"array\":{\"type\":\"bytes\",\"data\":\"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\"},\"shape\":[1000],\"dtype\":\"float64\",\"order\":\"little\"}],[\"Low\",{\"type\":\"ndarray\",\"array\":{\"type\":\"bytes\",\"data\":\"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\"},\"shape\":[1000],\"dtype\":\"float64\",\"order\":\"little\"}],[\"Close\",{\"type\":\"ndarray\",\"array\":{\"type\":\"bytes\",\"data\":\"n5PeN7728T/iAWVTrvDxPxwIyQIm8PE/NNdppKXy8T8prir7rgjyPwZHyatzDPI/cOtunuoQ8j+tad5xig7yP04LXvQVJPI/npj1Yign8j/T3uALkynyP7FtUWaDTPI/8Uv9vKlI8j8Tm49rQ0XyPwU0ETY8PfI/FeP8TShE8j9OC170FSTyP8cuUb01MPI/r3d/vFct8j9b07zjFB3yP6gY529CIfI/l1ZD4h5L8j8Wak3zjlPyP/NZngd3Z/I/Pj+MEB5t8j/lYaHWNG/yP3ldv2A3bPI/rBxaZDtf8j8VkWEVb2TyPxgJbTmXYvI/eLRxxFp88j/430p2bITyP8PYQpCDkvI/fJv+7EeK8j8FwHgGDX3yP2IVb2QeefI/BoGVQ4ts8j8w2A3bFmXyP78rgv+tZPI/NzemJyxx8j9K7xtfe2byPwaBlUOLbPI/Vyb8Uj9v8j+XHHdKB2vyP3OFd7mIb/I/bD6uDRVj8j/36XjMQGXyPxNhw9MrZfI/7Sqk/KRa8j/H9IQlHlDyPy9pjNZRVfI/6spneR5c8j8UIuAQqlTyP5ynOuRmOPI/Y7ml1ZA48j9TkQpjC0HyP+QUHcnlP/I/ApoIG55e8j8qV3iXi3jyP9xoAG+BhPI/JLTlXIqr8j/ZJaq3BrbyPxV0e0ljtPI/YOrnTUWq8j+oV8oyxLHyP0gbR6zFp/I/zt+EQgSc8j8xfERMiaTyP7vQXKeRlvI/U8vW+iKh8j8Y7IZti7LyP14R/G8lu/I/qMZLN4nB8j/lRLsKKb/yP3Ww/s9hvvI/GOyGbYuy8j97oBUYsrryP+c1donqrfI/2ubG9ISl8j/GpwAYz6DyP/w1WaMeovI/5US7Cim/8j+6TiMtlbfyPy+Lic3HtfI/xy5RvTWw8j90Ka4q+67yP+ik942vvfI/r5RliGPd8j99lufB3dnyPweZZOQs7PI/niRdM/nm8j/xETElkujyP05/9iNF5PI/veMUHcnl8j8m32xzY/ryP1r1udqK/fI/Qj7o2az68j++2ebG9ATzP1G9NbBVAvM/t9EA3gIJ8z8QQGoTJ/fyP8x6MZQT7fI/Z341Bwjm8j/mkT8YeO7yP2lv8IXJ1PI/jZduEoPA8j9gyOpWz8nyP/sioS3n0vI/kX77OnDO8j+atn9lpcnyP7a+SGjLufI/4iNiSiTR8j/sUbgehevyP96wbVFmA/M/pdqn4zED8z/luFM6WP/yP/PIHww89/I/sTOFzmvs8j8Z4lgXt9HyP6JdhZSf1PI/JzEIrBza8j9v2LYos8HyP8u+K4L/rfI/GRwlr86x8j88a7ddaK7yP0aZDTLJyPI/zxQ6r7HL8j9h4Ln3cMnyP+WzPA/uzvI/2gOtwJDV8j/D9Shcj8LyP9WVz/I8uPI/Yygn2lXI8j/EJced0sHyP22oGOdvwvI/ZFjFG5nH8j8LDFnd6rnyP0PKT6p9uvI/C7Wmecep8j9t4uR+h6LyP2k6OxkcpfI/fXkB9tGp8j8uymyQScbyPz1+b9Of/fI/xEKtad7x8j/I6lbPSe/yP9rhr8ka9fI/kUQvo1ju8j9HdxA7U+jyP4TwaOOItfI/KuPfZ1y48j/vrN12obnyP+6UDtb/ufI/OiNKe4Ov8j82AvG6fsHyP/FL/bypyPI/O6qaIOq+8j8GTODW3bzyP4tPATCewfI/Cty6m6e68j8iwyreyLzyP6hvmdNlsfI/rS8S2nKu8j8GDf0TXKzyP3VZTGw+rvI/ml/NAYK58j8g0m9fB87yP6btX1lp0vI/ti3KbJDJ8j90B7Ezhc7yP4zWUdUE0fI/xQPKplzh8j8JG55eKcvyP96rVib80vI/GLK61XPS8j+9jGK5pdXyP8bE5uPa0PI/okW28/3U8j/LnC6Lic3yP+2BVmDI6vI/s+pztRX78j/G+ZtQiADzP8hBCTNt//I/ixpMw/AR8z+syr4rgv/yP+ChKNAn8vI/AKlNnNzv8j+yS1RvDezyP2yVYHE48/I/raOqCaLu8j8GKuPfZ9zyP9uK/WX35PI/5iK+E7Pe8j8L0oxF09nyP1j/5zBf3vI/4PPDCOHR8j9FKowtBLnyP+xMofMau/I/wVYJFoez8j/idf2C3bDyP2jLuRRXlfI/LH3ogvqW8j8rpPyk2qfyPxx8YTJVsPI/4uR+h6LA8j96cHfWbrvyP8Qlx53SwfI/+PwwQni08j/2XRH8b6XyP9un4zEDlfI/VHQkl/+Q8j9l5CzsaYfyP0F9y5wui/I/mRJJ9DKK8j+5wrtcxHfyPyk/qfbpePI/8piByvh38j+4kh0bgXjyP11txf6ye/I/nWNA9np38j9pjNZR1YTyP9uizAaZZPI/Wp4Hd2dt8j/W4lMAjGfyP3ctIR/0bPI/raOqCaJu8j8vF/GdmHXyP9HoDmJnivI/Lc+Du7N28j+iC+pb5nTyPxO4dTdPdfI/Q+c1dolq8j+uDRXj/E3yP+8bX3tmSfI/ou4DkNpE8j9kQPZ690fyPxr6J7hYUfI/M4rlllZD8j+C/61kx0byP9vcmJ6wRPI/DvPlBdhH8j8ychb2tEPyPwgDz72HS/I/3GPpQxdU8j9GmQ0yyUjyP7zLRXwnZvI/7GmHvyZr8j+SXP5D+m3yP87Cnnb4a/I/vVKWIY518j/wUBToE3nyP0vNHmgFhvI/c/T4vU1/8j94nKIjuXzyP5eL+E7MevI/h8Q9lj508j/6uDZUjHPyP6pDboYbcPI/SkbOwp528j82H9eGinHyP+aRPxh4bvI/I6Et51Jc8j/BHD1+b1PyP0inrnyWZ/I/+THmriVk8j9zLsVVZV/yPwzqW+Z0WfI/XaeRlspb8j8vaYzWUVXyP1IP0egOYvI/boYb8Plh8j9F2PD0SlnyP6JdhZSfVPI/GFsIclBC8j91WUxsPi7yP76HS447JfI/Ag6hSs0e8j9Zi08BMB7yPyC1iZP7HfI/mFEst7Qa8j+XOV0WExvyP6Ay/n3GBfI/Jo3ROqoa8j9+Oh4zUBnyPz+MEB5tHPI/dNL7xtce8j+2Z5YEqCnyPyntDb4wGfI/ucfShy4o8j809E9wsSLyP6a4quy7IvI/lWBxOPMr8j8vNNdppCXyP9WVz/I8OPI/1GUxsfk48j/wbfqzHynyP0Z8J2a9GPI/Ga2jqgki8j9MbD6uDRXyPy6thsQ9FvI/owG8BRIU8j/SAN4CCQryPw5nfjUHCPI/oDL+fcYF8j/eH+9VKxPyP2xblNkgE/I/7Bfshm0L8j/TMHxETAnyP29kHvmDAfI/dsO2RZkN8j9Zi08BMB7yP2ItPgXA+PE/2VpfJLTl8T84oRABh9DxP9jTDn9N1vE/WJBmLJrO8T9SuB6F69HxP8oa9RCN7vE/H4DUJk7u8T+mm8QgsPLxP6abxCCw8vE/RIZVvJH58T+WQ4ts5/vxP1x381SH3PE/AvG6fsHu8T+Xi/hOzPrxP5nTZTGx+fE/hXzQs1n18T9kHvmDgefxP9GRXP5D+vE/Q8U4fxMK8j++2ebG9ATyPzuNtFTeDvI/2jhiLT4F8j+2uTE9YQnyP4f58gLsI/I/8IXJVMEo8j/bFmU2yCTyPyL99nXgHPI/KnReY5co8j9/wW7YtijyP+aWVkPiHvI//mX35GEh8j94YtaLoRzyPwu1pnnHKfI/DoRkARM48j9tkElGzkLyPwKaCBueXvI/I6Et51Jc8j87cM6I0l7yP6+UZYhjXfI/YtaLoZxo8j8Jih9j7lryP+f7qfHSTfI/7lpCPuhZ8j9nD7QCQ1byP5/Nqs/VVvI/F/GdmPVi8j86QDBHj1/yP3qNXaJ6a/I/fQVpxqJp8j/hYkUNpmHyP5et9UVCW/I/JCh+jLlr8j9yFva0w1/yP7g7a7ddaPI/+5EiMqxi8j+MFTWYhmHyPyswZHWrZ/I/lgSoqWVr8j/r4jYawFvyP9QrZRniWPI/2gOtwJBV8j/lszwP7k7yP3Y3T3XITfI/rvVFQltO8j+p9ul4zEDyPwE1tWytL/I/S5NS0O0l8j8uBDkoYSbyP6NYbmk1JPI/jxmojH8f8j/Vz5uKVBjyP/BQFOgT+fE/BcB4Bg398T9h/Z/DfPnxP5ijx+9t+vE/8tJNYhDY8T9sPq4NFePxP/2fw3x5AfI/NnaJ6q0B8j+CixU1mAbyPymuKvuuCPI/aLPqc7UV8j8TZtr+lRXyPx7EzhQ6L/I/QBNhw9Mr8j/1LXO6LCbyP7QfKSLDKvI/0ZZzKa4q8j972uGvyRryPxY1mIbhI/I/t+7mqQ458j/X3TzVITfyPwB0mC8vQPI/duCcEaU98j+tLxLaci7yP1MiiV5GMfI/qAAYz6Ah8j9t4uR+hyLyP/wdigJ9IvI/ZapgVFIn8j93oblOIy3yPxH8byU7NvI/NWPRdHYy8j8+syRATS3yP80eaAWGLPI/jKGcaFch8j8npaDbSxryP4QqNXugFfI/8l61MuEX8j+TUtDtJQ3yP6+ZfLPNDfI/0egOYmcK8j8ldQKaCBvyP98Vwf9WMvI/lUiil1Es8j97SWO0jiryP+317o/3KvI/Jcy0/Ssr8j+rCaLuAxDyP2jLuRRXFfI/kzoBTYQN8j/2l92ThwXyP4Yb8PlhBPI/cayL22gA8j+Lw5lfzQHyP9S3zOmyGPI/zH9Iv30d8j9XQ+IeSx/yPx+F61G4HvI/rcCQ1a0e8j9qvHSTGATyP2IVb2Qe+fE/MxZNZycD8j9pdAexMwXyP6qaIOo+API/T3XIzXAD8j9r1EM0ugPyPzi+9sySAPI/ZhTLLa0G8j+UE+0qpPzxP0penWNA9vE/hGQBE7j18T9yFva0w9/xP4f+CS5W1PE/3GPpQxfU8T/CTNu/stLxP7BVgsXhzPE/TtGRXP7D8T++9sySALXxPz55WKg1zfE/38Mlx53S8T/SjEXT2cnxP2jon+BixfE/RFGgT+TJ8T9CIQIOocrxP7wFEhQ/xvE/7uvAOSPK8T/NdRppqbzxP86luKrsu/E/Jo3ROqqa8T9GlPYGX5jxPxtHrMWngPE/0qkrn+V58T8MyF7v/njxPwcI5ujxe/E/0GG+vAB78T8sSDMWTWfxP9Sa5h2naPE/SddMvtlm8T/3AUht4mTxP79DUaBPZPE/iQyreCNz8T+UpGsm32zxP0+vlGWIY/E/veMUHcll8T++pDFaR1XxPyl5dY4BWfE/yZOkayZf8T93Z+22C03xP3XN5JttbvE/BMqmXOFd8T9x5ldzgGDxP7n8h/TbV/E/Wp4Hd2dt8T8SoKaWrXXxP3AlOzYCcfE/Qs9m1edq8T/k2lAxzl/xP3juPVxyXPE/FsH/VrJj8T+ADvPlBVjxP0G3lzRGa/E/fjUHCOZo8T95Xb9gN2zxPxDpt68DZ/E/h9wMN+Bz8T//z2G+vIDxP5fK2xFOi/E/pTFaR1WT8T8cti3KbJDxP/uuCP63kvE/NbVsrS+S8T+sOUAwR4/xP5kqGJXUifE/PzVeukmM8T/+t5IdG4HxPwbYR6eufPE/UN8yp8ti8T9aR1UTRF3xPwKCOXr8XvE/XoB9dOpK8T9XCRaHMz/xP46vPbMkQPE/nUZaKm9H8T9SSZ2AJkLxPyYBamrZWvE/0JuKVBhb8T/ek4eFWlPxP034pX7eVPE/aVch5SdV8T/HYwYq41/xPzJ3LSEfdPE/bjSAt0CC8T9ehZSfVHvxP5tyhXe5iPE/F7fRAN6C8T/N6bKY2HzxP1ch5SfVvvE/ho+IKZHE8T/DDfj8MMLxP3ugFRiyuvE/E0TdByC18T9qwYu+grTxP3mvWpnwy/E/3J212y608T9uaTUk7rHxP6s+V1uxv/E/ob5lTpfF8T+etdsuNNfxP2kdVU0Q9fE/ofMau0T18T8WMIFbd/PxP8Mq3sg88vE/hA1Pr5Tl8T8730+Nl+7xP6UUdHtJ4/E/raOqCaLu8T+eDI6SV+fxP3cVUn5S7fE/EXAIVWr28T/ZWl8ktOXxPyno9pLG6PE/c51GWirv8T8vwD46deXxP74Ts14M5fE/V89J7xvf8T+Qa0PFOP/xP5YhjnVxG/I/cOtunuoQ8j8OZ341BwjyPymuKvuuCPI/8x/Sb18H8j8uVtRgGgbyP6Ghf4KLFfI/zEBl/PsM8j9W1GAahg/yPyx96IL6FvI/xuHMr+YA8j97FK5H4frxPwTidf2C3fE/GmmpvB3h8T/uWkI+6NnxPw0a+ie42PE/PujZrPrc8T8faAWGrO7xPyR/MPDc+/E/WUxsPq4N8j9BZfz7jAvyP9V46SYxCPI/XvQVpBkL8j/99nXgnBHyP4czv5oDBPI/3/jaM0sC8j+VK7zLRfzxP1Lt0/GYAfI/LT4FwHgG8j9IxJRIohfyP8TOFDqvMfI/220Xmus08j8CK4cW2U7yPx1yM9yAT/I/zAuwj05d8j+MvoI0Y1HyP6Tk1TkGZPI/oP1IERlW8j+6FFeVfVfyPyJxj6UPXfI/is3HtaFi8j+XrfVFQlvyPzfg88MIYfI/rg0V4/xN8j+QTl35LE/yP2lXIeUnVfI/zTtO0ZFc8j/Xo3A9ClfyP3o2qz5XW/I/v0NRoE9k8j9aR1UTRF3yP3o2qz5XW/I/zlMdcjNc8j95HtydtVvyP4m1+BQAY/I/3zKny2Ji8j8+6Nms+lzyPyYZOQt7WvI/YB+duvJZ8j9yp3Sw/k/yP8rDQq1pXvI/2NMOf01W8j+LprOTwVHyP+SDns2qT/I/5CzsaYc/8j8IA8+9h0vyP9jw9EpZhvI/roGtEiyO8j9TXFX2XZHyP5qxaDo7mfI/KETAIVSp8j8F3V7SGK3yP315AfbRqfI/hIHn3sOl8j/pZRTLLa3yP80GmWTkrPI/BcWPMXet8j+Z2HxcG6ryP2h5HtydtfI/kSdJ10y+8j9UqdkDrcDyPwNbJVgczvI/gufewyXH8j/6RJ4kXbPyP78OnDOitPI/2lVI+Um18j/Bbti2KLPyP2Yxsfm4tvI/uAa2SrC48j8RNjy9UpbyP1jFG5lHfvI/K/aX3ZOH8j9L5e0Ip4XyPx2PGaiMf/I/RN0HILWJ8j8LXvQVpJnyP7IubqMBvPI/z72HS4678j8HfH4YIbzyP1uZ8Ev9vPI/ejarPlfb8j9pb/CFydTyP9i7P96r1vI/xty1hHzQ8j/xun7BbtjyP7Q8D+7O2vI/E2HD0yvl8j95Bg39E9zyP600KQXd3vI/vhOzXgzl8j/nqQ65Ge7yP+oJSzyg7PI/ba0vEtry8j/gnBGlvcHyP/H0SlmGuPI/s82N6QnL8j+Nf59x4cDyP9UEUfcByPI/iQeUTbnC8j+0k8FR8uryP8KjjSPW4vI/OkAwR4/f8j+nXOFdLuLyP+hqK/aX3fI/nYAmwoan8j8ai6azk8HyP8Xm49pQsfI/CyQofoy58j+PGaiMf5/yP9un4zEDlfI/YtuizAaZ8j86zJcXYJ/yPyHqPgCpzfI/p658lufB8j84Mo/8wcDyP62GxD2WvvI/TTJyFva08j8k7rH0oYvyP+M2GsBboPI/IeUn1T6d8j+2EOSghJnyPxrdQexMofI/G55eKcuQ8j92GmmpvJ3yP9cXCW05l/I/J07udyiK8j/SAN4CCYryP3Iz3IDPj/I/zCiWW1qN8j/G4cyv5oDyPye9b3ztmfI/ONvcmJ6w8j/HRiBe16/yP/EuF/GdmPI/qZ83Famw8j8nvW987ZnyPzBMpgpGpfI/zJcXYB+d8j9ApN++DpzyP7AgzVg0nfI/N1SM8zeh8j+GyVTBqKTyP5G4x9KHrvI/l6jeGtiq8j9Mw/ARMaXyPyXMtP0rq/I/MdP2r6y08j8mUwWjkrryPzyInSl03vI/xOv6Bbvh8j8RAYdQpebyP7yzdtuF5vI/GlHaG3zh8j+tTPilft7yPyqRRC+j2PI/IEHxY8zd8j/4GRcOhOTyPyswZHWr5/I/CHJQwkzb8j/Bi76CNOPyP6VrJt9s8/I/t7QaEvfY8j+iRbbz/dTyP35XBP9byfI/T0ATYcPT8j9EaW/whcnyP8JM27+y0vI/J8KGp1fK8j9D4h5LH7ryP3pwd9Zuu/I/cSAkC5jA8j8iVKnZA63yP3aJ6q2BrfI/QPuRIjKs8j80SwLU1LLyPy+Lic3HtfI/J2vUQzS68j9K0jWTb7byP3Qprir7rvI/Df0TXKyo8j8N/RNcrKjyP+YF2EenrvI/y9b6IqGt8j9ZUYNpGL7yPyMtlbcjnPI/f2q8dJOY8j8QBp57D5fyP2sr9pfdk/I/6Q5iZwqd8j9xWvCir6DyP3pTkQpji/I/7l9ZaVKK8j8y5q4l5IPyP/IHA8+9h/I/nIpUGFuI8j94CyQofozyPxVSflLtU/I/TihEwCFU8j/KVMGopE7yP1K4HoXrUfI/bM8sCVBT8j8L0oxF01nyPy1gArfuZvI/pPyk2qdj8j9dp5GWylvyP3L+JhQiYPI/L1G9NbBV8j/68gLso1PyPxPyQc9mVfI/IhrdQexM8j/XNO84RUfyPznRrkLKT/I/+yKhLedS8j+P39v0Zz/yPxcrajANQ/I/MnIW9rRD8j/ZfFwbKkbyP1Exzt+EQvI/ahg+IqZE8j+AYI4evzfyPyGwcmiRbfI/bcX+snty8j8BwRw9fm/yP+VhodY0b/I/o8wGmWRk8j85KGGm7V/yP74Ts14MZfI/PKBsyhVe8j9cd/NUh1zyP5M16iEaXfI/ZmZmZmZm8j++E7NeDGXyP0VHcvkPafI/O99PjZdu8j9TliGOdXHyP49TdCSXf/I/hetRuB6F8j+0WfW52oryP9r+lZUmpfI/tLCnHf6a8j/9TShEwKHyPzBkdavnpPI/bTmX4qqy8j/NdRppqbzyP54Hd2fttvI/vTWwVYLF8j963/jaM8vyP3kGDf0T3PI/t5xLcVXZ8j/U1LK1vsjyPyMyrOKNzPI/ZcdGIF7X8j9MT1jiAeXyPx8RUyKJ3vI/lgSoqWXr8j+k/KTap+PyP/J7m/7sx/I/64uEtpzL8j+ILqhvmdPyPxLaci7F1fI//FI/byrS8j/TE5Z4QNnyP7RxxFp8CvM/ZapgVFIn8z9Zox6i0R3zP+C+DpwzIvM/hnKiXYUU8z81tWytLxLzP0F9y5wuC/M/jiPW4lMA8z/JyFnY0w7zP5IiMqziDfM/30+Nl24S8z+5iO/ErBfzP4JzRpT2BvM/VwT/W8kO8z9pjNZR1QTzP/fHe9XKBPM/NnaJ6q0B8z/j32dcOBDzPxzO/GoOEPM/jXqIRncQ8z+sOUAwRw/zPwdfmEwVDPM/KGGm7V/Z8j+CrRIsDufyP6btX1lp0vI/okW28/3U8j9/3lSkwtjyPxuBeF2/4PI/EarU7IHW8j8YCW05l+LyPzyInSl03vI/BfpEniTd8j+R7Xw/Nd7yP3L+JhQi4PI/5WGh1jTv8j9Pr5RliOPyP6nBNAwfEfM/tMh2vp8a8z9sW5TZIBPzP54pdF5jF/M/jpJX5xgQ8z/WkLjH0gfzP3/7OnDOCPM/k1LQ7SUN8z+wyRr1EA3zP9l3RfC/FfM/RIts5/sp8z81Y9F0djLzP5G4x9KHLvM/OPOrOUAw8z+2vkhoyznzP6KXUSy3NPM/a/EpAMYz8z+gNxWpMDbzP8DPuHAgJPM/l5APejYr8z8pXI/C9SjzP12Kq8q+K/M/MZQT7Sok8z8m5IOezSrzP4OG/gkuVvM/aoe/JmtU8z+G5jqNtFTzP768APvoVPM/BhIUP8Zc8z/y6hwDslfzP5/Nqs/VVvM/j6UPXVBf8z9ubkxPWGLzPyWS6GUUS/M/yCQjZ2FP8z+jzAaZZGTzP41donprYPM/9UpZhjhW8z/DZKpgVFLzP9obfGEyVfM/zczMzMxM8z/0iTxJumbzPxvYKsHicPM/gQTFjzF38z8u/yH99nXzP08GR8mrc/M/r0LKT6p98z+PwvUoXI/zP4/C9Shcj/M/eAskKH6M8z9YHM78ao7zPzpdFhObj/M/x9eeWRKg8z8sZRniWJfzPymWW1oNifM/s5jYfFyb8z+0ccRafIrzP9RgGoaPiPM/S80eaAWG8z/0piIVxpbzP7Hh6ZWyjPM/7C+7Jw+L8z/2fw7z5YXzP8lZ2NMOf/M/Tb7Z5sZ08z/EQq1p3nHzP4fEPZY+dPM/lGqfjseM8z9gPIOG/onzP3bDtkWZjfM/Z5sb0xOW8z8Cnx9GCI/zPyS05VyKq/M/Tgte9BWk8z9VTRB1H4DzP4vDmV/NgfM/NJ2dDI6S8z8kRWRYxZvzP1CqfToes/M/hQg4hCq18z9TIoleRrHzP5bnwd1Zu/M/qfbpeMzA8z+1pnnHKbrzP+6UDtb/ufM/0QX1LXO68z+E8GjjiLXzPw+cM6K0t/M/xoUDIVnA8z/rc7UV+8vzP18HzhlR2vM/Xb9gN2zb8z/Xo3A9CtfzPw9iZwqd1/M/qIx/n3Hh8z+wPbMkQM3zP3kGDf0T3PM/ceZXc4Dg8z947j1cctzzP+iC+pY53fM/NrBVgsXh8z88iJ0pdN7zP4cW2c730/M/6lvmdFnM8z8h6j4Aqc3zP1GIgEOo0vM/v0NRoE/k8z9x5ldzgODzP7ecS3FV2fM/TODW3TzV8z9nD7QCQ9bzP9i7P96r1vM/j6UPXVDf8z8=\"},\"shape\":[1000],\"dtype\":\"float64\",\"order\":\"little\"}],[\"Volume\",{\"type\":\"ndarray\",\"array\":{\"type\":\"bytes\",\"data\":\"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\"},\"shape\":[1000],\"dtype\":\"float64\",\"order\":\"little\"}],[\"datetime\",{\"type\":\"ndarray\",\"array\":{\"type\":\"bytes\",\"data\":\"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\"},\"shape\":[1000],\"dtype\":\"int32\",\"order\":\"little\"}],[\"inc\",{\"type\":\"ndarray\",\"array\":[\"0\",\"0\",\"0\",\"1\",\"1\",\"1\",\"1\",\"0\",\"1\",\"1\",\"1\",\"1\",\"0\",\"0\",\"0\",\"1\",\"0\",\"1\",\"0\",\"0\",\"1\",\"1\",\"1\",\"1\",\"1\",\"1\",\"0\",\"0\",\"1\",\"0\",\"1\",\"1\",\"1\",\"0\",\"0\",\"0\",\"0\",\"0\",\"0\",\"1\",\"0\",\"1\",\"1\",\"0\",\"1\",\"0\",\"1\",\"0\",\"0\",\"0\",\"1\",\"1\",\"0\",\"0\",\"1\",\"1\",\"0\",\"1\",\"1\",\"1\",\"1\",\"1\",\"0\",\"0\",\"1\",\"0\",\"0\",\"1\",\"0\",\"1\",\"1\",\"1\",\"1\",\"0\",\"1\",\"0\",\"1\",\"0\",\"0\",\"0\",\"1\",\"1\",\"0\",\"0\",\"0\",\"0\",\"1\",\"1\",\"0\",\"1\",\"0\",\"1\",\"0\",\"1\",\"1\",\"1\",\"0\",\"1\",\"0\",\"1\",\"0\",\"0\",\"0\",\"1\",\"0\",\"0\",\"1\",\"1\",\"0\",\"0\",\"0\",\"1\",\"1\",\"1\",\"1\",\"0\",\"0\",\"0\",\"0\",\"1\",\"1\",\"1\",\"0\",\"1\",\"0\",\"1\",\"1\",\"0\",\"1\",\"1\",\"0\",\"0\",\"1\",\"0\",\"1\",\"1\",\"0\",\"1\",\"0\",\"0\",\"1\",\"1\",\"1\",\"1\",\"0\",\"0\",\"1\",\"0\",\"0\",\"0\",\"1\",\"1\",\"1\",\"0\",\"1\",\"1\",\"0\",\"0\",\"1\",\"0\",\"1\",\"0\",\"0\",\"0\",\"1\",\"1\",\"1\",\"1\",\"0\",\"1\",\"1\",\"1\",\"0\",\"1\",\"0\",\"1\",\"0\",\"1\",\"0\",\"1\",\"1\",\"1\",\"0\",\"1\",\"0\",\"0\",\"0\",\"0\",\"1\",\"0\",\"0\",\"1\",\"0\",\"0\",\"1\",\"0\",\"0\",\"1\",\"0\",\"0\",\"0\",\"1\",\"1\",\"1\",\"1\",\"0\",\"1\",\"0\",\"0\",\"0\",\"0\",\"0\",\"1\",\"0\",\"0\",\"1\",\"0\",\"0\",\"1\",\"0\",\"1\",\"0\",\"1\",\"0\",\"1\",\"1\",\"1\",\"1\",\"0\",\"0\",\"1\",\"0\",\"0\",\"0\",\"0\",\"1\",\"1\",\"0\",\"1\",\"0\",\"1\",\"0\",\"1\",\"1\",\"0\",\"1\",\"1\",\"1\",\"0\",\"1\",\"1\",\"1\",\"0\",\"0\",\"0\",\"0\",\"1\",\"0\",\"1\",\"0\",\"0\",\"0\",\"0\",\"1\",\"0\",\"0\",\"0\",\"1\",\"0\",\"1\",\"0\",\"0\",\"0\",\"0\",\"0\",\"0\",\"0\",\"0\",\"1\",\"0\",\"1\",\"0\",\"1\",\"0\",\"1\",\"1\",\"1\",\"0\",\"1\",\"0\",\"1\",\"1\",\"0\",\"1\",\"1\",\"0\",\"0\",\"1\",\"0\",\"1\",\"0\",\"0\",\"0\",\"0\",\"1\",\"1\",\"0\",\"0\",\"0\",\"1\",\"1\",\"0\",\"0\",\"0\",\"1\",\"0\",\"1\",\"1\",\"0\",\"1\",\"1\",\"1\",\"1\",\"0\",\"1\",\"1\",\"0\",\"0\",\"0\",\"1\",\"1\",\"0\",\"1\",\"0\",\"1\",\"1\",\"1\",\"0\",\"0\",\"1\",\"0\",\"0\",\"1\",\"0\",\"1\",\"1\",\"1\",\"1\",\"0\",\"0\",\"0\",\"1\",\"0\",\"0\",\"1\",\"0\",\"1\",\"1\",\"0\",\"1\",\"0\",\"0\",\"0\",\"1\",\"0\",\"1\",\"0\",\"0\",\"1\",\"1\",\"0\",\"0\",\"0\",\"0\",\"0\",\"1\",\"0\",\"0\",\"0\",\"1\",\"0\",\"0\",\"0\",\"0\",\"1\",\"0\",\"1\",\"0\",\"1\",\"1\",\"1\",\"0\",\"1\",\"1\",\"1\",\"1\",\"0\",\"0\",\"1\",\"0\",\"0\",\"1\",\"1\",\"0\",\"1\",\"0\",\"0\",\"1\",\"0\",\"1\",\"0\",\"1\",\"1\",\"1\",\"0\",\"0\",\"0\",\"0\",\"0\",\"0\",\"1\",\"0\",\"1\",\"0\",\"1\",\"1\",\"0\",\"0\",\"1\",\"1\",\"0\",\"1\",\"0\",\"0\",\"0\",\"0\",\"1\",\"1\",\"1\",\"1\",\"0\",\"1\",\"0\",\"0\",\"1\",\"0\",\"0\",\"1\",\"1\",\"0\",\"1\",\"0\",\"0\",\"0\",\"0\",\"0\",\"1\",\"0\",\"0\",\"0\",\"0\",\"1\",\"1\",\"0\",\"0\",\"1\",\"1\",\"0\",\"1\",\"0\",\"0\",\"0\",\"0\",\"0\",\"0\",\"1\",\"1\",\"0\",\"0\",\"1\",\"0\",\"1\",\"0\",\"1\",\"0\",\"0\",\"1\",\"0\",\"1\",\"1\",\"0\",\"1\",\"0\",\"1\",\"0\",\"1\",\"1\",\"0\",\"0\",\"0\",\"0\",\"1\",\"0\",\"1\",\"0\",\"1\",\"0\",\"1\",\"1\",\"1\",\"1\",\"0\",\"1\",\"0\",\"0\",\"0\",\"1\",\"0\",\"0\",\"0\",\"0\",\"1\",\"0\",\"0\",\"1\",\"1\",\"0\",\"1\",\"0\",\"0\",\"1\",\"1\",\"1\",\"1\",\"1\",\"0\",\"1\",\"0\",\"0\",\"1\",\"1\",\"0\",\"0\",\"0\",\"0\",\"1\",\"0\",\"0\",\"1\",\"1\",\"1\",\"1\",\"1\",\"0\",\"0\",\"0\",\"1\",\"0\",\"1\",\"0\",\"1\",\"1\",\"0\",\"1\",\"1\",\"0\",\"0\",\"0\",\"1\",\"1\",\"0\",\"0\",\"1\",\"0\",\"0\",\"1\",\"0\",\"1\",\"1\",\"0\",\"0\",\"0\",\"1\",\"0\",\"0\",\"1\",\"1\",\"1\",\"1\",\"0\",\"0\",\"1\",\"1\",\"0\",\"0\",\"0\",\"1\",\"1\",\"1\",\"1\",\"1\",\"1\",\"1\",\"1\",\"0\",\"1\",\"0\",\"1\",\"1\",\"1\",\"0\",\"1\",\"0\",\"0\",\"1\",\"1\",\"0\",\"1\",\"1\",\"0\",\"0\",\"1\",\"0\",\"1\",\"0\",\"0\",\"0\",\"0\",\"0\",\"1\",\"0\",\"0\",\"0\",\"0\",\"1\",\"1\",\"1\",\"1\",\"1\",\"1\",\"1\",\"0\",\"0\",\"1\",\"0\",\"1\",\"0\",\"1\",\"1\",\"1\",\"1\",\"0\",\"0\",\"1\",\"1\",\"0\",\"1\",\"1\",\"0\",\"0\",\"1\",\"1\",\"0\",\"1\",\"1\",\"1\",\"0\",\"0\",\"1\",\"1\",\"0\",\"1\",\"0\",\"1\",\"1\",\"1\",\"0\",\"1\",\"1\",\"1\",\"0\",\"1\",\"0\",\"0\",\"1\",\"0\",\"1\",\"0\",\"1\",\"0\",\"0\",\"0\",\"0\",\"0\",\"1\",\"0\",\"1\",\"0\",\"0\",\"1\",\"1\",\"1\",\"0\",\"0\",\"0\",\"0\",\"0\",\"1\",\"0\",\"0\",\"1\",\"0\",\"1\",\"0\",\"0\",\"1\",\"1\",\"0\",\"0\",\"1\",\"1\",\"0\",\"0\",\"1\",\"0\",\"1\",\"0\",\"0\",\"1\",\"1\",\"1\",\"1\",\"0\",\"0\",\"1\",\"1\",\"1\",\"1\",\"1\",\"1\",\"0\",\"0\",\"0\",\"0\",\"1\",\"1\",\"1\",\"0\",\"1\",\"1\",\"0\",\"0\",\"0\",\"1\",\"0\",\"1\",\"0\",\"0\",\"1\",\"1\",\"0\",\"1\",\"0\",\"1\",\"1\",\"1\",\"0\",\"0\",\"0\",\"1\",\"1\",\"0\",\"1\",\"0\",\"0\",\"0\",\"0\",\"1\",\"1\",\"0\",\"0\",\"0\",\"1\",\"1\",\"1\",\"0\",\"0\",\"0\",\"1\",\"1\",\"1\",\"1\",\"0\",\"0\",\"1\",\"0\",\"0\",\"1\",\"0\",\"0\",\"1\",\"1\",\"0\",\"1\",\"1\",\"1\",\"0\",\"1\",\"0\",\"1\",\"1\",\"1\",\"0\",\"0\",\"0\",\"1\",\"0\",\"0\",\"1\",\"1\",\"1\",\"1\",\"1\",\"1\",\"1\",\"1\",\"1\",\"1\",\"0\",\"1\",\"1\",\"1\",\"1\",\"0\",\"1\",\"1\",\"1\",\"0\",\"0\",\"1\",\"1\",\"1\",\"0\",\"1\",\"0\",\"0\",\"1\",\"1\",\"1\",\"0\",\"1\",\"1\",\"1\",\"0\",\"1\",\"0\",\"0\",\"0\",\"0\",\"1\",\"0\",\"1\",\"1\",\"0\",\"1\",\"0\",\"0\",\"0\",\"1\",\"1\",\"1\",\"1\",\"0\",\"0\",\"1\",\"0\",\"1\",\"1\",\"1\",\"0\",\"1\",\"0\",\"0\",\"1\",\"1\",\"1\",\"0\",\"1\",\"1\",\"0\",\"1\",\"0\",\"0\",\"1\",\"1\",\"1\",\"1\",\"1\",\"1\",\"0\",\"1\",\"1\",\"0\",\"0\",\"1\",\"0\",\"1\",\"0\",\"1\",\"0\",\"1\",\"1\",\"0\",\"1\",\"0\",\"1\",\"0\",\"0\",\"1\",\"1\",\"0\",\"1\",\"1\",\"0\",\"0\",\"0\",\"1\",\"0\",\"1\",\"1\",\"1\",\"0\",\"0\",\"1\",\"1\",\"0\",\"0\",\"1\",\"1\",\"1\",\"0\",\"0\",\"1\",\"0\",\"0\",\"0\",\"1\",\"0\",\"0\",\"0\",\"0\",\"0\",\"0\",\"1\",\"1\",\"0\",\"1\",\"1\",\"0\",\"1\",\"0\",\"1\",\"1\",\"1\",\"1\",\"1\",\"1\",\"0\",\"1\",\"1\",\"0\",\"0\",\"1\",\"0\",\"1\",\"1\",\"1\",\"1\",\"1\",\"0\",\"1\",\"1\",\"0\",\"1\",\"1\",\"0\",\"1\",\"1\",\"0\",\"0\",\"0\",\"0\",\"1\",\"1\",\"0\",\"0\",\"0\",\"1\",\"1\",\"1\"],\"shape\":[1000],\"dtype\":\"object\",\"order\":\"little\"}],[\"equity\",{\"type\":\"ndarray\",\"array\":{\"type\":\"bytes\",\"data\":\"AAAAAAAA8D8AAAAAAADwPwAAAAAAAPA/AAAAAAAA8D8AAAAAAADwPwAAAAAAAPA/AAAAAAAA8D8AAAAAAADwPwAAAAAAAPA/AAAAAAAA8D8AAAAAAADwPwAAAAAAAPA/AAAAAAAA8D8AAAAAAADwPwAAAAAAAPA/AAAAAAAA8D8AAAAAAADwPwAAAAAAAPA/AAAAAAAA8D8AAAAAAADwPwAAAAAAAPA/AAAAAAAA8D8AAAAAAADwPwAAAAAAAPA/AAAAAAAA8D8AAAAAAADwPwAAAAAAAPA/AAAAAAAA8D8AAAAAAADwPwAAAAAAAPA/AAAAAAAA8D+B4Ql74vLvP/rtN09/2u8/ZE15Nb/o7z+4e5hBpf/vP5UArsQ5A/A/TPcXmhsO8D91+HMjjxTwP7582+HpFPA/FjqGMhoK8D9/AxScWhPwP0z3F5obDvA/bMFsscQL8D9Y+pZaaw/wPzlLJCyFC/A/2TNvyEsW8D9YkErXahTwP2dEX/18FPA/sqXDGpkd8D/9Big4tSbwP2NdBcY0IvA/rfxObVIc8D+MKhe4qSLwP0XbXPWzOvA/S2EdSJA68D8UeYgCWjPwP+fORL9TNPA/jvhGWzIa8D/50cmCJATwP5ETYDfw8+8/Y4q5Poix7z+OjfyesZ/vPw4V8id7ou8//mwRPLGz7z9DVOHP8KbvPzx1IWDxt+8/r1Q2/fDL7z9Ex2ybcr3vPwqEM3411e8/PA03MTvD7z+BTQbinaXvPxtG/dL7lu8/ChymCR2M7z9S7dapJ5DvPxX0sZd6ke8/gU0G4p2l7z/3ZNoLwJfvPxq5iJ59re8/jw9zfMa77z8i9TTmycPvP4hVPRKPwe8/Uu3WqSeQ7z8HgEbDC53vP3r7uqYcoO8/y2GXq5ap7z9rh0/SravvP9+ATdipku8/eBxY8bpc7z9lmQELuWLvP/GbFkqTQ+8/X11Vw2xM7z/Zkv8QtUnvP4wWhBgGUe8/AcZtE3JO7z8/cZFfZSvvPzKZhdEHJu8/VEYzgegq7z9y+pQSaxnvP6c5hLrgHe8/quTOEoUS7z9Ew9ya5jDvPzdeXNgKQu8/FVivCwdO7z+kRCVXrD/vP94jYQBda+8/u5A//9qN7z+L/JqvCX7vP0sZFZGRbu8/8ZAY8yl27z998BkKUX7vP7KilH1Ime8/wtfpnZBx7z+9axK0sETvP/gHS+4QHO8/6bhpH2oc7z++HRHu9iLvP0lJne3CMO8/BC5YQihD7z/wgS3hlnDvP9AX4Fqka+8/eitDA05i7z8VKCev1YvvPyA/SfFZre8/R5dB+d6m7z8/3QuPp6zvPztxNKXHf+8/HAfnHtV67z9toTg7qn7vPxi1m+NTde8/GB2GEgpq7z9ZpwwUX4rvPzmwSlnum+8/GZAR3ouA7z8g8UcroIvvP0/e65eUiu8/4NlM9cyB7z+7a7X5EpnvP+cV+TwZmO8/2kiOS4e07z+o8/+v3MDvP29xsN54vO8/3IvudHW07z95eUTJB4TvPzgfRiTkJe8/qv5aweM57z/igKqSRz7vP6WsD4ZiNO8/mXsE2+E/7z/GAL4YIErvP2hpea6HoO8/Q3lr1bib7z+llhPYj5nvP8PxdUzvmO8/lu4y7MWq7z8G2UXgLozvPzGoEyn9f+8/P1uVsZKQ7z+fRMicDpTvPxGiZlz5i+8/9CF64tGX7z+ZvgdKMpTvPyn5fluRp+8/QyBsuJWs7z+hxj56I7DvPzLRiunurO8/m83yW8WZ7z/R8lVV3HbvPyX1kaBnb+8/eGpZt3R+7z/4FtlFBnbvP7oOySHGce8/qoDRnvhV7z/znwMFvXvvP1Kf1eNtbu8/KTjyyVVv7z8go0Zl5mnvP6sCSHwNcu8/7XJCzwNr7z+tztJksnfvP4S1TcvxRe8/dOT1HjYq7z8atfid8SDvP8Wj0UDTIu8/X/XHTlQD7z/JKZKTryLvP8DT/OJmOe8/Dyvu1U097z/m0vXNyEPvPxOiwxaXN+8/r1Cm/GQ/7z8s1FEQZ17vP8OJ6NfWT+8/3XxgHYBa7z9jVqHhymLvP8VkXtIOW+8//I2uhk9w7z92qW9rm5rvPxcDnakNl+8/zJUMw/Gj7z/+kZtBeajvP6qp66RM1+8/dfuEaoXU7z8ZhO+G/7fvP+QvDNyqqe8/2g/PFx2O7z88ugLr55bvP7HIBSAbjO8/GQNY1ayi7z/wqpovFbzvP4uUIR/Y1+8/xfeL+qDe7z8WYgcr1O7vPwGSMKZ16O8/it5+AB/q7z/ifN0uowTwP72tkbCxA/A/7BI9P3gE8D/GMtwECATwP+PxlqZmAfA/Xn+W198E8D/wTzIEw/PvP8PaAZ9rFPA/eK6/iisN8D8ZUOkM/hHwPzanEYGKDfA/XB/gjSgM8D+8Se30bAbwP4hgR9yW6u8/vBUk3oMF8D+z+Gu3/wbwP6lzIWOpBvA/ulHJ2IcP8D8xVxP/CCfwPwH2VeLPKvA/HCGRI44u8D+hx1oJ/ivwP31HsBhFJPA/Jdqkjs0v8D8J4zJk+CzwP+3vrquwLvA/viJx7xcs8D/QyGHcfy/wP2l10vgOKfA/WP+8sAIi8D+OvcVgUSvwPwau5pEjE/A/lKN3X9IO8D82hb6JWwzwPydJsYUbDvA/x8BTK8AF8D9ZokvprQLwPw/otL3J7u8/1X8DfoD67z8cU5hzAP/vP0KxxOwtAfA/qIT3uuQG8D+4hEYngAfwP+hmVCCACvA/n7GedtIE8D+qSDkjQAnwP8Ib4dPtC/A/ejtk+L8b8D/Kw3LmfyPwPyHg/MXtEfA/UMIKv+0U8D9haLxHEhnwP/Z3mvI/HvA/DcO+0jYc8D82WvdX2yHwP3/C9wPAFvA/vv7xTNIW8D9z8I6EZB7wP0ZaRsR2IvA/evK9em0y8D/lmTlS7UPwP5N8v63IS/A/fPDp0DpR8D/38K54v1HwP3VGm7DrUfA/WJ5gL69U8D91BISXX1TwP7y/hk9WZvA/ca9cB7hU8D+y49re21XwPzTQBcA7U/A/Y9/t+DFR8D9bPfw8E0jwP/4Wz2b2VfA/56RunFFJ8D8emF+q8k3wPwWHY9LpTfA/1X/Y/SNG8D+pYy3vvkvwP2SUCe0MO/A/3kLLeGM68D+WGwe8nkjwP0v2b2FUV/A/qA5eYPtO8D/njaemo1rwPwEnQ6SSWfA/RKX6loVb8D9s3koMiGTwP3WD9FZVZvA/VO6yHVto8D8D0EazVFzwP1JGSh1eXPA//ifV90dj8D/yL4mAMWXwPzv+Gi8ubPA/vKkdBVVh8D9+f6NNcFLwP+Hj/80MdPA/h8hJXiaF8D9iQaNseJfwP/CTR5B6kvA/iNDBYCKZ8D8AYqhJRJbwP6meZFyFffA/jj7rvLt98D99cIoD8nnwP31wigPyefA/iPPQdP9z8D+QBNLf+nHwP7AW9QIZjfA/wW70C1h98D8U1C+S73LwP5ajjUTkc/A/qgHY7aR38D+M23crnIPwP9eDU2Nlc/A/1ap+Ibtl8D+SWHP8J2rwP/N8PceWYfA/skjWi+hp8D+GGvwyVWbwP0OmMHpkT/A/ZgjZDzdL8D+kdlkopk7wPyXjQ0l7VfA/U8gyUFtL8D9heO8fQEvwPwh0+DS/U/A/I8WfX5ZR8D8Jg8qpsVXwP9oYqH1USvA/LG8Rj/k98D9CuZWncTTwP1r6+M3CG/A/bepk8ssd8D+hMiZGlBvwP66o6fzZHPA/LBv+HOQS8D9UBctaCB/wP3nzfE+qKvA/7+voAfEf8D/Dm11ALSPwP7+fQveqIvA/ET1RW+gX8D8IypXD7BrwPxMvd69YEPA/kDTgdfsR8D+uofwmEhnwPyws4Oe9HvA/NQxH2SAQ8D9QAsM7vhrwPwk+LvMbE/A/E7vefykY8D8csxQSLhnwP3xLYSe6E/A/XeUxTGsQ8D9y5n87Th7wP4rSBqnZIPA/N6mQdMsj8D+UVqQLrynwP5xO2p2zKvA/mFK/VDEq8D9TK3SnOTbwP5j94ptrRfA/6bmtdhJO8D9Tz6oYrE3wP/it/lGZT/A/jZ/uhcdT8D/I7b8XJFrwP86U/qfgdfA/Gx9leHdy8D/XxkeniHXwP01xhxO5dPA/0V49IU2S8D9ZHTFh0YjwP2c0m8KobvA/+4V8ontu8D/eK5yfQGrwP1/S/Fd0aPA/9kkqXT5d8D/Q5W9wWV3wP9oxCLtHR/A/dLQ40DRK8D+utbpGEk/wP9elPncfS/A/aLgXhDFL8D+3ypdA31jwP5q9eK4LUfA/n31HtdE+8D+rCOjSgEDwP1slE0htOPA/b8bnULE68D/8YOgqQEjwP7KMNaW6RfA/BAoBaLBT8D95RGuW4lLwP11wZvHrUvA/izWgAZxO8D9o3U2Ka0nwPzbOfaROQfA/7pPBVqtE8D/bLWEeRknwP7xvBd/3SfA/Oz3f5PFT8D8EuqAFO1rwP0hFeollXvA/bdeD/WJc8D8owpIa9mXwPyyWAethZfA/rOHlk1xo8D/yYCP6yVnwPxotYDLwRPA/paPNhVJK8D/Xwti05UvwP78mWfGHS/A/tFiZD1lL8D+VRYyXoWPwP2RYEareXvA/vX3jjN1l8D+I4RvxAW3wP5aW53oIbvA/rQDX/JVx8D/27fEwV3DwP3BYYc3dW/A/KrZyxJRX8D9cBw41+FXwP+Ph83l7VvA/f3FN2oRW8D/Zg1odSm7wPxvbHPsaePA/3GpmxSFv8D9mXujzTG3wPxw/PX67cfA/mX3zIuBu8D9VkICAnm7wPz3CcHtwcfA/eCxQZ/tr8D+4nAad9HTwP78fmlOrevA/qmomOCV78D8uGavzxo7wPyOcRvX+mPA/zPlfNzeZ8D+BDEUDdprwPwK18nSpn/A/SEfjl5Sn8D9IGUiCNqrwPyIFCk32pfA/hxHZPwOl8D8L6phJjabwP7CjN/1Vp/A/WYM5coum8D/bSoRNaqbwPx03ZFIvp/A/Lxv9ZYCm8D+CFZgv3qjwPwBOTVT/qPA/F37L9+et8D+SreyKMq7wPysqvK3vsfA/6oo1Nh2s8D8yXSxlSavwP+dP7Zz+rfA/7uUdKyGt8D/0rKYWCpvwP4dxNNBHnPA/GBYiLqCa8D+fyfYI0pjwP/x9Hz5LmPA/C7Rwluil8D9LsPZ/J6DwPw0FaU+Ul/A/V/f/2aWZ8D+hGu/BfYrwP0aGZujpjfA/P9WNHI6T8D9nykmG7oLwPyqiY12VofA/MomMpGOS8D/SmRvWy5TwPwDvt1LcjPA/q78HqqSg8D8nTHOGPajwP4h2LO7zo/A/0WPLWlme8D9omfEoKJTwPxlMcqkSkfA/F/aB0rqX8D8K4NDVAo3wPyiCwwGwnvA/FtvZlIGc8D8i7JJzjZ/wPyIHO7HGmvA/uPBg5JWm8D9YMsI59bHwP5MtxWdIu/A/IhL3613C8D+QBBT8zL/wP0sh2SHTwfA/xIMU2VrB8D8ydjHpyb7wP/VRfU/7ufA/UBX1dya88D8/KdR/SLLwP2iW/DZhrvA/3L+5jImX8D86WRa+UZLwP/LwoAT2k/A/O1ylzc6A8D+V8UrtoHXwP0ks7BOHdvA/XzXiPnx98D/1hzhmcXjwP1ZT/loDkPA/3h8SZT+Q8D8kdaIn3IjwP783x2VOivA/s/uIcZSK8D85NJQp0pTwP6GmR2chqPA/Kxe6qp218D/gwOGOAq/wP9LLGLTKu/A/f5brwzO28D98gwbNdLDwPxmIyl5t7/A/KdftSeb08D+yyIPoofLwP37qJ7V66/A/H3m80Cnm8D/M+Yq3k+XwPxnPP3jv+/A/az4bqkPl8D83FrtNHePwP/bTD4I/8PA/tgDrc+D18D8dmCBGrwbxP6Yqhg4uI/E/wv/rFmAj8T8yeQXNpyHxP4p6opp7IPE/L9Wmk2cU8T/+dScFAR3xP5C1mDU3EvE/am3VBgsd8T9UZN/bFRbxP+t/FtHKG/E/kQ/zRXgk8T9yu7CYhRTxPxY4qBZ0F/E/5v2qHI0d8T/r7pyOSRTxP7NE0X3lE/E/iCBIijoO8T9F2w2v3yzxP85WOizIR/E/OwXkPn4+8T/lNYhspjbxP2PQUnc6N/E/Zpu9YRI28T8QENWM8zTxP1roGsuTQvE/QmYk/gU78T/ufPWnQz3xP08atqLXQ/E/w+Usd1ww8T9YegdUDCvxP2qstRH+DvE/ZkufG28S8T9uDcwHjQvxPzmzKrBqCvE/11dt6nsO8T/w79ADYR/xP1CB0ND4K/E/eMpE8/s88T8peCNW8zrxP0o7W16+N/E/SUTmNIU68T9E7FoVvUDxP2C3IyrBM/E/lgg6qxwy8T/VJAjvXCzxP5py23dyMfE/gIxx3xk28T8H0IzRfEbxP/NvX1NcX/E/w/sWQnNi8T/YkooDPnjxP/z9GClKePE/l64gAEp58T8CchIVbXjxP8J4FIHGefE/EBQCY8R48T+8t9Ay3njxP2pGC3JFefE/F9VFsax58T/Hn8MKJHnxP/CvuhWPefE/OaY/Ei548T9qyFEWRHjxPw5aBe2yePE/D3bgVTx58T8Uzv7Y1XjxPyxtdY8lefE/oseC0ct58T/kx8c9SXnxPyxtdY8lefE/y1nAgDV58T9wiZVkLHnxP1vxZYazefE/6WwwI6h58T8FeVntQ3nxP46AKp4VefE/gcmmvwt58T9WzkNFU3jxP2MDgX9eefE/u+RCj19y8T/Hm+w0DG7xP21sSGwPbPE/9V2u0bRc8T++J+XUH2jxP+clA5YVoPE/+5DxB4en8T8Nf78rkarxPycEk5cMsvE/mPhHOF3B8T/EmFskZMXxP1aOi8iCwvE/oLRTTfK+8T9u/3OTdsXxPx2Yng42xfE/vmZJGLfF8T+m9WBNw8LxP39NRUbhzPE/i89fRoPU8T+1cCPcmdbxPxU1xQdp4vE/6R6rJErc8T9SRiZX5srxP5F9IBEEzPE/2rLjiZfM8T+rRWlBuMrxP2q3DiLazfE/R1dYjJTP8T8OHdx/X7HxPxlqYiE9nPE/Gu6zYmmk8T+TgfYvuKLxP1ihXNtanfE/SVsuq0im8T/SWjgTSrTxPwqVtB9/0vE/Z2CuvBnS8T8IL1nGmtLxP/hk2VRc0/E/zvipHQru8T/w4wlmR+jxPyQdO2Hv6fE/P9aInX/k8T9ZvMe1e+vxP4Ndi0uS7fE/GxgaMa728T/BlIUFsO7xPzo3w8Yi8fE/HX51ipL28T8jzn1+h/7xPz6Wxq47/fE/eBAFqrQC8j9Mp2CAidfxP/WJJ65vz/E/TSuywbXf8T9cceDxx9bxP9lUK7ML3fE/OneFtWbY8T+yXVLJwfvxP0aq4tKg9PE/158Sd7/x8T/9dB9aDfTxP/v/yAwF8PE/1VPgoX7A8T/62S+iZNfxP80/xH0ZyfE/No3YGlbQ8T8SB4kacLnxPxSrSn5rr/E/YSjqdj2z8T8CeXNBSLnxP7pht9xU5fE/67u/zSTa8T+McyRiDdnxP46qB3v81vE/J4t5WNPN8T8uG/A7fqbxPwu3QcI3uvE/mvIJVUG38T9lR1E3tbPxP32yXEgdu/E/2+AqoGer8T+fEXEVubfxP6e2GmCGsfE/Ir66+hal8T9h9qAK+aTxP9KiXB94qvE/vQdZXSGo8T/99XmoR5zxPz7hUQIZtPE/LPk/irHJ8T8QCPLu88jxP4mO6avZsvE/wTvzhLvJ8T8+4VECGbTxPzbtSEblvvE/2SrwZCO38T+mZ7vuH7bxPwWwVlo3t/E/Ui32Ugm78T9vBsiVT77xP1q1iZi0x/E/ukyEdTLE8T8KaOJQ0b7xP2hhHkuCxPE/D7mSfY3N8T9BLWiCKtPxP3YF0F9Q9fE/PNTUt2748T9mCtw7HP3xP6VCwkv+/PE/ukSh1zL48T8LSINaWvXxP28WYVDH7/E/GtybtLD08T/+g3JPFfvxPwSLXbcV/vE/b/7k90/y8T9IMQr51fnxP9QwVcZFCfI/Gyv7JRfw8T9k8A4oT+zxP1YSMQk94fE/2iINxyPr8T+sHP7zZOHxP6Vf2FAg6vE/XlD/iSzi8T/TULS8vNLxP4ijHBP80/E/NWlXd+XY8T+4FaFcQ8bxP7w0CB27xvE/BuKfxnvF8T+/BBBszMvxP9i+eu6azvE//tUastDS8T8z6K6ZOs/xP8iRPV4iyPE/vYNnjiHC8T+9g2eOIcLxPxt9o4jSx/E/ffwhDdnG8T+Ki6C6hNbxP9HsIeQztvE/80s2sc+y8T9QrE11XrHxP7VirxJUrvE/rqWJbw+38T+5y9uXh7rxP6yLvFtCpvE/eMiH5T6l8T+s8pclIJ/xP6JlajPKovE/Z0zr41+j8T92kaTMT6fxP/pfnmN6cfE/56weSaxx8T+O0kkPc2zxP1ShTmeRb/E/Nnkds+Rw8T8t1HNoF3fxP0gPh8iQg/E/gUCCcHKA8T8+UBBq9njxPzniSTgYffE/II+6fydz8T/jjbeINHHxPwe906ThcvE//uXg7c9q8T9OAT/JbmXxP+wa5XqKbfE/XN8c6IBw8T8KEc3C8l3xPxQ3H+tqYfE/b2BTlgpi8T+E+1ZYYWTxP3rVBDDpYPE/41tuHPBi8T+zbduhqFbxPwIy923hifE/K2j+8Y6O8T99a+B0tovxP2SZ+Zlwi/E/CO8cESaB8T9MlclS5nzxP2IYUbzFgfE//OBGQSV78T/F/qoKqnnxP/OieMA1evE/rq1sDQ+D8T9iGFG8xYHxP7CV8LSXhfE/n7J46dqK8T+N53x2lY3xP0ejEVIIm/E/NsCZhkug8T8SKqKgwKXxP3MlL1bHvvE/c6SGeBy18T/sjhAOi7vxP/GV+3WLvvE/aPpCgaTL8T8TcR50J9XxPzYHFlqyz/E/X59e+5Ld8T+lxrMa/uLxP4zvMpMN8/E/X4JI9nDw8T+QK7BYp+DxP/Fbz2tH5PE/Tgas9JHu8T8Co9kPjfvxP6GKNlVk9fE/OTYW1aEB8j+3Db6+Q/rxP973rsLf3/E/fWC05WHj8T+DGEDc++rxP3/hXMMM7fE/C/69lZ7p8T8z/eEAXfDxPwSgkB44H/I/1Ya6qhQs8j/Ws1TPYyvyPwsUqGC1K/I/HS2yw7Yq8j+fx/9PiyryPyKX6PQIKvI/wMx58T4p8j/E5HzNTCryP+uF+kQ7KvI/JCPq4o8q8j+xw3F28SryP/FzMXC6KfI/g9VVCkwq8j+4WkLMkinyP3dLGwmSKfI/I8SCGVgp8j9p66y4ZiryP2WuEKxjKvI/8EaXS2sq8j+QjCowVSryP7vmQ7oZKvI/6yFg+2km8j+ZGfP2xDPyPxH9YjXkH/I/ogCVTWAi8j9ua/YzASbyP6iCIxGyLfI/PCPj4dUj8j+hYJBreC/yPwtjTKZ8K/I/jHXRjTkq8j+CVrURQCvyP1XjqZ0aLfI/go4vN5478j9VuyilYDDyP6pPnFBGXPI/fokXwmxl8j9TixgONV7yPy4PqB1PYvI/HkZ85Ulb8j/xSvRaUlPyPxB9UK1EVPI/wq9n7nJY8j/qAOC8XljyP09mDj+7YPI/oBj4CDd08j/pSFMPYXzyP26A4sWXePI/I9gD1j968j9k6UJgcIPyPxqRZmGMfvI/ZzbOJ6R98j9J3PDc93/yP1LDkjOTbvI/Rlfr72V18j8VD9idOnPyP8JH3THpdfI/vppWTJ1u8j8O7UT4AHXyP8pyg+jjnvI/l9Mth1Kd8j/DTHfek53yP5k1h4rCnfI/vVUdwMKk8j/7YCxIPaDyP3j1T0J5n/I/HdAVfAWn8j+BrGc7uKnyP22Ni0cClfI/AKfZZNaY8j/gxAb0iqvyP6LsnoMBqPI/9DogPu2e8j8O8/F4dpvyP8Wu0OEDnvI/dGREU4qW8j9qVu8Dn63yP+0/0fOptvI/tKkhdEe88j+uNMJrL7vyP09rdrEkufI/JzTlSgrC8j8Cjl/T3tPyPwKOX9Pe0/I/Ao5f097T8j8Cjl/T3tPyPwKOX9Pe0/I/Ao5f097T8j8Cjl/T3tPyPwKOX9Pe0/I/Ao5f097T8j8Cjl/T3tPyPwKOX9Pe0/I/Ao5f097T8j8Cjl/T3tPyPwKOX9Pe0/I/Ao5f097T8j8Cjl/T3tPyPwKOX9Pe0/I/Ao5f097T8j/3YMjTutHyPynwC2sH1PI/VloiJMbr8j/D1a8RFOnyPxdFgBqR7PI/bhyZw8X08j/rn6RJ9O3yP0RWz2CLCfM/YOSra1QC8z8ivF1fht/yPzCqBHIm4fI/K96eBl3x8j8xbz9aSPryP8URtMfgEPM/qtyeL9wS8z+RwWAdGA/zP+FVSo3YGPM/ahVuQB4e8z9IjqhBshfzPyEs/KmJF/M/CzoWS/kX8z+AueKENxPzPwLOjl5RFfM/fwdUn64d8z9AQCOw8CjzP4DMjofQNvM/BWNah+I38z95IReupDPzPwB58sAyNPM/FnpZTbY98z/tOJtHKyrzP6HrC+aEOPM/t0U65cw88z94yE874DjzP6+awguhOfM/ZD6yfAc+8z/Tek990TrzPyHxNpKrMPM/Fx1nBUwp8z9OLsrCkCrzP+zf09RmL/M/vC+iq3xA8z+3RTrlzDzzP5h/hPncNfM/zumuKeYx8z9BT6Td4zLzP6FE01hJM/M/L9/dpEsy8z8=\"},\"shape\":[1000],\"dtype\":\"float64\",\"order\":\"little\"}],[\"SIGNAL_0_1\",{\"type\":\"ndarray\",\"array\":{\"type\":\"bytes\",\"data\":\"AAAAAAAAAAAAAAAAAAAAAAAAAAAAAAAAAAAAAAAAAAAAAAAAAAAAAAAAAAAAAAAAAAAAAAAAAAAAAAAAAAAAAAAAAAAAAAAAAAAAAAAAAAAAAAAAAAAAAAAAAAAAAAAAAAAAAAAAAAAAAAAAAAAAAAAAAAAAAAAAAQAAAAAAAAAAAAAAAAAAAAAAAAAAAAAAAAAAAAAAAAAAAAAAAAAAAAAAAAAAAAAAAAAAAAAAAAAAAAAAAAAAAAAAAAAAAAAAAAAAAAAAAAAAAAAAAgAAAAAAAAAAAAAAAAAAAAAAAAAAAAAAAAAAAAAAAAAAAAAAAQAAAAAAAAAAAAAAAAAAAAAAAAAAAAAAAAAAAAAAAAAAAAAAAAAAAAAAAAAAAAAAAAAAAAAAAAAAAAAAAAAAAAAAAAAAAAAAAAAAAAAAAAAAAAAAAAAAAAAAAAAAAAAAAAAAAAAAAAAAAAAAAAAAAAAAAAAAAAAAAAAAAAAAAAAAAAAAAAAAAAAAAAAAAAAAAAAAAAAAAAAAAAAAAAAAAAAAAAAAAAAAAAAAAAAAAAAAAAAAAAAAAAAAAAAAAAAAAAAAAAAAAAACAAAAAAAAAAEAAAAAAAAAAAAAAAAAAAAAAAAAAAAAAAAAAAAAAAAAAAAAAAAAAAACAAAAAAAAAAAAAAAAAAAAAAAAAAAAAAAAAAAAAAAAAAAAAAAAAAAAAAAAAAAAAAAAAAAAAAAAAAAAAAAAAAAAAAAAAAAAAAAAAAAAAAAAAAAAAAABAAAAAAAAAAAAAAAAAAAAAAAAAAAAAAACAAAAAAAAAAAAAAAAAAAAAAAAAAAAAAAAAAAAAAAAAAAAAAAAAAAAAAAAAAAAAAAAAAAAAAAAAAAAAAAAAAAAAAAAAAAAAAAAAAAAAAAAAAAAAAAAAAAAAQAAAAAAAAAAAAAAAAAAAAAAAAAAAAAAAAAAAAAAAAAAAAAAAAAAAAAAAAAAAAAAAAAAAAAAAAAAAAAAAAAAAAAAAAAAAAAAAAAAAAAAAAAAAAAAAAAAAAAAAAAAAAAAAAAAAAAAAAAAAAAAAAAAAAAAAAACAAAAAAAAAAAAAAAAAAAAAQAAAAAAAAAAAAAAAAAAAAAAAAAAAAAAAAAAAAAAAAAAAAAAAAAAAAIAAAAAAAAAAAAAAAAAAAAAAAAAAAAAAAAAAAAAAAAAAAAAAAAAAAAAAAAAAAAAAAAAAAAAAAAAAAAAAAAAAAAAAAAAAAAAAAAAAAAAAAAAAAAAAAAAAAAAAAAAAAAAAAAAAAAAAAAAAAAAAAAAAAAAAAAAAAAAAAAAAAABAAAAAAAAAAAAAAAAAAAAAAAAAAAAAAAAAAAAAAAAAAAAAAAAAAAAAAAAAAAAAAAAAAAAAAAAAAAAAAAAAAAAAAAAAAAAAAAAAAAAAAAAAAAAAAAAAAAAAAAAAAAAAAAAAAAAAAAAAAAAAAAAAAAAAAAAAAAAAAACAAAAAAAAAAAAAAAAAAAAAAAAAAAAAAAAAAAAAAAAAAAAAAAAAAAAAAAAAAAAAAAAAAAAAAAAAAAAAAAAAAAAAQAAAAAAAAAAAAAAAAAAAAAAAAAAAAAAAAAAAAAAAAAAAAAAAAAAAAAAAAAAAAAAAAAAAAAAAAAAAAAAAAAAAAAAAAAAAAAAAAAAAAAAAAAAAAAAAgAAAAAAAAAAAAAAAAAAAAAAAAAAAAAAAAAAAAAAAAAAAAAAAAAAAAAAAAAAAAAAAAAAAAAAAAAAAAAAAAAAAAAAAAAAAAAAAAAAAAAAAAAAAAAAAAAAAAAAAAAAAAAAAAAAAAAAAAAAAAAAAAAAAAAAAAAAAAAAAAAAAAAAAAAAAAAAAQAAAAAAAAAAAAAAAAAAAAAAAAAAAAAAAAAAAAAAAAAAAAAAAAAAAAAAAAAAAAAAAAAAAAAAAAAAAAAAAAAAAAAAAAAAAAAAAAAAAAAAAAAAAAAAAAAAAAAAAAAAAAAAAAAAAAAAAAAAAAAAAAAAAAAAAAAAAAAAAAAAAAAAAAAAAAAAAAAAAAAAAAAAAAAAAAAAAAAAAAACAAAAAAAAAAAAAAAAAAAAAAAAAAAAAAAAAAAAAAAAAAAAAAAAAAAAAAAAAAAAAAAAAAAAAAAAAAAAAAAAAAAAAAAAAAAAAAAAAAAAAQAAAAAAAAAAAAAAAAAAAAAAAAAAAAAAAAAAAAAAAAAAAAAAAAAAAAAAAAAAAAAAAAAAAAAAAAAAAAAAAAAAAAAAAAAAAAAAAAAAAAIAAAAAAAAAAAAAAAEAAAAAAAAAAAAAAAAAAAAAAAAAAAAAAAAAAAAAAAAAAAAAAAAAAAAAAAAAAAAAAAAAAAAAAAAAAAAAAAAAAAAAAAAAAAAAAAAAAAAAAAAAAAAAAAAAAAAAAAAAAAAAAAAAAAAAAAAAAAAAAAAAAAAAAAAAAAAAAAAAAAAAAAAAAAAAAAAAAAAAAAAAAAAAAAAAAAAAAAAAAAAAAAAAAAAAAAAAAAAAAAAAAAAAAAAAAAAAAAAAAAAAAAAAAAAAAAAAAAACAAAAAAAAAAAAAAAAAAAAAAAAAAAAAAAAAAAAAAAAAAAAAAAAAAAAAAAAAAAAAAAAAAAAAAAAAAAAAAAAAAAAAAAAAAAAAAAAAAAAAAAAAAAAAAAAAAAAAAAAAAAAAAAAAAAAAAAAAAAAAAAAAAAAAAAAAAAAAAAAAAAAAAAAAAAAAAAAAAAAAQAAAAAAAAAAAAAAAAAAAAAAAAAAAAAAAAAAAAAAAAAAAAAAAAAAAAAAAAAAAAAAAgAAAAAAAAAAAAAAAAAAAAAAAAAAAAAAAAAAAAAAAAAAAAAAAAAAAAAAAAAAAAAAAAAAAAAAAAAAAAAAAAAAAAAAAAAAAAAAAAAAAAAAAAAAAAAAAQAAAAAAAAAAAAAAAAAAAAAAAAAAAAAAAAAAAAAAAAAAAAAAAAAAAAAAAAAAAAAAAAAAAAAAAAAAAAAAAAAAAAAAAAAAAAAAAAAAAAAAAAAAAAAAAAAAAAAAAAAAAAAAAAAAAAAAAAAAAAAAAAAAAAAAAAAAAAAAAAAAAAAAAAAAAAAAAAAAAAAAAAAAAAAAAAAAAAAAAAAAAAAAAAAAAAIAAAAAAAAAAAAAAAAAAAAAAAAAAAAAAAAAAAAAAAAAAAAAAAAAAAAAAAAAAAAAAAAAAAAAAAAAAAAAAAAAAAAAAAAAAAAAAAAAAAABAAAAAAAAAAAAAAAAAAAAAAAAAAAAAAAAAAAAAAAAAAAAAAAAAAAAAAAAAAAAAAAAAAAAAAAAAAAAAAAAAAAAAAAAAAAAAAAAAAAAAAAAAAAAAAAAAAAAAAAAAAAAAAAAAAAAAAAAAAAAAAAAAAAAAAAAAAAAAAACAAAAAAAAAAAAAAAAAAAAAAAAAAAAAAAAAAAAAAAAAAAAAAABAAAAAAAAAAAAAAAAAAAAAAAAAAAAAAAAAAAAAAAAAAAAAAAAAAAAAAAAAAAAAAAAAAAAAAAAAAAAAAAAAAAAAAAAAAAAAAAAAAAAAAAAAAAAAAAAAAAAAAAAAAAAAAAAAAAAAAAAAAAAAAAAAAAAAAAAAAAAAAAAAAAAAAAAAAAAAAAAAAAAAAAAAAAAAAAAAAAAAAAAAAAAAAAAAAAAAAAAAAAAAAAAAAAAAAAAAAAAAAAAAAAAAAAAAAAAAAAAAAAAAAAAAAAAAAAAAAAAAAAAAAAAAAAAAAAAAAAAAAAAAAAAAAAAAAAAAAIAAAAAAAAAAAAAAAAAAAABAAAAAAAAAAAAAAAAAAAAAAAAAAIAAAAAAAAAAAAAAAAAAAAAAAAAAAAAAAAAAAAAAAAAAAAAAAAAAAAAAAAAAAAAAAAAAAAAAAAAAAAAAAAAAAAAAAAAAAAAAAAAAAAAAAAAAAAAAAAAAAAAAAAAAAAAAAAAAAAAAAAAAAAAAAAAAAAAAAAAAAAAAAAAAAABAAAAAAAAAAAAAAAAAAAAAAAAAAAAAAAAAAAAAAAAAAAAAAAAAAAAAAAAAAAAAAAAAAAAAAAAAAAAAAAAAAAAAAAAAAAAAAAAAAAAAAAAAAAAAAAAAAAAAAAAAAAAAAAAAAAAAAAAAAAAAAAAAAAAAAAAAAAAAAAAAAAAAAAAAAAAAAAAAAAAAAAAAAAAAAAAAAAAAAAAAAAAAAAAAAAAAAAAAAAAAAAAAAAAAAAAAAAAAAAAAAAAAAAAAAAAAAACAAAAAAAAAAAAAAAAAAAAAAAAAAAAAAAAAAAAAAAAAAAAAAAAAAAAAAAAAAAAAAAAAAAAAAAAAAAAAAAAAAAAAAAAAAAAAAAAAAAAAAAAAAAAAAAAAAAAAAAAAAAAAAAAAAAAAAAAAAAAAAAAAAAAAAAAAAAAAAAAAAAAAAAAAAAAAAAAAAAAAAAAAAAAAAAAAAAAAAAAAAAAAAAAAAAAAAAAAAAAAAAAAAAAAAAAAAAAAAAAAAAAAAAAAAAAAAAAAAAAAAAAAAEAAAAAAAAAAAAAAAAAAAAAAAAAAAAAAAAAAAAAAAAAAAAAAAAAAAAAAAAAAAAAAAAAAAAAAAAAAAAAAAAAAAAAAAAAAAAAAAAAAAAAAAAAAAAAAAAAAAAAAAAAAAAAAAAAAAAAAAAAAAAAAAAAAAAAAAAAAAAAAAAAAAAAAAAAAAAAAAAAAAAAAAAAAAAAAAAAAAAAAAAAAgAAAAAAAAAAAAAAAAAAAAAAAAAAAAAAAAAAAAAAAAAAAAAAAAAAAAAAAAAAAAAAAAAAAAAAAAAAAAAAAAAAAAAAAAAAAAAAAAAAAAAAAAAAAAAAAAAAAAAAAAAAAAAAAAAAAAEAAAAAAAAAAAAAAAAAAAAAAAAAAAAAAAAAAAAAAAAAAAAAAAAAAAAAAAAAAAAAAAAAAAAAAAAAAAAAAAAAAAAAAAAAAAAAAAAAAAAAAAAAAAAAAAAAAAAAAAAAAAAAAAAAAAAAAAAAAAAAAAAAAAAAAAAAAAAAAAAAAAAAAAAAAAAAAAAAAAAAAAAAAAAAAAAAAAAAAAAAAAAAAAAAAAAAAAAAAAAAAAAAAAAAAAAAAAAAAAAAAAAAAAAAAAAAAAAAAAAAAAAAAAAAAAAAAAAAAAAAAgAAAAAAAAAAAAAAAAAAAAAAAAAAAAAAAAAAAAAAAAAAAAAAAAAAAAAAAAAAAAAAAAAAAAAAAAAAAAAAAAAAAAAAAAABAAAAAAAAAAAAAAAAAAAAAAAAAAAAAAAAAAAAAAAAAAAAAAAAAAAAAAAAAAAAAAAAAAAAAAAAAAAAAAAAAAAAAAAAAAAAAAAAAAAAAAAAAAAAAAAAAAAAAAAAAAAAAAAAAAAAAAAAAAAAAAAAAAAAAAAAAAAAAAAAAAAAAAAAAA==\"},\"shape\":[1000],\"dtype\":\"int32\",\"order\":\"little\"}],[\"ohlc_low\",{\"type\":\"ndarray\",\"array\":{\"type\":\"bytes\",\"data\":\"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\"},\"shape\":[1000],\"dtype\":\"float64\",\"order\":\"little\"}],[\"ohlc_high\",{\"type\":\"ndarray\",\"array\":{\"type\":\"bytes\",\"data\":\"J/c7FAX68T+CHJQw0/bxPy7/If329fE/8FAU6BP58T+q8dJNYhDyP4VCBBxCFfI/27+y0qQU8j9sW5TZIBPyPxPVWwNbJfI/Haz/c5gv8j8CZVOu8C7yP8NkqmBUUvI/OdGuQspP8j/xS/28qUjyPyWS6GUUS/I/1QRR9wFI8j8KSzygbEryPzHrxVBONPI/wVYJFocz8j/LviuC/y3yPxPVWwNbJfI/JXoZxXJL8j//If32dWDyP0P/BBcravI/E7h1N0918j9n7bYLzXXyP4ts5/upcfI/MnctIR908j9D5zV2iWryPxDpt68DZ/I/96+sNCmF8j8MHxFTIonyP/p+arx0k/I/7/54r1qZ8j/gZ1w4EJLyP6OSOgFNhPI/96+sNCmF8j8fgNQmTm7yPz6WPnRBffI/pWsm32xz8j/pYP2fw3zyPy7nUlxVdvI/vCL430p28j+P5PIf0m/yP1OWIY51cfI/ozuInSl08j89D+7O2m3yP2/1nPS+cfI/EjElkuhl8j8aUdobfGHyP9Zz0vvGV/I//yH99nVg8j93vp8aL13yP3tmSYCaWvI/Xfksz4M78j+I1/ULdkPyP1ABMJ5BQ/I/jUXT2clg8j89fm/Tn33yP4KLFTWYhvI/isiwijey8j/Opbiq7LvyP5NX5xiQvfI/86s5QDDH8j9gWWlSCrryPxHkoISZtvI/8IXJVMGo8j9g6udNRaryP+J1/YLdsPI/JuSDns2q8j/WxW00gLfyPwLU1LK1vvI/7bsi+N/K8j8yWkdVE8TyP799HThnxPI/p5at9UXC8j+b5h2n6MjyP8i1oWKcv/I/qZ83Famw8j+BCdy6m6fyP/ZFQlvOpfI/Onr83qa/8j9P6WD9n8PyPzbqIRrdwfI/0O0ljdG68j8TLA5nfrXyP8i1oWKcv/I/vyuC/63k8j8bgXhdv+DyP420VN6O8PI/c4V3uYjv8j8KEXAIVeryP1u21hcJ7fI/CfmgZ7Pq8j/LuRRXlf3yP8cRa/EpAPM/HF97ZkkA8z8nZr0YygnzPz7t8NdkDfM/h6JAn8gT8z9KDAIrhxbzP3Gsi9toAPM/sAPnjCjt8j9RTrSrkPLyPxYYsrrV8/I/qtTsgVbg8j+BJsKGp9fyP32utmJ/2fI/95LGaB3V8j++vAD76NTyP2lv8IXJ1PI/gA7z5QXY8j9O7ncoCvTyP5j6eVORCvM/OBWpMLYQ8z/VeOkmMQjzP57Swfo/B/M/1SE3ww348j/I6lbPSe/yP61M+KV+3vI/JzEIrBza8j8kYkok0cvyP/hT46WbxPI/ylTBqKTO8j/GhQMhWcDyP15ortNIy/I/MsnIWdjT8j9qh78ma9TyP8SUSKKX0fI/f/YjRWTY8j9JaMu5FNfyP83km21uzPI/dO/hkuPO8j8mqrcGtsryP4HPDyOEx/I/zxQ6r7HL8j/vA5DaxMnyP6VmD7QCw/I/PQrXo3C98j9hGoaPiKnyP/K1Z5YEqPI/y74rgv+t8j9/h6JAn8jyP9xoAG+BBPM/VB1yM9wA8z+78lmeB/fyP7d6Tnrf+PI/DMhe7/748j+M22gAbwHzP+/Jw0Kt6fI/aNDQP8HF8j8iq1s9J73yP5WfVPt0vPI/Bkzg1t288j9EaW/whcnyP0FIFjCB2/I//8pKk1LQ8j82AvG6fsHyP2RA9nr3x/I/DJOpglHJ8j+kNnFyv8PyPyBj7lpCvvI/feiC+pa58j/F5uPaULHyP4qw4emVsvI/9fOmIhXG8j/EfHkB9tHyP+5aQj7o2fI/a7ddaK7T8j9RoE/kSdLyP8EcPX5v0/I/GAltOZfi8j+k/KTap+PyPyzxgLIp1/I/LPGAsinX8j9l3xXB/9byP034pX7e1PI/KGGm7V/Z8j+NXaJ6a+DyPwMJih9j7vI/qWqCqPsA8z/ACYUIOATzPydO7ncoCvM/26fjMQMV8z+EKjV7oBXzPx2PGaiM//I/odtLGqP18j9TrvAuF/HyP03WqIdo9PI/6njMQGX88j8rhxbZzvfyPyVYHM786vI/0SLb+X7q8j/Ie9XKhN/yPzRo6J/g4vI/qIx/n3Hh8j/eq1Ym/NLyPzJyFva0w/I/6gQ0ETa88j+DwMqhRbbyPzV7oBUYsvI/jdE6qpqg8j8gDDz3Hq7yPw6EZAETuPI/nBa86CvI8j+HvyZr1MPyP9hkjXqIxvI/ww34/DDC8j9lARO4dbfyPxB1H4DUpvI/aLPqc7WV8j+q8dJNYpDyP5NS0O0ljfI/Io51cRuN8j84FakwtpDyP5PjTulgffI/hgMhWcCE8j+NCwdCsoDyP3U8ZqAyfvI/43DmV3OA8j+duvJZnofyP2dEaW/whfI/Wp4Hd2dt8j/nqQ65GW7yP3XN5JttbvI/xooaTMNw8j9FniRdM3nyPz81XrpJjPI/Dr4wmSqY8j+yutVz0nvyPypvRzgtePI/2sngKHl18j8LKT+p9mnyPxQi4BCqVPI/F4IclDBT8j9+VwT/W0nyP/oK0oxFU/I/T0ATYcNT8j8g0m9fB07yPwwCK4cWWfI/Jqq3BrZK8j/pK0gzFk3yPzwx68VQTvI/vHSTGARW8j9M4NbdPFXyP2U2yCQjZ/I/B5lk5Cxs8j+jO4idKXTyP557D5ccd/I/X7Uy4Zd68j/gEKrU7IHyP6Zh+IiYkvI/tYmT+x2K8j81RuuoaoLyP+cYkL3effI/jjulg/V/8j/qeMxAZXzyP16FlJ9Ue/I/8WjjiLV48j8qV3iXi3jyPxh47j1ccvI/Ne84RUdy8j+TNeohGl3yP7sKKT+pdvI/KdAn8iRp8j/X+iKhLWfyP6wcWmQ7X/I/y9sRTgte8j9SJ6CJsGHyPxgJbTmXYvI/FakwthBk8j/8qfHSTWLyP0OQgxJmWvI/RyBe1y9Y8j+b5h2n6EjyPwE1tWytL/I/vW987Zkl8j//lZUmpSDyP3O6LCY2H/I/nWhXIeUn8j9cA1slWBzyP7d/ZaVJKfI/soAJ3Lob8j/nxvSEJR7yPxv1EI3uIPI/+I2vPbMk8j9WgsXhzC/yP1oqb0c4LfI/ezGUE+0q8j+wj05d+SzyPyXMtP0rK/I/O1PovMYu8j8HJcy0/SvyP++s3XahOfI/fLjkuFM68j9hcTjzqznyP+4ljdE6KvI/+tUcIJgj8j/WbrvQXCfyPz+MEB5tHPI/za/mAMEc8j8yVTAqqRPyPyF2ptB5DfI/BRcrajAN8j9lU67wLhfyP50Rpb3BF/I/+U7MejEU8j8Ab4EExQ/yP+wvuycPC/I/h6JAn8gT8j/61RwgmCPyP8NHxJRIIvI/Yf2fw3z58T/YKsHicObxP5s90AoM2fE/xRuZR/7g8T8EyqZc4d3xP2t9kdCW8/E/1QloImz48T+3Yn/ZPfnxPyy3tBoS9/E/s+pztRX78T+syr4rgv/xP3ZUNUHU/fE/odtLGqP18T9mFMstrQbyP1r1udqK/fE/WvW52or98T8tz4O7s/bxP16dY0D2+vE/SzygbMoV8j8r9pfdkwfyPzW1bK0vEvI/qwmi7gMQ8j+/YDdsWxTyPxGN7iB2JvI/l6jeGtgq8j9AE2HD0yvyPxUdyeU/JPI/fXkB9tEp8j8Y7IZtizLyP45Yi08BMPI/uw9AahMn8j/fpj/7kSLyP+utga0SLPI/YqHWNO848j9rSNxj6UPyPxghPNo4YvI/boYb8Plh8j+InSl0XmPyP+PCgZAsYPI/Q+c1dolq8j987ZklAWryP/8h/fZ1YPI/QUgWMIFb8j8E4nX9gl3yP12/YDdsW/I/nfS+8bVn8j+c3O9QFGjyP7UaEvdYevI/OGdEaW9w8j/rOel942vyP9uizAaZZPI/r+sX7IZt8j89D+7O2m3yPz9XW7G/bPI/tJPBUfJq8j/ZQpCDEmbyP7bz/dR4afI/+aBns+pz8j8HmWTkLGzyPy7/If32dfI/b57qkJth8j8tIR/0bFbyP23/ykqTUvI/yAxUxr9P8j83cXK/Q1HyP2owDcNHRPI/9+RhodY08j/EzhQ6rzHyPyAkC5jALfI/n7DEA8om8j8XZTbIJCPyP+HurN12IfI/Akht4uT+8T/LoUW28/3xPwWoqWVr/fE/DLCPTl358T83T3XIzfDxP/C/lezYCPI/3+ALk6kC8j8Cnx9GCA/yPwiPNo5YC/I/C0YldQIa8j8HzhlR2hvyP8Fu2LYoM/I/yF7v/ngv8j+tF0M50S7yP65H4XoULvI/hiAHJcw08j/uPVxy3CnyPyScFrzoK/I/lZ9U+3Q88j/q7GRwlDzyP6jGSzeJQfI/8WPMXUtI8j+Nl24Sg0DyP9DtJY3ROvI/w7ZFmQ0y8j+BCdy6myfyP0zD8BExJfI/CFVq9kAr8j8zG2SSkTPyP90kBoGVQ/I/nKc65GY48j9JumbyzTbyPzjzqzlAMPI/TUpBt5c08j8IPZtVnyvyP7nfoSjQJ/I/0m9fB84Z8j9xAz4/jBDyP46SV+cYEPI/cQM+P4wQ8j/rbp7qkBvyP93NUx1yM/I/hQg4hCo18j8BTYQNTy/yP3RBfcucLvI/qFfKMsQx8j8lzLT9KyvyP5TZIJOMHPI/jgHZ690f8j/JyFnY0w7yP9IA3gIJCvI/SZ2AJsIG8j/mP6Tfvg7yPxnFckurIfI/yjfb3Jge8j+kcD0K1yPyP4uJzce1IfI//B2KAn0i8j87/DVZox7yP983vvbMEvI/RpT2Bl8Y8j+lSSno9hLyP7gBnx9GCPI/D39N1qgH8j/kDwaeew/yP0X11sBWCfI/ujE9YYkH8j9kzF1LyAfyPz1+b9Of/fE/fERMiST68T+B7PXuj/fxPw/R6A5i5/E/zTtO0ZHc8T+dhT3t8NfxP/oK0oxF0/E/5ssLsI/O8T+2LcpskMnxP8bctYR80PE/Sphp+1fW8T+8dJMYBNbxP35XBP9byfE/AOMZNPTP8T8DQ1a3es7xP6Sl8naE0/E/y5wui4nN8T8kYkok0cvxPzhKXp1jwPE/W7G/7J688T+qYFRSJ6DxP3dKB+v/nPE/iXssfeiC8T8djxmojH/xP3P0+L1Nf/E/+ie4WFGD8T/rkJvhBnzxPwn5oGezavE/rtNIS+Vt8T8vqG+Z02XxP/NZngd3Z/E/Km9HOC148T/ayeAoeXXxP5+T3je+dvE/5pE/GHhu8T/1udqK/WXxP+rKZ3keXPE/M1AZ/z5j8T85KGGm7V/xP8HicOZXc/E/FOgTeZJ08T/UmuYdp2jxP9cS8kHPZvE/y0qTUtBt8T/N6bKY2HzxP5sb0xOWePE/GHjuPVxy8T8HsTOFzmvxP8UDyqZcYfE/EOm3rwNn8T/ZQpCDEmbxP/YoXI/CdfE/6fF7m/5s8T8AqU2c3G/xP667eapDbvE/0qkrn+V58T9pjNZR1YTxPw2mYfiImPE/aLPqc7WV8T+5iO/ErJfxPwkWhzO/mvE/5X6HokCf8T+/SGjLuZTxP2xblNkgk/E/qyFxj6WP8T8gXtcv2I3xP4hLjjulg/E/bjSAt0CC8T80aOif4GLxP7Abti3KbPE/q+y7Ivhf8T8eigJ9Ik/xP7mNBvAWSPE/64uEtpxL8T9wXwfOGVHxP8djBirjX/E/TDeJQWBl8T8/AKlNnFzxP0AwR4/fW/E/C9KMRdNZ8T/biv1l92TxP5dzKa4qe/E/vsEXJlOF8T+GAyFZwITxP5fiqrLvivE/6bevA+eM8T+iYpy/CYXxP46vPbMkwPE/uaXVkLjH8T+hvmVOl8XxP2owDcNHxPE/WDm0yHa+8T+KH2PuWsLxP63ddqG5zvE/sFWCxeHM8T9HcvkP6bfxP/zjvWplwvE/sW1RZoPM8T+etdsuNNfxPySX/5B++/E/ecxAZfz78T8qV3iXi/jxPxBYObTI9vE/tRoS91j68T9ybagY5+/xP/iImBJJ9PE/hXzQs1n18T9TliGOdfHxP4yEtpxL8fE/Dk+vlGUI8j+NCwdCsgDyP82SADW17PE//kgRGVbx8T84Z0Rpb/DxP5lk5Czs6fE/1cqEX+rn8T/ACYUIOATyP1mjHqLRHfI/61bPSe8b8j+yEYjX9QvyP5Hyk2qfDvI//fZ14JwR8j86deWzPA/yP5zhBnx+GPI/uXAgJAsY8j/jx5i7lhDyPwfOGVHaG/I/J71vfO0Z8j/DgZAsYALyPzs2AvG6/vE/TDeJQWDl8T9q9kArMOTxP+YivhOz3vE/L8A+OnXl8T+EZAETuPXxPznulA7W//E/v2A3bFsU8j9xAz4/jBDyP3fbheY6DfI/4GdcOBAS8j9KDAIrhxbyP2cKndfYJfI/vJF55A8G8j8Xt9EA3gLyPxaHM7+aA/I/dHtJY7QO8j8bDeAtkCDyP8Fu2LYoM/I/2PULdsM28j+inGhXIWXyPyYZOQt7WvI/UiegibBh8j+ojH+fcWHyP6PMBplkZPI/1bK1vkho8j/nUlxV9l3yP3L+JhQiYPI/Vd6OcFpw8j+hhJm2f2XyP93SakjcY/I/3zKny2Ji8j/7OnDOiFLyPyzxgLIpV/I/5NpQMc5f8j/lCu9yEV/yP4dtizIbZPI/KgDGM2ho8j+AZaVJKWjyPzfg88MIYfI/SKeufJZn8j90tRX7y27yP2tlwi/1c/I/81meB3dn8j/Bi76CNGPyPzygbMoVXvI/ke18PzVe8j9MN4lBYGXyP0+vlGWIY/I/5iK+E7Ne8j/TE5Z4QFnyP00QdR+AVPI/uhRXlX1X8j+vJeSDnk3yPwT/W8mOjfI/OUVHcvmP8j+QSUbOwp7yP8jvbfqzn/I/kbjH0oeu8j++9sySALXyP0pBt5c0xvI/zR5oBYas8j+QiCmRRK/yP6TH7236s/I//IwLB0Ky8j/vrN12obnyPxqjdVQ1wfI/ox6i0R3E8j8RUyKJXsbyP2ufjscM1PI/N3Fyv0PR8j+An3HhQMjyP22QSUbOwvI/YYkHlE258j9lGeJYF7fyP2O5pdWQuPI/xm00gLfA8j9ZUYNpGL7yP2JKJNHLqPI/8L+V7NiI8j+vmXyzzY3yP7pJDAIrh/I/sfm4NlSM8j96whIPKJvyP/z7jAsHwvI/cSAkC5jA8j+p3hrYKsHyP5EnSddMvvI/qIx/n3Hh8j9x5ldzgODyP/W52or95fI/RMAhVKnZ8j/pmsk329zyP5IFTODW3fI/xFp8CoDx8j+eJF0z+ebyPyP430p27PI/8kHPZtXn8j/CEg8om/LyP4RkARO49fI/J/c7FAX68j+FlJ9U+/TyPwIrhxbZzvI/5/up8dLN8j+Rfvs6cM7yPyo6kst/yPI/B9MwfETM8j+wA+eMKO3yP03WqIdo9PI/1bK1vkjo8j+BlUOLbOfyP4UlHlA25fI/dXYyOEre8j/5g4Hn3sPyP2tI3GPpw/I/QYLix5i78j87qpog6r7yP+IGfH4YofI/8+UF2Een8j95AfbRqavyP5F++zpwzvI/bef7qfHS8j+ZnrDEA8ryPzbqIRrdwfI/mG4Sg8DK8j8rE36pn7fyP36pnzcVqfI/uvdwyXGn8j900vvG157yP04LXvQVpPI/TyMtlbej8j9Ra5p3nKLyP6A3FakwtvI/jKGcaFeh8j85RUdy+Y/yP6Pp7GRwlPI/ER5tHLGW8j9nmxvTE5byP2ba/pWVpvI//aTap+Ox8j9O0ZFc/sPyP4wQHm0csfI/+PwwQni08j/Dnnb4a7LyPxfUt8zpsvI/0H6kiAyr8j9Yc4Bgjp7yPxnFckurofI/Df0TXKyo8j9iSiTRy6jyP2O5pdWQuPI/Ugq6vaSx8j/nHafoSK7yPx7cnbXbrvI/6uxkcJS88j95QNmUK7zyPw2Jeyx96PI/ldQJaCLs8j+wA+eMKO3yP13+Q/rt6/I/FjCBW3fz8j8Q6bevA+fyP6T8pNqn4/I/ApoIG57e8j9c5nRZTOzyP5XUCWgi7PI/BoGVQ4vs8j/4GRcOhOTyP0bOwp52+PI/FNBE2PD08j8mAWpq2dryPyvB4nDm1/I/MZkqGJXU8j/uWkI+6NnyP5tVn6ut2PI/wARu3c3T8j/pK0gzFs3yP6Q2cXK/w/I/uHU3T3XI8j+Gj4gpkcTyP7gGtkqwuPI/3jzVITfD8j/1nPS+8bXyP9bFbTSAt/I/qz5XW7G/8j/kLOxph7/yP7D+z2G+vPI/443MI3+w8j9A+5EiMqzyP8YWghyUsPI/443MI3+w8j90B7Ezhc7yPzzaOGItvvI/OZz51Ryg8j+yaDo7GZzyP5hRLLe0mvI//mX35GGh8j/DR8SUSKLyP/Utc7ospvI/rWnecYqO8j9fJLTlXIryP0dVE0Tdh/I/W5TZIJOM8j/XFwltOZfyPzbNO07RkfI/toR80LNZ8j9EwCFUqVnyP1GgT+RJUvI/DkqYaftX8j/ikuNO6WDyP5YEqKlla/I/KgDGM2ho8j8TYcPTK2XyP1IP0egOYvI/hA1Pr5Rl8j8Cgjl6/F7yP6PMBplkZPI/uhRXlX1X8j+uDRXj/E3yP4y+gjRjUfI/nrXbLjRX8j+6LCY2H1fyP8WsF0M5UfI/ECOERxtH8j/zqzlAMEfyP3wnZr0YSvI/8DMuHAhJ8j8/kSdJ10zyP2/1nPS+cfI/gNQmTu538j8b2CrB4nDyPxrAWyBBcfI/v4I0Y9F08j/4GRcOhGTyP+IBZVOucPI/tvP91Hhp8j+Qvd798V7yP6sEi8OZX/I/uCOcFrxo8j8J+aBns2ryP22tLxLacvI/qkNuhhtw8j/EQq1p3nHyP2O0jqomiPI/7C+7Jw+L8j8RNjy9UpbyP51oVyHlp/I/9kVCW86l8j+8V61M+KXyP9eGinH+pvI/8fRKWYa48j9seHqlLMPyP4Ln3sMlx/I/gLdAguLH8j/LnC6Lic3yPzj4wmSq4PI/ADrMlxfg8j/nUlxV9t3yP8PTK2UZ4vI/l631RULb8j9MpgpGJfXyP1vOpbiq7PI/W7bWFwnt8j/iAWVTrvDyP/bRqSuf5fI/16NwPQrX8j9pVyHlJ9XyP7HEA8qm3PI/BOJ1/YLd8j931m670NzyP3R7SWO0DvM/1SZO7nco8z/uPVxy3CnzP/ZFQlvOJfM/uw9AahMn8z/yXrUy4RfzPzv8NVmjHvM/kzoBTYQN8z8aho+IKRHzP94f71UrE/M/eqpDboYb8z9DHOviNhrzP/59xoUDIfM/FcYWghwU8z82zTtO0RHzP3R7SWO0DvM/Bi/6CtIM8z/ECOHRxhHzP2CrBIvDGfM/3QcgtYkT8z+oqWVrfRHzP41iuaXVEPM/4q/JGvUQ8z+V1AloIuzyPyGwcmiR7fI/DjLJyFnY8j/NO07RkdzyP2r2QCsw5PI/DXGsi9vo8j+gbMoV3uXyPw+5GW7A5/I/xOv6Bbvh8j82sFWCxeHyP7gjnBa86PI/FQDjGTT08j/+YOC59/DyPwRWDi2yHfM/zse1oWIc8z+XOV0WExvzPwte9BWkGfM/KQXdXtIY8z8absDnhxHzPwPPvYdLDvM/5j+k374O8z+J0t7gCxPzP/W+8bVnFvM/yY6NQLwu8z+AYI4evzfzP5p3nKIjOfM/iIBDqFIz8z+nlq31RULzP3EgJAuYQPM/7nw/NV468z8ychb2tEPzPwsMWd3qOfM/G0zD8BEx8z9bQj7o2SzzP+ONzCN/MPM/dCmuKvsu8z+RuMfShy7zP0YIjzaOWPM/uMzpsphY8z9wzojS3mDzP7jkuFM6WPM/HcnlP6Rf8z9lNsgkI2fzP98yp8tiYvM/MiB7vftj8z8UeZJ0zWTzP/phhPBoY/M/KqkT0ERY8z8RAYdQpWbzP/vo1JXPcvM/umsJ+aBn8z97ZkmAmlrzP2FPO/w1WfM/0LNZ9bla8z9c5nRZTGzzP/GAsilXePM/QN6rViZ88z9A9nr3x3vzP9Y5BmSvd/M/4UBIFjCB8z/4Nv3Zj5TzP26jAbwFkvM/TGw+rg2V8z81tWytL5LzPzblCu9ykfM/NQwfEVOi8z9rmnecoqPzP5vJN9vcmPM/jgHZ692f8z/o3sMlx53zP3Iz3IDPj/M/l8rbEU6L8z8+XHLcKZ3zP8jvbfqzn/M/yJi7lpCP8z8E54wo7Y3zP7pJDAIrh/M/+fcZFw6E8z8dd0oH63/zP/BQFOgTefM/ieqtga2S8z9Q/Bhz15LzP26jAbwFkvM/liGOdXGb8z8jLZW3I5zzPx7cnbXbrvM/qZ83Famw8z9jnL8JhYjzPwvvchHfifM/26fjMQOV8z8kRWRYxZvzP9fdPNUht/M/D7QCQ1a38z+6ZvLNNrfzP8CV7NgIxPM/gxd9BWnG8z9O0ZFc/sPzPxhbCHJQwvM/WDm0yHa+8z8/OnXls7zzPwZkr3d/vPM/NgLxun7B8z9YqDXNO87zP3am0HmN3fM/OkAwR4/f8z+VfVcE/9vzP3am0HmN3fM/EjElkujl8z9R9wFIbeLzP1WH3Aw34PM/gsXhzK/m8z+FJR5QNuXzPx8RUyKJ3vM/o8wGmWTk8z+K5ZZWQ+LzPwKaCBue3vM/nYU97fDX8z9hN2xblNnzPxB6Nqs+1/M/ttsuNNfp8z+AfXTqyufzPyswZHWr5/M/pOTVOQbk8z/RyyiWW9rzPyhJ10y+2fM/4XoUrkfh8z8=\"},\"shape\":[1000],\"dtype\":\"float64\",\"order\":\"little\"}]]}}},\"view\":{\"type\":\"object\",\"name\":\"CDSView\",\"id\":\"p3068\",\"attributes\":{\"filter\":{\"type\":\"object\",\"name\":\"AllIndices\",\"id\":\"p3069\"}}},\"glyph\":{\"type\":\"object\",\"name\":\"Line\",\"id\":\"p3064\",\"attributes\":{\"x\":{\"type\":\"field\",\"field\":\"index\"},\"y\":{\"type\":\"field\",\"field\":\"equity\"},\"line_color\":\"#1f77b4\",\"line_width\":1.5}},\"nonselection_glyph\":{\"type\":\"object\",\"name\":\"Line\",\"id\":\"p3065\",\"attributes\":{\"x\":{\"type\":\"field\",\"field\":\"index\"},\"y\":{\"type\":\"field\",\"field\":\"equity\"},\"line_color\":\"#1f77b4\",\"line_alpha\":0.1,\"line_width\":1.5}},\"muted_glyph\":{\"type\":\"object\",\"name\":\"Line\",\"id\":\"p3066\",\"attributes\":{\"x\":{\"type\":\"field\",\"field\":\"index\"},\"y\":{\"type\":\"field\",\"field\":\"equity\"},\"line_color\":\"#1f77b4\",\"line_alpha\":0.2,\"line_width\":1.5}}}}],\"tooltips\":[[\"#\",\"@index\"],[\"Equity\",\"@equity{+0,0.[000]%}\"]],\"mode\":\"vline\",\"point_policy\":\"follow_mouse\"}},{\"type\":\"object\",\"name\":\"HoverTool\",\"id\":\"p3161\",\"attributes\":{\"renderers\":[{\"type\":\"object\",\"name\":\"GlyphRenderer\",\"id\":\"p3149\",\"attributes\":{\"data_source\":{\"type\":\"object\",\"name\":\"ColumnDataSource\",\"id\":\"p3014\",\"attributes\":{\"selected\":{\"type\":\"object\",\"name\":\"Selection\",\"id\":\"p3015\",\"attributes\":{\"indices\":[],\"line_indices\":[]}},\"selection_policy\":{\"type\":\"object\",\"name\":\"UnionRenderers\",\"id\":\"p3016\"},\"data\":{\"type\":\"map\",\"entries\":[[\"index\",{\"type\":\"ndarray\",\"array\":{\"type\":\"bytes\",\"data\":\"NAAAAMkAAADXAAAAFAEAADkBAACAAQAApgEAAMsBAADXAQAA2QEAANkBAADZAQAA2gEAAPwBAAA5AgAAWQIAAIACAABUAwAAjwMAAKYDAADnAwAA\"},\"shape\":[21],\"dtype\":\"int32\",\"order\":\"little\"}],[\"datetime\",{\"type\":\"ndarray\",\"array\":{\"type\":\"bytes\",\"data\":\"NAAAAMkAAADXAAAAFAEAADkBAACAAQAApgEAAMsBAADXAQAA2QEAANkBAADZAQAA2gEAAPwBAAA5AgAAWQIAAIACAABUAwAAjwMAAKYDAADnAwAA\"},\"shape\":[21],\"dtype\":\"int32\",\"order\":\"little\"}],[\"exit_price\",{\"type\":\"ndarray\",\"array\":{\"type\":\"bytes\",\"data\":\"6spneR5c8j9KJNHLKJbyP0j+YOC5d/I/TfOOU3Qk8j8TYcPTK+XxP2ItPgXA+PE/r7FLVG8N8j/AlezYCMTxPwStwJDVrfE//89hvryA8T9WZd8VwX/xP91B7Eyhc/E/qpog6j6A8T+jI7n8h3TxPwj+t5IdG/I/lj50QX1L8j8zMzMzM7PyP4Lix5i7FvM/RzgteNFX8z/gfyvZsZHzP72MYrml1fM/\"},\"shape\":[21],\"dtype\":\"float64\",\"order\":\"little\"}],[\"size\",{\"type\":\"ndarray\",\"array\":{\"type\":\"bytes\",\"data\":\"bP///8n///8m////4/7//7H+///0/v//Yf///+7j//8a/v//xf7//xj////g/f//Tf///2YBAADPAgAAeCIAANQCAABWIgAA1wIAAMYiAADOJQAA\"},\"shape\":[21],\"dtype\":\"int32\",\"order\":\"little\"}],[\"returns_positive\",{\"type\":\"ndarray\",\"array\":[\"1\",\"0\",\"1\",\"1\",\"1\",\"1\",\"1\",\"1\",\"1\",\"1\",\"1\",\"1\",\"1\",\"0\",\"1\",\"1\",\"1\",\"1\",\"1\",\"1\",\"1\"],\"shape\":[21],\"dtype\":\"object\",\"order\":\"little\"}],[\"returns_long\",{\"type\":\"ndarray\",\"array\":{\"type\":\"bytes\",\"data\":\"AAAAAAAA+H8AAAAAAAD4fwAAAAAAAPh/AAAAAAAA+H8AAAAAAAD4fwAAAAAAAPh/AAAAAAAA+H8AAAAAAAD4fwAAAAAAAPh/AAAAAAAA+H8AAAAAAAD4fwAAAAAAAPh/AAAAAAAA+H8Aj4m7c2tlv+Au9pIwTaU/4Ojvnv85pz+A82CQpXqkP2CwOlVZKaQ/gCdjJ0a8oz9glzwfeZSjP4CXQSvED5Q/\"},\"shape\":[21],\"dtype\":\"float64\",\"order\":\"little\"}],[\"returns_short\",{\"type\":\"ndarray\",\"array\":{\"type\":\"bytes\",\"data\":\"gMKrrcVSfD8A1TpXO+h1vwDQtYRnuVE/IIz++9sfkz/gqEGJgGigPwDH/oWQlJw/oGN8tN4amD9QEEwvMf6jP1CVOogSH6Q/sANxbAIepD/QoWuAGzSkPwBze/eFLKQ/gGi8jH8JoT8AAAAAAAD4fwAAAAAAAPh/AAAAAAAA+H8AAAAAAAD4fwAAAAAAAPh/AAAAAAAA+H8AAAAAAAD4fwAAAAAAAPh/\"},\"shape\":[21],\"dtype\":\"float64\",\"order\":\"little\"}],[\"marker_size\",{\"type\":\"ndarray\",\"array\":{\"type\":\"bytes\",\"data\":\"DXyfs2A7IEAAAAAAAAAgQGbDCRcSaCBAAQ8UItmSIEBlHamNxbIgQMrRnoL+hyBAx8FUomZCIEAwPZxJd+QwQNLxMkMuEyFAcOTTlQCmIEDeBB9eAnEgQDJKHUU2OCFAvPopmitPIEAZUt7ddMEgQJL8pr3xpyFALLP3h1/vMkDPSpz7IqshQPV1guiE5DJAjUb8Uw2tIUDWe9cERggzQAAAAAAAADRA\"},\"shape\":[21],\"dtype\":\"float64\",\"order\":\"little\"}],[\"position_lines_xs\",[[31,52],[31,201],[31,215],[31,276],[31,313],[31,384],[31,422],[31,459],[246,471],[403,473],[346,473],[292,473],[425,474],[474,508],[520,569],[474,601],[581,640],[630,852],[698,911],[874,934],[952,999]]],[\"position_lines_ys\",[[1.15548,1.14749],[1.15548,1.16166],[1.15548,1.15423],[1.15548,1.1339],[1.15548,1.11845],[1.15548,1.12323],[1.15548,1.12828],[1.15548,1.11036],[1.15014,1.10494],[1.13867,1.09393],[1.13862,1.09369],[1.13547,1.09073],[1.13146,1.09381],[1.09381,1.09095],[1.08642,1.1316199999999998],[1.09381,1.14343],[1.1238,1.16875],[1.14785,1.19305],[1.16407,1.20894],[1.17802,1.2230699999999999],[1.21584,1.23966]]]]}}},\"view\":{\"type\":\"object\",\"name\":\"CDSView\",\"id\":\"p3150\",\"attributes\":{\"filter\":{\"type\":\"object\",\"name\":\"AllIndices\",\"id\":\"p3151\"}}},\"glyph\":{\"type\":\"object\",\"name\":\"Scatter\",\"id\":\"p3146\",\"attributes\":{\"x\":{\"type\":\"field\",\"field\":\"index\"},\"y\":{\"type\":\"field\",\"field\":\"returns_long\"},\"size\":{\"type\":\"field\",\"field\":\"marker_size\"},\"fill_color\":{\"type\":\"field\",\"field\":\"returns_positive\",\"transform\":{\"type\":\"object\",\"name\":\"CategoricalColorMapper\",\"id\":\"p3018\",\"attributes\":{\"palette\":[\"tomato\",\"lime\"],\"factors\":[\"0\",\"1\"]}}},\"marker\":{\"type\":\"value\",\"value\":\"triangle\"}}},\"nonselection_glyph\":{\"type\":\"object\",\"name\":\"Scatter\",\"id\":\"p3147\",\"attributes\":{\"x\":{\"type\":\"field\",\"field\":\"index\"},\"y\":{\"type\":\"field\",\"field\":\"returns_long\"},\"size\":{\"type\":\"field\",\"field\":\"marker_size\"},\"line_alpha\":{\"type\":\"value\",\"value\":0.1},\"fill_color\":{\"type\":\"field\",\"field\":\"returns_positive\",\"transform\":{\"id\":\"p3018\"}},\"fill_alpha\":{\"type\":\"value\",\"value\":0.1},\"hatch_alpha\":{\"type\":\"value\",\"value\":0.1},\"marker\":{\"type\":\"value\",\"value\":\"triangle\"}}},\"muted_glyph\":{\"type\":\"object\",\"name\":\"Scatter\",\"id\":\"p3148\",\"attributes\":{\"x\":{\"type\":\"field\",\"field\":\"index\"},\"y\":{\"type\":\"field\",\"field\":\"returns_long\"},\"size\":{\"type\":\"field\",\"field\":\"marker_size\"},\"line_alpha\":{\"type\":\"value\",\"value\":0.2},\"fill_color\":{\"type\":\"field\",\"field\":\"returns_positive\",\"transform\":{\"id\":\"p3018\"}},\"fill_alpha\":{\"type\":\"value\",\"value\":0.2},\"hatch_alpha\":{\"type\":\"value\",\"value\":0.2},\"marker\":{\"type\":\"value\",\"value\":\"triangle\"}}}}}],\"tooltips\":[[\"#\",\"@index\"],[\"Size\",\"@size{0,0}\"],[\"P/L\",\"@returns_long{+0.[000]%}\"]],\"point_policy\":\"follow_mouse\"}},{\"type\":\"object\",\"name\":\"HoverTool\",\"id\":\"p3162\",\"attributes\":{\"renderers\":[{\"type\":\"object\",\"name\":\"GlyphRenderer\",\"id\":\"p3158\",\"attributes\":{\"data_source\":{\"id\":\"p3014\"},\"view\":{\"type\":\"object\",\"name\":\"CDSView\",\"id\":\"p3159\",\"attributes\":{\"filter\":{\"type\":\"object\",\"name\":\"AllIndices\",\"id\":\"p3160\"}}},\"glyph\":{\"type\":\"object\",\"name\":\"Scatter\",\"id\":\"p3155\",\"attributes\":{\"x\":{\"type\":\"field\",\"field\":\"index\"},\"y\":{\"type\":\"field\",\"field\":\"returns_short\"},\"size\":{\"type\":\"field\",\"field\":\"marker_size\"},\"fill_color\":{\"type\":\"field\",\"field\":\"returns_positive\",\"transform\":{\"id\":\"p3018\"}},\"marker\":{\"type\":\"value\",\"value\":\"inverted_triangle\"}}},\"nonselection_glyph\":{\"type\":\"object\",\"name\":\"Scatter\",\"id\":\"p3156\",\"attributes\":{\"x\":{\"type\":\"field\",\"field\":\"index\"},\"y\":{\"type\":\"field\",\"field\":\"returns_short\"},\"size\":{\"type\":\"field\",\"field\":\"marker_size\"},\"line_alpha\":{\"type\":\"value\",\"value\":0.1},\"fill_color\":{\"type\":\"field\",\"field\":\"returns_positive\",\"transform\":{\"id\":\"p3018\"}},\"fill_alpha\":{\"type\":\"value\",\"value\":0.1},\"hatch_alpha\":{\"type\":\"value\",\"value\":0.1},\"marker\":{\"type\":\"value\",\"value\":\"inverted_triangle\"}}},\"muted_glyph\":{\"type\":\"object\",\"name\":\"Scatter\",\"id\":\"p3157\",\"attributes\":{\"x\":{\"type\":\"field\",\"field\":\"index\"},\"y\":{\"type\":\"field\",\"field\":\"returns_short\"},\"size\":{\"type\":\"field\",\"field\":\"marker_size\"},\"line_alpha\":{\"type\":\"value\",\"value\":0.2},\"fill_color\":{\"type\":\"field\",\"field\":\"returns_positive\",\"transform\":{\"id\":\"p3018\"}},\"fill_alpha\":{\"type\":\"value\",\"value\":0.2},\"hatch_alpha\":{\"type\":\"value\",\"value\":0.2},\"marker\":{\"type\":\"value\",\"value\":\"inverted_triangle\"}}}}}],\"tooltips\":[[\"#\",\"@index\"],[\"Size\",\"@size{0,0}\"],[\"P/L\",\"@returns_short{+0.[000]%}\"]],\"point_policy\":\"follow_mouse\"}},{\"type\":\"object\",\"name\":\"HoverTool\",\"id\":\"p3275\",\"attributes\":{\"renderers\":[{\"type\":\"object\",\"name\":\"GlyphRenderer\",\"id\":\"p3219\",\"attributes\":{\"data_source\":{\"id\":\"p3011\"},\"view\":{\"type\":\"object\",\"name\":\"CDSView\",\"id\":\"p3220\",\"attributes\":{\"filter\":{\"type\":\"object\",\"name\":\"AllIndices\",\"id\":\"p3221\"}}},\"glyph\":{\"type\":\"object\",\"name\":\"VBar\",\"id\":\"p3216\",\"attributes\":{\"x\":{\"type\":\"field\",\"field\":\"index\"},\"width\":{\"type\":\"value\",\"value\":0.8},\"bottom\":{\"type\":\"field\",\"field\":\"Close\"},\"top\":{\"type\":\"field\",\"field\":\"Open\"},\"fill_color\":{\"type\":\"field\",\"field\":\"inc\",\"transform\":{\"type\":\"object\",\"name\":\"CategoricalColorMapper\",\"id\":\"p3017\",\"attributes\":{\"palette\":[\"tomato\",\"lime\"],\"factors\":[\"0\",\"1\"]}}}}},\"nonselection_glyph\":{\"type\":\"object\",\"name\":\"VBar\",\"id\":\"p3217\",\"attributes\":{\"x\":{\"type\":\"field\",\"field\":\"index\"},\"width\":{\"type\":\"value\",\"value\":0.8},\"bottom\":{\"type\":\"field\",\"field\":\"Close\"},\"top\":{\"type\":\"field\",\"field\":\"Open\"},\"line_alpha\":{\"type\":\"value\",\"value\":0.1},\"fill_color\":{\"type\":\"field\",\"field\":\"inc\",\"transform\":{\"id\":\"p3017\"}},\"fill_alpha\":{\"type\":\"value\",\"value\":0.1},\"hatch_alpha\":{\"type\":\"value\",\"value\":0.1}}},\"muted_glyph\":{\"type\":\"object\",\"name\":\"VBar\",\"id\":\"p3218\",\"attributes\":{\"x\":{\"type\":\"field\",\"field\":\"index\"},\"width\":{\"type\":\"value\",\"value\":0.8},\"bottom\":{\"type\":\"field\",\"field\":\"Close\"},\"top\":{\"type\":\"field\",\"field\":\"Open\"},\"line_alpha\":{\"type\":\"value\",\"value\":0.2},\"fill_color\":{\"type\":\"field\",\"field\":\"inc\",\"transform\":{\"id\":\"p3017\"}},\"fill_alpha\":{\"type\":\"value\",\"value\":0.2},\"hatch_alpha\":{\"type\":\"value\",\"value\":0.2}}}}}],\"tooltips\":[[\"#\",\"@index\"],[\"x, y\",\"$index\\u00a0\\u00a0\\u00a0\\u00a0$y{0,0.0[0000]}\"],[\"OHLC\",\"@Open{0,0.0[0000]}\\u00a0\\u00a0\\u00a0\\u00a0@High{0,0.0[0000]}\\u00a0\\u00a0\\u00a0\\u00a0@Low{0,0.0[0000]}\\u00a0\\u00a0\\u00a0\\u00a0@Close{0,0.0[0000]}\"],[\"Volume\",\"@Volume{0,0}\"]],\"mode\":\"vline\",\"point_policy\":\"follow_mouse\"}},{\"type\":\"object\",\"name\":\"HoverTool\",\"id\":\"p3202\",\"attributes\":{\"renderers\":[{\"type\":\"object\",\"name\":\"GlyphRenderer\",\"id\":\"p3199\",\"attributes\":{\"data_source\":{\"id\":\"p3011\"},\"view\":{\"type\":\"object\",\"name\":\"CDSView\",\"id\":\"p3200\",\"attributes\":{\"filter\":{\"type\":\"object\",\"name\":\"AllIndices\",\"id\":\"p3201\"}}},\"glyph\":{\"type\":\"object\",\"name\":\"VBar\",\"id\":\"p3196\",\"attributes\":{\"x\":{\"type\":\"field\",\"field\":\"index\"},\"width\":{\"type\":\"value\",\"value\":0.8},\"top\":{\"type\":\"field\",\"field\":\"Volume\"},\"line_color\":{\"type\":\"field\",\"field\":\"inc\",\"transform\":{\"id\":\"p3017\"}},\"fill_color\":{\"type\":\"field\",\"field\":\"inc\",\"transform\":{\"id\":\"p3017\"}},\"hatch_color\":{\"type\":\"field\",\"field\":\"inc\",\"transform\":{\"id\":\"p3017\"}}}},\"nonselection_glyph\":{\"type\":\"object\",\"name\":\"VBar\",\"id\":\"p3197\",\"attributes\":{\"x\":{\"type\":\"field\",\"field\":\"index\"},\"width\":{\"type\":\"value\",\"value\":0.8},\"top\":{\"type\":\"field\",\"field\":\"Volume\"},\"line_color\":{\"type\":\"field\",\"field\":\"inc\",\"transform\":{\"id\":\"p3017\"}},\"line_alpha\":{\"type\":\"value\",\"value\":0.1},\"fill_color\":{\"type\":\"field\",\"field\":\"inc\",\"transform\":{\"id\":\"p3017\"}},\"fill_alpha\":{\"type\":\"value\",\"value\":0.1},\"hatch_color\":{\"type\":\"field\",\"field\":\"inc\",\"transform\":{\"id\":\"p3017\"}},\"hatch_alpha\":{\"type\":\"value\",\"value\":0.1}}},\"muted_glyph\":{\"type\":\"object\",\"name\":\"VBar\",\"id\":\"p3198\",\"attributes\":{\"x\":{\"type\":\"field\",\"field\":\"index\"},\"width\":{\"type\":\"value\",\"value\":0.8},\"top\":{\"type\":\"field\",\"field\":\"Volume\"},\"line_color\":{\"type\":\"field\",\"field\":\"inc\",\"transform\":{\"id\":\"p3017\"}},\"line_alpha\":{\"type\":\"value\",\"value\":0.2},\"fill_color\":{\"type\":\"field\",\"field\":\"inc\",\"transform\":{\"id\":\"p3017\"}},\"fill_alpha\":{\"type\":\"value\",\"value\":0.2},\"hatch_color\":{\"type\":\"field\",\"field\":\"inc\",\"transform\":{\"id\":\"p3017\"}},\"hatch_alpha\":{\"type\":\"value\",\"value\":0.2}}}}}],\"tooltips\":[[\"#\",\"@index\"],[\"Volume\",\"@Volume{0.00 a}\"]],\"mode\":\"vline\",\"point_policy\":\"follow_mouse\"}},{\"type\":\"object\",\"name\":\"HoverTool\",\"id\":\"p3274\",\"attributes\":{\"renderers\":[{\"type\":\"object\",\"name\":\"GlyphRenderer\",\"id\":\"p3268\",\"attributes\":{\"data_source\":{\"id\":\"p3011\"},\"view\":{\"type\":\"object\",\"name\":\"CDSView\",\"id\":\"p3269\",\"attributes\":{\"filter\":{\"type\":\"object\",\"name\":\"AllIndices\",\"id\":\"p3270\"}}},\"glyph\":{\"type\":\"object\",\"name\":\"Line\",\"id\":\"p3265\",\"attributes\":{\"x\":{\"type\":\"field\",\"field\":\"index\"},\"y\":{\"type\":\"field\",\"field\":\"SIGNAL_0_1\"},\"line_color\":\"#1f77b4\",\"line_width\":1.3}},\"nonselection_glyph\":{\"type\":\"object\",\"name\":\"Line\",\"id\":\"p3266\",\"attributes\":{\"x\":{\"type\":\"field\",\"field\":\"index\"},\"y\":{\"type\":\"field\",\"field\":\"SIGNAL_0_1\"},\"line_color\":\"#1f77b4\",\"line_alpha\":0.1,\"line_width\":1.3}},\"muted_glyph\":{\"type\":\"object\",\"name\":\"Line\",\"id\":\"p3267\",\"attributes\":{\"x\":{\"type\":\"field\",\"field\":\"index\"},\"y\":{\"type\":\"field\",\"field\":\"SIGNAL_0_1\"},\"line_color\":\"#1f77b4\",\"line_alpha\":0.2,\"line_width\":1.3}}}}],\"tooltips\":[[\"#\",\"@index\"],[\"SIGNAL\",\"@{SIGNAL_0_1}{0,0.0[0000]}\"]],\"mode\":\"vline\",\"point_policy\":\"follow_mouse\"}},{\"type\":\"object\",\"name\":\"ToolProxy\",\"id\":\"p3285\",\"attributes\":{\"tools\":[{\"type\":\"object\",\"name\":\"CrosshairTool\",\"id\":\"p3277\"},{\"id\":\"p3277\"},{\"id\":\"p3277\"},{\"id\":\"p3277\"},{\"id\":\"p3277\"}]}}],\"active_drag\":{\"id\":\"p3254\"},\"active_scroll\":{\"id\":\"p3255\"}}},\"toolbar_location\":\"right\",\"children\":[[{\"type\":\"object\",\"name\":\"Figure\",\"id\":\"p3020\",\"attributes\":{\"width\":null,\"height\":110,\"sizing_mode\":\"stretch_width\",\"x_range\":{\"type\":\"object\",\"name\":\"Range1d\",\"id\":\"p2981\",\"attributes\":{\"js_property_callbacks\":{\"type\":\"map\",\"entries\":[[\"change:end\",[{\"type\":\"object\",\"name\":\"CustomJS\",\"id\":\"p3276\",\"attributes\":{\"args\":{\"type\":\"map\",\"entries\":[[\"ohlc_range\",{\"type\":\"object\",\"name\":\"DataRange1d\",\"id\":\"p2984\"}],[\"source\",{\"id\":\"p3011\"}],[\"volume_range\",{\"type\":\"object\",\"name\":\"DataRange1d\",\"id\":\"p3166\"}]]},\"code\":\"if (!window._bt_scale_range) {\\n    window._bt_scale_range = function (range, min, max, pad) {\\n        \\\"use strict\\\";\\n        if (min !== Infinity && max !== -Infinity) {\\n            pad = pad ? (max - min) * .03 : 0;\\n            range.start = min - pad;\\n            range.end = max + pad;\\n        } else console.error('backtesting: scale range error:', min, max, range);\\n    };\\n}\\n\\nclearTimeout(window._bt_autoscale_timeout);\\n\\nwindow._bt_autoscale_timeout = setTimeout(function () {\\n    /**\\n     * @variable cb_obj `fig_ohlc.x_range`.\\n     * @variable source `ColumnDataSource`\\n     * @variable ohlc_range `fig_ohlc.y_range`.\\n     * @variable volume_range `fig_volume.y_range`.\\n     */\\n    \\\"use strict\\\";\\n\\n    let i = Math.max(Math.floor(cb_obj.start), 0),\\n        j = Math.min(Math.ceil(cb_obj.end), source.data['ohlc_high'].length);\\n\\n    let max = Math.max.apply(null, source.data['ohlc_high'].slice(i, j)),\\n        min = Math.min.apply(null, source.data['ohlc_low'].slice(i, j));\\n    _bt_scale_range(ohlc_range, min, max, true);\\n\\n    if (volume_range) {\\n        max = Math.max.apply(null, source.data['Volume'].slice(i, j));\\n        _bt_scale_range(volume_range, 0, max * 1.03, false);\\n    }\\n\\n}, 50);\\n\"}}]]]},\"end\":999,\"bounds\":[-49.95,1048.95],\"min_interval\":10}},\"y_range\":{\"type\":\"object\",\"name\":\"DataRange1d\",\"id\":\"p3022\"},\"x_scale\":{\"type\":\"object\",\"name\":\"LinearScale\",\"id\":\"p3029\"},\"y_scale\":{\"type\":\"object\",\"name\":\"LinearScale\",\"id\":\"p3030\"},\"title\":{\"type\":\"object\",\"name\":\"Title\",\"id\":\"p3027\"},\"outline_line_color\":\"#666666\",\"renderers\":[{\"type\":\"object\",\"name\":\"GlyphRenderer\",\"id\":\"p3058\",\"attributes\":{\"data_source\":{\"type\":\"object\",\"name\":\"ColumnDataSource\",\"id\":\"p3049\",\"attributes\":{\"selected\":{\"type\":\"object\",\"name\":\"Selection\",\"id\":\"p3050\",\"attributes\":{\"indices\":[],\"line_indices\":[]}},\"selection_policy\":{\"type\":\"object\",\"name\":\"UnionRenderers\",\"id\":\"p3051\"},\"data\":{\"type\":\"map\",\"entries\":[[\"index\",{\"type\":\"ndarray\",\"array\":{\"type\":\"bytes\",\"data\":\"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\"},\"shape\":[2000],\"dtype\":\"int32\",\"order\":\"little\"}],[\"equity_dd\",{\"type\":\"ndarray\",\"array\":{\"type\":\"bytes\",\"data\":\"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\"},\"shape\":[2000],\"dtype\":\"float64\",\"order\":\"little\"}]]}}},\"view\":{\"type\":\"object\",\"name\":\"CDSView\",\"id\":\"p3059\",\"attributes\":{\"filter\":{\"type\":\"object\",\"name\":\"AllIndices\",\"id\":\"p3060\"}}},\"glyph\":{\"type\":\"object\",\"name\":\"Patch\",\"id\":\"p3055\",\"attributes\":{\"x\":{\"type\":\"field\",\"field\":\"index\"},\"y\":{\"type\":\"field\",\"field\":\"equity_dd\"},\"line_color\":\"#ffcb66\",\"fill_color\":\"#ffffea\"}},\"nonselection_glyph\":{\"type\":\"object\",\"name\":\"Patch\",\"id\":\"p3056\",\"attributes\":{\"x\":{\"type\":\"field\",\"field\":\"index\"},\"y\":{\"type\":\"field\",\"field\":\"equity_dd\"},\"line_color\":\"#ffcb66\",\"line_alpha\":0.1,\"fill_color\":\"#ffffea\",\"fill_alpha\":0.1,\"hatch_alpha\":0.1}},\"muted_glyph\":{\"type\":\"object\",\"name\":\"Patch\",\"id\":\"p3057\",\"attributes\":{\"x\":{\"type\":\"field\",\"field\":\"index\"},\"y\":{\"type\":\"field\",\"field\":\"equity_dd\"},\"line_color\":\"#ffcb66\",\"line_alpha\":0.2,\"fill_color\":\"#ffffea\",\"fill_alpha\":0.2,\"hatch_alpha\":0.2}}}},{\"id\":\"p3067\"},{\"type\":\"object\",\"name\":\"GlyphRenderer\",\"id\":\"p3078\",\"attributes\":{\"data_source\":{\"type\":\"object\",\"name\":\"ColumnDataSource\",\"id\":\"p3072\",\"attributes\":{\"selected\":{\"type\":\"object\",\"name\":\"Selection\",\"id\":\"p3073\",\"attributes\":{\"indices\":[],\"line_indices\":[]}},\"selection_policy\":{\"type\":\"object\",\"name\":\"UnionRenderers\",\"id\":\"p3074\"},\"data\":{\"type\":\"map\"}}},\"view\":{\"type\":\"object\",\"name\":\"CDSView\",\"id\":\"p3079\",\"attributes\":{\"filter\":{\"type\":\"object\",\"name\":\"AllIndices\",\"id\":\"p3080\"}}},\"glyph\":{\"type\":\"object\",\"name\":\"Scatter\",\"id\":\"p3075\",\"attributes\":{\"x\":{\"type\":\"value\",\"value\":993},\"y\":{\"type\":\"value\",\"value\":1.203243894999999},\"size\":{\"type\":\"value\",\"value\":8},\"line_color\":{\"type\":\"value\",\"value\":\"cyan\"},\"fill_color\":{\"type\":\"value\",\"value\":\"cyan\"},\"hatch_color\":{\"type\":\"value\",\"value\":\"cyan\"}}},\"nonselection_glyph\":{\"type\":\"object\",\"name\":\"Scatter\",\"id\":\"p3076\",\"attributes\":{\"x\":{\"type\":\"value\",\"value\":993},\"y\":{\"type\":\"value\",\"value\":1.203243894999999},\"size\":{\"type\":\"value\",\"value\":8},\"line_color\":{\"type\":\"value\",\"value\":\"cyan\"},\"line_alpha\":{\"type\":\"value\",\"value\":0.1},\"fill_color\":{\"type\":\"value\",\"value\":\"cyan\"},\"fill_alpha\":{\"type\":\"value\",\"value\":0.1},\"hatch_color\":{\"type\":\"value\",\"value\":\"cyan\"},\"hatch_alpha\":{\"type\":\"value\",\"value\":0.1}}},\"muted_glyph\":{\"type\":\"object\",\"name\":\"Scatter\",\"id\":\"p3077\",\"attributes\":{\"x\":{\"type\":\"value\",\"value\":993},\"y\":{\"type\":\"value\",\"value\":1.203243894999999},\"size\":{\"type\":\"value\",\"value\":8},\"line_color\":{\"type\":\"value\",\"value\":\"cyan\"},\"line_alpha\":{\"type\":\"value\",\"value\":0.2},\"fill_color\":{\"type\":\"value\",\"value\":\"cyan\"},\"fill_alpha\":{\"type\":\"value\",\"value\":0.2},\"hatch_color\":{\"type\":\"value\",\"value\":\"cyan\"},\"hatch_alpha\":{\"type\":\"value\",\"value\":0.2}}}}},{\"type\":\"object\",\"name\":\"GlyphRenderer\",\"id\":\"p3089\",\"attributes\":{\"data_source\":{\"type\":\"object\",\"name\":\"ColumnDataSource\",\"id\":\"p3083\",\"attributes\":{\"selected\":{\"type\":\"object\",\"name\":\"Selection\",\"id\":\"p3084\",\"attributes\":{\"indices\":[],\"line_indices\":[]}},\"selection_policy\":{\"type\":\"object\",\"name\":\"UnionRenderers\",\"id\":\"p3085\"},\"data\":{\"type\":\"map\"}}},\"view\":{\"type\":\"object\",\"name\":\"CDSView\",\"id\":\"p3090\",\"attributes\":{\"filter\":{\"type\":\"object\",\"name\":\"AllIndices\",\"id\":\"p3091\"}}},\"glyph\":{\"type\":\"object\",\"name\":\"Scatter\",\"id\":\"p3086\",\"attributes\":{\"x\":{\"type\":\"value\",\"value\":999},\"y\":{\"type\":\"value\",\"value\":1.1997791709999992},\"size\":{\"type\":\"value\",\"value\":8},\"line_color\":{\"type\":\"value\",\"value\":\"blue\"},\"fill_color\":{\"type\":\"value\",\"value\":\"blue\"},\"hatch_color\":{\"type\":\"value\",\"value\":\"blue\"}}},\"nonselection_glyph\":{\"type\":\"object\",\"name\":\"Scatter\",\"id\":\"p3087\",\"attributes\":{\"x\":{\"type\":\"value\",\"value\":999},\"y\":{\"type\":\"value\",\"value\":1.1997791709999992},\"size\":{\"type\":\"value\",\"value\":8},\"line_color\":{\"type\":\"value\",\"value\":\"blue\"},\"line_alpha\":{\"type\":\"value\",\"value\":0.1},\"fill_color\":{\"type\":\"value\",\"value\":\"blue\"},\"fill_alpha\":{\"type\":\"value\",\"value\":0.1},\"hatch_color\":{\"type\":\"value\",\"value\":\"blue\"},\"hatch_alpha\":{\"type\":\"value\",\"value\":0.1}}},\"muted_glyph\":{\"type\":\"object\",\"name\":\"Scatter\",\"id\":\"p3088\",\"attributes\":{\"x\":{\"type\":\"value\",\"value\":999},\"y\":{\"type\":\"value\",\"value\":1.1997791709999992},\"size\":{\"type\":\"value\",\"value\":8},\"line_color\":{\"type\":\"value\",\"value\":\"blue\"},\"line_alpha\":{\"type\":\"value\",\"value\":0.2},\"fill_color\":{\"type\":\"value\",\"value\":\"blue\"},\"fill_alpha\":{\"type\":\"value\",\"value\":0.2},\"hatch_color\":{\"type\":\"value\",\"value\":\"blue\"},\"hatch_alpha\":{\"type\":\"value\",\"value\":0.2}}}}},{\"type\":\"object\",\"name\":\"GlyphRenderer\",\"id\":\"p3099\",\"attributes\":{\"data_source\":{\"type\":\"object\",\"name\":\"ColumnDataSource\",\"id\":\"p3093\",\"attributes\":{\"selected\":{\"type\":\"object\",\"name\":\"Selection\",\"id\":\"p3094\",\"attributes\":{\"indices\":[],\"line_indices\":[]}},\"selection_policy\":{\"type\":\"object\",\"name\":\"UnionRenderers\",\"id\":\"p3095\"},\"data\":{\"type\":\"map\"}}},\"view\":{\"type\":\"object\",\"name\":\"CDSView\",\"id\":\"p3100\",\"attributes\":{\"filter\":{\"type\":\"object\",\"name\":\"AllIndices\",\"id\":\"p3101\"}}},\"glyph\":{\"type\":\"object\",\"name\":\"Scatter\",\"id\":\"p3096\",\"attributes\":{\"x\":{\"type\":\"value\",\"value\":183},\"y\":{\"type\":\"value\",\"value\":0.9691564120000001},\"size\":{\"type\":\"value\",\"value\":8},\"line_color\":{\"type\":\"value\",\"value\":\"red\"},\"fill_color\":{\"type\":\"value\",\"value\":\"red\"},\"hatch_color\":{\"type\":\"value\",\"value\":\"red\"}}},\"nonselection_glyph\":{\"type\":\"object\",\"name\":\"Scatter\",\"id\":\"p3097\",\"attributes\":{\"x\":{\"type\":\"value\",\"value\":183},\"y\":{\"type\":\"value\",\"value\":0.9691564120000001},\"size\":{\"type\":\"value\",\"value\":8},\"line_color\":{\"type\":\"value\",\"value\":\"red\"},\"line_alpha\":{\"type\":\"value\",\"value\":0.1},\"fill_color\":{\"type\":\"value\",\"value\":\"red\"},\"fill_alpha\":{\"type\":\"value\",\"value\":0.1},\"hatch_color\":{\"type\":\"value\",\"value\":\"red\"},\"hatch_alpha\":{\"type\":\"value\",\"value\":0.1}}},\"muted_glyph\":{\"type\":\"object\",\"name\":\"Scatter\",\"id\":\"p3098\",\"attributes\":{\"x\":{\"type\":\"value\",\"value\":183},\"y\":{\"type\":\"value\",\"value\":0.9691564120000001},\"size\":{\"type\":\"value\",\"value\":8},\"line_color\":{\"type\":\"value\",\"value\":\"red\"},\"line_alpha\":{\"type\":\"value\",\"value\":0.2},\"fill_color\":{\"type\":\"value\",\"value\":\"red\"},\"fill_alpha\":{\"type\":\"value\",\"value\":0.2},\"hatch_color\":{\"type\":\"value\",\"value\":\"red\"},\"hatch_alpha\":{\"type\":\"value\",\"value\":0.2}}}}},{\"type\":\"object\",\"name\":\"GlyphRenderer\",\"id\":\"p3109\",\"attributes\":{\"data_source\":{\"type\":\"object\",\"name\":\"ColumnDataSource\",\"id\":\"p3103\",\"attributes\":{\"selected\":{\"type\":\"object\",\"name\":\"Selection\",\"id\":\"p3104\",\"attributes\":{\"indices\":[],\"line_indices\":[]}},\"selection_policy\":{\"type\":\"object\",\"name\":\"UnionRenderers\",\"id\":\"p3105\"},\"data\":{\"type\":\"map\",\"entries\":[[\"x\",[53,273.4728914802531]]]}}},\"view\":{\"type\":\"object\",\"name\":\"CDSView\",\"id\":\"p3110\",\"attributes\":{\"filter\":{\"type\":\"object\",\"name\":\"AllIndices\",\"id\":\"p3111\"}}},\"glyph\":{\"type\":\"object\",\"name\":\"Line\",\"id\":\"p3106\",\"attributes\":{\"x\":{\"type\":\"field\",\"field\":\"x\"},\"y\":{\"type\":\"value\",\"value\":1.014331778},\"line_color\":\"red\",\"line_width\":2}},\"nonselection_glyph\":{\"type\":\"object\",\"name\":\"Line\",\"id\":\"p3107\",\"attributes\":{\"x\":{\"type\":\"field\",\"field\":\"x\"},\"y\":{\"type\":\"value\",\"value\":1.014331778},\"line_color\":\"red\",\"line_alpha\":0.1,\"line_width\":2}},\"muted_glyph\":{\"type\":\"object\",\"name\":\"Line\",\"id\":\"p3108\",\"attributes\":{\"x\":{\"type\":\"field\",\"field\":\"x\"},\"y\":{\"type\":\"value\",\"value\":1.014331778},\"line_color\":\"red\",\"line_alpha\":0.2,\"line_width\":2}}}}],\"toolbar\":{\"type\":\"object\",\"name\":\"Toolbar\",\"id\":\"p3028\",\"attributes\":{\"tools\":[{\"id\":\"p3041\"},{\"id\":\"p3042\"},{\"id\":\"p3043\"},{\"id\":\"p3045\"},{\"id\":\"p3046\"},{\"id\":\"p3047\"},{\"type\":\"object\",\"name\":\"SaveTool\",\"id\":\"p3048\"},{\"id\":\"p3070\"},{\"id\":\"p3277\"}],\"active_drag\":{\"id\":\"p3041\"},\"active_scroll\":{\"id\":\"p3042\"}}},\"toolbar_location\":null,\"left\":[{\"type\":\"object\",\"name\":\"LinearAxis\",\"id\":\"p3036\",\"attributes\":{\"ticker\":{\"type\":\"object\",\"name\":\"BasicTicker\",\"id\":\"p3037\",\"attributes\":{\"mantissas\":[1,2,5]}},\"formatter\":{\"type\":\"object\",\"name\":\"NumeralTickFormatter\",\"id\":\"p3071\",\"attributes\":{\"format\":\"0,0.[00]%\"}},\"axis_label\":\"Equity\",\"major_label_policy\":{\"type\":\"object\",\"name\":\"AllLabels\",\"id\":\"p3039\"},\"minor_tick_line_color\":null}}],\"below\":[{\"type\":\"object\",\"name\":\"LinearAxis\",\"id\":\"p3031\",\"attributes\":{\"visible\":false,\"ticker\":{\"type\":\"object\",\"name\":\"BasicTicker\",\"id\":\"p3032\",\"attributes\":{\"mantissas\":[1,2,5]}},\"formatter\":{\"type\":\"object\",\"name\":\"BasicTickFormatter\",\"id\":\"p3033\"},\"major_label_policy\":{\"type\":\"object\",\"name\":\"AllLabels\",\"id\":\"p3034\"}}}],\"center\":[{\"type\":\"object\",\"name\":\"Grid\",\"id\":\"p3035\",\"attributes\":{\"axis\":{\"id\":\"p3031\"}}},{\"type\":\"object\",\"name\":\"Grid\",\"id\":\"p3040\",\"attributes\":{\"dimension\":1,\"axis\":{\"id\":\"p3036\"}}},{\"type\":\"object\",\"name\":\"Legend\",\"id\":\"p3081\",\"attributes\":{\"location\":\"top_left\",\"border_line_color\":\"#333333\",\"click_policy\":\"hide\",\"label_text_font_size\":\"8pt\",\"margin\":0,\"padding\":5,\"spacing\":0,\"items\":[{\"type\":\"object\",\"name\":\"LegendItem\",\"id\":\"p3082\",\"attributes\":{\"label\":{\"type\":\"value\",\"value\":\"Peak (120%)\"},\"renderers\":[{\"id\":\"p3078\"}]}},{\"type\":\"object\",\"name\":\"LegendItem\",\"id\":\"p3092\",\"attributes\":{\"label\":{\"type\":\"value\",\"value\":\"Final (120%)\"},\"renderers\":[{\"id\":\"p3089\"}]}},{\"type\":\"object\",\"name\":\"LegendItem\",\"id\":\"p3102\",\"attributes\":{\"label\":{\"type\":\"value\",\"value\":\"Max Drawdown (-4.5%)\"},\"renderers\":[{\"id\":\"p3099\"}]}},{\"type\":\"object\",\"name\":\"LegendItem\",\"id\":\"p3112\",\"attributes\":{\"label\":{\"type\":\"value\",\"value\":\"Max Dd Dur. (220)\"},\"renderers\":[{\"id\":\"p3109\"}]}}]}}],\"min_border_top\":3,\"min_border_bottom\":6,\"min_border_left\":0,\"min_border_right\":10}},0,0],[{\"type\":\"object\",\"name\":\"Figure\",\"id\":\"p3113\",\"attributes\":{\"width\":null,\"height\":90,\"sizing_mode\":\"stretch_width\",\"x_range\":{\"id\":\"p2981\"},\"y_range\":{\"type\":\"object\",\"name\":\"DataRange1d\",\"id\":\"p3115\"},\"x_scale\":{\"type\":\"object\",\"name\":\"LinearScale\",\"id\":\"p3122\"},\"y_scale\":{\"type\":\"object\",\"name\":\"LinearScale\",\"id\":\"p3123\"},\"title\":{\"type\":\"object\",\"name\":\"Title\",\"id\":\"p3120\"},\"outline_line_color\":\"#666666\",\"renderers\":[{\"id\":\"p3149\"},{\"id\":\"p3158\"}],\"toolbar\":{\"type\":\"object\",\"name\":\"Toolbar\",\"id\":\"p3121\",\"attributes\":{\"tools\":[{\"id\":\"p3134\"},{\"id\":\"p3135\"},{\"id\":\"p3136\"},{\"id\":\"p3138\"},{\"id\":\"p3139\"},{\"id\":\"p3140\"},{\"type\":\"object\",\"name\":\"SaveTool\",\"id\":\"p3141\"},{\"id\":\"p3161\"},{\"id\":\"p3162\"},{\"id\":\"p3277\"}],\"active_drag\":{\"id\":\"p3134\"},\"active_scroll\":{\"id\":\"p3135\"}}},\"toolbar_location\":null,\"left\":[{\"type\":\"object\",\"name\":\"LinearAxis\",\"id\":\"p3129\",\"attributes\":{\"ticker\":{\"type\":\"object\",\"name\":\"BasicTicker\",\"id\":\"p3130\",\"attributes\":{\"mantissas\":[1,2,5]}},\"formatter\":{\"type\":\"object\",\"name\":\"NumeralTickFormatter\",\"id\":\"p3163\",\"attributes\":{\"format\":\"0.[00]%\"}},\"axis_label\":\"Profit / Loss\",\"major_label_policy\":{\"type\":\"object\",\"name\":\"AllLabels\",\"id\":\"p3132\"},\"minor_tick_line_color\":null}}],\"below\":[{\"type\":\"object\",\"name\":\"LinearAxis\",\"id\":\"p3124\",\"attributes\":{\"visible\":false,\"ticker\":{\"type\":\"object\",\"name\":\"BasicTicker\",\"id\":\"p3125\",\"attributes\":{\"mantissas\":[1,2,5]}},\"formatter\":{\"type\":\"object\",\"name\":\"BasicTickFormatter\",\"id\":\"p3126\"},\"major_label_policy\":{\"type\":\"object\",\"name\":\"AllLabels\",\"id\":\"p3127\"}}}],\"center\":[{\"type\":\"object\",\"name\":\"Grid\",\"id\":\"p3128\",\"attributes\":{\"axis\":{\"id\":\"p3124\"}}},{\"type\":\"object\",\"name\":\"Grid\",\"id\":\"p3133\",\"attributes\":{\"dimension\":1,\"axis\":{\"id\":\"p3129\"}}},{\"type\":\"object\",\"name\":\"Span\",\"id\":\"p3142\",\"attributes\":{\"location\":0,\"line_color\":\"#666666\",\"line_dash\":[6]}}],\"min_border_top\":3,\"min_border_bottom\":6,\"min_border_left\":0,\"min_border_right\":10}},1,0],[{\"type\":\"object\",\"name\":\"Figure\",\"id\":\"p2982\",\"attributes\":{\"width\":null,\"height\":400,\"sizing_mode\":\"stretch_width\",\"x_range\":{\"id\":\"p2981\"},\"y_range\":{\"id\":\"p2984\"},\"x_scale\":{\"type\":\"object\",\"name\":\"LinearScale\",\"id\":\"p2991\"},\"y_scale\":{\"type\":\"object\",\"name\":\"LinearScale\",\"id\":\"p2992\"},\"title\":{\"type\":\"object\",\"name\":\"Title\",\"id\":\"p2989\"},\"outline_line_color\":\"#666666\",\"renderers\":[{\"type\":\"object\",\"name\":\"GlyphRenderer\",\"id\":\"p3210\",\"attributes\":{\"data_source\":{\"id\":\"p3011\"},\"view\":{\"type\":\"object\",\"name\":\"CDSView\",\"id\":\"p3211\",\"attributes\":{\"filter\":{\"type\":\"object\",\"name\":\"AllIndices\",\"id\":\"p3212\"}}},\"glyph\":{\"type\":\"object\",\"name\":\"Segment\",\"id\":\"p3207\",\"attributes\":{\"x0\":{\"type\":\"field\",\"field\":\"index\"},\"y0\":{\"type\":\"field\",\"field\":\"High\"},\"x1\":{\"type\":\"field\",\"field\":\"index\"},\"y1\":{\"type\":\"field\",\"field\":\"Low\"}}},\"nonselection_glyph\":{\"type\":\"object\",\"name\":\"Segment\",\"id\":\"p3208\",\"attributes\":{\"x0\":{\"type\":\"field\",\"field\":\"index\"},\"y0\":{\"type\":\"field\",\"field\":\"High\"},\"x1\":{\"type\":\"field\",\"field\":\"index\"},\"y1\":{\"type\":\"field\",\"field\":\"Low\"},\"line_alpha\":{\"type\":\"value\",\"value\":0.1}}},\"muted_glyph\":{\"type\":\"object\",\"name\":\"Segment\",\"id\":\"p3209\",\"attributes\":{\"x0\":{\"type\":\"field\",\"field\":\"index\"},\"y0\":{\"type\":\"field\",\"field\":\"High\"},\"x1\":{\"type\":\"field\",\"field\":\"index\"},\"y1\":{\"type\":\"field\",\"field\":\"Low\"},\"line_alpha\":{\"type\":\"value\",\"value\":0.2}}}}},{\"id\":\"p3219\"},{\"type\":\"object\",\"name\":\"GlyphRenderer\",\"id\":\"p3228\",\"attributes\":{\"data_source\":{\"id\":\"p3014\"},\"view\":{\"type\":\"object\",\"name\":\"CDSView\",\"id\":\"p3229\",\"attributes\":{\"filter\":{\"type\":\"object\",\"name\":\"AllIndices\",\"id\":\"p3230\"}}},\"glyph\":{\"type\":\"object\",\"name\":\"MultiLine\",\"id\":\"p3225\",\"attributes\":{\"xs\":{\"type\":\"field\",\"field\":\"position_lines_xs\"},\"ys\":{\"type\":\"field\",\"field\":\"position_lines_ys\"},\"line_color\":{\"type\":\"field\",\"field\":\"returns_positive\",\"transform\":{\"type\":\"object\",\"name\":\"CategoricalColorMapper\",\"id\":\"p3019\",\"attributes\":{\"palette\":[\"rgb(178.5, 27.163043478260846, 0.0)\",\"rgb(0.0, 178.5, 0.0)\"],\"factors\":[\"0\",\"1\"]}}},\"line_width\":{\"type\":\"value\",\"value\":8},\"line_dash\":{\"type\":\"value\",\"value\":\"dotted\"}}},\"nonselection_glyph\":{\"type\":\"object\",\"name\":\"MultiLine\",\"id\":\"p3226\",\"attributes\":{\"xs\":{\"type\":\"field\",\"field\":\"position_lines_xs\"},\"ys\":{\"type\":\"field\",\"field\":\"position_lines_ys\"},\"line_color\":{\"type\":\"field\",\"field\":\"returns_positive\",\"transform\":{\"id\":\"p3019\"}},\"line_alpha\":{\"type\":\"value\",\"value\":0.1},\"line_width\":{\"type\":\"value\",\"value\":8},\"line_dash\":{\"type\":\"value\",\"value\":\"dotted\"}}},\"muted_glyph\":{\"type\":\"object\",\"name\":\"MultiLine\",\"id\":\"p3227\",\"attributes\":{\"xs\":{\"type\":\"field\",\"field\":\"position_lines_xs\"},\"ys\":{\"type\":\"field\",\"field\":\"position_lines_ys\"},\"line_color\":{\"type\":\"field\",\"field\":\"returns_positive\",\"transform\":{\"id\":\"p3019\"}},\"line_alpha\":{\"type\":\"value\",\"value\":0.2},\"line_width\":{\"type\":\"value\",\"value\":8},\"line_dash\":{\"type\":\"value\",\"value\":\"dotted\"}}}}}],\"toolbar\":{\"type\":\"object\",\"name\":\"Toolbar\",\"id\":\"p2990\",\"attributes\":{\"tools\":[{\"id\":\"p3003\"},{\"id\":\"p3004\"},{\"id\":\"p3005\"},{\"id\":\"p3007\"},{\"id\":\"p3008\"},{\"id\":\"p3009\"},{\"type\":\"object\",\"name\":\"SaveTool\",\"id\":\"p3010\"},{\"id\":\"p3275\"},{\"id\":\"p3277\"}],\"active_drag\":{\"id\":\"p3003\"},\"active_scroll\":{\"id\":\"p3004\"}}},\"toolbar_location\":null,\"left\":[{\"type\":\"object\",\"name\":\"LinearAxis\",\"id\":\"p2998\",\"attributes\":{\"ticker\":{\"type\":\"object\",\"name\":\"BasicTicker\",\"id\":\"p2999\",\"attributes\":{\"mantissas\":[1,2,5]}},\"formatter\":{\"type\":\"object\",\"name\":\"BasicTickFormatter\",\"id\":\"p3000\"},\"major_label_policy\":{\"type\":\"object\",\"name\":\"AllLabels\",\"id\":\"p3001\"}}}],\"below\":[{\"type\":\"object\",\"name\":\"LinearAxis\",\"id\":\"p2993\",\"attributes\":{\"visible\":false,\"ticker\":{\"type\":\"object\",\"name\":\"BasicTicker\",\"id\":\"p2994\",\"attributes\":{\"mantissas\":[1,2,5]}},\"formatter\":{\"type\":\"object\",\"name\":\"BasicTickFormatter\",\"id\":\"p2995\"},\"major_label_policy\":{\"type\":\"object\",\"name\":\"AllLabels\",\"id\":\"p2996\"}}}],\"center\":[{\"type\":\"object\",\"name\":\"Grid\",\"id\":\"p2997\",\"attributes\":{\"axis\":{\"id\":\"p2993\"}}},{\"type\":\"object\",\"name\":\"Grid\",\"id\":\"p3002\",\"attributes\":{\"dimension\":1,\"axis\":{\"id\":\"p2998\"}}},{\"type\":\"object\",\"name\":\"Legend\",\"id\":\"p3231\",\"attributes\":{\"location\":\"top_left\",\"border_line_color\":\"#333333\",\"click_policy\":\"hide\",\"label_text_font_size\":\"8pt\",\"margin\":0,\"padding\":5,\"spacing\":0,\"items\":[{\"type\":\"object\",\"name\":\"LegendItem\",\"id\":\"p3232\",\"attributes\":{\"label\":{\"type\":\"value\",\"value\":\"Trades (21)\"},\"renderers\":[{\"id\":\"p3228\"}]}}]}}],\"min_border_top\":3,\"min_border_bottom\":6,\"min_border_left\":0,\"min_border_right\":10}},2,0],[{\"type\":\"object\",\"name\":\"Figure\",\"id\":\"p3164\",\"attributes\":{\"width\":null,\"height\":90,\"sizing_mode\":\"stretch_width\",\"x_range\":{\"id\":\"p2981\"},\"y_range\":{\"id\":\"p3166\"},\"x_scale\":{\"type\":\"object\",\"name\":\"LinearScale\",\"id\":\"p3173\"},\"y_scale\":{\"type\":\"object\",\"name\":\"LinearScale\",\"id\":\"p3174\"},\"title\":{\"type\":\"object\",\"name\":\"Title\",\"id\":\"p3171\"},\"outline_line_color\":\"#666666\",\"renderers\":[{\"id\":\"p3199\"}],\"toolbar\":{\"type\":\"object\",\"name\":\"Toolbar\",\"id\":\"p3172\",\"attributes\":{\"tools\":[{\"id\":\"p3185\"},{\"id\":\"p3186\"},{\"id\":\"p3187\"},{\"id\":\"p3189\"},{\"id\":\"p3190\"},{\"id\":\"p3191\"},{\"type\":\"object\",\"name\":\"SaveTool\",\"id\":\"p3192\"},{\"id\":\"p3202\"},{\"id\":\"p3277\"}],\"active_drag\":{\"id\":\"p3185\"},\"active_scroll\":{\"id\":\"p3186\"}}},\"toolbar_location\":null,\"left\":[{\"type\":\"object\",\"name\":\"LinearAxis\",\"id\":\"p3180\",\"attributes\":{\"ticker\":{\"type\":\"object\",\"name\":\"BasicTicker\",\"id\":\"p3181\",\"attributes\":{\"mantissas\":[1,2,5]}},\"formatter\":{\"type\":\"object\",\"name\":\"NumeralTickFormatter\",\"id\":\"p3203\",\"attributes\":{\"format\":\"0 a\"}},\"axis_label\":\"Volume\",\"major_label_policy\":{\"type\":\"object\",\"name\":\"AllLabels\",\"id\":\"p3183\"},\"minor_tick_line_color\":null}}],\"below\":[{\"type\":\"object\",\"name\":\"LinearAxis\",\"id\":\"p3175\",\"attributes\":{\"visible\":true,\"ticker\":{\"type\":\"object\",\"name\":\"BasicTicker\",\"id\":\"p3176\",\"attributes\":{\"mantissas\":[1,2,5]}},\"formatter\":{\"id\":\"p2995\"},\"major_label_policy\":{\"type\":\"object\",\"name\":\"AllLabels\",\"id\":\"p3178\"}}}],\"center\":[{\"type\":\"object\",\"name\":\"Grid\",\"id\":\"p3179\",\"attributes\":{\"axis\":{\"id\":\"p3175\"}}},{\"type\":\"object\",\"name\":\"Grid\",\"id\":\"p3184\",\"attributes\":{\"dimension\":1,\"axis\":{\"id\":\"p3180\"}}}],\"min_border_top\":3,\"min_border_bottom\":6,\"min_border_left\":0,\"min_border_right\":10}},3,0],[{\"type\":\"object\",\"name\":\"Figure\",\"id\":\"p3233\",\"attributes\":{\"width\":null,\"height\":90,\"sizing_mode\":\"stretch_width\",\"x_range\":{\"id\":\"p2981\"},\"y_range\":{\"type\":\"object\",\"name\":\"DataRange1d\",\"id\":\"p3235\"},\"x_scale\":{\"type\":\"object\",\"name\":\"LinearScale\",\"id\":\"p3242\"},\"y_scale\":{\"type\":\"object\",\"name\":\"LinearScale\",\"id\":\"p3243\"},\"title\":{\"type\":\"object\",\"name\":\"Title\",\"id\":\"p3240\"},\"outline_line_color\":\"#666666\",\"renderers\":[{\"id\":\"p3268\"}],\"toolbar\":{\"type\":\"object\",\"name\":\"Toolbar\",\"id\":\"p3241\",\"attributes\":{\"tools\":[{\"id\":\"p3254\"},{\"id\":\"p3255\"},{\"id\":\"p3256\"},{\"id\":\"p3258\"},{\"id\":\"p3259\"},{\"id\":\"p3260\"},{\"type\":\"object\",\"name\":\"SaveTool\",\"id\":\"p3261\"},{\"id\":\"p3274\"},{\"id\":\"p3277\"}],\"active_drag\":{\"id\":\"p3254\"},\"active_scroll\":{\"id\":\"p3255\"}}},\"toolbar_location\":null,\"left\":[{\"type\":\"object\",\"name\":\"LinearAxis\",\"id\":\"p3249\",\"attributes\":{\"ticker\":{\"type\":\"object\",\"name\":\"BasicTicker\",\"id\":\"p3250\",\"attributes\":{\"mantissas\":[1,2,5]}},\"formatter\":{\"type\":\"object\",\"name\":\"BasicTickFormatter\",\"id\":\"p3251\"},\"major_label_policy\":{\"type\":\"object\",\"name\":\"AllLabels\",\"id\":\"p3252\"},\"minor_tick_line_color\":null}}],\"below\":[{\"type\":\"object\",\"name\":\"LinearAxis\",\"id\":\"p3244\",\"attributes\":{\"visible\":false,\"ticker\":{\"type\":\"object\",\"name\":\"BasicTicker\",\"id\":\"p3245\",\"attributes\":{\"mantissas\":[1,2,5]}},\"formatter\":{\"type\":\"object\",\"name\":\"BasicTickFormatter\",\"id\":\"p3246\"},\"major_label_policy\":{\"type\":\"object\",\"name\":\"AllLabels\",\"id\":\"p3247\"}}}],\"center\":[{\"type\":\"object\",\"name\":\"Grid\",\"id\":\"p3248\",\"attributes\":{\"axis\":{\"id\":\"p3244\"}}},{\"type\":\"object\",\"name\":\"Grid\",\"id\":\"p3253\",\"attributes\":{\"dimension\":1,\"axis\":{\"id\":\"p3249\"}}},{\"type\":\"object\",\"name\":\"Legend\",\"id\":\"p3271\",\"attributes\":{\"location\":\"top_left\",\"border_line_color\":\"#333333\",\"click_policy\":\"hide\",\"label_text_font_size\":\"8pt\",\"glyph_width\":0,\"margin\":0,\"padding\":5,\"spacing\":0,\"items\":[{\"type\":\"object\",\"name\":\"LegendItem\",\"id\":\"p3272\",\"attributes\":{\"label\":{\"type\":\"value\",\"value\":\"SIGNAL\"},\"renderers\":[{\"id\":\"p3268\"}]}}]}},{\"type\":\"object\",\"name\":\"Span\",\"id\":\"p3273\",\"attributes\":{\"location\":0.058,\"line_color\":\"#666666\",\"line_width\":0.5,\"line_dash\":[6]}}],\"min_border_top\":3,\"min_border_bottom\":6,\"min_border_left\":0,\"min_border_right\":10}},4,0]]}}]}};\n  const render_items = [{\"docid\":\"369276df-3ed2-425c-ae24-d4c6a15c2a9c\",\"roots\":{\"p3287\":\"a452605a-bf41-452b-ab23-b966434fbe29\"},\"root_ids\":[\"p3287\"]}];\n  root.Bokeh.embed.embed_items_notebook(docs_json, render_items);\n  }\n  if (root.Bokeh !== undefined) {\n    embed_document(root);\n  } else {\n    let attempts = 0;\n    const timer = setInterval(function(root) {\n      if (root.Bokeh !== undefined) {\n        clearInterval(timer);\n        embed_document(root);\n      } else {\n        attempts++;\n        if (attempts > 100) {\n          clearInterval(timer);\n          console.log(\"Bokeh: ERROR: Unable to run BokehJS code because BokehJS library is missing\");\n        }\n      }\n    }, 10, root)\n  }\n})(window);",
      "application/vnd.bokehjs_exec.v0+json": ""
     },
     "metadata": {
      "application/vnd.bokehjs_exec.v0+json": {
       "id": "p3287"
      }
     },
     "output_type": "display_data"
    },
    {
     "data": {
      "text/html": [
       "<div style=\"display: table;\"><div style=\"display: table-row;\"><div style=\"display: table-cell;\"><b title=\"bokeh.models.plots.GridPlot\">GridPlot</b>(</div><div style=\"display: table-cell;\">id&nbsp;=&nbsp;'p3287', <span id=\"p3310\" style=\"cursor: pointer;\">&hellip;)</span></div></div><div class=\"p3309\" style=\"display: none;\"><div style=\"display: table-cell;\"></div><div style=\"display: table-cell;\">align&nbsp;=&nbsp;'auto',</div></div><div class=\"p3309\" style=\"display: none;\"><div style=\"display: table-cell;\"></div><div style=\"display: table-cell;\">aspect_ratio&nbsp;=&nbsp;None,</div></div><div class=\"p3309\" style=\"display: none;\"><div style=\"display: table-cell;\"></div><div style=\"display: table-cell;\">children&nbsp;=&nbsp;[(figure(id='p3020', ...), 0, 0), (figure(id='p3113', ...), 1, 0), (figure(id='p2982', ...), 2, 0), (figure(id='p3164', ...), 3, 0), (figure(id='p3233', ...), 4, 0)],</div></div><div class=\"p3309\" style=\"display: none;\"><div style=\"display: table-cell;\"></div><div style=\"display: table-cell;\">cols&nbsp;=&nbsp;None,</div></div><div class=\"p3309\" style=\"display: none;\"><div style=\"display: table-cell;\"></div><div style=\"display: table-cell;\">context_menu&nbsp;=&nbsp;None,</div></div><div class=\"p3309\" style=\"display: none;\"><div style=\"display: table-cell;\"></div><div style=\"display: table-cell;\">css_classes&nbsp;=&nbsp;[],</div></div><div class=\"p3309\" style=\"display: none;\"><div style=\"display: table-cell;\"></div><div style=\"display: table-cell;\">disabled&nbsp;=&nbsp;False,</div></div><div class=\"p3309\" style=\"display: none;\"><div style=\"display: table-cell;\"></div><div style=\"display: table-cell;\">flow_mode&nbsp;=&nbsp;'block',</div></div><div class=\"p3309\" style=\"display: none;\"><div style=\"display: table-cell;\"></div><div style=\"display: table-cell;\">height&nbsp;=&nbsp;None,</div></div><div class=\"p3309\" style=\"display: none;\"><div style=\"display: table-cell;\"></div><div style=\"display: table-cell;\">height_policy&nbsp;=&nbsp;'auto',</div></div><div class=\"p3309\" style=\"display: none;\"><div style=\"display: table-cell;\"></div><div style=\"display: table-cell;\">js_event_callbacks&nbsp;=&nbsp;{},</div></div><div class=\"p3309\" style=\"display: none;\"><div style=\"display: table-cell;\"></div><div style=\"display: table-cell;\">js_property_callbacks&nbsp;=&nbsp;{},</div></div><div class=\"p3309\" style=\"display: none;\"><div style=\"display: table-cell;\"></div><div style=\"display: table-cell;\">margin&nbsp;=&nbsp;None,</div></div><div class=\"p3309\" style=\"display: none;\"><div style=\"display: table-cell;\"></div><div style=\"display: table-cell;\">max_height&nbsp;=&nbsp;None,</div></div><div class=\"p3309\" style=\"display: none;\"><div style=\"display: table-cell;\"></div><div style=\"display: table-cell;\">max_width&nbsp;=&nbsp;None,</div></div><div class=\"p3309\" style=\"display: none;\"><div style=\"display: table-cell;\"></div><div style=\"display: table-cell;\">min_height&nbsp;=&nbsp;None,</div></div><div class=\"p3309\" style=\"display: none;\"><div style=\"display: table-cell;\"></div><div style=\"display: table-cell;\">min_width&nbsp;=&nbsp;None,</div></div><div class=\"p3309\" style=\"display: none;\"><div style=\"display: table-cell;\"></div><div style=\"display: table-cell;\">name&nbsp;=&nbsp;None,</div></div><div class=\"p3309\" style=\"display: none;\"><div style=\"display: table-cell;\"></div><div style=\"display: table-cell;\">resizable&nbsp;=&nbsp;False,</div></div><div class=\"p3309\" style=\"display: none;\"><div style=\"display: table-cell;\"></div><div style=\"display: table-cell;\">rows&nbsp;=&nbsp;None,</div></div><div class=\"p3309\" style=\"display: none;\"><div style=\"display: table-cell;\"></div><div style=\"display: table-cell;\">sizing_mode&nbsp;=&nbsp;'stretch_width',</div></div><div class=\"p3309\" style=\"display: none;\"><div style=\"display: table-cell;\"></div><div style=\"display: table-cell;\">spacing&nbsp;=&nbsp;0,</div></div><div class=\"p3309\" style=\"display: none;\"><div style=\"display: table-cell;\"></div><div style=\"display: table-cell;\">styles&nbsp;=&nbsp;{},</div></div><div class=\"p3309\" style=\"display: none;\"><div style=\"display: table-cell;\"></div><div style=\"display: table-cell;\">stylesheets&nbsp;=&nbsp;[],</div></div><div class=\"p3309\" style=\"display: none;\"><div style=\"display: table-cell;\"></div><div style=\"display: table-cell;\">subscribed_events&nbsp;=&nbsp;PropertyValueSet(),</div></div><div class=\"p3309\" style=\"display: none;\"><div style=\"display: table-cell;\"></div><div style=\"display: table-cell;\">syncable&nbsp;=&nbsp;True,</div></div><div class=\"p3309\" style=\"display: none;\"><div style=\"display: table-cell;\"></div><div style=\"display: table-cell;\">tags&nbsp;=&nbsp;[],</div></div><div class=\"p3309\" style=\"display: none;\"><div style=\"display: table-cell;\"></div><div style=\"display: table-cell;\">toolbar&nbsp;=&nbsp;Toolbar(id='p3286', ...),</div></div><div class=\"p3309\" style=\"display: none;\"><div style=\"display: table-cell;\"></div><div style=\"display: table-cell;\">toolbar_location&nbsp;=&nbsp;'right',</div></div><div class=\"p3309\" style=\"display: none;\"><div style=\"display: table-cell;\"></div><div style=\"display: table-cell;\">visible&nbsp;=&nbsp;True,</div></div><div class=\"p3309\" style=\"display: none;\"><div style=\"display: table-cell;\"></div><div style=\"display: table-cell;\">width&nbsp;=&nbsp;None,</div></div><div class=\"p3309\" style=\"display: none;\"><div style=\"display: table-cell;\"></div><div style=\"display: table-cell;\">width_policy&nbsp;=&nbsp;'auto')</div></div></div>\n",
       "<script>\n",
       "(function() {\n",
       "  let expanded = false;\n",
       "  const ellipsis = document.getElementById(\"p3310\");\n",
       "  ellipsis.addEventListener(\"click\", function() {\n",
       "    const rows = document.getElementsByClassName(\"p3309\");\n",
       "    for (let i = 0; i < rows.length; i++) {\n",
       "      const el = rows[i];\n",
       "      el.style.display = expanded ? \"none\" : \"table-row\";\n",
       "    }\n",
       "    ellipsis.innerHTML = expanded ? \"&hellip;)\" : \"&lsaquo;&lsaquo;&lsaquo;\";\n",
       "    expanded = !expanded;\n",
       "  });\n",
       "})();\n",
       "</script>\n"
      ],
      "text/plain": [
       "GridPlot(id='p3287', ...)"
      ]
     },
     "execution_count": 54,
     "metadata": {},
     "output_type": "execute_result"
    }
   ],
   "source": [
    "#visualize the backtesting\n",
    "\n",
    "import backtesting\n",
    "\n",
    "# import output_notebook\n",
    "from bokeh.io import output_notebook\n",
    "output_notebook()\n",
    "\n",
    "backtesting.set_bokeh_output(notebook=True)\n",
    "bt.plot()"
   ]
  },
  {
   "cell_type": "code",
   "execution_count": 55,
   "metadata": {},
   "outputs": [
    {
     "name": "stdout",
     "output_type": "stream",
     "text": [
      "11997.791709999992\n"
     ]
    },
    {
     "data": {
      "image/png": "[encoded data removed]",
      "text/plain": [
       "<Figure size 2000x1000 with 1 Axes>"
      ]
     },
     "metadata": {},
     "output_type": "display_data"
    },
    {
     "name": "stdout",
     "output_type": "stream",
     "text": [
      "Equity Final [$]: 11997.791709999992\n"
     ]
    }
   ],
   "source": [
    "\n",
    "total_money_earned = stats\n",
    "t = stats.T\n",
    "print(t[\"Equity Final [$]\"])\n",
    "equity_curve = [i[0] for i in t._equity_curve.to_numpy()]\n",
    "\n",
    "equity_curve = equity_curve[:1000]\n",
    "equity_curve = np.array(equity_curve)\n",
    "\n",
    "\n",
    "# Limit the number of data points to the first 1000\n",
    "equity_curve = equity_curve[:1000]\n",
    "\n",
    "# Plot the equity curve\n",
    "plt.figure(figsize=(20, 10))\n",
    "plt.plot(equity_curve, label='Equity Curve', linewidth=2)\n",
    "\n",
    "# Fill the area between the equity curve and the x-axis\n",
    "plt.fill_between(range(len(equity_curve)), equity_curve,\n",
    "                 0, alpha=0.3, color='blue')\n",
    "\n",
    "# Add labels and legend\n",
    "plt.axhline(y=10000, color='orange', linestyle='-',\n",
    "            label='Starting Capital', linewidth=2)\n",
    "plt.xlabel('Time')\n",
    "plt.ylabel('Equity')\n",
    "plt.title('Equity Curve Over Time')\n",
    "plt.legend()\n",
    "\n",
    "plt.show()\n",
    "\n",
    "# Print the final equity\n",
    "print(f'Equity Final [$]: {equity_curve[-1]}')\n"
   ]
  },
  {
   "attachments": {},
   "cell_type": "markdown",
   "metadata": {},
   "source": [
    "## Results\n",
    "\n",
    "- Return: 20%\n",
    "- Buy & Hold Return: 10.6%\n",
    "- Win Rate: 90%\n"
   ]
  },
  {
   "cell_type": "code",
   "execution_count": 56,
   "metadata": {},
   "outputs": [
    {
     "name": "stdout",
     "output_type": "stream",
     "text": [
      "Start                                     0.0\n",
      "End                                     999.0\n",
      "Duration                                999.0\n",
      "Exposure Time [%]                        95.2\n",
      "Equity Final [$]                  11997.79171\n",
      "Equity Peak [$]                   12032.43895\n",
      "Return [%]                          19.977917\n",
      "Buy & Hold Return [%]               10.624009\n",
      "Return (Ann.) [%]                         0.0\n",
      "Volatility (Ann.) [%]                     NaN\n",
      "Sharpe Ratio                              NaN\n",
      "Sortino Ratio                             NaN\n",
      "Calmar Ratio                              0.0\n",
      "Max. Drawdown [%]                   -4.453707\n",
      "Avg. Drawdown [%]                   -0.602167\n",
      "Max. Drawdown Duration                  221.0\n",
      "Avg. Drawdown Duration              17.384615\n",
      "# Trades                                 21.0\n",
      "Win Rate [%]                         90.47619\n",
      "Best Trade [%]                       4.536437\n",
      "Worst Trade [%]                     -0.534843\n",
      "Avg. Trade [%]                       2.820127\n",
      "Max. Trade Duration                     428.0\n",
      "Avg. Trade Duration                168.428571\n",
      "Profit Factor                       75.682784\n",
      "Expectancy [%]                        2.83195\n",
      "SQN                                   2.80386\n",
      "_strategy                      MyCandlesStrat\n",
      "_equity_curve                       Equity...\n",
      "_trades                       Size  EntryB...\n",
      "dtype: object\n"
     ]
    }
   ],
   "source": [
    "print(stats)"
   ]
  }
 ],
 "metadata": {
  "kernelspec": {
   "display_name": "Python 3",
   "language": "python",
   "name": "python3"
  },
  "language_info": {
   "codemirror_mode": {
    "name": "ipython",
    "version": 3
   },
   "file_extension": ".py",
   "mimetype": "text/x-python",
   "name": "python",
   "nbconvert_exporter": "python",
   "pygments_lexer": "ipython3",
   "version": "3.11.6"
  },
  "orig_nbformat": 4
 },
 "nbformat": 4,
 "nbformat_minor": 2
}
